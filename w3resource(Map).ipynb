{
  "nbformat": 4,
  "nbformat_minor": 0,
  "metadata": {
    "colab": {
      "name": "w3resource(Map).ipynb",
      "provenance": [],
      "authorship_tag": "ABX9TyO6IongtR7Ylzw4WLI/mc2B",
      "include_colab_link": true
    },
    "kernelspec": {
      "name": "python3",
      "display_name": "Python 3"
    },
    "language_info": {
      "name": "python"
    }
  },
  "cells": [
    {
      "cell_type": "markdown",
      "metadata": {
        "id": "view-in-github",
        "colab_type": "text"
      },
      "source": [
        "<a href=\"https://colab.research.google.com/github/ria1994maitra/Practice_Codes/blob/main/w3resource(Map).ipynb\" target=\"_parent\"><img src=\"https://colab.research.google.com/assets/colab-badge.svg\" alt=\"Open In Colab\"/></a>"
      ]
    },
    {
      "cell_type": "code",
      "execution_count": null,
      "metadata": {
        "colab": {
          "base_uri": "https://localhost:8080/"
        },
        "id": "hjaFbkUmL2_y",
        "outputId": "3c0e7cb3-1f4b-4a1c-d47f-f0501dc333d1"
      },
      "outputs": [
        {
          "output_type": "stream",
          "name": "stdout",
          "text": [
            "original lis:  (1, 2, 3, 4, 5, 6, 7, 8, 8, 9)\n",
            "[1, 8, 27, 64, 125, 216, 343, 512, 512, 729]\n"
          ]
        }
      ],
      "source": [
        "#1. Write a Python program to triple all numbers of a given list of integers. Use Python map\n",
        "\n",
        "nums = (1,2,3,4,5,6,7,8,8,9)\n",
        "\n",
        "print(\"original lis: \", nums)\n",
        "result = map(lambda x: x*x*x, nums)\n",
        "print(list(result))"
      ]
    },
    {
      "cell_type": "code",
      "source": [
        "#2. Write a python program to add three given lists using Python map and lambda\n",
        "\n",
        "num1 = [1,2,3]\n",
        "num2 = [4,5,6]\n",
        "num3 = [7,8,9]\n",
        "\n",
        "result = map(lambda x,y,z: x+y+z, num1,num2,num3)\n",
        "print(list(result))"
      ],
      "metadata": {
        "colab": {
          "base_uri": "https://localhost:8080/"
        },
        "id": "ixi5fRaLM9lh",
        "outputId": "87ed09bb-c660-447d-ef68-3313d2d2ffbd"
      },
      "execution_count": null,
      "outputs": [
        {
          "output_type": "stream",
          "name": "stdout",
          "text": [
            "[12, 15, 18]\n"
          ]
        }
      ]
    },
    {
      "cell_type": "code",
      "source": [
        "#3. Write a Python program to listify the list of given strings individually using Python map.\n",
        "\n",
        "color = ['red','blue','black','white','pink']\n",
        "print('original list')\n",
        "print(color)\n",
        "print(\"\\nafter listtify the list of strings are:\")\n",
        "result = list(map(list, color))\n",
        "print(result)"
      ],
      "metadata": {
        "id": "Xxhff8fcN_bB",
        "outputId": "a996cdf3-9591-467c-938a-a6b192b2eb99",
        "colab": {
          "base_uri": "https://localhost:8080/"
        }
      },
      "execution_count": 1,
      "outputs": [
        {
          "output_type": "stream",
          "name": "stdout",
          "text": [
            "original list\n",
            "['red', 'blue', 'black', 'white', 'pink']\n",
            "\n",
            "after listtify the list of strings are:\n",
            "[['r', 'e', 'd'], ['b', 'l', 'u', 'e'], ['b', 'l', 'a', 'c', 'k'], ['w', 'h', 'i', 't', 'e'], ['p', 'i', 'n', 'k']]\n"
          ]
        }
      ]
    },
    {
      "cell_type": "code",
      "source": [
        "#4. Write a Python program to create a list containing the power of said number in bases raised to the corresponding number in the index using Python map\n",
        "bases_num = [10, 20, 30 ,40 ,50, 60, 70, 80]\n",
        "index = [1,2,3,4,5,6,7,8,9]\n",
        "print(\"Base numbers abd index:\")\n",
        "print(bases_num)\n",
        "print(index)\n",
        "result = list(map(pow, bases_num, index))\n",
        "print(result)"
      ],
      "metadata": {
        "id": "-_r4Vbln7TdB",
        "outputId": "1477f842-0573-45e8-a74b-bffe444fc383",
        "colab": {
          "base_uri": "https://localhost:8080/"
        }
      },
      "execution_count": 2,
      "outputs": [
        {
          "output_type": "stream",
          "name": "stdout",
          "text": [
            "Base numbers abd index:\n",
            "[10, 20, 30, 40, 50, 60, 70, 80]\n",
            "[1, 2, 3, 4, 5, 6, 7, 8, 9]\n",
            "[10, 400, 27000, 2560000, 312500000, 46656000000, 8235430000000, 1677721600000000]\n"
          ]
        }
      ]
    },
    {
      "cell_type": "code",
      "source": [
        "#5. Write a Python program to square the elements of a list using map() function.\n",
        "def square_num(n):\n",
        "    return n*n\n",
        "nums = [4, 5, 2, 8]\n",
        "print(\"original list:\", nums)\n",
        "result = map(square_num, nums)\n",
        "print(list(result))"
      ],
      "metadata": {
        "id": "OUWqf5308USK",
        "outputId": "744c4a2d-51c8-41e3-d79c-fdcad2c1b17c",
        "colab": {
          "base_uri": "https://localhost:8080/"
        }
      },
      "execution_count": 3,
      "outputs": [
        {
          "output_type": "stream",
          "name": "stdout",
          "text": [
            "original list: [4, 5, 2, 8]\n",
            "[16, 25, 4, 64]\n"
          ]
        }
      ]
    },
    {
      "cell_type": "code",
      "source": [
        ""
      ],
      "metadata": {
        "id": "N-FE8N1Z-fP5"
      },
      "execution_count": null,
      "outputs": []
    }
  ]
}