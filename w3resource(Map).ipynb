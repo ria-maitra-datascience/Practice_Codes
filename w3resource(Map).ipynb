{
  "nbformat": 4,
  "nbformat_minor": 0,
  "metadata": {
    "colab": {
      "name": "w3resource(Map).ipynb",
      "provenance": [],
      "authorship_tag": "ABX9TyMJwnwNVwCfq+CUKdKxe016",
      "include_colab_link": true
    },
    "kernelspec": {
      "name": "python3",
      "display_name": "Python 3"
    },
    "language_info": {
      "name": "python"
    }
  },
  "cells": [
    {
      "cell_type": "markdown",
      "metadata": {
        "id": "view-in-github",
        "colab_type": "text"
      },
      "source": [
        "<a href=\"https://colab.research.google.com/github/ria1994maitra/Practice_Codes/blob/main/w3resource(Map).ipynb\" target=\"_parent\"><img src=\"https://colab.research.google.com/assets/colab-badge.svg\" alt=\"Open In Colab\"/></a>"
      ]
    },
    {
      "cell_type": "code",
      "execution_count": 1,
      "metadata": {
        "colab": {
          "base_uri": "https://localhost:8080/"
        },
        "id": "hjaFbkUmL2_y",
        "outputId": "3c0e7cb3-1f4b-4a1c-d47f-f0501dc333d1"
      },
      "outputs": [
        {
          "output_type": "stream",
          "name": "stdout",
          "text": [
            "original lis:  (1, 2, 3, 4, 5, 6, 7, 8, 8, 9)\n",
            "[1, 8, 27, 64, 125, 216, 343, 512, 512, 729]\n"
          ]
        }
      ],
      "source": [
        "#1. Write a Python program to triple all numbers of a given list of integers. Use Python map\n",
        "\n",
        "nums = (1,2,3,4,5,6,7,8,8,9)\n",
        "\n",
        "print(\"original lis: \", nums)\n",
        "result = map(lambda x: x*x*x, nums)\n",
        "print(list(result))"
      ]
    },
    {
      "cell_type": "code",
      "source": [
        "#2. Write a python program to add three given lists using Python map and lambda\n",
        "\n",
        "num1 = [1,2,3]\n",
        "num2 = [4,5,6]\n",
        "num3 = [7,8,9]\n",
        "\n",
        "result = map(lambda x,y,z: x+y+z, num1,num2,num3)\n",
        "print(list(result))"
      ],
      "metadata": {
        "colab": {
          "base_uri": "https://localhost:8080/"
        },
        "id": "ixi5fRaLM9lh",
        "outputId": "87ed09bb-c660-447d-ef68-3313d2d2ffbd"
      },
      "execution_count": 2,
      "outputs": [
        {
          "output_type": "stream",
          "name": "stdout",
          "text": [
            "[12, 15, 18]\n"
          ]
        }
      ]
    },
    {
      "cell_type": "code",
      "source": [
        ""
      ],
      "metadata": {
        "id": "Xxhff8fcN_bB"
      },
      "execution_count": null,
      "outputs": []
    }
  ]
}