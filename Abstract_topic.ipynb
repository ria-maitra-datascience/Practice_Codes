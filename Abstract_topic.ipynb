{
  "nbformat": 4,
  "nbformat_minor": 0,
  "metadata": {
    "colab": {
      "name": "Abstract_topic.ipynb",
      "provenance": [],
      "authorship_tag": "ABX9TyP7eDkmAHHntLwM/17Lo8HL",
      "include_colab_link": true
    },
    "kernelspec": {
      "name": "python3",
      "display_name": "Python 3"
    },
    "language_info": {
      "name": "python"
    }
  },
  "cells": [
    {
      "cell_type": "markdown",
      "metadata": {
        "id": "view-in-github",
        "colab_type": "text"
      },
      "source": [
        "<a href=\"https://colab.research.google.com/github/ria1994maitra/Practice_Codes/blob/main/Abstract_topic.ipynb\" target=\"_parent\"><img src=\"https://colab.research.google.com/assets/colab-badge.svg\" alt=\"Open In Colab\"/></a>"
      ]
    },
    {
      "cell_type": "code",
      "execution_count": null,
      "metadata": {
        "id": "lHLzYRZ2nNdz"
      },
      "outputs": [],
      "source": [
        ""
      ]
    },
    {
      "cell_type": "markdown",
      "source": [
        "# **Hard work vs Smart work**\n",
        "\n",
        "**Hard Work**\n",
        "* Hard work can simply be defined as putting in strenuous hours for doing a certain task or tasks.\n",
        "* Largely on quantity rather than quality.\n",
        "* Conventional approach to handle any task without finding any other flexible ways to complete it.\n",
        "* A simpler process is used with a direct approach to complete a certain amount of work in a particular amount of time.\n",
        "* when it comes to time restraints, hard work might not be the perfect way to achieve a set goal.\n",
        "\n",
        "**Smart Work**\n",
        "* Smart work refers to find effective and efficient ways to complete one or multiple tasks while also managing time and quality both.\n",
        "* Equally on both quality and quantity.\n",
        "* Explores effective ways to accomplish work, be it delegating, prioritizing or organising the working process in a smarter way.\n",
        "* A flexible process in opted for with an essential emphasis on planning, delegating tasks, organising a team in a particular way and prioritizing schedules to achieve the set objectives.\n"
      ],
      "metadata": {
        "id": "Bfeq5uZtnTUw"
      }
    },
    {
      "cell_type": "code",
      "source": [
        ""
      ],
      "metadata": {
        "id": "UE1FUZmkoJok"
      },
      "execution_count": null,
      "outputs": []
    }
  ]
}