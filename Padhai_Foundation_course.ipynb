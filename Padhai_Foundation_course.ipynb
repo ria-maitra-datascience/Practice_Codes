{
  "nbformat": 4,
  "nbformat_minor": 0,
  "metadata": {
    "colab": {
      "name": "Padhai Foundation course.ipynb",
      "provenance": [],
      "authorship_tag": "ABX9TyP9PrYaDB0G3RtdM1Ss4hz5",
      "include_colab_link": true
    },
    "kernelspec": {
      "name": "python3",
      "display_name": "Python 3"
    },
    "language_info": {
      "name": "python"
    }
  },
  "cells": [
    {
      "cell_type": "markdown",
      "metadata": {
        "id": "view-in-github",
        "colab_type": "text"
      },
      "source": [
        "<a href=\"https://colab.research.google.com/github/ria1994maitra/Practice_Codes/blob/main/Padhai_Foundation_course.ipynb\" target=\"_parent\"><img src=\"https://colab.research.google.com/assets/colab-badge.svg\" alt=\"Open In Colab\"/></a>"
      ]
    },
    {
      "cell_type": "code",
      "execution_count": 1,
      "metadata": {
        "id": "vin_NGRoqDGc"
      },
      "outputs": [],
      "source": [
        ""
      ]
    },
    {
      "cell_type": "markdown",
      "source": [
        "# **Numpy( Week- 8)**"
      ],
      "metadata": {
        "id": "rbhCWa_nr81D"
      }
    },
    {
      "cell_type": "markdown",
      "source": [
        "## **Working with arrays**\n",
        "* Scientific Computing\n",
        "* Financial Analysis\n",
        "* Relational Data\n",
        "* Multimedia Data\n",
        "* Deep Learning\n",
        "\n",
        "All of these require storing and processing high dimensional arrays efficiently.\n",
        "\n",
        "We already learnt lists, sets, tuples and dictionaries.\n",
        "\n",
        "List can store collection of high dimensional numbers as arrays and we can operate on them by iterating.\n",
        "But this is very inefficient - 10x to 100x slower - than expected performance.\n",
        "\n",
        "**Why?**\n",
        "1. Lists are designed to store heterogenous data.\n",
        "2. No low-level hardware mechanism to accelerate operations on lists\n",
        "\n",
        "\n",
        "**Numpy**\n",
        "* Intended to bring performance and functionality improvements for numerical computing\n",
        "* Started only in 2006!\n",
        "* Now a standard package used in many real-world apllications, other packages.\n",
        "\n",
        "***Programing Level***\n",
        "* provide implementation pof many functions across linear algebra, statistics...\n",
        "* Efficiently broadcast operations across dimensions\n",
        "\n",
        "***Functionality Level***\n",
        "* Enable other packages to use numpy arrays as an efficient data interface \n",
        "* Efficiently process data without type-checking overhead.\n",
        "\n",
        "***Hardware Level***\n",
        "* Enable easy file save and load of n-d arrays.\n",
        "* Efficiently store n-d array in vectorised form to benefit from DRAM locality.\n",
        "\n",
        "**What we will focus on**\n",
        "* What are nd-array?\n",
        "* What is broadcasting?\n",
        "* How to load and save n-d arrays\n",
        "* How to use statistical functions.\n"
      ],
      "metadata": {
        "id": "1C1MkMtqsr6H"
      }
    },
    {
      "cell_type": "code",
      "source": [
        ""
      ],
      "metadata": {
        "id": "Yynmgl0NsHou"
      },
      "execution_count": 1,
      "outputs": []
    },
    {
      "cell_type": "markdown",
      "source": [
        "## Comparing performance with lists, etc."
      ],
      "metadata": {
        "id": "08UiYNEnSacz"
      }
    },
    {
      "cell_type": "code",
      "source": [
        "import numpy as np"
      ],
      "metadata": {
        "id": "MnKAq0PFWIEb"
      },
      "execution_count": 2,
      "outputs": []
    },
    {
      "cell_type": "code",
      "source": [
        "N = 10000000"
      ],
      "metadata": {
        "id": "VfokY9Z7SZzh"
      },
      "execution_count": 3,
      "outputs": []
    },
    {
      "cell_type": "code",
      "source": [
        "%%time\n",
        "list_ = list(range(N))\n",
        "for i in range(N):\n",
        "    list_[i] = list_[i] * list_[i]"
      ],
      "metadata": {
        "colab": {
          "base_uri": "https://localhost:8080/"
        },
        "id": "7BgEQ5bsSmku",
        "outputId": "3b592e86-ff97-41b6-e7b0-27cd8e5a647f"
      },
      "execution_count": 4,
      "outputs": [
        {
          "output_type": "stream",
          "name": "stdout",
          "text": [
            "CPU times: user 2.57 s, sys: 229 ms, total: 2.8 s\n",
            "Wall time: 2.82 s\n"
          ]
        }
      ]
    },
    {
      "cell_type": "code",
      "source": [
        "%%time\n",
        "list_ = list(range(N))\n",
        "list_ = [item * item for item in list_]"
      ],
      "metadata": {
        "colab": {
          "base_uri": "https://localhost:8080/"
        },
        "id": "BOjVqQCsTO0F",
        "outputId": "a06b80e6-5068-4d54-9505-dfc2fc7d12f5"
      },
      "execution_count": 5,
      "outputs": [
        {
          "output_type": "stream",
          "name": "stdout",
          "text": [
            "CPU times: user 958 ms, sys: 457 ms, total: 1.42 s\n",
            "Wall time: 1.43 s\n"
          ]
        }
      ]
    },
    {
      "cell_type": "code",
      "source": [
        "%%time\n",
        "list_ = list(range(N))\n",
        "list_ = map(lambda x: x*x , list_)"
      ],
      "metadata": {
        "colab": {
          "base_uri": "https://localhost:8080/"
        },
        "id": "XNykmPqAUQDs",
        "outputId": "9c56c407-a830-4e2d-fe45-06644bcccdf0"
      },
      "execution_count": 6,
      "outputs": [
        {
          "output_type": "stream",
          "name": "stdout",
          "text": [
            "CPU times: user 332 ms, sys: 200 ms, total: 531 ms\n",
            "Wall time: 528 ms\n"
          ]
        }
      ]
    },
    {
      "cell_type": "code",
      "source": [
        "%%time\n",
        "list_ = list(range(N))\n",
        "list_sum = 0\n",
        "for item in list_:\n",
        "    list_sum+=item"
      ],
      "metadata": {
        "colab": {
          "base_uri": "https://localhost:8080/"
        },
        "id": "dWdexaJwU-5w",
        "outputId": "df12f427-6f15-47e4-99f8-dac0fbe347c2"
      },
      "execution_count": 7,
      "outputs": [
        {
          "output_type": "stream",
          "name": "stdout",
          "text": [
            "CPU times: user 1.37 s, sys: 153 ms, total: 1.52 s\n",
            "Wall time: 1.52 s\n"
          ]
        }
      ]
    },
    {
      "cell_type": "code",
      "source": [
        "%%time\n",
        "list_ = list(range(N))\n",
        "list_sum = sum(list_)"
      ],
      "metadata": {
        "colab": {
          "base_uri": "https://localhost:8080/"
        },
        "id": "j-3YwqWCVufJ",
        "outputId": "c0fcc2f0-b5ac-4bf5-d352-80e32a287fa3"
      },
      "execution_count": 8,
      "outputs": [
        {
          "output_type": "stream",
          "name": "stdout",
          "text": [
            "CPU times: user 226 ms, sys: 134 ms, total: 361 ms\n",
            "Wall time: 360 ms\n"
          ]
        }
      ]
    },
    {
      "cell_type": "code",
      "source": [
        "%%time\n",
        "arr = np.arange(N)\n",
        "arr = arr * arr\n"
      ],
      "metadata": {
        "colab": {
          "base_uri": "https://localhost:8080/"
        },
        "id": "ItmMNmQUWTuV",
        "outputId": "42ce5437-85f1-461f-ec57-afd24482e688"
      },
      "execution_count": 9,
      "outputs": [
        {
          "output_type": "stream",
          "name": "stdout",
          "text": [
            "CPU times: user 32.8 ms, sys: 15.8 ms, total: 48.6 ms\n",
            "Wall time: 53.7 ms\n"
          ]
        }
      ]
    },
    {
      "cell_type": "code",
      "source": [
        "%%time\n",
        "arr = np.arange(N)\n",
        "arr_sum = np.sum(arr)"
      ],
      "metadata": {
        "colab": {
          "base_uri": "https://localhost:8080/"
        },
        "id": "jNYH17o_XAZj",
        "outputId": "d5920f6f-8dd8-4c87-fad5-ec3de2c2f9d5"
      },
      "execution_count": 10,
      "outputs": [
        {
          "output_type": "stream",
          "name": "stdout",
          "text": [
            "CPU times: user 26.8 ms, sys: 936 µs, total: 27.7 ms\n",
            "Wall time: 28.8 ms\n"
          ]
        }
      ]
    },
    {
      "cell_type": "markdown",
      "source": [
        "## **High Dimensional Array & Creating NumPy Array**"
      ],
      "metadata": {
        "id": "AqAhNJoUXz0x"
      }
    },
    {
      "cell_type": "code",
      "source": [
        "arr = np.arange(5)"
      ],
      "metadata": {
        "id": "DSvqbJ28Xbvt"
      },
      "execution_count": 11,
      "outputs": []
    },
    {
      "cell_type": "code",
      "source": [
        "print(arr, type(arr))"
      ],
      "metadata": {
        "colab": {
          "base_uri": "https://localhost:8080/"
        },
        "id": "F1HazXPgc7Si",
        "outputId": "7c948036-ab93-4b43-86b7-be8fc4ce2732"
      },
      "execution_count": 12,
      "outputs": [
        {
          "output_type": "stream",
          "name": "stdout",
          "text": [
            "[0 1 2 3 4] <class 'numpy.ndarray'>\n"
          ]
        }
      ]
    },
    {
      "cell_type": "code",
      "source": [
        "arr = np.array([0.0,2,4,6,8])"
      ],
      "metadata": {
        "id": "I9jm2HxJdFgm"
      },
      "execution_count": 13,
      "outputs": []
    },
    {
      "cell_type": "code",
      "source": [
        "print(arr, type(arr))"
      ],
      "metadata": {
        "colab": {
          "base_uri": "https://localhost:8080/"
        },
        "id": "j3qSujoGdcf5",
        "outputId": "facc631c-9ca2-4b9e-b532-c0331dac96c4"
      },
      "execution_count": 14,
      "outputs": [
        {
          "output_type": "stream",
          "name": "stdout",
          "text": [
            "[0. 2. 4. 6. 8.] <class 'numpy.ndarray'>\n"
          ]
        }
      ]
    },
    {
      "cell_type": "code",
      "source": [
        "arr"
      ],
      "metadata": {
        "colab": {
          "base_uri": "https://localhost:8080/"
        },
        "id": "LBe-MjUadfP8",
        "outputId": "43e6f2d5-ace4-4f8b-f9f3-bff9f3be05dd"
      },
      "execution_count": 15,
      "outputs": [
        {
          "output_type": "execute_result",
          "data": {
            "text/plain": [
              "array([0., 2., 4., 6., 8.])"
            ]
          },
          "metadata": {},
          "execution_count": 15
        }
      ]
    },
    {
      "cell_type": "code",
      "source": [
        "arr.dtype"
      ],
      "metadata": {
        "colab": {
          "base_uri": "https://localhost:8080/"
        },
        "id": "bkrfN-8adqEE",
        "outputId": "d126eba7-fab5-40d9-f35e-6d61ac54b216"
      },
      "execution_count": 16,
      "outputs": [
        {
          "output_type": "execute_result",
          "data": {
            "text/plain": [
              "dtype('float64')"
            ]
          },
          "metadata": {},
          "execution_count": 16
        }
      ]
    },
    {
      "cell_type": "code",
      "source": [
        "arr.ndim"
      ],
      "metadata": {
        "colab": {
          "base_uri": "https://localhost:8080/"
        },
        "id": "T-JYdJSxdzhi",
        "outputId": "aa474155-950f-44d5-e885-3ea24f18ec9d"
      },
      "execution_count": 17,
      "outputs": [
        {
          "output_type": "execute_result",
          "data": {
            "text/plain": [
              "1"
            ]
          },
          "metadata": {},
          "execution_count": 17
        }
      ]
    },
    {
      "cell_type": "code",
      "source": [
        "arr.shape"
      ],
      "metadata": {
        "colab": {
          "base_uri": "https://localhost:8080/"
        },
        "id": "feVJLMEhd_ZU",
        "outputId": "d436372e-1344-4935-c1fe-16fc219ac1af"
      },
      "execution_count": 18,
      "outputs": [
        {
          "output_type": "execute_result",
          "data": {
            "text/plain": [
              "(5,)"
            ]
          },
          "metadata": {},
          "execution_count": 18
        }
      ]
    },
    {
      "cell_type": "code",
      "source": [
        "arr.size"
      ],
      "metadata": {
        "colab": {
          "base_uri": "https://localhost:8080/"
        },
        "id": "YGqS4eKbeFiE",
        "outputId": "d2c0220b-fae8-45bb-c436-27919381d88c"
      },
      "execution_count": 19,
      "outputs": [
        {
          "output_type": "execute_result",
          "data": {
            "text/plain": [
              "5"
            ]
          },
          "metadata": {},
          "execution_count": 19
        }
      ]
    },
    {
      "cell_type": "code",
      "source": [
        "arr.itemsize"
      ],
      "metadata": {
        "colab": {
          "base_uri": "https://localhost:8080/"
        },
        "id": "sm9HAM1deLgZ",
        "outputId": "18265319-5f88-463d-f7e0-fff7a47d1a51"
      },
      "execution_count": 20,
      "outputs": [
        {
          "output_type": "execute_result",
          "data": {
            "text/plain": [
              "8"
            ]
          },
          "metadata": {},
          "execution_count": 20
        }
      ]
    },
    {
      "cell_type": "code",
      "source": [
        "arr2d = np.array([\n",
        "                  [1,2,3],\n",
        "                  [4,5,6]\n",
        "])"
      ],
      "metadata": {
        "id": "eWJhS2GSeR7t"
      },
      "execution_count": 21,
      "outputs": []
    },
    {
      "cell_type": "code",
      "source": [
        "arr2d"
      ],
      "metadata": {
        "colab": {
          "base_uri": "https://localhost:8080/"
        },
        "id": "1QSY-rTafGV_",
        "outputId": "016f2f5a-e6ab-4f37-92c3-0a523dde5337"
      },
      "execution_count": 22,
      "outputs": [
        {
          "output_type": "execute_result",
          "data": {
            "text/plain": [
              "array([[1, 2, 3],\n",
              "       [4, 5, 6]])"
            ]
          },
          "metadata": {},
          "execution_count": 22
        }
      ]
    },
    {
      "cell_type": "code",
      "source": [
        "arr2d.ndim"
      ],
      "metadata": {
        "colab": {
          "base_uri": "https://localhost:8080/"
        },
        "id": "yOsjorGNfK3U",
        "outputId": "0a37c5dc-b72f-47f0-aee6-f913a13abf05"
      },
      "execution_count": 23,
      "outputs": [
        {
          "output_type": "execute_result",
          "data": {
            "text/plain": [
              "2"
            ]
          },
          "metadata": {},
          "execution_count": 23
        }
      ]
    },
    {
      "cell_type": "code",
      "source": [
        "arr2d.shape"
      ],
      "metadata": {
        "colab": {
          "base_uri": "https://localhost:8080/"
        },
        "id": "zaAwcFNXfO_n",
        "outputId": "3574d75c-1cdb-46d6-a98f-f42b4ceb82c4"
      },
      "execution_count": 24,
      "outputs": [
        {
          "output_type": "execute_result",
          "data": {
            "text/plain": [
              "(2, 3)"
            ]
          },
          "metadata": {},
          "execution_count": 24
        }
      ]
    },
    {
      "cell_type": "code",
      "source": [
        "arr2d.size"
      ],
      "metadata": {
        "colab": {
          "base_uri": "https://localhost:8080/"
        },
        "id": "T8ETH_vdfSci",
        "outputId": "5f7e4b67-0d39-4530-ba00-481f54d4831a"
      },
      "execution_count": 25,
      "outputs": [
        {
          "output_type": "execute_result",
          "data": {
            "text/plain": [
              "6"
            ]
          },
          "metadata": {},
          "execution_count": 25
        }
      ]
    },
    {
      "cell_type": "code",
      "source": [
        "arr3d = np.array([\n",
        "                  [\n",
        "                   [1,2,3],\n",
        "                   [4,5,6]\n",
        "                  ],\n",
        "                  [\n",
        "                   [7,8,9],\n",
        "                   [10,11,12]\n",
        "                  ]\n",
        "])"
      ],
      "metadata": {
        "id": "u0UK7R--feio"
      },
      "execution_count": 26,
      "outputs": []
    },
    {
      "cell_type": "code",
      "source": [
        "arr3d.shape"
      ],
      "metadata": {
        "colab": {
          "base_uri": "https://localhost:8080/"
        },
        "id": "K3fET_52gJ2K",
        "outputId": "573d7c67-65cd-4316-8eee-a8bd8edfd833"
      },
      "execution_count": 27,
      "outputs": [
        {
          "output_type": "execute_result",
          "data": {
            "text/plain": [
              "(2, 2, 3)"
            ]
          },
          "metadata": {},
          "execution_count": 27
        }
      ]
    },
    {
      "cell_type": "code",
      "source": [
        "arr3d.ndim"
      ],
      "metadata": {
        "colab": {
          "base_uri": "https://localhost:8080/"
        },
        "id": "o8_aA0ZLgSiH",
        "outputId": "547f66a3-0999-4f58-c812-1f259b0aacf0"
      },
      "execution_count": 28,
      "outputs": [
        {
          "output_type": "execute_result",
          "data": {
            "text/plain": [
              "3"
            ]
          },
          "metadata": {},
          "execution_count": 28
        }
      ]
    },
    {
      "cell_type": "code",
      "source": [
        "arr3d.size"
      ],
      "metadata": {
        "colab": {
          "base_uri": "https://localhost:8080/"
        },
        "id": "jI99LucmgYhs",
        "outputId": "fd55e9a5-1bf4-449e-99e0-50438724c0c1"
      },
      "execution_count": 29,
      "outputs": [
        {
          "output_type": "execute_result",
          "data": {
            "text/plain": [
              "12"
            ]
          },
          "metadata": {},
          "execution_count": 29
        }
      ]
    },
    {
      "cell_type": "code",
      "source": [
        "np.ones((2,3,4))"
      ],
      "metadata": {
        "colab": {
          "base_uri": "https://localhost:8080/"
        },
        "id": "tPib06sMgcrp",
        "outputId": "0a938dbf-012f-40a1-b575-60e9e2c19bcc"
      },
      "execution_count": 30,
      "outputs": [
        {
          "output_type": "execute_result",
          "data": {
            "text/plain": [
              "array([[[1., 1., 1., 1.],\n",
              "        [1., 1., 1., 1.],\n",
              "        [1., 1., 1., 1.]],\n",
              "\n",
              "       [[1., 1., 1., 1.],\n",
              "        [1., 1., 1., 1.],\n",
              "        [1., 1., 1., 1.]]])"
            ]
          },
          "metadata": {},
          "execution_count": 30
        }
      ]
    },
    {
      "cell_type": "code",
      "source": [
        "1729*np.ones((2,3,4))"
      ],
      "metadata": {
        "colab": {
          "base_uri": "https://localhost:8080/"
        },
        "id": "e170x7-Dg30Z",
        "outputId": "30624de8-8e15-4985-878f-92adf4b88279"
      },
      "execution_count": 31,
      "outputs": [
        {
          "output_type": "execute_result",
          "data": {
            "text/plain": [
              "array([[[1729., 1729., 1729., 1729.],\n",
              "        [1729., 1729., 1729., 1729.],\n",
              "        [1729., 1729., 1729., 1729.]],\n",
              "\n",
              "       [[1729., 1729., 1729., 1729.],\n",
              "        [1729., 1729., 1729., 1729.],\n",
              "        [1729., 1729., 1729., 1729.]]])"
            ]
          },
          "metadata": {},
          "execution_count": 31
        }
      ]
    },
    {
      "cell_type": "code",
      "source": [
        "np.zeros((2,3,4))"
      ],
      "metadata": {
        "colab": {
          "base_uri": "https://localhost:8080/"
        },
        "id": "-3raEyBehIRh",
        "outputId": "25913014-ed7a-4cce-d791-4bd8c0c60e79"
      },
      "execution_count": 32,
      "outputs": [
        {
          "output_type": "execute_result",
          "data": {
            "text/plain": [
              "array([[[0., 0., 0., 0.],\n",
              "        [0., 0., 0., 0.],\n",
              "        [0., 0., 0., 0.]],\n",
              "\n",
              "       [[0., 0., 0., 0.],\n",
              "        [0., 0., 0., 0.],\n",
              "        [0., 0., 0., 0.]]])"
            ]
          },
          "metadata": {},
          "execution_count": 32
        }
      ]
    },
    {
      "cell_type": "code",
      "source": [
        "np.random.randn(2,3)"
      ],
      "metadata": {
        "colab": {
          "base_uri": "https://localhost:8080/"
        },
        "id": "wdVb773XhRIY",
        "outputId": "d49a6463-342b-4445-a6f3-88d9aeb5fb23"
      },
      "execution_count": 33,
      "outputs": [
        {
          "output_type": "execute_result",
          "data": {
            "text/plain": [
              "array([[ 0.58567715,  0.86858406,  0.3677976 ],\n",
              "       [ 2.61436171, -2.06798593,  2.2369188 ]])"
            ]
          },
          "metadata": {},
          "execution_count": 33
        }
      ]
    },
    {
      "cell_type": "code",
      "source": [
        "np.random.rand(2,3)"
      ],
      "metadata": {
        "colab": {
          "base_uri": "https://localhost:8080/"
        },
        "id": "EWvJRKFohzZp",
        "outputId": "07776bac-cc7b-4778-d3b7-a0ced8470c12"
      },
      "execution_count": 34,
      "outputs": [
        {
          "output_type": "execute_result",
          "data": {
            "text/plain": [
              "array([[0.38729069, 0.13326196, 0.08584172],\n",
              "       [0.8841205 , 0.17001869, 0.73387666]])"
            ]
          },
          "metadata": {},
          "execution_count": 34
        }
      ]
    },
    {
      "cell_type": "code",
      "source": [
        "np.random.rand(10,1)"
      ],
      "metadata": {
        "colab": {
          "base_uri": "https://localhost:8080/"
        },
        "id": "0fM9k2YviONK",
        "outputId": "7a6839eb-bdf3-416f-a1f0-2300c0ab6c6e"
      },
      "execution_count": 35,
      "outputs": [
        {
          "output_type": "execute_result",
          "data": {
            "text/plain": [
              "array([[0.49238151],\n",
              "       [0.05563022],\n",
              "       [0.53804246],\n",
              "       [0.42985418],\n",
              "       [0.07267682],\n",
              "       [0.99448542],\n",
              "       [0.01356331],\n",
              "       [0.93422725],\n",
              "       [0.86662551],\n",
              "       [0.22695496]])"
            ]
          },
          "metadata": {},
          "execution_count": 35
        }
      ]
    },
    {
      "cell_type": "code",
      "source": [
        "np.random.randint(0, 100,(2,3))"
      ],
      "metadata": {
        "colab": {
          "base_uri": "https://localhost:8080/"
        },
        "id": "aqtdqj-7iaV4",
        "outputId": "2cb1ece1-9509-452f-9d52-c711777baa0b"
      },
      "execution_count": 36,
      "outputs": [
        {
          "output_type": "execute_result",
          "data": {
            "text/plain": [
              "array([[83, 25,  3],\n",
              "       [74, 29, 45]])"
            ]
          },
          "metadata": {},
          "execution_count": 36
        }
      ]
    },
    {
      "cell_type": "code",
      "source": [
        "np.arange(7, 71, 7)"
      ],
      "metadata": {
        "colab": {
          "base_uri": "https://localhost:8080/"
        },
        "id": "NjoQWIJSi0xQ",
        "outputId": "8959bd7a-eb00-4d33-b57c-c5c7b296c532"
      },
      "execution_count": 37,
      "outputs": [
        {
          "output_type": "execute_result",
          "data": {
            "text/plain": [
              "array([ 7, 14, 21, 28, 35, 42, 49, 56, 63, 70])"
            ]
          },
          "metadata": {},
          "execution_count": 37
        }
      ]
    },
    {
      "cell_type": "code",
      "source": [
        "np.linspace(7,70,10)"
      ],
      "metadata": {
        "colab": {
          "base_uri": "https://localhost:8080/"
        },
        "id": "RN9phtMmjTFm",
        "outputId": "8d548afc-5142-462e-c35e-ed373579421a"
      },
      "execution_count": 38,
      "outputs": [
        {
          "output_type": "execute_result",
          "data": {
            "text/plain": [
              "array([ 7., 14., 21., 28., 35., 42., 49., 56., 63., 70.])"
            ]
          },
          "metadata": {},
          "execution_count": 38
        }
      ]
    },
    {
      "cell_type": "code",
      "source": [
        "np.array([True, False, True, True])"
      ],
      "metadata": {
        "colab": {
          "base_uri": "https://localhost:8080/"
        },
        "id": "npa0eP07jmzU",
        "outputId": "cbc38016-58d5-420e-b724-072a71587465"
      },
      "execution_count": 39,
      "outputs": [
        {
          "output_type": "execute_result",
          "data": {
            "text/plain": [
              "array([ True, False,  True,  True])"
            ]
          },
          "metadata": {},
          "execution_count": 39
        }
      ]
    },
    {
      "cell_type": "code",
      "source": [
        "str_arr = np.array(['1.4','2.1','1.1'])"
      ],
      "metadata": {
        "id": "ADkAsChWkEm0"
      },
      "execution_count": 40,
      "outputs": []
    },
    {
      "cell_type": "code",
      "source": [
        "arr = np.array(str_arr, dtype = 'float')"
      ],
      "metadata": {
        "id": "UVKOskD9kWGS"
      },
      "execution_count": 41,
      "outputs": []
    },
    {
      "cell_type": "code",
      "source": [
        "arr"
      ],
      "metadata": {
        "colab": {
          "base_uri": "https://localhost:8080/"
        },
        "id": "IjH-vOPIk6pt",
        "outputId": "86a74428-7e13-4777-c167-5524abfa7f4b"
      },
      "execution_count": 42,
      "outputs": [
        {
          "output_type": "execute_result",
          "data": {
            "text/plain": [
              "array([1.4, 2.1, 1.1])"
            ]
          },
          "metadata": {},
          "execution_count": 42
        }
      ]
    },
    {
      "cell_type": "markdown",
      "source": [
        "## Creating np Arrays"
      ],
      "metadata": {
        "id": "uM7loVaFemzp"
      }
    },
    {
      "cell_type": "code",
      "source": [
        "import numpy as np"
      ],
      "metadata": {
        "id": "1qDX98T9hPsu"
      },
      "execution_count": 43,
      "outputs": []
    },
    {
      "cell_type": "code",
      "source": [
        "arr = np.arange(5)"
      ],
      "metadata": {
        "id": "t0JHXtzplJLO"
      },
      "execution_count": 44,
      "outputs": []
    },
    {
      "cell_type": "code",
      "source": [
        "print(arr, type(arr))"
      ],
      "metadata": {
        "id": "Nl0n2xXpgNNM",
        "outputId": "795cca8c-0d51-4cc4-bfaf-c810feec45c0",
        "colab": {
          "base_uri": "https://localhost:8080/"
        }
      },
      "execution_count": 45,
      "outputs": [
        {
          "output_type": "stream",
          "name": "stdout",
          "text": [
            "[0 1 2 3 4] <class 'numpy.ndarray'>\n"
          ]
        }
      ]
    },
    {
      "cell_type": "code",
      "source": [
        "arr.dtype"
      ],
      "metadata": {
        "id": "2oAs3QFTjnSl",
        "outputId": "94c12388-cce4-4feb-d52c-01c9396e829c",
        "colab": {
          "base_uri": "https://localhost:8080/"
        }
      },
      "execution_count": 46,
      "outputs": [
        {
          "output_type": "execute_result",
          "data": {
            "text/plain": [
              "dtype('int64')"
            ]
          },
          "metadata": {},
          "execution_count": 46
        }
      ]
    },
    {
      "cell_type": "code",
      "source": [
        "arr.ndim"
      ],
      "metadata": {
        "id": "jJSRZ7VklWoP",
        "outputId": "e3cbc99d-4e54-4569-da58-50ad9141e477",
        "colab": {
          "base_uri": "https://localhost:8080/"
        }
      },
      "execution_count": 47,
      "outputs": [
        {
          "output_type": "execute_result",
          "data": {
            "text/plain": [
              "1"
            ]
          },
          "metadata": {},
          "execution_count": 47
        }
      ]
    },
    {
      "cell_type": "code",
      "source": [
        "arr.shape"
      ],
      "metadata": {
        "id": "EhjEGPdFlGXT",
        "outputId": "aad32e8f-647f-4da3-f9c2-1ca4246c6958",
        "colab": {
          "base_uri": "https://localhost:8080/"
        }
      },
      "execution_count": 48,
      "outputs": [
        {
          "output_type": "execute_result",
          "data": {
            "text/plain": [
              "(5,)"
            ]
          },
          "metadata": {},
          "execution_count": 48
        }
      ]
    },
    {
      "cell_type": "code",
      "source": [
        "arr.size"
      ],
      "metadata": {
        "id": "WwkyHRtglbkk",
        "outputId": "32795ca3-9b5e-4d8c-e842-76e119723c86",
        "colab": {
          "base_uri": "https://localhost:8080/"
        }
      },
      "execution_count": 49,
      "outputs": [
        {
          "output_type": "execute_result",
          "data": {
            "text/plain": [
              "5"
            ]
          },
          "metadata": {},
          "execution_count": 49
        }
      ]
    },
    {
      "cell_type": "code",
      "source": [
        "arr.itemsize"
      ],
      "metadata": {
        "id": "YXHIdb5Plike",
        "outputId": "7aa34dbf-4037-4634-98ef-145c4b6b71fa",
        "colab": {
          "base_uri": "https://localhost:8080/"
        }
      },
      "execution_count": 50,
      "outputs": [
        {
          "output_type": "execute_result",
          "data": {
            "text/plain": [
              "8"
            ]
          },
          "metadata": {},
          "execution_count": 50
        }
      ]
    },
    {
      "cell_type": "code",
      "source": [
        "arr2d = np.array([\n",
        "    [1,2,3],\n",
        "    [4,5,6]\n",
        "])"
      ],
      "metadata": {
        "id": "BDpILUFUlpeq"
      },
      "execution_count": 51,
      "outputs": []
    },
    {
      "cell_type": "code",
      "source": [
        "arr2d"
      ],
      "metadata": {
        "id": "JPoTbwlqmjh4",
        "outputId": "e339f169-f1e2-4cc1-935e-05faeb52e0fd",
        "colab": {
          "base_uri": "https://localhost:8080/"
        }
      },
      "execution_count": 52,
      "outputs": [
        {
          "output_type": "execute_result",
          "data": {
            "text/plain": [
              "array([[1, 2, 3],\n",
              "       [4, 5, 6]])"
            ]
          },
          "metadata": {},
          "execution_count": 52
        }
      ]
    },
    {
      "cell_type": "code",
      "source": [
        "arr2d.ndim"
      ],
      "metadata": {
        "id": "wHRygPeUmnCN",
        "outputId": "10c5e26c-231c-4cdf-97bb-c71a64648d6d",
        "colab": {
          "base_uri": "https://localhost:8080/"
        }
      },
      "execution_count": 53,
      "outputs": [
        {
          "output_type": "execute_result",
          "data": {
            "text/plain": [
              "2"
            ]
          },
          "metadata": {},
          "execution_count": 53
        }
      ]
    },
    {
      "cell_type": "code",
      "source": [
        "arr2d.shape"
      ],
      "metadata": {
        "id": "gtu8ggmimtPq",
        "outputId": "7887ee9f-6946-4b46-8a39-455628ee7249",
        "colab": {
          "base_uri": "https://localhost:8080/"
        }
      },
      "execution_count": 54,
      "outputs": [
        {
          "output_type": "execute_result",
          "data": {
            "text/plain": [
              "(2, 3)"
            ]
          },
          "metadata": {},
          "execution_count": 54
        }
      ]
    },
    {
      "cell_type": "code",
      "source": [
        "arr3d = np.array([\n",
        "                  [\n",
        "                   [1,2,3],\n",
        "                   [4,5,6]\n",
        "                  ],\n",
        "                  [\n",
        "                   [7,8,9],\n",
        "                   [10,11,12]\n",
        "                  ]\n",
        "])"
      ],
      "metadata": {
        "id": "ewlh6wfSmw2b"
      },
      "execution_count": 55,
      "outputs": []
    },
    {
      "cell_type": "code",
      "source": [
        "arr3d"
      ],
      "metadata": {
        "id": "J3kebjXGnuDq",
        "outputId": "c131a961-56f7-417b-bde1-e04eb4203e11",
        "colab": {
          "base_uri": "https://localhost:8080/"
        }
      },
      "execution_count": 56,
      "outputs": [
        {
          "output_type": "execute_result",
          "data": {
            "text/plain": [
              "array([[[ 1,  2,  3],\n",
              "        [ 4,  5,  6]],\n",
              "\n",
              "       [[ 7,  8,  9],\n",
              "        [10, 11, 12]]])"
            ]
          },
          "metadata": {},
          "execution_count": 56
        }
      ]
    },
    {
      "cell_type": "code",
      "source": [
        "arr3d.shape"
      ],
      "metadata": {
        "id": "PQ2fEO03nvZP",
        "outputId": "ae507341-9a32-4e2f-b507-b730217d3adc",
        "colab": {
          "base_uri": "https://localhost:8080/"
        }
      },
      "execution_count": 57,
      "outputs": [
        {
          "output_type": "execute_result",
          "data": {
            "text/plain": [
              "(2, 2, 3)"
            ]
          },
          "metadata": {},
          "execution_count": 57
        }
      ]
    },
    {
      "cell_type": "code",
      "source": [
        "arr3d.size"
      ],
      "metadata": {
        "id": "68TRm0gbn6Nk",
        "outputId": "400aa944-099c-45f8-872e-7a2f7d9d8621",
        "colab": {
          "base_uri": "https://localhost:8080/"
        }
      },
      "execution_count": 58,
      "outputs": [
        {
          "output_type": "execute_result",
          "data": {
            "text/plain": [
              "12"
            ]
          },
          "metadata": {},
          "execution_count": 58
        }
      ]
    },
    {
      "cell_type": "code",
      "source": [
        "np.ones((2,3,4))"
      ],
      "metadata": {
        "id": "G1UMhs4Dn9nP",
        "outputId": "fe3f0ed0-1875-49ec-9293-e2d548199d88",
        "colab": {
          "base_uri": "https://localhost:8080/"
        }
      },
      "execution_count": 59,
      "outputs": [
        {
          "output_type": "execute_result",
          "data": {
            "text/plain": [
              "array([[[1., 1., 1., 1.],\n",
              "        [1., 1., 1., 1.],\n",
              "        [1., 1., 1., 1.]],\n",
              "\n",
              "       [[1., 1., 1., 1.],\n",
              "        [1., 1., 1., 1.],\n",
              "        [1., 1., 1., 1.]]])"
            ]
          },
          "metadata": {},
          "execution_count": 59
        }
      ]
    },
    {
      "cell_type": "code",
      "source": [
        "1729*np.ones((2,3,4))"
      ],
      "metadata": {
        "id": "B2jjRRWMoKko",
        "outputId": "c18829cd-43a3-44be-9005-8b50ef2f0c4e",
        "colab": {
          "base_uri": "https://localhost:8080/"
        }
      },
      "execution_count": 60,
      "outputs": [
        {
          "output_type": "execute_result",
          "data": {
            "text/plain": [
              "array([[[1729., 1729., 1729., 1729.],\n",
              "        [1729., 1729., 1729., 1729.],\n",
              "        [1729., 1729., 1729., 1729.]],\n",
              "\n",
              "       [[1729., 1729., 1729., 1729.],\n",
              "        [1729., 1729., 1729., 1729.],\n",
              "        [1729., 1729., 1729., 1729.]]])"
            ]
          },
          "metadata": {},
          "execution_count": 60
        }
      ]
    },
    {
      "cell_type": "code",
      "source": [
        "np.zeros((2,3,4))"
      ],
      "metadata": {
        "id": "A9ye1YAYouDB",
        "outputId": "6fc9e100-67b4-4149-9f5a-0c7b72a79b5a",
        "colab": {
          "base_uri": "https://localhost:8080/"
        }
      },
      "execution_count": 61,
      "outputs": [
        {
          "output_type": "execute_result",
          "data": {
            "text/plain": [
              "array([[[0., 0., 0., 0.],\n",
              "        [0., 0., 0., 0.],\n",
              "        [0., 0., 0., 0.]],\n",
              "\n",
              "       [[0., 0., 0., 0.],\n",
              "        [0., 0., 0., 0.],\n",
              "        [0., 0., 0., 0.]]])"
            ]
          },
          "metadata": {},
          "execution_count": 61
        }
      ]
    },
    {
      "cell_type": "code",
      "source": [
        "np.random.randn(2,3)"
      ],
      "metadata": {
        "id": "bAaRCBPQo_UJ",
        "outputId": "d222e011-57da-4606-a82d-0d8be7b055d4",
        "colab": {
          "base_uri": "https://localhost:8080/"
        }
      },
      "execution_count": 62,
      "outputs": [
        {
          "output_type": "execute_result",
          "data": {
            "text/plain": [
              "array([[-0.01225384,  0.59442731,  0.32310695],\n",
              "       [ 0.27798455,  0.5914931 ,  0.01795523]])"
            ]
          },
          "metadata": {},
          "execution_count": 62
        }
      ]
    },
    {
      "cell_type": "code",
      "source": [
        "np.random.rand(2,3)"
      ],
      "metadata": {
        "id": "r7cPSFrYpg61",
        "outputId": "9ff64382-eba8-4592-9c6a-927ff220d449",
        "colab": {
          "base_uri": "https://localhost:8080/"
        }
      },
      "execution_count": 63,
      "outputs": [
        {
          "output_type": "execute_result",
          "data": {
            "text/plain": [
              "array([[0.2392921 , 0.42908909, 0.70816473],\n",
              "       [0.62575191, 0.60562154, 0.03392134]])"
            ]
          },
          "metadata": {},
          "execution_count": 63
        }
      ]
    },
    {
      "cell_type": "code",
      "source": [
        "np.random.rand(10,1)"
      ],
      "metadata": {
        "id": "hKJNspkIp7Yy",
        "outputId": "8d1c5228-803f-4d07-8656-0bb8e3fab692",
        "colab": {
          "base_uri": "https://localhost:8080/"
        }
      },
      "execution_count": 64,
      "outputs": [
        {
          "output_type": "execute_result",
          "data": {
            "text/plain": [
              "array([[0.1875118 ],\n",
              "       [0.99873878],\n",
              "       [0.98893499],\n",
              "       [0.52207719],\n",
              "       [0.94735219],\n",
              "       [0.84976119],\n",
              "       [0.45453098],\n",
              "       [0.21097586],\n",
              "       [0.19516398],\n",
              "       [0.11717634]])"
            ]
          },
          "metadata": {},
          "execution_count": 64
        }
      ]
    },
    {
      "cell_type": "code",
      "source": [
        "np.random.randint(0,100,(2,3))"
      ],
      "metadata": {
        "id": "qKW8Gj_CrX9a",
        "outputId": "80e9587e-feda-41c3-e583-0882a21bfa07",
        "colab": {
          "base_uri": "https://localhost:8080/"
        }
      },
      "execution_count": 65,
      "outputs": [
        {
          "output_type": "execute_result",
          "data": {
            "text/plain": [
              "array([[58, 69, 65],\n",
              "       [11, 60, 61]])"
            ]
          },
          "metadata": {},
          "execution_count": 65
        }
      ]
    },
    {
      "cell_type": "code",
      "source": [
        "np.arange(7,71,7)"
      ],
      "metadata": {
        "id": "z8Mz_LpasAzu",
        "outputId": "84e6d25c-f88e-4789-bd21-9fbf2e8ea064",
        "colab": {
          "base_uri": "https://localhost:8080/"
        }
      },
      "execution_count": 66,
      "outputs": [
        {
          "output_type": "execute_result",
          "data": {
            "text/plain": [
              "array([ 7, 14, 21, 28, 35, 42, 49, 56, 63, 70])"
            ]
          },
          "metadata": {},
          "execution_count": 66
        }
      ]
    },
    {
      "cell_type": "code",
      "source": [
        "np.linspace(7, 70,10)"
      ],
      "metadata": {
        "id": "oKz6G5rbsiMz",
        "outputId": "362eb628-3cfa-4e58-e75e-e5d63d7c14f9",
        "colab": {
          "base_uri": "https://localhost:8080/"
        }
      },
      "execution_count": 67,
      "outputs": [
        {
          "output_type": "execute_result",
          "data": {
            "text/plain": [
              "array([ 7., 14., 21., 28., 35., 42., 49., 56., 63., 70.])"
            ]
          },
          "metadata": {},
          "execution_count": 67
        }
      ]
    },
    {
      "cell_type": "code",
      "source": [
        "np.array([True, False, True, True])"
      ],
      "metadata": {
        "id": "eo_nrStts2o2",
        "outputId": "3feff80a-69cb-4123-f3a8-34a4501cd576",
        "colab": {
          "base_uri": "https://localhost:8080/"
        }
      },
      "execution_count": 68,
      "outputs": [
        {
          "output_type": "execute_result",
          "data": {
            "text/plain": [
              "array([ True, False,  True,  True])"
            ]
          },
          "metadata": {},
          "execution_count": 68
        }
      ]
    },
    {
      "cell_type": "code",
      "source": [
        "str_arr = np.array(['1.4','2.1','3.1'])"
      ],
      "metadata": {
        "id": "XtuuWvbDtL4T"
      },
      "execution_count": 69,
      "outputs": []
    },
    {
      "cell_type": "code",
      "source": [
        "arr = np.array(str_arr, dtype = 'float')"
      ],
      "metadata": {
        "id": "Okm_D3UOtXnq"
      },
      "execution_count": 70,
      "outputs": []
    },
    {
      "cell_type": "code",
      "source": [
        "arr"
      ],
      "metadata": {
        "id": "WivV7LZruorE",
        "outputId": "b87c6c33-6c63-49b4-d265-e2342ad2376b",
        "colab": {
          "base_uri": "https://localhost:8080/"
        }
      },
      "execution_count": 71,
      "outputs": [
        {
          "output_type": "execute_result",
          "data": {
            "text/plain": [
              "array([1.4, 2.1, 3.1])"
            ]
          },
          "metadata": {},
          "execution_count": 71
        }
      ]
    },
    {
      "cell_type": "markdown",
      "source": [
        "## Indexing"
      ],
      "metadata": {
        "id": "nMiSIUnUvMKd"
      }
    },
    {
      "cell_type": "code",
      "source": [
        "print(arr3d)"
      ],
      "metadata": {
        "id": "Dyirx7lhuurx",
        "outputId": "934ed24b-4475-4aa3-9d3a-3bf446a986c7",
        "colab": {
          "base_uri": "https://localhost:8080/"
        }
      },
      "execution_count": 72,
      "outputs": [
        {
          "output_type": "stream",
          "name": "stdout",
          "text": [
            "[[[ 1  2  3]\n",
            "  [ 4  5  6]]\n",
            "\n",
            " [[ 7  8  9]\n",
            "  [10 11 12]]]\n"
          ]
        }
      ]
    },
    {
      "cell_type": "code",
      "source": [
        "arr3d[0,0,0]"
      ],
      "metadata": {
        "id": "HZ973NTQvjPE",
        "outputId": "d79d1113-009a-4679-bb6d-fcbdda8b43c7",
        "colab": {
          "base_uri": "https://localhost:8080/"
        }
      },
      "execution_count": 73,
      "outputs": [
        {
          "output_type": "execute_result",
          "data": {
            "text/plain": [
              "1"
            ]
          },
          "metadata": {},
          "execution_count": 73
        }
      ]
    },
    {
      "cell_type": "code",
      "source": [
        "arr3d[1,0,2]"
      ],
      "metadata": {
        "id": "ngeo73xwvqnA",
        "outputId": "78b6ef28-1478-4982-994d-74997087d9cb",
        "colab": {
          "base_uri": "https://localhost:8080/"
        }
      },
      "execution_count": 74,
      "outputs": [
        {
          "output_type": "execute_result",
          "data": {
            "text/plain": [
              "9"
            ]
          },
          "metadata": {},
          "execution_count": 74
        }
      ]
    },
    {
      "cell_type": "code",
      "source": [
        "i = 1\n",
        "j = 0\n",
        "k = 2\n",
        "arr3d[i,j,k]"
      ],
      "metadata": {
        "id": "hOyFtO3cv70G",
        "outputId": "e9e2a5ce-a1b5-4c98-f2bf-cd28e854a11f",
        "colab": {
          "base_uri": "https://localhost:8080/"
        }
      },
      "execution_count": 75,
      "outputs": [
        {
          "output_type": "execute_result",
          "data": {
            "text/plain": [
              "9"
            ]
          },
          "metadata": {},
          "execution_count": 75
        }
      ]
    },
    {
      "cell_type": "code",
      "source": [
        "arr3d[1,:,:]"
      ],
      "metadata": {
        "id": "nbs72hWfwSIJ",
        "outputId": "8f31e167-81d3-4b36-98b2-adbffd6b0e4a",
        "colab": {
          "base_uri": "https://localhost:8080/"
        }
      },
      "execution_count": 76,
      "outputs": [
        {
          "output_type": "execute_result",
          "data": {
            "text/plain": [
              "array([[ 7,  8,  9],\n",
              "       [10, 11, 12]])"
            ]
          },
          "metadata": {},
          "execution_count": 76
        }
      ]
    },
    {
      "cell_type": "code",
      "source": [
        "arr3d[:,1,:]"
      ],
      "metadata": {
        "id": "ml-eWzVfwdOe",
        "outputId": "855a99bc-9eaf-4005-b8ee-4286145c4370",
        "colab": {
          "base_uri": "https://localhost:8080/"
        }
      },
      "execution_count": 77,
      "outputs": [
        {
          "output_type": "execute_result",
          "data": {
            "text/plain": [
              "array([[ 4,  5,  6],\n",
              "       [10, 11, 12]])"
            ]
          },
          "metadata": {},
          "execution_count": 77
        }
      ]
    },
    {
      "cell_type": "code",
      "source": [
        "arr3d % 2 ==0"
      ],
      "metadata": {
        "id": "bgFxcYa3wsG_",
        "outputId": "5d54016b-cc47-4b4c-97cc-7e8b7d016e61",
        "colab": {
          "base_uri": "https://localhost:8080/"
        }
      },
      "execution_count": 78,
      "outputs": [
        {
          "output_type": "execute_result",
          "data": {
            "text/plain": [
              "array([[[False,  True, False],\n",
              "        [ True, False,  True]],\n",
              "\n",
              "       [[False,  True, False],\n",
              "        [ True, False,  True]]])"
            ]
          },
          "metadata": {},
          "execution_count": 78
        }
      ]
    },
    {
      "cell_type": "code",
      "source": [
        "arr3d[arr3d % 2 ==1]"
      ],
      "metadata": {
        "id": "4YqPd3HgMHBH",
        "outputId": "23fd6198-ce7f-4fdf-983b-5ed8c5a84cc6",
        "colab": {
          "base_uri": "https://localhost:8080/"
        }
      },
      "execution_count": 80,
      "outputs": [
        {
          "output_type": "execute_result",
          "data": {
            "text/plain": [
              "array([ 1,  3,  5,  7,  9, 11])"
            ]
          },
          "metadata": {},
          "execution_count": 80
        }
      ]
    },
    {
      "cell_type": "code",
      "source": [
        "arr3d[(arr3d % 2 ==1) & (arr3d > 3)]"
      ],
      "metadata": {
        "id": "wZgoeAUGMsXj",
        "outputId": "5dca718f-4815-43b3-85ef-f16630b50bd7",
        "colab": {
          "base_uri": "https://localhost:8080/"
        }
      },
      "execution_count": 81,
      "outputs": [
        {
          "output_type": "execute_result",
          "data": {
            "text/plain": [
              "array([ 5,  7,  9, 11])"
            ]
          },
          "metadata": {},
          "execution_count": 81
        }
      ]
    },
    {
      "cell_type": "code",
      "source": [
        "arr_slice = arr3d[:,:,0:2]"
      ],
      "metadata": {
        "id": "YF4Xlc0TNRl5"
      },
      "execution_count": 82,
      "outputs": []
    },
    {
      "cell_type": "code",
      "source": [
        "print(type(arr_slice))"
      ],
      "metadata": {
        "id": "xGVrKMrANoPQ",
        "outputId": "b6a26d2d-085c-41c6-9bca-5dcef830415c",
        "colab": {
          "base_uri": "https://localhost:8080/"
        }
      },
      "execution_count": 83,
      "outputs": [
        {
          "output_type": "stream",
          "name": "stdout",
          "text": [
            "<class 'numpy.ndarray'>\n"
          ]
        }
      ]
    },
    {
      "cell_type": "code",
      "source": [
        "arr_slice.ndim"
      ],
      "metadata": {
        "id": "YZvw-BbSNuzW",
        "outputId": "2b163bee-a1a2-4d28-9fa3-6cdbbd686d36",
        "colab": {
          "base_uri": "https://localhost:8080/"
        }
      },
      "execution_count": 84,
      "outputs": [
        {
          "output_type": "execute_result",
          "data": {
            "text/plain": [
              "3"
            ]
          },
          "metadata": {},
          "execution_count": 84
        }
      ]
    },
    {
      "cell_type": "code",
      "source": [
        "arr_slice.shape"
      ],
      "metadata": {
        "id": "y0_W4RLiN1lB",
        "outputId": "2a2cb692-15ee-4a57-8445-ae07587feef7",
        "colab": {
          "base_uri": "https://localhost:8080/"
        }
      },
      "execution_count": 85,
      "outputs": [
        {
          "output_type": "execute_result",
          "data": {
            "text/plain": [
              "(2, 2, 2)"
            ]
          },
          "metadata": {},
          "execution_count": 85
        }
      ]
    },
    {
      "cell_type": "code",
      "source": [
        "arr_slice[0,0,1]"
      ],
      "metadata": {
        "id": "qSfSRE-rN7mR",
        "outputId": "914f4f62-9cd4-4a07-b5e1-33812c0b797d",
        "colab": {
          "base_uri": "https://localhost:8080/"
        }
      },
      "execution_count": 86,
      "outputs": [
        {
          "output_type": "execute_result",
          "data": {
            "text/plain": [
              "2"
            ]
          },
          "metadata": {},
          "execution_count": 86
        }
      ]
    },
    {
      "cell_type": "code",
      "source": [
        "arr_slice[0,0,0] =1729"
      ],
      "metadata": {
        "id": "aYNgWKqsODBC"
      },
      "execution_count": 87,
      "outputs": []
    },
    {
      "cell_type": "code",
      "source": [
        "arr_slice"
      ],
      "metadata": {
        "id": "JbZ4FGUiONjn",
        "outputId": "0a91d4e8-53ca-4db9-f40f-97e7ed34738f",
        "colab": {
          "base_uri": "https://localhost:8080/"
        }
      },
      "execution_count": 88,
      "outputs": [
        {
          "output_type": "execute_result",
          "data": {
            "text/plain": [
              "array([[[1729,    2],\n",
              "        [   4,    5]],\n",
              "\n",
              "       [[   7,    8],\n",
              "        [  10,   11]]])"
            ]
          },
          "metadata": {},
          "execution_count": 88
        }
      ]
    },
    {
      "cell_type": "code",
      "source": [
        "arr3d"
      ],
      "metadata": {
        "id": "ni8_wZ5UORtW",
        "outputId": "5602a50e-9966-4d4c-ed3e-45e298ac2453",
        "colab": {
          "base_uri": "https://localhost:8080/"
        }
      },
      "execution_count": 89,
      "outputs": [
        {
          "output_type": "execute_result",
          "data": {
            "text/plain": [
              "array([[[1729,    2,    3],\n",
              "        [   4,    5,    6]],\n",
              "\n",
              "       [[   7,    8,    9],\n",
              "        [  10,   11,   12]]])"
            ]
          },
          "metadata": {},
          "execution_count": 89
        }
      ]
    },
    {
      "cell_type": "code",
      "source": [
        "arr_slice = np.copy(arr3d[:,:,0:2])"
      ],
      "metadata": {
        "id": "pCCWDTW5Oc-X"
      },
      "execution_count": 90,
      "outputs": []
    },
    {
      "cell_type": "code",
      "source": [
        "arr_slice[0,0,0] =1"
      ],
      "metadata": {
        "id": "2p7EnKoSO5dx"
      },
      "execution_count": 91,
      "outputs": []
    },
    {
      "cell_type": "code",
      "source": [
        "arr_slice"
      ],
      "metadata": {
        "id": "P0Wge32dPAl4",
        "outputId": "9b29a935-7f38-4623-c4f2-eb0ec38420f1",
        "colab": {
          "base_uri": "https://localhost:8080/"
        }
      },
      "execution_count": 92,
      "outputs": [
        {
          "output_type": "execute_result",
          "data": {
            "text/plain": [
              "array([[[ 1,  2],\n",
              "        [ 4,  5]],\n",
              "\n",
              "       [[ 7,  8],\n",
              "        [10, 11]]])"
            ]
          },
          "metadata": {},
          "execution_count": 92
        }
      ]
    },
    {
      "cell_type": "code",
      "source": [
        "arr3d"
      ],
      "metadata": {
        "id": "ZiqRDGJXPD81",
        "outputId": "a736cf6a-6d22-451b-d16c-ffc2bc66d5a6",
        "colab": {
          "base_uri": "https://localhost:8080/"
        }
      },
      "execution_count": 93,
      "outputs": [
        {
          "output_type": "execute_result",
          "data": {
            "text/plain": [
              "array([[[1729,    2,    3],\n",
              "        [   4,    5,    6]],\n",
              "\n",
              "       [[   7,    8,    9],\n",
              "        [  10,   11,   12]]])"
            ]
          },
          "metadata": {},
          "execution_count": 93
        }
      ]
    },
    {
      "cell_type": "code",
      "source": [
        "arr = np.random.randint(0,10, (5))"
      ],
      "metadata": {
        "id": "bekSySmEPJwc"
      },
      "execution_count": 96,
      "outputs": []
    },
    {
      "cell_type": "code",
      "source": [
        "arr"
      ],
      "metadata": {
        "id": "73FM0ngRPd64",
        "outputId": "b44070d9-bf16-447f-b237-fc065964f9f7",
        "colab": {
          "base_uri": "https://localhost:8080/"
        }
      },
      "execution_count": 97,
      "outputs": [
        {
          "output_type": "execute_result",
          "data": {
            "text/plain": [
              "array([4, 6, 2, 9, 7])"
            ]
          },
          "metadata": {},
          "execution_count": 97
        }
      ]
    },
    {
      "cell_type": "code",
      "source": [
        "my_indices = [1,3,4]"
      ],
      "metadata": {
        "id": "1GdeMFegPhUX"
      },
      "execution_count": 98,
      "outputs": []
    },
    {
      "cell_type": "code",
      "source": [
        "arr[my_indices]"
      ],
      "metadata": {
        "id": "YCbi25aFPw9z",
        "outputId": "918b1a48-db18-46cc-ff86-05b72dc070cd",
        "colab": {
          "base_uri": "https://localhost:8080/"
        }
      },
      "execution_count": 99,
      "outputs": [
        {
          "output_type": "execute_result",
          "data": {
            "text/plain": [
              "array([6, 9, 7])"
            ]
          },
          "metadata": {},
          "execution_count": 99
        }
      ]
    },
    {
      "cell_type": "markdown",
      "source": [
        "## Numpy Operations"
      ],
      "metadata": {
        "id": "K7LFms-hQG1E"
      }
    },
    {
      "cell_type": "code",
      "source": [
        ""
      ],
      "metadata": {
        "id": "Bw-YnT9mP3AH"
      },
      "execution_count": null,
      "outputs": []
    }
  ]
}