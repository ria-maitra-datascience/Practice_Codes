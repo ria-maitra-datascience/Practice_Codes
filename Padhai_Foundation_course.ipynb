{
  "nbformat": 4,
  "nbformat_minor": 0,
  "metadata": {
    "colab": {
      "name": "Padhai Foundation course.ipynb",
      "provenance": [],
      "authorship_tag": "ABX9TyPObAMeCb9DGX/UIEipHe7c",
      "include_colab_link": true
    },
    "kernelspec": {
      "name": "python3",
      "display_name": "Python 3"
    },
    "language_info": {
      "name": "python"
    }
  },
  "cells": [
    {
      "cell_type": "markdown",
      "metadata": {
        "id": "view-in-github",
        "colab_type": "text"
      },
      "source": [
        "<a href=\"https://colab.research.google.com/github/ria1994maitra/Practice_Codes/blob/main/Padhai_Foundation_course.ipynb\" target=\"_parent\"><img src=\"https://colab.research.google.com/assets/colab-badge.svg\" alt=\"Open In Colab\"/></a>"
      ]
    },
    {
      "cell_type": "code",
      "execution_count": null,
      "metadata": {
        "id": "vin_NGRoqDGc"
      },
      "outputs": [],
      "source": [
        ""
      ]
    },
    {
      "cell_type": "markdown",
      "source": [
        "# **Numpy( Week- 8)**"
      ],
      "metadata": {
        "id": "rbhCWa_nr81D"
      }
    },
    {
      "cell_type": "markdown",
      "source": [
        "## **Working with arrays**\n",
        "* Scientific Computing\n",
        "* Financial Analysis\n",
        "* Relational Data\n",
        "* Multimedia Data\n",
        "* Deep Learning\n",
        "\n",
        "All of these require storing and processing high dimensional arrays efficiently.\n",
        "\n",
        "We already learnt lists, sets, tuples and dictionaries.\n",
        "\n",
        "List can store collection of high dimensional numbers as arrays and we can operate on them by iterating.\n",
        "But this is very inefficient - 10x to 100x slower - than expected performance.\n",
        "\n",
        "**Why?**\n",
        "1. Lists are designed to store heterogenous data.\n",
        "2. No low-level hardware mechanism to accelerate operations on lists\n",
        "\n",
        "\n",
        "**Numpy**\n",
        "* Intended to bring performance and functionality improvements for numerical computing\n",
        "* Started only in 2006!\n",
        "* Now a standard package used in many real-world apllications, other packages.\n",
        "\n",
        "***Programing Level***\n",
        "* provide implementation pof many functions across linear algebra, statistics...\n",
        "* Efficiently broadcast operations across dimensions\n",
        "\n",
        "***Functionality Level***\n",
        "* Enable other packages to use numpy arrays as an efficient data interface \n",
        "* Efficiently process data without type-checking overhead.\n",
        "\n",
        "***Hardware Level***\n",
        "* Enable easy file save and load of n-d arrays.\n",
        "* Efficiently store n-d array in vectorised form to benefit from DRAM locality.\n",
        "\n",
        "**What we will focus on**\n",
        "* What are nd-array?\n",
        "* What is broadcasting?\n",
        "* How to load and save n-d arrays\n",
        "* How to use statistical functions.\n"
      ],
      "metadata": {
        "id": "1C1MkMtqsr6H"
      }
    },
    {
      "cell_type": "code",
      "source": [
        ""
      ],
      "metadata": {
        "id": "Yynmgl0NsHou"
      },
      "execution_count": null,
      "outputs": []
    },
    {
      "cell_type": "markdown",
      "source": [
        "## Comparing performance with lists, etc."
      ],
      "metadata": {
        "id": "08UiYNEnSacz"
      }
    },
    {
      "cell_type": "code",
      "source": [
        "import numpy as np"
      ],
      "metadata": {
        "id": "MnKAq0PFWIEb"
      },
      "execution_count": 1,
      "outputs": []
    },
    {
      "cell_type": "code",
      "source": [
        "N = 10000000"
      ],
      "metadata": {
        "id": "VfokY9Z7SZzh"
      },
      "execution_count": 2,
      "outputs": []
    },
    {
      "cell_type": "code",
      "source": [
        "%%time\n",
        "list_ = list(range(N))\n",
        "for i in range(N):\n",
        "    list_[i] = list_[i] * list_[i]"
      ],
      "metadata": {
        "colab": {
          "base_uri": "https://localhost:8080/"
        },
        "id": "7BgEQ5bsSmku",
        "outputId": "816c4086-1d97-4964-8e2a-cabb223d11db"
      },
      "execution_count": 3,
      "outputs": [
        {
          "output_type": "stream",
          "name": "stdout",
          "text": [
            "CPU times: user 3.63 s, sys: 244 ms, total: 3.87 s\n",
            "Wall time: 3.92 s\n"
          ]
        }
      ]
    },
    {
      "cell_type": "code",
      "source": [
        "%%time\n",
        "list_ = list(range(N))\n",
        "list_ = [item * item for item in list_]"
      ],
      "metadata": {
        "colab": {
          "base_uri": "https://localhost:8080/"
        },
        "id": "BOjVqQCsTO0F",
        "outputId": "3ccaf856-c978-43c4-b094-424d256c239c"
      },
      "execution_count": 4,
      "outputs": [
        {
          "output_type": "stream",
          "name": "stdout",
          "text": [
            "CPU times: user 1.02 s, sys: 549 ms, total: 1.57 s\n",
            "Wall time: 1.57 s\n"
          ]
        }
      ]
    },
    {
      "cell_type": "code",
      "source": [
        "%%time\n",
        "list_ = list(range(N))\n",
        "list_ = map(lambda x: x*x , list_)"
      ],
      "metadata": {
        "colab": {
          "base_uri": "https://localhost:8080/"
        },
        "id": "XNykmPqAUQDs",
        "outputId": "d9a1e9c3-e74f-4be8-b41a-516583dd6503"
      },
      "execution_count": 5,
      "outputs": [
        {
          "output_type": "stream",
          "name": "stdout",
          "text": [
            "CPU times: user 375 ms, sys: 254 ms, total: 629 ms\n",
            "Wall time: 631 ms\n"
          ]
        }
      ]
    },
    {
      "cell_type": "code",
      "source": [
        "%%time\n",
        "list_ = list(range(N))\n",
        "list_sum = 0\n",
        "for item in list_:\n",
        "    list_sum+=item"
      ],
      "metadata": {
        "colab": {
          "base_uri": "https://localhost:8080/"
        },
        "id": "dWdexaJwU-5w",
        "outputId": "0dea0130-c709-4eb7-90ae-fd9f43fe0922"
      },
      "execution_count": 6,
      "outputs": [
        {
          "output_type": "stream",
          "name": "stdout",
          "text": [
            "CPU times: user 1.48 s, sys: 182 ms, total: 1.66 s\n",
            "Wall time: 1.67 s\n"
          ]
        }
      ]
    },
    {
      "cell_type": "code",
      "source": [
        "%%time\n",
        "list_ = list(range(N))\n",
        "list_sum = sum(list_)"
      ],
      "metadata": {
        "colab": {
          "base_uri": "https://localhost:8080/"
        },
        "id": "j-3YwqWCVufJ",
        "outputId": "62ad4873-8a55-447c-ec59-476222134d2f"
      },
      "execution_count": 7,
      "outputs": [
        {
          "output_type": "stream",
          "name": "stdout",
          "text": [
            "CPU times: user 331 ms, sys: 186 ms, total: 517 ms\n",
            "Wall time: 517 ms\n"
          ]
        }
      ]
    },
    {
      "cell_type": "code",
      "source": [
        "%%time\n",
        "arr = np.arange(N)\n",
        "arr = arr * arr\n"
      ],
      "metadata": {
        "colab": {
          "base_uri": "https://localhost:8080/"
        },
        "id": "ItmMNmQUWTuV",
        "outputId": "a8d7c8a0-ea38-427f-c232-f9b37759037c"
      },
      "execution_count": 8,
      "outputs": [
        {
          "output_type": "stream",
          "name": "stdout",
          "text": [
            "CPU times: user 47 ms, sys: 1.21 ms, total: 48.3 ms\n",
            "Wall time: 52.9 ms\n"
          ]
        }
      ]
    },
    {
      "cell_type": "code",
      "source": [
        "%%time\n",
        "arr = np.arange(N)\n",
        "arr_sum = np.sum(arr)"
      ],
      "metadata": {
        "colab": {
          "base_uri": "https://localhost:8080/"
        },
        "id": "jNYH17o_XAZj",
        "outputId": "19c1b3b1-a6e9-46c3-af2f-12e7c061606d"
      },
      "execution_count": 9,
      "outputs": [
        {
          "output_type": "stream",
          "name": "stdout",
          "text": [
            "CPU times: user 31.2 ms, sys: 1.05 ms, total: 32.2 ms\n",
            "Wall time: 33.2 ms\n"
          ]
        }
      ]
    },
    {
      "cell_type": "markdown",
      "source": [
        "## **High Dimensional Array & Creating NumPy Array**"
      ],
      "metadata": {
        "id": "AqAhNJoUXz0x"
      }
    },
    {
      "cell_type": "code",
      "source": [
        "arr = np.arange(5)"
      ],
      "metadata": {
        "id": "DSvqbJ28Xbvt"
      },
      "execution_count": 10,
      "outputs": []
    },
    {
      "cell_type": "code",
      "source": [
        "print(arr, type(arr))"
      ],
      "metadata": {
        "colab": {
          "base_uri": "https://localhost:8080/"
        },
        "id": "F1HazXPgc7Si",
        "outputId": "add0b61f-4687-4ea1-9e3d-063f088548ac"
      },
      "execution_count": 11,
      "outputs": [
        {
          "output_type": "stream",
          "name": "stdout",
          "text": [
            "[0 1 2 3 4] <class 'numpy.ndarray'>\n"
          ]
        }
      ]
    },
    {
      "cell_type": "code",
      "source": [
        "arr = np.array([0.0,2,4,6,8])"
      ],
      "metadata": {
        "id": "I9jm2HxJdFgm"
      },
      "execution_count": 12,
      "outputs": []
    },
    {
      "cell_type": "code",
      "source": [
        "print(arr, type(arr))"
      ],
      "metadata": {
        "colab": {
          "base_uri": "https://localhost:8080/"
        },
        "id": "j3qSujoGdcf5",
        "outputId": "00ae7afe-33b2-4427-e7c6-f5155f8294f7"
      },
      "execution_count": 13,
      "outputs": [
        {
          "output_type": "stream",
          "name": "stdout",
          "text": [
            "[0. 2. 4. 6. 8.] <class 'numpy.ndarray'>\n"
          ]
        }
      ]
    },
    {
      "cell_type": "code",
      "source": [
        "arr"
      ],
      "metadata": {
        "colab": {
          "base_uri": "https://localhost:8080/"
        },
        "id": "LBe-MjUadfP8",
        "outputId": "bf48a777-5a39-4287-92f4-b55fcd3486d3"
      },
      "execution_count": 14,
      "outputs": [
        {
          "output_type": "execute_result",
          "data": {
            "text/plain": [
              "array([0., 2., 4., 6., 8.])"
            ]
          },
          "metadata": {},
          "execution_count": 14
        }
      ]
    },
    {
      "cell_type": "code",
      "source": [
        "arr.dtype"
      ],
      "metadata": {
        "colab": {
          "base_uri": "https://localhost:8080/"
        },
        "id": "bkrfN-8adqEE",
        "outputId": "f0e7dcdb-ecf0-44bf-9ef4-b6094c6677e6"
      },
      "execution_count": 15,
      "outputs": [
        {
          "output_type": "execute_result",
          "data": {
            "text/plain": [
              "dtype('float64')"
            ]
          },
          "metadata": {},
          "execution_count": 15
        }
      ]
    },
    {
      "cell_type": "code",
      "source": [
        "arr.ndim"
      ],
      "metadata": {
        "colab": {
          "base_uri": "https://localhost:8080/"
        },
        "id": "T-JYdJSxdzhi",
        "outputId": "69b45b73-e97f-4d29-8201-8956fc8b97bf"
      },
      "execution_count": 16,
      "outputs": [
        {
          "output_type": "execute_result",
          "data": {
            "text/plain": [
              "1"
            ]
          },
          "metadata": {},
          "execution_count": 16
        }
      ]
    },
    {
      "cell_type": "code",
      "source": [
        "arr.shape"
      ],
      "metadata": {
        "colab": {
          "base_uri": "https://localhost:8080/"
        },
        "id": "feVJLMEhd_ZU",
        "outputId": "abf502a7-e58c-4416-c574-e1bc1c4da765"
      },
      "execution_count": 17,
      "outputs": [
        {
          "output_type": "execute_result",
          "data": {
            "text/plain": [
              "(5,)"
            ]
          },
          "metadata": {},
          "execution_count": 17
        }
      ]
    },
    {
      "cell_type": "code",
      "source": [
        "arr.size"
      ],
      "metadata": {
        "colab": {
          "base_uri": "https://localhost:8080/"
        },
        "id": "YGqS4eKbeFiE",
        "outputId": "54a91272-01f6-4811-95a6-582d5767581d"
      },
      "execution_count": 18,
      "outputs": [
        {
          "output_type": "execute_result",
          "data": {
            "text/plain": [
              "5"
            ]
          },
          "metadata": {},
          "execution_count": 18
        }
      ]
    },
    {
      "cell_type": "code",
      "source": [
        "arr.itemsize"
      ],
      "metadata": {
        "colab": {
          "base_uri": "https://localhost:8080/"
        },
        "id": "sm9HAM1deLgZ",
        "outputId": "a0c2a852-5e63-43fe-ba39-5047d0ea0092"
      },
      "execution_count": 19,
      "outputs": [
        {
          "output_type": "execute_result",
          "data": {
            "text/plain": [
              "8"
            ]
          },
          "metadata": {},
          "execution_count": 19
        }
      ]
    },
    {
      "cell_type": "code",
      "source": [
        "arr2d = np.array([\n",
        "                  [1,2,3],\n",
        "                  [4,5,6]\n",
        "])"
      ],
      "metadata": {
        "id": "eWJhS2GSeR7t"
      },
      "execution_count": 20,
      "outputs": []
    },
    {
      "cell_type": "code",
      "source": [
        "arr2d"
      ],
      "metadata": {
        "colab": {
          "base_uri": "https://localhost:8080/"
        },
        "id": "1QSY-rTafGV_",
        "outputId": "d7564b84-a615-4c26-9017-83f67a653861"
      },
      "execution_count": 21,
      "outputs": [
        {
          "output_type": "execute_result",
          "data": {
            "text/plain": [
              "array([[1, 2, 3],\n",
              "       [4, 5, 6]])"
            ]
          },
          "metadata": {},
          "execution_count": 21
        }
      ]
    },
    {
      "cell_type": "code",
      "source": [
        "arr2d.ndim"
      ],
      "metadata": {
        "colab": {
          "base_uri": "https://localhost:8080/"
        },
        "id": "yOsjorGNfK3U",
        "outputId": "5cf33dc2-5e38-47a5-be85-38a48cad30da"
      },
      "execution_count": 22,
      "outputs": [
        {
          "output_type": "execute_result",
          "data": {
            "text/plain": [
              "2"
            ]
          },
          "metadata": {},
          "execution_count": 22
        }
      ]
    },
    {
      "cell_type": "code",
      "source": [
        "arr2d.shape"
      ],
      "metadata": {
        "colab": {
          "base_uri": "https://localhost:8080/"
        },
        "id": "zaAwcFNXfO_n",
        "outputId": "c233e312-f8b4-4a67-e88e-7920c74b0f6a"
      },
      "execution_count": 23,
      "outputs": [
        {
          "output_type": "execute_result",
          "data": {
            "text/plain": [
              "(2, 3)"
            ]
          },
          "metadata": {},
          "execution_count": 23
        }
      ]
    },
    {
      "cell_type": "code",
      "source": [
        "arr2d.size"
      ],
      "metadata": {
        "colab": {
          "base_uri": "https://localhost:8080/"
        },
        "id": "T8ETH_vdfSci",
        "outputId": "90a6d8b3-76b4-492f-9eeb-e40f3841882c"
      },
      "execution_count": 24,
      "outputs": [
        {
          "output_type": "execute_result",
          "data": {
            "text/plain": [
              "6"
            ]
          },
          "metadata": {},
          "execution_count": 24
        }
      ]
    },
    {
      "cell_type": "code",
      "source": [
        "arr3d = np.array([\n",
        "                  [\n",
        "                   [1,2,3],\n",
        "                   [4,5,6]\n",
        "                  ],\n",
        "                  [\n",
        "                   [7,8,9],\n",
        "                   [10,11,12]\n",
        "                  ]\n",
        "])"
      ],
      "metadata": {
        "id": "u0UK7R--feio"
      },
      "execution_count": 25,
      "outputs": []
    },
    {
      "cell_type": "code",
      "source": [
        "arr3d.shape"
      ],
      "metadata": {
        "colab": {
          "base_uri": "https://localhost:8080/"
        },
        "id": "K3fET_52gJ2K",
        "outputId": "aeef0d85-dbf0-4b3c-8da9-c4313ec5e0c9"
      },
      "execution_count": 26,
      "outputs": [
        {
          "output_type": "execute_result",
          "data": {
            "text/plain": [
              "(2, 2, 3)"
            ]
          },
          "metadata": {},
          "execution_count": 26
        }
      ]
    },
    {
      "cell_type": "code",
      "source": [
        "arr3d.ndim"
      ],
      "metadata": {
        "colab": {
          "base_uri": "https://localhost:8080/"
        },
        "id": "o8_aA0ZLgSiH",
        "outputId": "22b4921f-51b0-4338-8a9d-1cf477a999b4"
      },
      "execution_count": 27,
      "outputs": [
        {
          "output_type": "execute_result",
          "data": {
            "text/plain": [
              "3"
            ]
          },
          "metadata": {},
          "execution_count": 27
        }
      ]
    },
    {
      "cell_type": "code",
      "source": [
        "arr3d.size"
      ],
      "metadata": {
        "colab": {
          "base_uri": "https://localhost:8080/"
        },
        "id": "jI99LucmgYhs",
        "outputId": "b5ed17ba-9fe0-4b88-9f16-f0968b53deff"
      },
      "execution_count": 28,
      "outputs": [
        {
          "output_type": "execute_result",
          "data": {
            "text/plain": [
              "12"
            ]
          },
          "metadata": {},
          "execution_count": 28
        }
      ]
    },
    {
      "cell_type": "code",
      "source": [
        "np.ones((2,3,4))"
      ],
      "metadata": {
        "colab": {
          "base_uri": "https://localhost:8080/"
        },
        "id": "tPib06sMgcrp",
        "outputId": "39040fa3-02e5-47bc-e428-9a951d9bf5c1"
      },
      "execution_count": 29,
      "outputs": [
        {
          "output_type": "execute_result",
          "data": {
            "text/plain": [
              "array([[[1., 1., 1., 1.],\n",
              "        [1., 1., 1., 1.],\n",
              "        [1., 1., 1., 1.]],\n",
              "\n",
              "       [[1., 1., 1., 1.],\n",
              "        [1., 1., 1., 1.],\n",
              "        [1., 1., 1., 1.]]])"
            ]
          },
          "metadata": {},
          "execution_count": 29
        }
      ]
    },
    {
      "cell_type": "code",
      "source": [
        "1729*np.ones((2,3,4))"
      ],
      "metadata": {
        "colab": {
          "base_uri": "https://localhost:8080/"
        },
        "id": "e170x7-Dg30Z",
        "outputId": "293dfd53-231e-4b0e-cc6f-58d5a6047bb9"
      },
      "execution_count": 30,
      "outputs": [
        {
          "output_type": "execute_result",
          "data": {
            "text/plain": [
              "array([[[1729., 1729., 1729., 1729.],\n",
              "        [1729., 1729., 1729., 1729.],\n",
              "        [1729., 1729., 1729., 1729.]],\n",
              "\n",
              "       [[1729., 1729., 1729., 1729.],\n",
              "        [1729., 1729., 1729., 1729.],\n",
              "        [1729., 1729., 1729., 1729.]]])"
            ]
          },
          "metadata": {},
          "execution_count": 30
        }
      ]
    },
    {
      "cell_type": "code",
      "source": [
        "np.zeros((2,3,4))"
      ],
      "metadata": {
        "colab": {
          "base_uri": "https://localhost:8080/"
        },
        "id": "-3raEyBehIRh",
        "outputId": "938b51b4-ce89-4209-98cd-439075517eeb"
      },
      "execution_count": 31,
      "outputs": [
        {
          "output_type": "execute_result",
          "data": {
            "text/plain": [
              "array([[[0., 0., 0., 0.],\n",
              "        [0., 0., 0., 0.],\n",
              "        [0., 0., 0., 0.]],\n",
              "\n",
              "       [[0., 0., 0., 0.],\n",
              "        [0., 0., 0., 0.],\n",
              "        [0., 0., 0., 0.]]])"
            ]
          },
          "metadata": {},
          "execution_count": 31
        }
      ]
    },
    {
      "cell_type": "code",
      "source": [
        "np.random.randn(2,3)"
      ],
      "metadata": {
        "colab": {
          "base_uri": "https://localhost:8080/"
        },
        "id": "wdVb773XhRIY",
        "outputId": "92abf363-c1d4-41d4-edb5-3fb1252438e8"
      },
      "execution_count": 32,
      "outputs": [
        {
          "output_type": "execute_result",
          "data": {
            "text/plain": [
              "array([[ 0.12335659,  0.28081514, -0.47021374],\n",
              "       [-0.10979971,  0.93599146, -0.21383982]])"
            ]
          },
          "metadata": {},
          "execution_count": 32
        }
      ]
    },
    {
      "cell_type": "code",
      "source": [
        "np.random.rand(2,3)"
      ],
      "metadata": {
        "colab": {
          "base_uri": "https://localhost:8080/"
        },
        "id": "EWvJRKFohzZp",
        "outputId": "3a030f7f-e48c-430b-987f-c8207a9327db"
      },
      "execution_count": 33,
      "outputs": [
        {
          "output_type": "execute_result",
          "data": {
            "text/plain": [
              "array([[0.8792471 , 0.263905  , 0.426518  ],\n",
              "       [0.65101014, 0.71780975, 0.93895392]])"
            ]
          },
          "metadata": {},
          "execution_count": 33
        }
      ]
    },
    {
      "cell_type": "code",
      "source": [
        "np.random.rand(10,1)"
      ],
      "metadata": {
        "colab": {
          "base_uri": "https://localhost:8080/"
        },
        "id": "0fM9k2YviONK",
        "outputId": "031b426c-32b7-41ba-efa5-23b4b95fe75c"
      },
      "execution_count": 34,
      "outputs": [
        {
          "output_type": "execute_result",
          "data": {
            "text/plain": [
              "array([[0.92583908],\n",
              "       [0.50721999],\n",
              "       [0.56053915],\n",
              "       [0.90214265],\n",
              "       [0.53305515],\n",
              "       [0.38009755],\n",
              "       [0.62816872],\n",
              "       [0.4680259 ],\n",
              "       [0.42604201],\n",
              "       [0.24331606]])"
            ]
          },
          "metadata": {},
          "execution_count": 34
        }
      ]
    },
    {
      "cell_type": "code",
      "source": [
        "np.random.randint(0, 100,(2,3))"
      ],
      "metadata": {
        "colab": {
          "base_uri": "https://localhost:8080/"
        },
        "id": "aqtdqj-7iaV4",
        "outputId": "d868d075-23d1-4609-8e08-c6aba17aa293"
      },
      "execution_count": 35,
      "outputs": [
        {
          "output_type": "execute_result",
          "data": {
            "text/plain": [
              "array([[68, 68,  5],\n",
              "       [93, 89, 53]])"
            ]
          },
          "metadata": {},
          "execution_count": 35
        }
      ]
    },
    {
      "cell_type": "code",
      "source": [
        "np.arange(7, 71, 7)"
      ],
      "metadata": {
        "colab": {
          "base_uri": "https://localhost:8080/"
        },
        "id": "NjoQWIJSi0xQ",
        "outputId": "c6705ae1-69c4-4fc6-bd86-73fd07a8b827"
      },
      "execution_count": 36,
      "outputs": [
        {
          "output_type": "execute_result",
          "data": {
            "text/plain": [
              "array([ 7, 14, 21, 28, 35, 42, 49, 56, 63, 70])"
            ]
          },
          "metadata": {},
          "execution_count": 36
        }
      ]
    },
    {
      "cell_type": "code",
      "source": [
        "np.linspace(7,70,10)"
      ],
      "metadata": {
        "colab": {
          "base_uri": "https://localhost:8080/"
        },
        "id": "RN9phtMmjTFm",
        "outputId": "0119cd49-7888-46a3-8ea6-d91d0f62ba86"
      },
      "execution_count": 37,
      "outputs": [
        {
          "output_type": "execute_result",
          "data": {
            "text/plain": [
              "array([ 7., 14., 21., 28., 35., 42., 49., 56., 63., 70.])"
            ]
          },
          "metadata": {},
          "execution_count": 37
        }
      ]
    },
    {
      "cell_type": "code",
      "source": [
        "np.array([True, False, True, True])"
      ],
      "metadata": {
        "colab": {
          "base_uri": "https://localhost:8080/"
        },
        "id": "npa0eP07jmzU",
        "outputId": "09bb54b0-ce5b-4737-aa32-6245b0bc7087"
      },
      "execution_count": 38,
      "outputs": [
        {
          "output_type": "execute_result",
          "data": {
            "text/plain": [
              "array([ True, False,  True,  True])"
            ]
          },
          "metadata": {},
          "execution_count": 38
        }
      ]
    },
    {
      "cell_type": "code",
      "source": [
        "str_arr = np.array(['1.4','2.1','1.1'])"
      ],
      "metadata": {
        "id": "ADkAsChWkEm0"
      },
      "execution_count": 39,
      "outputs": []
    },
    {
      "cell_type": "code",
      "source": [
        "arr = np.array(str_arr, dtype = 'float')"
      ],
      "metadata": {
        "id": "UVKOskD9kWGS"
      },
      "execution_count": 40,
      "outputs": []
    },
    {
      "cell_type": "code",
      "source": [
        "arr"
      ],
      "metadata": {
        "colab": {
          "base_uri": "https://localhost:8080/"
        },
        "id": "IjH-vOPIk6pt",
        "outputId": "60cca225-daef-4c7d-e912-c0d2d10067b3"
      },
      "execution_count": 41,
      "outputs": [
        {
          "output_type": "execute_result",
          "data": {
            "text/plain": [
              "array([1.4, 2.1, 1.1])"
            ]
          },
          "metadata": {},
          "execution_count": 41
        }
      ]
    },
    {
      "cell_type": "markdown",
      "source": [
        "## Creating np Arrays"
      ],
      "metadata": {
        "id": "uM7loVaFemzp"
      }
    },
    {
      "cell_type": "code",
      "source": [
        "import numpy as np"
      ],
      "metadata": {
        "id": "1qDX98T9hPsu"
      },
      "execution_count": 42,
      "outputs": []
    },
    {
      "cell_type": "code",
      "source": [
        "arr = np.arange(5)"
      ],
      "metadata": {
        "id": "t0JHXtzplJLO"
      },
      "execution_count": 43,
      "outputs": []
    },
    {
      "cell_type": "code",
      "source": [
        "print(arr, type(arr))"
      ],
      "metadata": {
        "id": "Nl0n2xXpgNNM",
        "outputId": "1c1f0f5e-e420-4949-eac5-afaf04425eab",
        "colab": {
          "base_uri": "https://localhost:8080/"
        }
      },
      "execution_count": 44,
      "outputs": [
        {
          "output_type": "stream",
          "name": "stdout",
          "text": [
            "[0 1 2 3 4] <class 'numpy.ndarray'>\n"
          ]
        }
      ]
    },
    {
      "cell_type": "code",
      "source": [
        "arr.dtype"
      ],
      "metadata": {
        "id": "2oAs3QFTjnSl",
        "outputId": "f6771f97-46e7-4ab2-8508-a36bd439eba6",
        "colab": {
          "base_uri": "https://localhost:8080/"
        }
      },
      "execution_count": 45,
      "outputs": [
        {
          "output_type": "execute_result",
          "data": {
            "text/plain": [
              "dtype('int64')"
            ]
          },
          "metadata": {},
          "execution_count": 45
        }
      ]
    },
    {
      "cell_type": "code",
      "source": [
        "arr.ndim"
      ],
      "metadata": {
        "id": "jJSRZ7VklWoP",
        "outputId": "d1c893b5-c38a-402d-dd63-c3fbd6082d5c",
        "colab": {
          "base_uri": "https://localhost:8080/"
        }
      },
      "execution_count": 46,
      "outputs": [
        {
          "output_type": "execute_result",
          "data": {
            "text/plain": [
              "1"
            ]
          },
          "metadata": {},
          "execution_count": 46
        }
      ]
    },
    {
      "cell_type": "code",
      "source": [
        "arr.shape"
      ],
      "metadata": {
        "id": "EhjEGPdFlGXT",
        "outputId": "36a05a01-cc1b-4bf7-fc0e-a9d24242e1e3",
        "colab": {
          "base_uri": "https://localhost:8080/"
        }
      },
      "execution_count": 47,
      "outputs": [
        {
          "output_type": "execute_result",
          "data": {
            "text/plain": [
              "(5,)"
            ]
          },
          "metadata": {},
          "execution_count": 47
        }
      ]
    },
    {
      "cell_type": "code",
      "source": [
        "arr.size"
      ],
      "metadata": {
        "id": "WwkyHRtglbkk",
        "outputId": "910b3a81-bbe0-4dfc-968d-da7c7f076c9e",
        "colab": {
          "base_uri": "https://localhost:8080/"
        }
      },
      "execution_count": 48,
      "outputs": [
        {
          "output_type": "execute_result",
          "data": {
            "text/plain": [
              "5"
            ]
          },
          "metadata": {},
          "execution_count": 48
        }
      ]
    },
    {
      "cell_type": "code",
      "source": [
        "arr.itemsize"
      ],
      "metadata": {
        "id": "YXHIdb5Plike",
        "outputId": "a5a5deb9-e549-40d3-eb1d-6bc9b2e19163",
        "colab": {
          "base_uri": "https://localhost:8080/"
        }
      },
      "execution_count": 49,
      "outputs": [
        {
          "output_type": "execute_result",
          "data": {
            "text/plain": [
              "8"
            ]
          },
          "metadata": {},
          "execution_count": 49
        }
      ]
    },
    {
      "cell_type": "code",
      "source": [
        "arr2d = np.array([\n",
        "    [1,2,3],\n",
        "    [4,5,6]\n",
        "])"
      ],
      "metadata": {
        "id": "BDpILUFUlpeq"
      },
      "execution_count": 50,
      "outputs": []
    },
    {
      "cell_type": "code",
      "source": [
        "arr2d"
      ],
      "metadata": {
        "id": "JPoTbwlqmjh4",
        "outputId": "98230259-be99-4609-e97a-40c7b65f2599",
        "colab": {
          "base_uri": "https://localhost:8080/"
        }
      },
      "execution_count": 51,
      "outputs": [
        {
          "output_type": "execute_result",
          "data": {
            "text/plain": [
              "array([[1, 2, 3],\n",
              "       [4, 5, 6]])"
            ]
          },
          "metadata": {},
          "execution_count": 51
        }
      ]
    },
    {
      "cell_type": "code",
      "source": [
        "arr2d.ndim"
      ],
      "metadata": {
        "id": "wHRygPeUmnCN",
        "outputId": "90bec140-0c5f-490c-910a-0fac891b1de5",
        "colab": {
          "base_uri": "https://localhost:8080/"
        }
      },
      "execution_count": 52,
      "outputs": [
        {
          "output_type": "execute_result",
          "data": {
            "text/plain": [
              "2"
            ]
          },
          "metadata": {},
          "execution_count": 52
        }
      ]
    },
    {
      "cell_type": "code",
      "source": [
        "arr2d.shape"
      ],
      "metadata": {
        "id": "gtu8ggmimtPq",
        "outputId": "1ab93903-1063-4432-dcbd-343a84c359e0",
        "colab": {
          "base_uri": "https://localhost:8080/"
        }
      },
      "execution_count": 53,
      "outputs": [
        {
          "output_type": "execute_result",
          "data": {
            "text/plain": [
              "(2, 3)"
            ]
          },
          "metadata": {},
          "execution_count": 53
        }
      ]
    },
    {
      "cell_type": "code",
      "source": [
        "arr3d = np.array([\n",
        "                  [\n",
        "                   [1,2,3],\n",
        "                   [4,5,6]\n",
        "                  ],\n",
        "                  [\n",
        "                   [7,8,9],\n",
        "                   [10,11,12]\n",
        "                  ]\n",
        "])"
      ],
      "metadata": {
        "id": "ewlh6wfSmw2b"
      },
      "execution_count": 54,
      "outputs": []
    },
    {
      "cell_type": "code",
      "source": [
        "arr3d"
      ],
      "metadata": {
        "id": "J3kebjXGnuDq",
        "outputId": "0ddd1a6f-e86c-4846-e611-529ebd29d063",
        "colab": {
          "base_uri": "https://localhost:8080/"
        }
      },
      "execution_count": 55,
      "outputs": [
        {
          "output_type": "execute_result",
          "data": {
            "text/plain": [
              "array([[[ 1,  2,  3],\n",
              "        [ 4,  5,  6]],\n",
              "\n",
              "       [[ 7,  8,  9],\n",
              "        [10, 11, 12]]])"
            ]
          },
          "metadata": {},
          "execution_count": 55
        }
      ]
    },
    {
      "cell_type": "code",
      "source": [
        "arr3d.shape"
      ],
      "metadata": {
        "id": "PQ2fEO03nvZP",
        "outputId": "97c6105c-811f-4784-99e9-cf85736c132c",
        "colab": {
          "base_uri": "https://localhost:8080/"
        }
      },
      "execution_count": 56,
      "outputs": [
        {
          "output_type": "execute_result",
          "data": {
            "text/plain": [
              "(2, 2, 3)"
            ]
          },
          "metadata": {},
          "execution_count": 56
        }
      ]
    },
    {
      "cell_type": "code",
      "source": [
        "arr3d.size"
      ],
      "metadata": {
        "id": "68TRm0gbn6Nk",
        "outputId": "990c5b96-d031-4f9e-a391-c5d2232c03aa",
        "colab": {
          "base_uri": "https://localhost:8080/"
        }
      },
      "execution_count": 57,
      "outputs": [
        {
          "output_type": "execute_result",
          "data": {
            "text/plain": [
              "12"
            ]
          },
          "metadata": {},
          "execution_count": 57
        }
      ]
    },
    {
      "cell_type": "code",
      "source": [
        "np.ones((2,3,4))"
      ],
      "metadata": {
        "id": "G1UMhs4Dn9nP",
        "outputId": "fefaa8f2-4226-4749-ed5a-bf2f681b211a",
        "colab": {
          "base_uri": "https://localhost:8080/"
        }
      },
      "execution_count": 58,
      "outputs": [
        {
          "output_type": "execute_result",
          "data": {
            "text/plain": [
              "array([[[1., 1., 1., 1.],\n",
              "        [1., 1., 1., 1.],\n",
              "        [1., 1., 1., 1.]],\n",
              "\n",
              "       [[1., 1., 1., 1.],\n",
              "        [1., 1., 1., 1.],\n",
              "        [1., 1., 1., 1.]]])"
            ]
          },
          "metadata": {},
          "execution_count": 58
        }
      ]
    },
    {
      "cell_type": "code",
      "source": [
        "1729*np.ones((2,3,4))"
      ],
      "metadata": {
        "id": "B2jjRRWMoKko",
        "outputId": "8b286031-abf5-4bd6-d9d1-4b7961a0b5ee",
        "colab": {
          "base_uri": "https://localhost:8080/"
        }
      },
      "execution_count": 59,
      "outputs": [
        {
          "output_type": "execute_result",
          "data": {
            "text/plain": [
              "array([[[1729., 1729., 1729., 1729.],\n",
              "        [1729., 1729., 1729., 1729.],\n",
              "        [1729., 1729., 1729., 1729.]],\n",
              "\n",
              "       [[1729., 1729., 1729., 1729.],\n",
              "        [1729., 1729., 1729., 1729.],\n",
              "        [1729., 1729., 1729., 1729.]]])"
            ]
          },
          "metadata": {},
          "execution_count": 59
        }
      ]
    },
    {
      "cell_type": "code",
      "source": [
        "np.zeros((2,3,4))"
      ],
      "metadata": {
        "id": "A9ye1YAYouDB",
        "outputId": "72030dd6-7b2c-4f2f-a828-ef4d8e65b264",
        "colab": {
          "base_uri": "https://localhost:8080/"
        }
      },
      "execution_count": 60,
      "outputs": [
        {
          "output_type": "execute_result",
          "data": {
            "text/plain": [
              "array([[[0., 0., 0., 0.],\n",
              "        [0., 0., 0., 0.],\n",
              "        [0., 0., 0., 0.]],\n",
              "\n",
              "       [[0., 0., 0., 0.],\n",
              "        [0., 0., 0., 0.],\n",
              "        [0., 0., 0., 0.]]])"
            ]
          },
          "metadata": {},
          "execution_count": 60
        }
      ]
    },
    {
      "cell_type": "code",
      "source": [
        "np.random.randn(2,3)"
      ],
      "metadata": {
        "id": "bAaRCBPQo_UJ",
        "outputId": "3b97ea3c-1612-46f3-b8ab-44e5c4765fab",
        "colab": {
          "base_uri": "https://localhost:8080/"
        }
      },
      "execution_count": 61,
      "outputs": [
        {
          "output_type": "execute_result",
          "data": {
            "text/plain": [
              "array([[-1.87071882,  0.39207096, -0.0153899 ],\n",
              "       [ 0.34929235,  2.17690438, -0.48915203]])"
            ]
          },
          "metadata": {},
          "execution_count": 61
        }
      ]
    },
    {
      "cell_type": "code",
      "source": [
        "np.random.rand(2,3)"
      ],
      "metadata": {
        "id": "r7cPSFrYpg61",
        "outputId": "0084def4-fac0-4f49-ee09-6cf7c9259905",
        "colab": {
          "base_uri": "https://localhost:8080/"
        }
      },
      "execution_count": 62,
      "outputs": [
        {
          "output_type": "execute_result",
          "data": {
            "text/plain": [
              "array([[0.70011858, 0.10350166, 0.40812385],\n",
              "       [0.36908371, 0.68166539, 0.12124356]])"
            ]
          },
          "metadata": {},
          "execution_count": 62
        }
      ]
    },
    {
      "cell_type": "code",
      "source": [
        "np.random.rand(10,1)"
      ],
      "metadata": {
        "id": "hKJNspkIp7Yy",
        "outputId": "e8b95b1d-f4b8-4d7b-b6ef-ec1319aa97ff",
        "colab": {
          "base_uri": "https://localhost:8080/"
        }
      },
      "execution_count": 63,
      "outputs": [
        {
          "output_type": "execute_result",
          "data": {
            "text/plain": [
              "array([[0.14255806],\n",
              "       [0.99158405],\n",
              "       [0.97821606],\n",
              "       [0.05665871],\n",
              "       [0.82688525],\n",
              "       [0.07510126],\n",
              "       [0.87198274],\n",
              "       [0.46459521],\n",
              "       [0.92227277],\n",
              "       [0.23443406]])"
            ]
          },
          "metadata": {},
          "execution_count": 63
        }
      ]
    },
    {
      "cell_type": "code",
      "source": [
        "np.random.randint(0,100,(2,3))"
      ],
      "metadata": {
        "id": "qKW8Gj_CrX9a",
        "outputId": "61ebd9b0-9447-485b-b6b6-dceb04b3ce9d",
        "colab": {
          "base_uri": "https://localhost:8080/"
        }
      },
      "execution_count": 64,
      "outputs": [
        {
          "output_type": "execute_result",
          "data": {
            "text/plain": [
              "array([[93, 27, 15],\n",
              "       [ 2, 99, 13]])"
            ]
          },
          "metadata": {},
          "execution_count": 64
        }
      ]
    },
    {
      "cell_type": "code",
      "source": [
        "np.arange(7,71,7)"
      ],
      "metadata": {
        "id": "z8Mz_LpasAzu",
        "outputId": "49fc7940-2307-458e-f0ca-ecf59b4efb60",
        "colab": {
          "base_uri": "https://localhost:8080/"
        }
      },
      "execution_count": 65,
      "outputs": [
        {
          "output_type": "execute_result",
          "data": {
            "text/plain": [
              "array([ 7, 14, 21, 28, 35, 42, 49, 56, 63, 70])"
            ]
          },
          "metadata": {},
          "execution_count": 65
        }
      ]
    },
    {
      "cell_type": "code",
      "source": [
        "np.linspace(7, 70,10)"
      ],
      "metadata": {
        "id": "oKz6G5rbsiMz",
        "outputId": "e3f91310-1fa8-49b5-f8f3-acd1b76f7f4f",
        "colab": {
          "base_uri": "https://localhost:8080/"
        }
      },
      "execution_count": 66,
      "outputs": [
        {
          "output_type": "execute_result",
          "data": {
            "text/plain": [
              "array([ 7., 14., 21., 28., 35., 42., 49., 56., 63., 70.])"
            ]
          },
          "metadata": {},
          "execution_count": 66
        }
      ]
    },
    {
      "cell_type": "code",
      "source": [
        "np.array([True, False, True, True])"
      ],
      "metadata": {
        "id": "eo_nrStts2o2",
        "outputId": "19e75ffc-14c7-4554-cda4-12ff8b380eee",
        "colab": {
          "base_uri": "https://localhost:8080/"
        }
      },
      "execution_count": 67,
      "outputs": [
        {
          "output_type": "execute_result",
          "data": {
            "text/plain": [
              "array([ True, False,  True,  True])"
            ]
          },
          "metadata": {},
          "execution_count": 67
        }
      ]
    },
    {
      "cell_type": "code",
      "source": [
        "str_arr = np.array(['1.4','2.1','3.1'])"
      ],
      "metadata": {
        "id": "XtuuWvbDtL4T"
      },
      "execution_count": 68,
      "outputs": []
    },
    {
      "cell_type": "code",
      "source": [
        "arr = np.array(str_arr, dtype = 'float')"
      ],
      "metadata": {
        "id": "Okm_D3UOtXnq"
      },
      "execution_count": 69,
      "outputs": []
    },
    {
      "cell_type": "code",
      "source": [
        "arr"
      ],
      "metadata": {
        "id": "WivV7LZruorE",
        "outputId": "d28d36f9-e0c4-4a77-805a-f4fba54daba9",
        "colab": {
          "base_uri": "https://localhost:8080/"
        }
      },
      "execution_count": 70,
      "outputs": [
        {
          "output_type": "execute_result",
          "data": {
            "text/plain": [
              "array([1.4, 2.1, 3.1])"
            ]
          },
          "metadata": {},
          "execution_count": 70
        }
      ]
    },
    {
      "cell_type": "markdown",
      "source": [
        "## Indexing"
      ],
      "metadata": {
        "id": "nMiSIUnUvMKd"
      }
    },
    {
      "cell_type": "code",
      "source": [
        "print(arr3d)"
      ],
      "metadata": {
        "id": "Dyirx7lhuurx",
        "outputId": "f29ebacb-c7e7-4606-b5d3-44439054ea36",
        "colab": {
          "base_uri": "https://localhost:8080/"
        }
      },
      "execution_count": 71,
      "outputs": [
        {
          "output_type": "stream",
          "name": "stdout",
          "text": [
            "[[[ 1  2  3]\n",
            "  [ 4  5  6]]\n",
            "\n",
            " [[ 7  8  9]\n",
            "  [10 11 12]]]\n"
          ]
        }
      ]
    },
    {
      "cell_type": "code",
      "source": [
        "arr3d[0,0,0]"
      ],
      "metadata": {
        "id": "HZ973NTQvjPE",
        "outputId": "ef729c5f-0fd2-494a-ef92-27b2c4601d57",
        "colab": {
          "base_uri": "https://localhost:8080/"
        }
      },
      "execution_count": 72,
      "outputs": [
        {
          "output_type": "execute_result",
          "data": {
            "text/plain": [
              "1"
            ]
          },
          "metadata": {},
          "execution_count": 72
        }
      ]
    },
    {
      "cell_type": "code",
      "source": [
        "arr3d[1,0,2]"
      ],
      "metadata": {
        "id": "ngeo73xwvqnA",
        "outputId": "533a3429-a51e-43c6-a93c-511d41b8afa1",
        "colab": {
          "base_uri": "https://localhost:8080/"
        }
      },
      "execution_count": 73,
      "outputs": [
        {
          "output_type": "execute_result",
          "data": {
            "text/plain": [
              "9"
            ]
          },
          "metadata": {},
          "execution_count": 73
        }
      ]
    },
    {
      "cell_type": "code",
      "source": [
        "i = 1\n",
        "j = 0\n",
        "k = 2\n",
        "arr3d[i,j,k]"
      ],
      "metadata": {
        "id": "hOyFtO3cv70G",
        "outputId": "000d85c5-9c61-426a-b9a2-acc338d6856c",
        "colab": {
          "base_uri": "https://localhost:8080/"
        }
      },
      "execution_count": 74,
      "outputs": [
        {
          "output_type": "execute_result",
          "data": {
            "text/plain": [
              "9"
            ]
          },
          "metadata": {},
          "execution_count": 74
        }
      ]
    },
    {
      "cell_type": "code",
      "source": [
        "arr3d[1,:,:]"
      ],
      "metadata": {
        "id": "nbs72hWfwSIJ",
        "outputId": "36d83b1f-d268-4c6c-b6eb-a088af44fdc8",
        "colab": {
          "base_uri": "https://localhost:8080/"
        }
      },
      "execution_count": 75,
      "outputs": [
        {
          "output_type": "execute_result",
          "data": {
            "text/plain": [
              "array([[ 7,  8,  9],\n",
              "       [10, 11, 12]])"
            ]
          },
          "metadata": {},
          "execution_count": 75
        }
      ]
    },
    {
      "cell_type": "code",
      "source": [
        "arr3d[:,1,:]"
      ],
      "metadata": {
        "id": "ml-eWzVfwdOe",
        "outputId": "15ee0289-43b0-4e49-aa30-d838210fc0ee",
        "colab": {
          "base_uri": "https://localhost:8080/"
        }
      },
      "execution_count": 76,
      "outputs": [
        {
          "output_type": "execute_result",
          "data": {
            "text/plain": [
              "array([[ 4,  5,  6],\n",
              "       [10, 11, 12]])"
            ]
          },
          "metadata": {},
          "execution_count": 76
        }
      ]
    },
    {
      "cell_type": "code",
      "source": [
        "arr3d % 2 ==0"
      ],
      "metadata": {
        "id": "bgFxcYa3wsG_",
        "outputId": "71b18ab7-e5a7-46e2-c734-005b791a01f6",
        "colab": {
          "base_uri": "https://localhost:8080/"
        }
      },
      "execution_count": 77,
      "outputs": [
        {
          "output_type": "execute_result",
          "data": {
            "text/plain": [
              "array([[[False,  True, False],\n",
              "        [ True, False,  True]],\n",
              "\n",
              "       [[False,  True, False],\n",
              "        [ True, False,  True]]])"
            ]
          },
          "metadata": {},
          "execution_count": 77
        }
      ]
    },
    {
      "cell_type": "code",
      "source": [
        "arr3d[arr3d % 2 ==1]"
      ],
      "metadata": {
        "id": "4YqPd3HgMHBH",
        "outputId": "4f9f7717-5098-44d4-b1bc-0a0b3849682f",
        "colab": {
          "base_uri": "https://localhost:8080/"
        }
      },
      "execution_count": 78,
      "outputs": [
        {
          "output_type": "execute_result",
          "data": {
            "text/plain": [
              "array([ 1,  3,  5,  7,  9, 11])"
            ]
          },
          "metadata": {},
          "execution_count": 78
        }
      ]
    },
    {
      "cell_type": "code",
      "source": [
        "arr3d[(arr3d % 2 ==1) & (arr3d > 3)]"
      ],
      "metadata": {
        "id": "wZgoeAUGMsXj",
        "outputId": "1423d882-bde7-4e7a-8b3e-47e6635d96bb",
        "colab": {
          "base_uri": "https://localhost:8080/"
        }
      },
      "execution_count": 79,
      "outputs": [
        {
          "output_type": "execute_result",
          "data": {
            "text/plain": [
              "array([ 5,  7,  9, 11])"
            ]
          },
          "metadata": {},
          "execution_count": 79
        }
      ]
    },
    {
      "cell_type": "code",
      "source": [
        "arr_slice = arr3d[:,:,0:2]"
      ],
      "metadata": {
        "id": "YF4Xlc0TNRl5"
      },
      "execution_count": 80,
      "outputs": []
    },
    {
      "cell_type": "code",
      "source": [
        "print(type(arr_slice))"
      ],
      "metadata": {
        "id": "xGVrKMrANoPQ",
        "outputId": "2eb1fdea-7d2c-4cfa-dba5-7d73f73a5c5a",
        "colab": {
          "base_uri": "https://localhost:8080/"
        }
      },
      "execution_count": 81,
      "outputs": [
        {
          "output_type": "stream",
          "name": "stdout",
          "text": [
            "<class 'numpy.ndarray'>\n"
          ]
        }
      ]
    },
    {
      "cell_type": "code",
      "source": [
        "arr_slice.ndim"
      ],
      "metadata": {
        "id": "YZvw-BbSNuzW",
        "outputId": "0dc8ecd5-5547-4872-81db-43b9ea8abc3b",
        "colab": {
          "base_uri": "https://localhost:8080/"
        }
      },
      "execution_count": 82,
      "outputs": [
        {
          "output_type": "execute_result",
          "data": {
            "text/plain": [
              "3"
            ]
          },
          "metadata": {},
          "execution_count": 82
        }
      ]
    },
    {
      "cell_type": "code",
      "source": [
        "arr_slice.shape"
      ],
      "metadata": {
        "id": "y0_W4RLiN1lB",
        "outputId": "956c210b-ac93-4865-f59d-000f6c769b98",
        "colab": {
          "base_uri": "https://localhost:8080/"
        }
      },
      "execution_count": 83,
      "outputs": [
        {
          "output_type": "execute_result",
          "data": {
            "text/plain": [
              "(2, 2, 2)"
            ]
          },
          "metadata": {},
          "execution_count": 83
        }
      ]
    },
    {
      "cell_type": "code",
      "source": [
        "arr_slice[0,0,1]"
      ],
      "metadata": {
        "id": "qSfSRE-rN7mR",
        "outputId": "e59285c8-964a-4f0c-aed7-b80aefc0b3a6",
        "colab": {
          "base_uri": "https://localhost:8080/"
        }
      },
      "execution_count": 84,
      "outputs": [
        {
          "output_type": "execute_result",
          "data": {
            "text/plain": [
              "2"
            ]
          },
          "metadata": {},
          "execution_count": 84
        }
      ]
    },
    {
      "cell_type": "code",
      "source": [
        "arr_slice[0,0,0] =1729"
      ],
      "metadata": {
        "id": "aYNgWKqsODBC"
      },
      "execution_count": 85,
      "outputs": []
    },
    {
      "cell_type": "code",
      "source": [
        "arr_slice"
      ],
      "metadata": {
        "id": "JbZ4FGUiONjn",
        "outputId": "443fbd3e-b2fa-4f5f-d8b2-40cdc886227e",
        "colab": {
          "base_uri": "https://localhost:8080/"
        }
      },
      "execution_count": 86,
      "outputs": [
        {
          "output_type": "execute_result",
          "data": {
            "text/plain": [
              "array([[[1729,    2],\n",
              "        [   4,    5]],\n",
              "\n",
              "       [[   7,    8],\n",
              "        [  10,   11]]])"
            ]
          },
          "metadata": {},
          "execution_count": 86
        }
      ]
    },
    {
      "cell_type": "code",
      "source": [
        "arr3d"
      ],
      "metadata": {
        "id": "ni8_wZ5UORtW",
        "outputId": "d942a53d-6da5-45da-9fc5-3be5b96a9367",
        "colab": {
          "base_uri": "https://localhost:8080/"
        }
      },
      "execution_count": 87,
      "outputs": [
        {
          "output_type": "execute_result",
          "data": {
            "text/plain": [
              "array([[[1729,    2,    3],\n",
              "        [   4,    5,    6]],\n",
              "\n",
              "       [[   7,    8,    9],\n",
              "        [  10,   11,   12]]])"
            ]
          },
          "metadata": {},
          "execution_count": 87
        }
      ]
    },
    {
      "cell_type": "code",
      "source": [
        "arr_slice = np.copy(arr3d[:,:,0:2])"
      ],
      "metadata": {
        "id": "pCCWDTW5Oc-X"
      },
      "execution_count": 88,
      "outputs": []
    },
    {
      "cell_type": "code",
      "source": [
        "arr_slice[0,0,0] =1"
      ],
      "metadata": {
        "id": "2p7EnKoSO5dx"
      },
      "execution_count": 89,
      "outputs": []
    },
    {
      "cell_type": "code",
      "source": [
        "arr_slice"
      ],
      "metadata": {
        "id": "P0Wge32dPAl4",
        "outputId": "d238315a-9189-40bc-ffee-783c7017f9f8",
        "colab": {
          "base_uri": "https://localhost:8080/"
        }
      },
      "execution_count": 90,
      "outputs": [
        {
          "output_type": "execute_result",
          "data": {
            "text/plain": [
              "array([[[ 1,  2],\n",
              "        [ 4,  5]],\n",
              "\n",
              "       [[ 7,  8],\n",
              "        [10, 11]]])"
            ]
          },
          "metadata": {},
          "execution_count": 90
        }
      ]
    },
    {
      "cell_type": "code",
      "source": [
        "arr3d"
      ],
      "metadata": {
        "id": "ZiqRDGJXPD81",
        "outputId": "0fc88a59-b4bb-4509-94fd-f14c7d4d6e5c",
        "colab": {
          "base_uri": "https://localhost:8080/"
        }
      },
      "execution_count": 91,
      "outputs": [
        {
          "output_type": "execute_result",
          "data": {
            "text/plain": [
              "array([[[1729,    2,    3],\n",
              "        [   4,    5,    6]],\n",
              "\n",
              "       [[   7,    8,    9],\n",
              "        [  10,   11,   12]]])"
            ]
          },
          "metadata": {},
          "execution_count": 91
        }
      ]
    },
    {
      "cell_type": "code",
      "source": [
        "arr = np.random.randint(0,10, (5))"
      ],
      "metadata": {
        "id": "bekSySmEPJwc"
      },
      "execution_count": 92,
      "outputs": []
    },
    {
      "cell_type": "code",
      "source": [
        "arr"
      ],
      "metadata": {
        "id": "73FM0ngRPd64",
        "outputId": "8b5f5b70-e972-433e-9ce4-599248c7090d",
        "colab": {
          "base_uri": "https://localhost:8080/"
        }
      },
      "execution_count": 93,
      "outputs": [
        {
          "output_type": "execute_result",
          "data": {
            "text/plain": [
              "array([7, 5, 3, 3, 9])"
            ]
          },
          "metadata": {},
          "execution_count": 93
        }
      ]
    },
    {
      "cell_type": "code",
      "source": [
        "my_indices = [1,3,4]"
      ],
      "metadata": {
        "id": "1GdeMFegPhUX"
      },
      "execution_count": 94,
      "outputs": []
    },
    {
      "cell_type": "code",
      "source": [
        "arr[my_indices]"
      ],
      "metadata": {
        "id": "YCbi25aFPw9z",
        "outputId": "c0672bdc-2d28-4c88-fc02-c87b08014c77",
        "colab": {
          "base_uri": "https://localhost:8080/"
        }
      },
      "execution_count": 95,
      "outputs": [
        {
          "output_type": "execute_result",
          "data": {
            "text/plain": [
              "array([5, 3, 9])"
            ]
          },
          "metadata": {},
          "execution_count": 95
        }
      ]
    },
    {
      "cell_type": "markdown",
      "source": [
        "## Numpy Operations"
      ],
      "metadata": {
        "id": "K7LFms-hQG1E"
      }
    },
    {
      "cell_type": "code",
      "source": [
        "arr1 = np.random.rand(3,4)\n",
        "arr2 = np.random.rand(3,4)"
      ],
      "metadata": {
        "id": "Bw-YnT9mP3AH"
      },
      "execution_count": 96,
      "outputs": []
    },
    {
      "cell_type": "code",
      "source": [
        "arr1"
      ],
      "metadata": {
        "id": "fCKmApzZxHjP",
        "outputId": "2cfb70af-0ed7-42b9-c78a-616b3faec279",
        "colab": {
          "base_uri": "https://localhost:8080/"
        }
      },
      "execution_count": 97,
      "outputs": [
        {
          "output_type": "execute_result",
          "data": {
            "text/plain": [
              "array([[0.83535881, 0.08464225, 0.34906169, 0.73612548],\n",
              "       [0.9071185 , 0.57957974, 0.08159811, 0.743952  ],\n",
              "       [0.23714779, 0.12834388, 0.79613043, 0.32433883]])"
            ]
          },
          "metadata": {},
          "execution_count": 97
        }
      ]
    },
    {
      "cell_type": "code",
      "source": [
        "arr2"
      ],
      "metadata": {
        "id": "JiNqLrQUxU3b",
        "outputId": "29227c72-3983-40c9-c7d5-f62e913cf87a",
        "colab": {
          "base_uri": "https://localhost:8080/"
        }
      },
      "execution_count": 98,
      "outputs": [
        {
          "output_type": "execute_result",
          "data": {
            "text/plain": [
              "array([[0.93182915, 0.30987232, 0.28340046, 0.59678953],\n",
              "       [0.01291882, 0.16561504, 0.18325294, 0.17671213],\n",
              "       [0.39817521, 0.71281582, 0.43828649, 0.24824885]])"
            ]
          },
          "metadata": {},
          "execution_count": 98
        }
      ]
    },
    {
      "cell_type": "code",
      "source": [
        "arr1+arr2"
      ],
      "metadata": {
        "id": "qUlOzz5_xWRf",
        "outputId": "4c2c524d-bb8f-4b0b-d9cc-36b167650adf",
        "colab": {
          "base_uri": "https://localhost:8080/"
        }
      },
      "execution_count": 99,
      "outputs": [
        {
          "output_type": "execute_result",
          "data": {
            "text/plain": [
              "array([[1.76718796, 0.39451457, 0.63246215, 1.33291501],\n",
              "       [0.92003731, 0.74519477, 0.26485105, 0.92066413],\n",
              "       [0.635323  , 0.84115971, 1.23441692, 0.57258767]])"
            ]
          },
          "metadata": {},
          "execution_count": 99
        }
      ]
    },
    {
      "cell_type": "code",
      "source": [
        "arr1-arr2"
      ],
      "metadata": {
        "id": "KFjt-iQfxcyM",
        "outputId": "18bbf1f9-2c41-494b-b431-efc357b953a0",
        "colab": {
          "base_uri": "https://localhost:8080/"
        }
      },
      "execution_count": 100,
      "outputs": [
        {
          "output_type": "execute_result",
          "data": {
            "text/plain": [
              "array([[-0.09647034, -0.22523007,  0.06566123,  0.13933594],\n",
              "       [ 0.89419968,  0.4139647 , -0.10165483,  0.56723987],\n",
              "       [-0.16102742, -0.58447194,  0.35784394,  0.07608998]])"
            ]
          },
          "metadata": {},
          "execution_count": 100
        }
      ]
    },
    {
      "cell_type": "code",
      "source": [
        "arr1 * arr2"
      ],
      "metadata": {
        "id": "PnNVABNwxky7",
        "outputId": "d5a339de-789b-4d76-ea19-8d36b98c8f50",
        "colab": {
          "base_uri": "https://localhost:8080/"
        }
      },
      "execution_count": 101,
      "outputs": [
        {
          "output_type": "execute_result",
          "data": {
            "text/plain": [
              "array([[0.77841169, 0.02622829, 0.09892424, 0.43931198],\n",
              "       [0.0117189 , 0.09598712, 0.01495309, 0.13146534],\n",
              "       [0.09442637, 0.09148555, 0.34893321, 0.08051674]])"
            ]
          },
          "metadata": {},
          "execution_count": 101
        }
      ]
    },
    {
      "cell_type": "code",
      "source": [
        "arr1/ arr2"
      ],
      "metadata": {
        "id": "Qt-As5JOxqIX",
        "outputId": "ac087978-d6b4-4db2-d41c-cd77664e8b13",
        "colab": {
          "base_uri": "https://localhost:8080/"
        }
      },
      "execution_count": 102,
      "outputs": [
        {
          "output_type": "execute_result",
          "data": {
            "text/plain": [
              "array([[ 0.89647207,  0.27315202,  1.23169063,  1.23347585],\n",
              "       [70.21683542,  3.49955985,  0.44527586,  4.20996564],\n",
              "       [ 0.59558652,  0.18005196,  1.81646125,  1.30650689]])"
            ]
          },
          "metadata": {},
          "execution_count": 102
        }
      ]
    },
    {
      "cell_type": "code",
      "source": [
        "np.exp(arr1)"
      ],
      "metadata": {
        "id": "8xzwxlk5xuDf",
        "outputId": "b82388dd-ac13-4492-fd45-1b51ba287b22",
        "colab": {
          "base_uri": "https://localhost:8080/"
        }
      },
      "execution_count": 103,
      "outputs": [
        {
          "output_type": "execute_result",
          "data": {
            "text/plain": [
              "array([[2.30564118, 1.08832765, 1.41773665, 2.08783047],\n",
              "       [2.47717425, 1.78528798, 1.08501966, 2.10423505],\n",
              "       [1.26762845, 1.13694391, 2.21694568, 1.38311586]])"
            ]
          },
          "metadata": {},
          "execution_count": 103
        }
      ]
    },
    {
      "cell_type": "code",
      "source": [
        "np.log(np.exp(arr1))"
      ],
      "metadata": {
        "id": "RiuTphO3x28R",
        "outputId": "1b20c7ff-f8e0-45c2-b3c3-239cf304a604",
        "colab": {
          "base_uri": "https://localhost:8080/"
        }
      },
      "execution_count": 104,
      "outputs": [
        {
          "output_type": "execute_result",
          "data": {
            "text/plain": [
              "array([[0.83535881, 0.08464225, 0.34906169, 0.73612548],\n",
              "       [0.9071185 , 0.57957974, 0.08159811, 0.743952  ],\n",
              "       [0.23714779, 0.12834388, 0.79613043, 0.32433883]])"
            ]
          },
          "metadata": {},
          "execution_count": 104
        }
      ]
    },
    {
      "cell_type": "code",
      "source": [
        "np.sin(arr1)"
      ],
      "metadata": {
        "id": "IZsoxuzTx-34",
        "outputId": "a1319999-2bc8-4615-ea8d-befdbb0aa3cf",
        "colab": {
          "base_uri": "https://localhost:8080/"
        }
      },
      "execution_count": 105,
      "outputs": [
        {
          "output_type": "execute_result",
          "data": {
            "text/plain": [
              "array([[0.74153729, 0.08454122, 0.34201624, 0.67142164],\n",
              "       [0.78773195, 0.54767235, 0.08150759, 0.67720107],\n",
              "       [0.2349312 , 0.12799182, 0.71465477, 0.31868215]])"
            ]
          },
          "metadata": {},
          "execution_count": 105
        }
      ]
    },
    {
      "cell_type": "code",
      "source": [
        "np.cos(arr1)"
      ],
      "metadata": {
        "id": "77v8Tig_yQzt",
        "outputId": "b9c352ee-d67c-4207-e657-93925c3011e4",
        "colab": {
          "base_uri": "https://localhost:8080/"
        }
      },
      "execution_count": 106,
      "outputs": [
        {
          "output_type": "execute_result",
          "data": {
            "text/plain": [
              "array([[0.67091166, 0.99641998, 0.93969404, 0.74107555],\n",
              "       [0.61601816, 0.83669289, 0.99667272, 0.73579801],\n",
              "       [0.972012  , 0.99177522, 0.69947735, 0.94786164]])"
            ]
          },
          "metadata": {},
          "execution_count": 106
        }
      ]
    },
    {
      "cell_type": "code",
      "source": [
        "np.sqrt(arr1)"
      ],
      "metadata": {
        "id": "dCXoZiO9yUVu",
        "outputId": "dae51b43-24c2-46ea-e566-e4635cf6263f",
        "colab": {
          "base_uri": "https://localhost:8080/"
        }
      },
      "execution_count": 107,
      "outputs": [
        {
          "output_type": "execute_result",
          "data": {
            "text/plain": [
              "array([[0.91397965, 0.29093341, 0.59081443, 0.85797755],\n",
              "       [0.95242769, 0.76130134, 0.28565383, 0.86252652],\n",
              "       [0.48697822, 0.35825115, 0.89226141, 0.56950753]])"
            ]
          },
          "metadata": {},
          "execution_count": 107
        }
      ]
    },
    {
      "cell_type": "code",
      "source": [
        "arr_inv = 1 / arr1"
      ],
      "metadata": {
        "id": "SV_USN6HyeYp"
      },
      "execution_count": 108,
      "outputs": []
    },
    {
      "cell_type": "code",
      "source": [
        "arr_inv"
      ],
      "metadata": {
        "id": "XyPIKYWnyyCQ",
        "outputId": "5db1786f-0bc6-4f4b-ae1b-3578610d2fb4",
        "colab": {
          "base_uri": "https://localhost:8080/"
        }
      },
      "execution_count": 109,
      "outputs": [
        {
          "output_type": "execute_result",
          "data": {
            "text/plain": [
              "array([[ 1.19709039, 11.81443073,  2.86482311,  1.35846406],\n",
              "       [ 1.10239181,  1.72538814, 12.255186  ,  1.34417274],\n",
              "       [ 4.21677976,  7.79156721,  1.25607559,  3.08319547]])"
            ]
          },
          "metadata": {},
          "execution_count": 109
        }
      ]
    },
    {
      "cell_type": "code",
      "source": [
        "arr1 = np.zeros((3,5))"
      ],
      "metadata": {
        "id": "zb5UGMqgy3aA"
      },
      "execution_count": 110,
      "outputs": []
    },
    {
      "cell_type": "code",
      "source": [
        "arr_inv = 1/arr1"
      ],
      "metadata": {
        "id": "wbfLTsa3zJRu",
        "outputId": "5d10a0dc-96be-4a16-c908-e2bbbdb31858",
        "colab": {
          "base_uri": "https://localhost:8080/"
        }
      },
      "execution_count": 111,
      "outputs": [
        {
          "output_type": "stream",
          "name": "stderr",
          "text": [
            "/usr/local/lib/python3.7/dist-packages/ipykernel_launcher.py:1: RuntimeWarning: divide by zero encountered in true_divide\n",
            "  \"\"\"Entry point for launching an IPython kernel.\n"
          ]
        }
      ]
    },
    {
      "cell_type": "code",
      "source": [
        "print(arr_inv)"
      ],
      "metadata": {
        "id": "g5HThONhzRAi",
        "outputId": "ac19d316-0861-44e9-b441-b01d73713740",
        "colab": {
          "base_uri": "https://localhost:8080/"
        }
      },
      "execution_count": 112,
      "outputs": [
        {
          "output_type": "stream",
          "name": "stdout",
          "text": [
            "[[inf inf inf inf inf]\n",
            " [inf inf inf inf inf]\n",
            " [inf inf inf inf inf]]\n"
          ]
        }
      ]
    },
    {
      "cell_type": "code",
      "source": [
        "np.isinf(arr_inv[0,0])"
      ],
      "metadata": {
        "id": "R8oXX9BGzZHB",
        "outputId": "f7f3bc13-b299-4174-82d7-64207282b2d3",
        "colab": {
          "base_uri": "https://localhost:8080/"
        }
      },
      "execution_count": 113,
      "outputs": [
        {
          "output_type": "execute_result",
          "data": {
            "text/plain": [
              "True"
            ]
          },
          "metadata": {},
          "execution_count": 113
        }
      ]
    },
    {
      "cell_type": "code",
      "source": [
        "np.isinf(arr_inv[0,0])"
      ],
      "metadata": {
        "id": "2kXclwaTzuYb",
        "outputId": "6bd59508-626a-4fa8-93b1-e8b2c8587623",
        "colab": {
          "base_uri": "https://localhost:8080/"
        }
      },
      "execution_count": 114,
      "outputs": [
        {
          "output_type": "execute_result",
          "data": {
            "text/plain": [
              "True"
            ]
          },
          "metadata": {},
          "execution_count": 114
        }
      ]
    },
    {
      "cell_type": "code",
      "source": [
        "np.isinf(arr_inv)"
      ],
      "metadata": {
        "id": "zoqsvMYTz5H6",
        "outputId": "78affe4a-c262-4d53-fb90-8bdeec08bdd9",
        "colab": {
          "base_uri": "https://localhost:8080/"
        }
      },
      "execution_count": 115,
      "outputs": [
        {
          "output_type": "execute_result",
          "data": {
            "text/plain": [
              "array([[ True,  True,  True,  True,  True],\n",
              "       [ True,  True,  True,  True,  True],\n",
              "       [ True,  True,  True,  True,  True]])"
            ]
          },
          "metadata": {},
          "execution_count": 115
        }
      ]
    },
    {
      "cell_type": "markdown",
      "source": [
        "## Problem Solution\n",
        "\n",
        "* Exercise on finding number of points outside n-dimensional sphere"
      ],
      "metadata": {
        "id": "rz2n5Erp1fTx"
      }
    },
    {
      "cell_type": "code",
      "source": [
        "ndim = 2"
      ],
      "metadata": {
        "id": "wyw9POp40FFs"
      },
      "execution_count": 116,
      "outputs": []
    },
    {
      "cell_type": "code",
      "source": [
        "npoints = 100000"
      ],
      "metadata": {
        "id": "XT-mBilL7h2t"
      },
      "execution_count": 117,
      "outputs": []
    },
    {
      "cell_type": "code",
      "source": [
        "points = np.random.rand(npoints, ndim)"
      ],
      "metadata": {
        "id": "pTK9Gs9J7l9i"
      },
      "execution_count": 118,
      "outputs": []
    },
    {
      "cell_type": "code",
      "source": [
        "points[0:2, :]"
      ],
      "metadata": {
        "id": "FnV2Hbxk72Kc",
        "outputId": "bc3a8f80-8eb4-423c-a203-393514c33533",
        "colab": {
          "base_uri": "https://localhost:8080/"
        }
      },
      "execution_count": 119,
      "outputs": [
        {
          "output_type": "execute_result",
          "data": {
            "text/plain": [
              "array([[0.13029478, 0.29981583],\n",
              "       [0.31134425, 0.5012857 ]])"
            ]
          },
          "metadata": {},
          "execution_count": 119
        }
      ]
    },
    {
      "cell_type": "code",
      "source": [
        "dfo = np.zeros((npoints,1))\n",
        "outside_points = 0"
      ],
      "metadata": {
        "id": "nPtMcHb58E4q"
      },
      "execution_count": 120,
      "outputs": []
    },
    {
      "cell_type": "code",
      "source": [
        "%%time\n",
        "for i in range(npoints):\n",
        "    for j in range(ndim):\n",
        "        dfo[i] += points[i,j] **2\n",
        "    dfo[i] = np.sqrt(dfo[i])\n",
        "    if dfo[i]> 1:\n",
        "        outside_points +=1"
      ],
      "metadata": {
        "id": "LdgQDnel8khA",
        "outputId": "7a56231e-9bf8-4a9c-fc99-be1dc9a2c64e",
        "colab": {
          "base_uri": "https://localhost:8080/"
        }
      },
      "execution_count": 121,
      "outputs": [
        {
          "output_type": "stream",
          "name": "stdout",
          "text": [
            "CPU times: user 2 s, sys: 374 ms, total: 2.38 s\n",
            "Wall time: 2.14 s\n"
          ]
        }
      ]
    },
    {
      "cell_type": "code",
      "source": [
        "print(outside_points/npoints)"
      ],
      "metadata": {
        "id": "mAvWkfpr9Hjb",
        "outputId": "422a6225-1612-4508-f0a8-f9b2b3fa4e5c",
        "colab": {
          "base_uri": "https://localhost:8080/"
        }
      },
      "execution_count": 122,
      "outputs": [
        {
          "output_type": "stream",
          "name": "stdout",
          "text": [
            "0.21349\n"
          ]
        }
      ]
    },
    {
      "cell_type": "code",
      "source": [
        "# 1-(pi/4)\n",
        "1-3.14/4"
      ],
      "metadata": {
        "id": "ALL4A9vAeGgh",
        "outputId": "02ff4fbf-e8ea-4e63-c254-d661a042a87a",
        "colab": {
          "base_uri": "https://localhost:8080/"
        }
      },
      "execution_count": 123,
      "outputs": [
        {
          "output_type": "execute_result",
          "data": {
            "text/plain": [
              "0.21499999999999997"
            ]
          },
          "metadata": {},
          "execution_count": 123
        }
      ]
    },
    {
      "cell_type": "code",
      "source": [
        "%%time\n",
        "sq_points = points * points\n",
        "dfo = np.sum(sq_points, axis = 1)\n",
        "outside_points = np.sum(dfo >1)\n",
        "\n"
      ],
      "metadata": {
        "id": "FJV7elvyeeI5",
        "outputId": "f1138ef0-f1da-4043-8d10-28f1c8f99882",
        "colab": {
          "base_uri": "https://localhost:8080/"
        }
      },
      "execution_count": 124,
      "outputs": [
        {
          "output_type": "stream",
          "name": "stdout",
          "text": [
            "CPU times: user 3.27 ms, sys: 0 ns, total: 3.27 ms\n",
            "Wall time: 3.29 ms\n"
          ]
        }
      ]
    },
    {
      "cell_type": "markdown",
      "source": [
        "# Broadcasting"
      ],
      "metadata": {
        "id": "KBDO8bYamnRf"
      }
    },
    {
      "cell_type": "code",
      "source": [
        "arr1 = np.arange(6)\n",
        "arr1.shape"
      ],
      "metadata": {
        "id": "8_g-TR8Khp6-",
        "outputId": "ed75c0cd-744b-4f4c-c583-051c8db7bb2a",
        "colab": {
          "base_uri": "https://localhost:8080/"
        }
      },
      "execution_count": 125,
      "outputs": [
        {
          "output_type": "execute_result",
          "data": {
            "text/plain": [
              "(6,)"
            ]
          },
          "metadata": {},
          "execution_count": 125
        }
      ]
    },
    {
      "cell_type": "code",
      "source": [
        "arr1 = arr1.reshape((3,2))"
      ],
      "metadata": {
        "id": "xHsVMNYym0nd"
      },
      "execution_count": 126,
      "outputs": []
    },
    {
      "cell_type": "code",
      "source": [
        "arr1.shape"
      ],
      "metadata": {
        "id": "qEzkvtgVnD_W",
        "outputId": "c0c0259c-32c4-45ac-eeab-b36af22976af",
        "colab": {
          "base_uri": "https://localhost:8080/"
        }
      },
      "execution_count": 127,
      "outputs": [
        {
          "output_type": "execute_result",
          "data": {
            "text/plain": [
              "(3, 2)"
            ]
          },
          "metadata": {},
          "execution_count": 127
        }
      ]
    },
    {
      "cell_type": "code",
      "source": [
        "arr1"
      ],
      "metadata": {
        "id": "mY04Y2fonJp2",
        "outputId": "6bed9f08-d632-4982-9dfa-12f15c7c6982",
        "colab": {
          "base_uri": "https://localhost:8080/"
        }
      },
      "execution_count": 128,
      "outputs": [
        {
          "output_type": "execute_result",
          "data": {
            "text/plain": [
              "array([[0, 1],\n",
              "       [2, 3],\n",
              "       [4, 5]])"
            ]
          },
          "metadata": {},
          "execution_count": 128
        }
      ]
    },
    {
      "cell_type": "code",
      "source": [
        "arr2 = np.arange(6).reshape((3,2))"
      ],
      "metadata": {
        "id": "tzi2yE5bnQFc"
      },
      "execution_count": 129,
      "outputs": []
    },
    {
      "cell_type": "code",
      "source": [
        "arr1 + arr2"
      ],
      "metadata": {
        "id": "XIIzdBMqno6v",
        "outputId": "d0e264c2-7fbe-4d0e-ef54-783149a19b59",
        "colab": {
          "base_uri": "https://localhost:8080/"
        }
      },
      "execution_count": 130,
      "outputs": [
        {
          "output_type": "execute_result",
          "data": {
            "text/plain": [
              "array([[ 0,  2],\n",
              "       [ 4,  6],\n",
              "       [ 8, 10]])"
            ]
          },
          "metadata": {},
          "execution_count": 130
        }
      ]
    },
    {
      "cell_type": "code",
      "source": [
        "arr2[0].reshape((1,2))"
      ],
      "metadata": {
        "id": "6PP5Gqm8nvNo",
        "outputId": "747ba2a4-0a40-4718-f827-581f9570bfe9",
        "colab": {
          "base_uri": "https://localhost:8080/"
        }
      },
      "execution_count": 131,
      "outputs": [
        {
          "output_type": "execute_result",
          "data": {
            "text/plain": [
              "array([[0, 1]])"
            ]
          },
          "metadata": {},
          "execution_count": 131
        }
      ]
    },
    {
      "cell_type": "code",
      "source": [
        "arr1 + arr2[0].reshape((1,2)) # (3,2) + (1,2)"
      ],
      "metadata": {
        "id": "3gcfmZLNn4B9",
        "outputId": "497ac16a-d719-4752-97f4-e0fdc94a0881",
        "colab": {
          "base_uri": "https://localhost:8080/"
        }
      },
      "execution_count": 132,
      "outputs": [
        {
          "output_type": "execute_result",
          "data": {
            "text/plain": [
              "array([[0, 2],\n",
              "       [2, 4],\n",
              "       [4, 6]])"
            ]
          },
          "metadata": {},
          "execution_count": 132
        }
      ]
    },
    {
      "cell_type": "code",
      "source": [
        "arr2[:,0].reshape((3,1))"
      ],
      "metadata": {
        "id": "w-vfyDhMoM-M",
        "outputId": "7d97fe62-3360-46da-88d2-82385c50db51",
        "colab": {
          "base_uri": "https://localhost:8080/"
        }
      },
      "execution_count": 133,
      "outputs": [
        {
          "output_type": "execute_result",
          "data": {
            "text/plain": [
              "array([[0],\n",
              "       [2],\n",
              "       [4]])"
            ]
          },
          "metadata": {},
          "execution_count": 133
        }
      ]
    },
    {
      "cell_type": "code",
      "source": [
        "arr1 + arr2[:,0].reshape((3,1)) # (3,2) + (3,1)"
      ],
      "metadata": {
        "id": "0yRcw5Zbo1Ot",
        "outputId": "dddef076-9b49-4899-f241-22bbdd47085f",
        "colab": {
          "base_uri": "https://localhost:8080/"
        }
      },
      "execution_count": 134,
      "outputs": [
        {
          "output_type": "execute_result",
          "data": {
            "text/plain": [
              "array([[0, 1],\n",
              "       [4, 5],\n",
              "       [8, 9]])"
            ]
          },
          "metadata": {},
          "execution_count": 134
        }
      ]
    },
    {
      "cell_type": "code",
      "source": [
        "arr1 +1"
      ],
      "metadata": {
        "id": "MMIRtqWHo-KU",
        "outputId": "e4db736f-2744-4c60-a4df-c28b3eaef388",
        "colab": {
          "base_uri": "https://localhost:8080/"
        }
      },
      "execution_count": 135,
      "outputs": [
        {
          "output_type": "execute_result",
          "data": {
            "text/plain": [
              "array([[1, 2],\n",
              "       [3, 4],\n",
              "       [5, 6]])"
            ]
          },
          "metadata": {},
          "execution_count": 135
        }
      ]
    },
    {
      "cell_type": "code",
      "source": [
        "arr1 = np.arange(24).reshape((2,3,4))"
      ],
      "metadata": {
        "id": "ZSdL7y2WpUQX"
      },
      "execution_count": 137,
      "outputs": []
    },
    {
      "cell_type": "code",
      "source": [
        "arr1"
      ],
      "metadata": {
        "id": "3iq2uCaktBx_",
        "outputId": "2230911c-bb97-4901-ea0f-8d867bb1a30d",
        "colab": {
          "base_uri": "https://localhost:8080/"
        }
      },
      "execution_count": 138,
      "outputs": [
        {
          "output_type": "execute_result",
          "data": {
            "text/plain": [
              "array([[[ 0,  1,  2,  3],\n",
              "        [ 4,  5,  6,  7],\n",
              "        [ 8,  9, 10, 11]],\n",
              "\n",
              "       [[12, 13, 14, 15],\n",
              "        [16, 17, 18, 19],\n",
              "        [20, 21, 22, 23]]])"
            ]
          },
          "metadata": {},
          "execution_count": 138
        }
      ]
    },
    {
      "cell_type": "code",
      "source": [
        "arr2 = np.ones((1,4))"
      ],
      "metadata": {
        "id": "fEILneRgtCqH"
      },
      "execution_count": 139,
      "outputs": []
    },
    {
      "cell_type": "code",
      "source": [
        "arr1 + arr2  ##(2,3,4) + (1,4)"
      ],
      "metadata": {
        "id": "GjOSHvhOtSP4",
        "outputId": "861046a0-a699-4aa8-9413-5e294d56dba5",
        "colab": {
          "base_uri": "https://localhost:8080/"
        }
      },
      "execution_count": 141,
      "outputs": [
        {
          "output_type": "execute_result",
          "data": {
            "text/plain": [
              "array([[[ 1.,  2.,  3.,  4.],\n",
              "        [ 5.,  6.,  7.,  8.],\n",
              "        [ 9., 10., 11., 12.]],\n",
              "\n",
              "       [[13., 14., 15., 16.],\n",
              "        [17., 18., 19., 20.],\n",
              "        [21., 22., 23., 24.]]])"
            ]
          },
          "metadata": {},
          "execution_count": 141
        }
      ]
    },
    {
      "cell_type": "code",
      "source": [
        "arr1 = np.arange(4)"
      ],
      "metadata": {
        "id": "cLA4ISxatU9s"
      },
      "execution_count": 142,
      "outputs": []
    },
    {
      "cell_type": "code",
      "source": [
        "arr2 = np.arange(5)"
      ],
      "metadata": {
        "id": "p2XavEaStwLN"
      },
      "execution_count": 144,
      "outputs": []
    },
    {
      "cell_type": "code",
      "source": [
        "print(arr1.shape, arr2.shape)"
      ],
      "metadata": {
        "id": "YHkkjxfVt1PP",
        "outputId": "07af3e32-8195-4da8-ed03-e8f4199ab9c2",
        "colab": {
          "base_uri": "https://localhost:8080/"
        }
      },
      "execution_count": 145,
      "outputs": [
        {
          "output_type": "stream",
          "name": "stdout",
          "text": [
            "(4,) (5,)\n"
          ]
        }
      ]
    },
    {
      "cell_type": "code",
      "source": [
        ""
      ],
      "metadata": {
        "id": "r5xb9CzSt_OZ"
      },
      "execution_count": null,
      "outputs": []
    }
  ]
}