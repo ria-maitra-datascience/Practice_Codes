{
  "nbformat": 4,
  "nbformat_minor": 0,
  "metadata": {
    "colab": {
      "name": "w3resource(Set).ipynb",
      "provenance": [],
      "authorship_tag": "ABX9TyMra6TWkjoAv9aTK9sjhmEZ",
      "include_colab_link": true
    },
    "kernelspec": {
      "name": "python3",
      "display_name": "Python 3"
    },
    "language_info": {
      "name": "python"
    }
  },
  "cells": [
    {
      "cell_type": "markdown",
      "metadata": {
        "id": "view-in-github",
        "colab_type": "text"
      },
      "source": [
        "<a href=\"https://colab.research.google.com/github/ria1994maitra/Practice_Codes/blob/main/w3resource(Set).ipynb\" target=\"_parent\"><img src=\"https://colab.research.google.com/assets/colab-badge.svg\" alt=\"Open In Colab\"/></a>"
      ]
    },
    {
      "cell_type": "code",
      "execution_count": null,
      "metadata": {
        "colab": {
          "base_uri": "https://localhost:8080/"
        },
        "id": "fwXsoVPgHGqa",
        "outputId": "fc6a17b9-374d-414d-8b4f-2de33d0d34fa"
      },
      "outputs": [
        {
          "output_type": "stream",
          "name": "stdout",
          "text": [
            "<class 'set'>\n",
            "{0, 1, 2, 3, 4, 5}\n",
            "<class 'set'>\n"
          ]
        }
      ],
      "source": [
        "#1. Write a python program to create a set\n",
        "\n",
        "#In mathematics, a set is a collection of distinct elements. The elements that make up a set can be any kind of things: people, letters of the alphabet, numbers, points in space, lines, other geometrical shapes, variables, or even other sets. Two sets are equal if and only if they have precisely the same elements\n",
        "\n",
        "x = set()\n",
        "print(type(x))\n",
        "n = set([0,1,2,3,4,5])\n",
        "print(n)\n",
        "print(type(n))\n"
      ]
    },
    {
      "cell_type": "code",
      "source": [
        "#2. Write a python program to iteration over sets\n",
        "\n",
        "num_set = set([0,1,2,3,4,5])\n",
        "for i in num_set:\n",
        "    print(i)"
      ],
      "metadata": {
        "colab": {
          "base_uri": "https://localhost:8080/"
        },
        "id": "Hi103ygVH9FI",
        "outputId": "75083526-06d1-45c7-f3eb-9fbf5da098e3"
      },
      "execution_count": null,
      "outputs": [
        {
          "output_type": "stream",
          "name": "stdout",
          "text": [
            "0\n",
            "1\n",
            "2\n",
            "3\n",
            "4\n",
            "5\n"
          ]
        }
      ]
    },
    {
      "cell_type": "code",
      "source": [
        "#3. Write a python program to add members to a set\n",
        "\n",
        "color_set = set()\n",
        "color_set.add(\"red\")\n",
        "color_set\n"
      ],
      "metadata": {
        "colab": {
          "base_uri": "https://localhost:8080/"
        },
        "id": "TJa4wwMBJD59",
        "outputId": "a28bddf4-2b96-4b86-9aeb-6293ae33b476"
      },
      "execution_count": null,
      "outputs": [
        {
          "output_type": "execute_result",
          "data": {
            "text/plain": [
              "{'red'}"
            ]
          },
          "metadata": {},
          "execution_count": 4
        }
      ]
    },
    {
      "cell_type": "code",
      "source": [
        "#4. Write a python program to remove item from a set\n",
        "\n",
        "num_set = set([0,11,2,3,45,6,7])\n",
        "num_set.pop()\n",
        "num_set"
      ],
      "metadata": {
        "colab": {
          "base_uri": "https://localhost:8080/"
        },
        "id": "1628_BTcKH1f",
        "outputId": "13482ee5-f40e-4d2a-cc26-21d7793c1a1b"
      },
      "execution_count": null,
      "outputs": [
        {
          "output_type": "execute_result",
          "data": {
            "text/plain": [
              "{2, 3, 6, 7, 11, 45}"
            ]
          },
          "metadata": {},
          "execution_count": 5
        }
      ]
    },
    {
      "cell_type": "code",
      "source": [
        "#5. Write a python program to remove an item from a set if it is present in the set\n",
        "\n",
        "num_set = set([0,1,3,4,5,6,6])\n",
        "num_set.discard(6)\n",
        "num_set"
      ],
      "metadata": {
        "colab": {
          "base_uri": "https://localhost:8080/"
        },
        "id": "6G7JbqX-Kix_",
        "outputId": "1f503a9c-616f-4690-f4ad-77c3e8bdb08f"
      },
      "execution_count": null,
      "outputs": [
        {
          "output_type": "execute_result",
          "data": {
            "text/plain": [
              "{0, 1, 3, 4, 5}"
            ]
          },
          "metadata": {},
          "execution_count": 6
        }
      ]
    },
    {
      "cell_type": "code",
      "source": [
        "#6. Write a Python program to create an intersection of sets.\n",
        "setx = set(['green','blue'])\n",
        "sety = set(['blue', 'yellow'])\n",
        "print(\"original set elements:\")\n",
        "print(setx)\n",
        "print(sety)\n",
        "setz = setx & sety\n",
        "print(setz)"
      ],
      "metadata": {
        "id": "sl3jOPt7LkUM",
        "outputId": "63c8257b-fa9f-424a-afb4-7873640dcf32",
        "colab": {
          "base_uri": "https://localhost:8080/"
        }
      },
      "execution_count": 1,
      "outputs": [
        {
          "output_type": "stream",
          "name": "stdout",
          "text": [
            "original set elements:\n",
            "{'blue', 'green'}\n",
            "{'blue', 'yellow'}\n",
            "{'blue'}\n"
          ]
        }
      ]
    },
    {
      "cell_type": "code",
      "source": [
        "#7. Write a Python program to create a union of sets.\n",
        "\n",
        "setc1 = set(['green','blue'])\n",
        "setc2 = set(['blue','yellow'])\n",
        "print(\"original sets:\")\n",
        "print(setc1)\n",
        "print(setc2)\n",
        "setc = setc1 | setc2\n",
        "print(\"\\nUnion of above sets:\")\n",
        "print(setc)\n",
        "setn1 = set([1,2,3,4,5,6,7])\n",
        "setn2 = set([1,5,6,7,8,9])\n",
        "print(\"original sets:\")\n",
        "print(setn1)\n",
        "print(setn2)\n",
        "\n",
        "setn = setn1 | setn2\n",
        "\n",
        "print(\"\\nUnion of above sets:\")\n",
        "\n",
        "print(setn)"
      ],
      "metadata": {
        "id": "p4BfPM9rBRgl",
        "outputId": "1cab6c50-179f-486a-9f9e-8c584b558266",
        "colab": {
          "base_uri": "https://localhost:8080/"
        }
      },
      "execution_count": 2,
      "outputs": [
        {
          "output_type": "stream",
          "name": "stdout",
          "text": [
            "original sets:\n",
            "{'blue', 'green'}\n",
            "{'blue', 'yellow'}\n",
            "\n",
            "Union of above sets:\n",
            "{'blue', 'yellow', 'green'}\n",
            "original sets:\n",
            "{1, 2, 3, 4, 5, 6, 7}\n",
            "{1, 5, 6, 7, 8, 9}\n",
            "\n",
            "Union of above sets:\n",
            "{1, 2, 3, 4, 5, 6, 7, 8, 9}\n"
          ]
        }
      ]
    },
    {
      "cell_type": "code",
      "source": [
        "#8. Write a Python program to create set difference.\n",
        "\n",
        "setc1 = set([\"green\",\"blue\"])\n",
        "setc2 = set([\"blue\",\"yellow\"])\n",
        "print(\"original sets:\")\n",
        "print(setc1)\n",
        "print(setc2)\n",
        "r1 = setc1.difference(setc2)\n",
        "print(\"\\nDifference of setc1 - setc2:\")\n",
        "r2 = setc2.difference(setc1)\n",
        "print(\"\\nDifference of setc2 - setc1:\")\n",
        "print(r2)\n",
        "setn1 = set([1,1,2,3,4,5])\n",
        "setn2 = set([1,5,6,7,8,9])\n",
        "print(\"\\nOriginal sets:\")\n",
        "print(setn1)\n",
        "print(setn2)\n",
        "r1 = setn1.difference(setn2)\n",
        "print(\"\\nDifference of setn1 - setn2\")\n",
        "print(r1)\n",
        "r2 = setn2.difference(setn1)\n",
        "print(\"\\nDifference of setn2 - setn1\")\n",
        "print(r2)"
      ],
      "metadata": {
        "id": "HdP7iob2DYCL",
        "outputId": "e3cf975d-64a1-474e-d930-b285d2c81e64",
        "colab": {
          "base_uri": "https://localhost:8080/"
        }
      },
      "execution_count": 3,
      "outputs": [
        {
          "output_type": "stream",
          "name": "stdout",
          "text": [
            "original sets:\n",
            "{'blue', 'green'}\n",
            "{'blue', 'yellow'}\n",
            "\n",
            "Difference of setc1 - setc2:\n",
            "\n",
            "Difference of setc2 - setc1:\n",
            "{'yellow'}\n",
            "\n",
            "Original sets:\n",
            "{1, 2, 3, 4, 5}\n",
            "{1, 5, 6, 7, 8, 9}\n",
            "\n",
            "Difference of setn1 - setn2\n",
            "{2, 3, 4}\n",
            "\n",
            "Difference of setn2 - setn1\n",
            "{8, 9, 6, 7}\n"
          ]
        }
      ]
    },
    {
      "cell_type": "code",
      "source": [
        "#9. 9. Write a Python program to create a symmetric difference.\n"
      ],
      "metadata": {
        "id": "01MnjS4EGSjP"
      },
      "execution_count": 4,
      "outputs": []
    },
    {
      "cell_type": "code",
      "source": [
        "#10. Write a Python program to check if a set is a subset of another set.\n",
        "setx = set([\"apple\",\"mango\"])\n",
        "sety = set([\"mango\", \"orange\"])\n",
        "setz = set([\"mango\"])\n",
        "print(\"If x is subset of y\")\n",
        "print(setx <= sety)\n",
        "print(setx.issubset(sety))\n",
        "print(sety <= setx)\n",
        "print(sety.issubset(setx))"
      ],
      "metadata": {
        "id": "WpwuPmppG4nH",
        "outputId": "8bb1acc5-06ce-45a9-81e4-439f5a9d3241",
        "colab": {
          "base_uri": "https://localhost:8080/"
        }
      },
      "execution_count": 5,
      "outputs": [
        {
          "output_type": "stream",
          "name": "stdout",
          "text": [
            "If x is subset of y\n",
            "False\n",
            "False\n",
            "False\n",
            "False\n"
          ]
        }
      ]
    },
    {
      "cell_type": "code",
      "source": [
        ""
      ],
      "metadata": {
        "id": "E9CgFMDUITC-"
      },
      "execution_count": null,
      "outputs": []
    }
  ]
}