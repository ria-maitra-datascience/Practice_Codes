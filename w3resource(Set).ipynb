{
  "nbformat": 4,
  "nbformat_minor": 0,
  "metadata": {
    "colab": {
      "name": "w3resource(Set).ipynb",
      "provenance": [],
      "authorship_tag": "ABX9TyOK9wL8+GTNGE3kgk3Jc2aw",
      "include_colab_link": true
    },
    "kernelspec": {
      "name": "python3",
      "display_name": "Python 3"
    },
    "language_info": {
      "name": "python"
    }
  },
  "cells": [
    {
      "cell_type": "markdown",
      "metadata": {
        "id": "view-in-github",
        "colab_type": "text"
      },
      "source": [
        "<a href=\"https://colab.research.google.com/github/ria1994maitra/Practice_Codes/blob/main/w3resource(Set).ipynb\" target=\"_parent\"><img src=\"https://colab.research.google.com/assets/colab-badge.svg\" alt=\"Open In Colab\"/></a>"
      ]
    },
    {
      "cell_type": "code",
      "execution_count": 1,
      "metadata": {
        "colab": {
          "base_uri": "https://localhost:8080/"
        },
        "id": "fwXsoVPgHGqa",
        "outputId": "fc6a17b9-374d-414d-8b4f-2de33d0d34fa"
      },
      "outputs": [
        {
          "output_type": "stream",
          "name": "stdout",
          "text": [
            "<class 'set'>\n",
            "{0, 1, 2, 3, 4, 5}\n",
            "<class 'set'>\n"
          ]
        }
      ],
      "source": [
        "#1. Write a python program to create a set\n",
        "\n",
        "#In mathematics, a set is a collection of distinct elements. The elements that make up a set can be any kind of things: people, letters of the alphabet, numbers, points in space, lines, other geometrical shapes, variables, or even other sets. Two sets are equal if and only if they have precisely the same elements\n",
        "\n",
        "x = set()\n",
        "print(type(x))\n",
        "n = set([0,1,2,3,4,5])\n",
        "print(n)\n",
        "print(type(n))\n"
      ]
    },
    {
      "cell_type": "code",
      "source": [
        "#2. Write a python program to iteration over sets\n",
        "\n",
        "num_set = set([0,1,2,3,4,5])\n",
        "for i in num_set:\n",
        "    print(i)"
      ],
      "metadata": {
        "colab": {
          "base_uri": "https://localhost:8080/"
        },
        "id": "Hi103ygVH9FI",
        "outputId": "75083526-06d1-45c7-f3eb-9fbf5da098e3"
      },
      "execution_count": 3,
      "outputs": [
        {
          "output_type": "stream",
          "name": "stdout",
          "text": [
            "0\n",
            "1\n",
            "2\n",
            "3\n",
            "4\n",
            "5\n"
          ]
        }
      ]
    },
    {
      "cell_type": "code",
      "source": [
        "#3. Write a python program to add members to a set\n",
        "\n",
        "color_set = set()\n",
        "color_set.add(\"red\")\n",
        "color_set\n"
      ],
      "metadata": {
        "colab": {
          "base_uri": "https://localhost:8080/"
        },
        "id": "TJa4wwMBJD59",
        "outputId": "a28bddf4-2b96-4b86-9aeb-6293ae33b476"
      },
      "execution_count": 4,
      "outputs": [
        {
          "output_type": "execute_result",
          "data": {
            "text/plain": [
              "{'red'}"
            ]
          },
          "metadata": {},
          "execution_count": 4
        }
      ]
    },
    {
      "cell_type": "code",
      "source": [
        "#4. Write a python program to remove item from a set\n",
        "\n",
        "num_set = set([0,11,2,3,45,6,7])\n",
        "num_set.pop()\n",
        "num_set"
      ],
      "metadata": {
        "colab": {
          "base_uri": "https://localhost:8080/"
        },
        "id": "1628_BTcKH1f",
        "outputId": "13482ee5-f40e-4d2a-cc26-21d7793c1a1b"
      },
      "execution_count": 5,
      "outputs": [
        {
          "output_type": "execute_result",
          "data": {
            "text/plain": [
              "{2, 3, 6, 7, 11, 45}"
            ]
          },
          "metadata": {},
          "execution_count": 5
        }
      ]
    },
    {
      "cell_type": "code",
      "source": [
        "#5. Write a python program to remove an item from a set if it is present in the set\n",
        "\n",
        "num_set = set([0,1,3,4,5,6,6])\n",
        "num_set.discard(6)\n",
        "num_set"
      ],
      "metadata": {
        "colab": {
          "base_uri": "https://localhost:8080/"
        },
        "id": "6G7JbqX-Kix_",
        "outputId": "1f503a9c-616f-4690-f4ad-77c3e8bdb08f"
      },
      "execution_count": 6,
      "outputs": [
        {
          "output_type": "execute_result",
          "data": {
            "text/plain": [
              "{0, 1, 3, 4, 5}"
            ]
          },
          "metadata": {},
          "execution_count": 6
        }
      ]
    },
    {
      "cell_type": "code",
      "source": [
        ""
      ],
      "metadata": {
        "id": "sl3jOPt7LkUM"
      },
      "execution_count": null,
      "outputs": []
    }
  ]
}