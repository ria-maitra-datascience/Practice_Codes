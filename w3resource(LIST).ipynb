{
  "nbformat": 4,
  "nbformat_minor": 0,
  "metadata": {
    "colab": {
      "name": "w3resource(LIST).ipynb",
      "provenance": [],
      "authorship_tag": "ABX9TyO0cvkigXhRywjU+JZygM/w",
      "include_colab_link": true
    },
    "kernelspec": {
      "name": "python3",
      "display_name": "Python 3"
    },
    "language_info": {
      "name": "python"
    }
  },
  "cells": [
    {
      "cell_type": "markdown",
      "metadata": {
        "id": "view-in-github",
        "colab_type": "text"
      },
      "source": [
        "<a href=\"https://colab.research.google.com/github/ria1994maitra/Practice_Codes/blob/main/w3resource(LIST).ipynb\" target=\"_parent\"><img src=\"https://colab.research.google.com/assets/colab-badge.svg\" alt=\"Open In Colab\"/></a>"
      ]
    },
    {
      "cell_type": "code",
      "execution_count": null,
      "metadata": {
        "colab": {
          "base_uri": "https://localhost:8080/"
        },
        "id": "Jh7aV829lZlb",
        "outputId": "269a2aba-4e74-4c54-cd03-cc26fdaf4ed3"
      },
      "outputs": [
        {
          "output_type": "stream",
          "name": "stdout",
          "text": [
            "6\n"
          ]
        }
      ],
      "source": [
        "#1. Write a Python program to sum all the items in a list.\n",
        "def sum_list(items):\n",
        "    sum_numbers = 0\n",
        "    for x in items:\n",
        "        sum_numbers += x\n",
        "    return sum_numbers\n",
        "print(sum_list([1,2,3]))"
      ]
    },
    {
      "cell_type": "code",
      "source": [
        "#Multiply all the items in a list\n",
        "def multiply_list(items):\n",
        "    tot = 1\n",
        "    for x in items:\n",
        "        tot = tot*x\n",
        "    return tot\n",
        "print(multiply_list([1,2,3,4]))"
      ],
      "metadata": {
        "colab": {
          "base_uri": "https://localhost:8080/"
        },
        "id": "ti5SZ-zlvTqX",
        "outputId": "38369b14-5187-4ea7-c93d-802c15efdffa"
      },
      "execution_count": null,
      "outputs": [
        {
          "output_type": "stream",
          "name": "stdout",
          "text": [
            "24\n"
          ]
        }
      ]
    },
    {
      "cell_type": "code",
      "source": [
        "#3. Write a Python program to get the largest number from a list.\n",
        "def max_num_in_list( list ):\n",
        "    max = list[ 0 ]\n",
        "    for a in list:\n",
        "        if a > max:\n",
        "            max = a\n",
        "    return max\n",
        "print(max_num_in_list([2, 3, 8, 0]))"
      ],
      "metadata": {
        "colab": {
          "base_uri": "https://localhost:8080/"
        },
        "id": "_J4zmIfFxiyW",
        "outputId": "37e2d931-6e04-4620-fa37-a93d34e76ae3"
      },
      "execution_count": null,
      "outputs": [
        {
          "output_type": "stream",
          "name": "stdout",
          "text": [
            "8\n"
          ]
        }
      ]
    },
    {
      "cell_type": "code",
      "source": [
        "def max_num(list):\n",
        "    max = list[0]\n",
        "    for a in list:\n",
        "        if a> max:\n",
        "            max = a\n",
        "    return max\n",
        "print(max_num([1,23,4,1]))"
      ],
      "metadata": {
        "colab": {
          "base_uri": "https://localhost:8080/"
        },
        "id": "cl6twKWp2-PL",
        "outputId": "74e570c0-9500-4949-8d13-4d9ba4651b7a"
      },
      "execution_count": null,
      "outputs": [
        {
          "output_type": "stream",
          "name": "stdout",
          "text": [
            "23\n"
          ]
        }
      ]
    },
    {
      "cell_type": "code",
      "source": [
        "#4. Write a Python program to get the smallest number from a list.\n",
        "\n",
        "def smal_num(list):\n",
        "    min = list[0]\n",
        "    for a in list:\n",
        "        if a<min:\n",
        "            min =a\n",
        "    return min\n",
        "print(smal_num([2,4,2,1,0]))"
      ],
      "metadata": {
        "colab": {
          "base_uri": "https://localhost:8080/"
        },
        "id": "4qMjBkGR6bL9",
        "outputId": "aa9a9c72-03c5-425c-c3e6-5b949a1df15e"
      },
      "execution_count": null,
      "outputs": [
        {
          "output_type": "stream",
          "name": "stdout",
          "text": [
            "0\n"
          ]
        }
      ]
    },
    {
      "cell_type": "code",
      "source": [
        "#5. Count the number of strings where the string length is 2 or more and the first and last character are same from a given list of strings\n",
        "\n",
        "def match_word(word):\n",
        "    count = 0\n",
        "    for word in word:\n",
        "        if len(word)>1 and word[0] == word[-1]:\n",
        "            count = count + 1\n",
        "    return count\n",
        "print(match_word(['aria','ria','xyz']))"
      ],
      "metadata": {
        "colab": {
          "base_uri": "https://localhost:8080/"
        },
        "id": "VnANZX9_7AnA",
        "outputId": "18186158-3acb-489f-bd21-69bc7c23638a"
      },
      "execution_count": null,
      "outputs": [
        {
          "output_type": "stream",
          "name": "stdout",
          "text": [
            "1\n"
          ]
        }
      ]
    },
    {
      "cell_type": "code",
      "source": [
        "# 7. Write a Python program to remove duplicates from a list\n",
        "\n",
        "a= [10,10,30,20,25,26.27,27]\n",
        "dup_items = set()\n",
        "uniq_items = []\n",
        "for x in a:\n",
        "    if x not in dup_items:\n",
        "        uniq_items.append(x)\n",
        "        dup_items.add(x)\n",
        "\n",
        "print(dup_items)"
      ],
      "metadata": {
        "id": "n5jnLgMA-J1j",
        "colab": {
          "base_uri": "https://localhost:8080/"
        },
        "outputId": "4ee3ffa1-98e0-43da-a3fc-449f184f395e"
      },
      "execution_count": 1,
      "outputs": [
        {
          "output_type": "stream",
          "name": "stdout",
          "text": [
            "{10, 20, 25, 26.27, 27, 30}\n"
          ]
        }
      ]
    },
    {
      "cell_type": "code",
      "source": [
        "# 8. Write a Python program to check a list is empty or not\n",
        "\n",
        "l = []\n",
        "if not l:\n",
        "    print(\"list is empty\")"
      ],
      "metadata": {
        "colab": {
          "base_uri": "https://localhost:8080/"
        },
        "id": "-xzmCU51S4HI",
        "outputId": "e86b4440-3805-407b-f9ed-5149d0ba32bc"
      },
      "execution_count": 2,
      "outputs": [
        {
          "output_type": "stream",
          "name": "stdout",
          "text": [
            "list is empty\n"
          ]
        }
      ]
    },
    {
      "cell_type": "code",
      "source": [
        "# 9. Write a python program to clone or copy a lsit.\n",
        "\n",
        "original_list = [10, 24, 44, 23 , 4]\n",
        "new_list = list(original_list)\n",
        "print(original_list)\n",
        "print(new_list)"
      ],
      "metadata": {
        "colab": {
          "base_uri": "https://localhost:8080/"
        },
        "id": "-TigcEuPTqop",
        "outputId": "e7a4f17a-69e2-4f3c-b5b9-5d831ff55011"
      },
      "execution_count": 3,
      "outputs": [
        {
          "output_type": "stream",
          "name": "stdout",
          "text": [
            "[10, 24, 44, 23, 4]\n",
            "[10, 24, 44, 23, 4]\n"
          ]
        }
      ]
    },
    {
      "cell_type": "code",
      "source": [
        " #11. Write a Python function that takes two lists and returns True if they have at least one common member\n",
        "\n",
        " def common_data(list1, list2):\n",
        "     result = False\n",
        "     for x in list1:\n",
        "         for y in list2:\n",
        "             if x==y:\n",
        "                 result = True\n",
        "                 return result\n",
        "print(common_data([1,2,3,4,5], [5,6,7,8,9]))\n",
        "print(common_data([1,2,3,4,5], [6,7,8,9]))"
      ],
      "metadata": {
        "colab": {
          "base_uri": "https://localhost:8080/"
        },
        "id": "tL25jHbzUOSj",
        "outputId": "b8138d15-4ab6-4fec-dc82-b20d71c88f9b"
      },
      "execution_count": 4,
      "outputs": [
        {
          "output_type": "stream",
          "name": "stdout",
          "text": [
            "True\n",
            "None\n"
          ]
        }
      ]
    },
    {
      "cell_type": "code",
      "source": [
        "#12. Write a python program to print a specified list after removing the 0th, 4th and 5th elements.\n",
        "\n",
        "color = ['green','yellow','black','white']\n",
        "color = [x for (i,x) in enumerate(color) if i not in (0,4,5)]\n",
        "print(color)"
      ],
      "metadata": {
        "colab": {
          "base_uri": "https://localhost:8080/"
        },
        "id": "GJrjMOkLViVG",
        "outputId": "3be60a74-0d8f-4e75-9cf7-611c9104a372"
      },
      "execution_count": 1,
      "outputs": [
        {
          "output_type": "stream",
          "name": "stdout",
          "text": [
            "['yellow', 'black', 'white']\n"
          ]
        }
      ]
    },
    {
      "cell_type": "code",
      "source": [
        "#14. Write a Python program to print the numbers of a specified list after removing even numbers from it\n",
        "\n",
        "num = [7,8, 129, 25, 44, 27,30]\n",
        "num = [x for x in num if x%2!= 0]\n",
        "print(num)"
      ],
      "metadata": {
        "colab": {
          "base_uri": "https://localhost:8080/"
        },
        "id": "4yOvoZ_Ds6gU",
        "outputId": "0b995a2c-954f-4a00-d39b-cd9d4adc0e37"
      },
      "execution_count": 3,
      "outputs": [
        {
          "output_type": "stream",
          "name": "stdout",
          "text": [
            "[7, 129, 25, 27]\n"
          ]
        }
      ]
    },
    {
      "cell_type": "code",
      "source": [
        "#18. Write a python to generate all permutations of a list in python.\n",
        "\n",
        "import itertools\n",
        "print(list(itertools.permutations([1,2,3])))"
      ],
      "metadata": {
        "colab": {
          "base_uri": "https://localhost:8080/"
        },
        "id": "fzRflfw1twAa",
        "outputId": "89a342ea-5aae-4b40-c39e-ac9ac530ba0b"
      },
      "execution_count": 4,
      "outputs": [
        {
          "output_type": "stream",
          "name": "stdout",
          "text": [
            "[(1, 2, 3), (1, 3, 2), (2, 1, 3), (2, 3, 1), (3, 1, 2), (3, 2, 1)]\n"
          ]
        }
      ]
    },
    {
      "cell_type": "code",
      "source": [
        "# 19. Write a Python program to get the difference between the two lists.\n",
        "\n",
        "list1 = [1,3,5,7,9]\n",
        "list2 = [1,2, 4, 6, 7, 8]\n",
        "diff_list1_list2 = list(set(list1) - set(list2))\n",
        "diff_list2_list1 = list(set(list2) - set(list1))\n",
        "total_diff = diff_list1_list2 + diff_list2_list1\n",
        "print(total_diff)"
      ],
      "metadata": {
        "colab": {
          "base_uri": "https://localhost:8080/"
        },
        "id": "yS4ybbH0uTRn",
        "outputId": "e280743a-3c47-40ea-a1a9-13a317f6dbf9"
      },
      "execution_count": 5,
      "outputs": [
        {
          "output_type": "stream",
          "name": "stdout",
          "text": [
            "[9, 3, 5, 8, 2, 4, 6]\n"
          ]
        }
      ]
    },
    {
      "cell_type": "code",
      "source": [
        "# 20. Write a python program access the index of a list.\n",
        "\n",
        "nums = [5,6,7,8,9]\n",
        "for i, j in enumerate(nums):\n",
        "    print(i,j)"
      ],
      "metadata": {
        "colab": {
          "base_uri": "https://localhost:8080/"
        },
        "id": "jsaTSninwMGh",
        "outputId": "22535b0d-d87c-4a52-8268-f8357cf101e8"
      },
      "execution_count": 7,
      "outputs": [
        {
          "output_type": "stream",
          "name": "stdout",
          "text": [
            "0 5\n",
            "1 6\n",
            "2 7\n",
            "3 8\n",
            "4 9\n"
          ]
        }
      ]
    },
    {
      "cell_type": "code",
      "source": [
        "# 21. Write a python program to convert a list of characters into a string\n",
        "s= ['a','b','c','d']\n",
        "str1 = ''.join(s)\n",
        "print(str1)"
      ],
      "metadata": {
        "colab": {
          "base_uri": "https://localhost:8080/"
        },
        "id": "sMGY1TY_yYsE",
        "outputId": "0bb8c9af-6450-47a1-9097-e520e3e1a662"
      },
      "execution_count": 8,
      "outputs": [
        {
          "output_type": "stream",
          "name": "stdout",
          "text": [
            "abcd\n"
          ]
        }
      ]
    },
    {
      "cell_type": "code",
      "source": [
        "#22. Write a python program to find the index of an item in a specified list.\n",
        "\n",
        "num = [10, 30, 4, -6]\n",
        "print(num.index(30))"
      ],
      "metadata": {
        "colab": {
          "base_uri": "https://localhost:8080/"
        },
        "id": "lqEjpBy_zN3N",
        "outputId": "8c79156d-7ec8-4f67-d8a8-5763b539382b"
      },
      "execution_count": 9,
      "outputs": [
        {
          "output_type": "stream",
          "name": "stdout",
          "text": [
            "1\n"
          ]
        }
      ]
    },
    {
      "cell_type": "code",
      "source": [
        "#24. Write a Python program to append a list to the second list.\n",
        "\n",
        "import itertools\n",
        "\n",
        "original_list = [[2,4,3], [1,5,6], [9],[7,9,0]]\n",
        "new_merged_list = list(itertools.chain(*original_list))\n",
        "print(new_merged_list)"
      ],
      "metadata": {
        "colab": {
          "base_uri": "https://localhost:8080/"
        },
        "id": "r4MiFIFq0JBX",
        "outputId": "17276114-e34d-4e7c-af31-6b347b81797b"
      },
      "execution_count": 10,
      "outputs": [
        {
          "output_type": "stream",
          "name": "stdout",
          "text": [
            "[2, 4, 3, 1, 5, 6, 9, 7, 9, 0]\n"
          ]
        }
      ]
    },
    {
      "cell_type": "code",
      "source": [
        "#25. Write a python program to select an item randomly from a list.\n",
        "\n",
        "import random\n",
        "color_list = ['Red','Blue','Green','White','Black']\n",
        "print(random.choice(color_list))"
      ],
      "metadata": {
        "colab": {
          "base_uri": "https://localhost:8080/"
        },
        "id": "T7-NZ8EP0-_p",
        "outputId": "9add87c0-ba9c-468c-fcd7-72fa5fe0ba75"
      },
      "execution_count": 2,
      "outputs": [
        {
          "output_type": "stream",
          "name": "stdout",
          "text": [
            "White\n"
          ]
        }
      ]
    },
    {
      "cell_type": "code",
      "source": [
        "#27. Write a python program to find the second smallest no. in a list.\n",
        "l=[9,4,5,6,7,8]\n",
        "l.sort()\n",
        "l[1]\n"
      ],
      "metadata": {
        "id": "8liTCe9YPs8J",
        "outputId": "5bcc4171-ee99-4c2f-d222-0c7d866d94d9",
        "colab": {
          "base_uri": "https://localhost:8080/"
        }
      },
      "execution_count": 3,
      "outputs": [
        {
          "output_type": "execute_result",
          "data": {
            "text/plain": [
              "5"
            ]
          },
          "metadata": {},
          "execution_count": 3
        }
      ]
    },
    {
      "cell_type": "code",
      "source": [
        "#28. Write a python program to find the second largest number in a list\n",
        "\n",
        "l=[1,2,3,4,5,6,7,8,9]\n",
        "l.sort()\n",
        "l[-2]"
      ],
      "metadata": {
        "id": "jVMxl6vQQfth",
        "outputId": "bd0f8882-ebe6-487b-c8b9-78d1a7743bf4",
        "colab": {
          "base_uri": "https://localhost:8080/"
        }
      },
      "execution_count": 4,
      "outputs": [
        {
          "output_type": "execute_result",
          "data": {
            "text/plain": [
              "8"
            ]
          },
          "metadata": {},
          "execution_count": 4
        }
      ]
    },
    {
      "cell_type": "code",
      "source": [
        "#29. Write a python program to get unique values from a list\n",
        "\n",
        "l= [9,9,2,3,2,4,4,7,6,45,36,45,2,3]\n",
        "my_set = set(l)\n",
        "new_list = list(my_set)\n",
        "new_list"
      ],
      "metadata": {
        "id": "zAnIqqg9RHSQ",
        "outputId": "451595a1-fe30-4a7e-a912-7540b962fc0d",
        "colab": {
          "base_uri": "https://localhost:8080/"
        }
      },
      "execution_count": 5,
      "outputs": [
        {
          "output_type": "execute_result",
          "data": {
            "text/plain": [
              "[2, 3, 4, 36, 6, 7, 9, 45]"
            ]
          },
          "metadata": {},
          "execution_count": 5
        }
      ]
    },
    {
      "cell_type": "code",
      "source": [
        "#30. Write a python program to get the frequency of the elements in a list\n",
        "\n",
        "import collections\n",
        "my_list = [8,3,4,3,4,4,4,2,1,12,3,4,7,92,45,45]\n",
        "ctr = collections.Counter(my_list)\n",
        "ctr"
      ],
      "metadata": {
        "id": "gCemQhXGRmA1",
        "outputId": "1236affb-d97b-4b89-e628-a4887d88ba9c",
        "colab": {
          "base_uri": "https://localhost:8080/"
        }
      },
      "execution_count": 6,
      "outputs": [
        {
          "output_type": "execute_result",
          "data": {
            "text/plain": [
              "Counter({1: 1, 2: 1, 3: 3, 4: 5, 7: 1, 8: 1, 12: 1, 45: 2, 92: 1})"
            ]
          },
          "metadata": {},
          "execution_count": 6
        }
      ]
    },
    {
      "cell_type": "code",
      "source": [
        "#31. Write a python program to count the number of elements in a list within a specifies range.\n",
        "\n",
        "def count_range_in_list(li,min, max):\n",
        "    ctr = 0\n",
        "    for x in li:\n",
        "        if min<= x <=max:\n",
        "            ctr+= 1\n",
        "    return ctr\n",
        "\n",
        "list1 = [10,20,30,40,40,40,50,609,78]\n",
        "print(count_range_in_list(list1,40,100))"
      ],
      "metadata": {
        "id": "0uzDybZQSMfD",
        "outputId": "225466a1-87cc-4438-f372-4af6a58ce41b",
        "colab": {
          "base_uri": "https://localhost:8080/"
        }
      },
      "execution_count": 8,
      "outputs": [
        {
          "output_type": "stream",
          "name": "stdout",
          "text": [
            "5\n"
          ]
        }
      ]
    },
    {
      "cell_type": "code",
      "source": [
        "#32. Write a python program to check whether a lsit contains a sublist\n",
        "\n"
      ],
      "metadata": {
        "id": "5FaziVk2Ti41"
      },
      "execution_count": 9,
      "outputs": []
    },
    {
      "cell_type": "code",
      "source": [
        "#33. Write a python program to generate all sublists of a list.\n"
      ],
      "metadata": {
        "id": "YxAzV-jkXvCY"
      },
      "execution_count": 10,
      "outputs": []
    },
    {
      "cell_type": "code",
      "source": [
        "#37. Write a python program to find common items from two lists\n",
        "\n",
        "color1 = \"Red\",\"Green\",\"Orange\",\"White\"\n",
        "color2 = \"Black\",\"Green\",\"White\",\"Pink\"\n",
        "\n",
        "print(set(color1) & set(color2))"
      ],
      "metadata": {
        "id": "O3oFvda7YJ2n",
        "outputId": "4df24b3b-3d09-403d-a0eb-28b4ddb1690a",
        "colab": {
          "base_uri": "https://localhost:8080/"
        }
      },
      "execution_count": 11,
      "outputs": [
        {
          "output_type": "stream",
          "name": "stdout",
          "text": [
            "{'White', 'Green'}\n"
          ]
        }
      ]
    },
    {
      "cell_type": "code",
      "source": [
        "#39. Write a python program to convert a list of multiple"
      ],
      "metadata": {
        "id": "4AwmYnCNY2Nm"
      },
      "execution_count": null,
      "outputs": []
    }
  ]
}