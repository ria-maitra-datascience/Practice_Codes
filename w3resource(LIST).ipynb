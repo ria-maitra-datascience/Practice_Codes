{
  "nbformat": 4,
  "nbformat_minor": 0,
  "metadata": {
    "colab": {
      "name": "w3resource(LIST).ipynb",
      "provenance": [],
      "authorship_tag": "ABX9TyMM3ch9wS2GoVGQRF29upKY",
      "include_colab_link": true
    },
    "kernelspec": {
      "name": "python3",
      "display_name": "Python 3"
    },
    "language_info": {
      "name": "python"
    }
  },
  "cells": [
    {
      "cell_type": "markdown",
      "metadata": {
        "id": "view-in-github",
        "colab_type": "text"
      },
      "source": [
        "<a href=\"https://colab.research.google.com/github/ria1994maitra/Practice_Codes/blob/main/w3resource(LIST).ipynb\" target=\"_parent\"><img src=\"https://colab.research.google.com/assets/colab-badge.svg\" alt=\"Open In Colab\"/></a>"
      ]
    },
    {
      "cell_type": "code",
      "execution_count": 1,
      "metadata": {
        "colab": {
          "base_uri": "https://localhost:8080/"
        },
        "id": "Jh7aV829lZlb",
        "outputId": "269a2aba-4e74-4c54-cd03-cc26fdaf4ed3"
      },
      "outputs": [
        {
          "output_type": "stream",
          "name": "stdout",
          "text": [
            "6\n"
          ]
        }
      ],
      "source": [
        "#1. Write a Python program to sum all the items in a list.\n",
        "def sum_list(items):\n",
        "    sum_numbers = 0\n",
        "    for x in items:\n",
        "        sum_numbers += x\n",
        "    return sum_numbers\n",
        "print(sum_list([1,2,3]))"
      ]
    },
    {
      "cell_type": "code",
      "source": [
        "#Multiply all the items in a list\n",
        "def multiply_list(items):\n",
        "    tot = 1\n",
        "    for x in items:\n",
        "        tot = tot*x\n",
        "    return tot\n",
        "print(multiply_list([1,2,3,4]))"
      ],
      "metadata": {
        "colab": {
          "base_uri": "https://localhost:8080/"
        },
        "id": "ti5SZ-zlvTqX",
        "outputId": "38369b14-5187-4ea7-c93d-802c15efdffa"
      },
      "execution_count": 2,
      "outputs": [
        {
          "output_type": "stream",
          "name": "stdout",
          "text": [
            "24\n"
          ]
        }
      ]
    },
    {
      "cell_type": "code",
      "source": [
        "#3. Write a Python program to get the largest number from a list.\n",
        "def max_num_in_list( list ):\n",
        "    max = list[ 0 ]\n",
        "    for a in list:\n",
        "        if a > max:\n",
        "            max = a\n",
        "    return max\n",
        "print(max_num_in_list([2, 3, 8, 0]))"
      ],
      "metadata": {
        "colab": {
          "base_uri": "https://localhost:8080/"
        },
        "id": "_J4zmIfFxiyW",
        "outputId": "37e2d931-6e04-4620-fa37-a93d34e76ae3"
      },
      "execution_count": 4,
      "outputs": [
        {
          "output_type": "stream",
          "name": "stdout",
          "text": [
            "8\n"
          ]
        }
      ]
    },
    {
      "cell_type": "code",
      "source": [
        "def max_num(list):\n",
        "    max = list[0]\n",
        "    for a in list:\n",
        "        if a> max:\n",
        "            max = a\n",
        "    return max\n",
        "print(max_num([1,23,4,1]))"
      ],
      "metadata": {
        "colab": {
          "base_uri": "https://localhost:8080/"
        },
        "id": "cl6twKWp2-PL",
        "outputId": "74e570c0-9500-4949-8d13-4d9ba4651b7a"
      },
      "execution_count": 5,
      "outputs": [
        {
          "output_type": "stream",
          "name": "stdout",
          "text": [
            "23\n"
          ]
        }
      ]
    },
    {
      "cell_type": "code",
      "source": [
        "#4. Write a Python program to get the smallest number from a list.\n",
        "\n",
        "def smal_num(list):\n",
        "    min = list[0]\n",
        "    for a in list:\n",
        "        if a<min:\n",
        "            min =a\n",
        "    return min\n",
        "print(smal_num([2,4,2,1,0]))"
      ],
      "metadata": {
        "colab": {
          "base_uri": "https://localhost:8080/"
        },
        "id": "4qMjBkGR6bL9",
        "outputId": "aa9a9c72-03c5-425c-c3e6-5b949a1df15e"
      },
      "execution_count": 7,
      "outputs": [
        {
          "output_type": "stream",
          "name": "stdout",
          "text": [
            "0\n"
          ]
        }
      ]
    },
    {
      "cell_type": "code",
      "source": [
        "#5. Count the number of strings where the string length is 2 or more and the first and last character are same from a given list of strings\n",
        "\n",
        "def match_word(word):\n",
        "    count = 0\n",
        "    for word in word:\n",
        "        if len(word)>1 and word[0] == word[-1]:\n",
        "            count = count + 1\n",
        "    return count\n",
        "print(match_word(['aria','ria','xyz']))"
      ],
      "metadata": {
        "colab": {
          "base_uri": "https://localhost:8080/"
        },
        "id": "VnANZX9_7AnA",
        "outputId": "18186158-3acb-489f-bd21-69bc7c23638a"
      },
      "execution_count": 9,
      "outputs": [
        {
          "output_type": "stream",
          "name": "stdout",
          "text": [
            "1\n"
          ]
        }
      ]
    },
    {
      "cell_type": "code",
      "source": [
        ""
      ],
      "metadata": {
        "id": "n5jnLgMA-J1j"
      },
      "execution_count": null,
      "outputs": []
    }
  ]
}