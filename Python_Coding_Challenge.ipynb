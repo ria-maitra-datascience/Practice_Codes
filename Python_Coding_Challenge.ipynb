{
  "nbformat": 4,
  "nbformat_minor": 0,
  "metadata": {
    "colab": {
      "name": "Python Coding Challenge.ipynb",
      "provenance": [],
      "authorship_tag": "ABX9TyOQRnpznLxZFMhVRilRsw6i",
      "include_colab_link": true
    },
    "kernelspec": {
      "name": "python3",
      "display_name": "Python 3"
    },
    "language_info": {
      "name": "python"
    }
  },
  "cells": [
    {
      "cell_type": "markdown",
      "metadata": {
        "id": "view-in-github",
        "colab_type": "text"
      },
      "source": [
        "<a href=\"https://colab.research.google.com/github/ria1994maitra/Practice_Codes/blob/main/Python_Coding_Challenge.ipynb\" target=\"_parent\"><img src=\"https://colab.research.google.com/assets/colab-badge.svg\" alt=\"Open In Colab\"/></a>"
      ]
    },
    {
      "cell_type": "code",
      "metadata": {
        "id": "rPOnk5WN355_"
      },
      "source": [
        ""
      ],
      "execution_count": null,
      "outputs": []
    },
    {
      "cell_type": "markdown",
      "metadata": {
        "id": "nZlrEK8T45xF"
      },
      "source": [
        "## Q 1."
      ]
    },
    {
      "cell_type": "code",
      "metadata": {
        "colab": {
          "base_uri": "https://localhost:8080/"
        },
        "id": "r7nepB8l48iF",
        "outputId": "3e7dfc33-24cd-4816-c7ef-b74259538a9c"
      },
      "source": [
        "class Acc:\n",
        "    def __init__(self,id):\n",
        "        self.id = id\n",
        "        id = 555\n",
        "acc = Acc(111)\n",
        "print(acc.id)"
      ],
      "execution_count": null,
      "outputs": [
        {
          "output_type": "stream",
          "name": "stdout",
          "text": [
            "111\n"
          ]
        }
      ]
    },
    {
      "cell_type": "markdown",
      "metadata": {
        "id": "dx2l1qDk57nU"
      },
      "source": [
        "Explanation: Instantiation of the class \"Acc\" automatically calls the method__intit__ and passess the object as the self parameter. 111 is aasigned to data attribute of the object called id. The value \"555\" is not retained in the object as it is not assigned to a data attribute of the class/pbject. So, the output od the program is \"111\""
      ]
    },
    {
      "cell_type": "markdown",
      "metadata": {
        "id": "Dat2D2Pr6pGz"
      },
      "source": [
        "## Q 2."
      ]
    },
    {
      "cell_type": "code",
      "metadata": {
        "colab": {
          "base_uri": "https://localhost:8080/"
        },
        "id": "dYhLtGGl5xQy",
        "outputId": "1c123a9c-9abf-4691-dd2d-0052644366de"
      },
      "source": [
        "for i in range(2):\n",
        "    print(i)\n",
        "\n",
        "for i in range(4,6):\n",
        "    print(i)"
      ],
      "execution_count": null,
      "outputs": [
        {
          "output_type": "stream",
          "name": "stdout",
          "text": [
            "0\n",
            "1\n",
            "4\n",
            "5\n"
          ]
        }
      ]
    },
    {
      "cell_type": "markdown",
      "metadata": {
        "id": "Gt_AdgG867L2"
      },
      "source": [
        "## Q 3."
      ]
    },
    {
      "cell_type": "code",
      "metadata": {
        "colab": {
          "base_uri": "https://localhost:8080/"
        },
        "id": "XtzgizqK64nE",
        "outputId": "97200fd3-7042-42fc-9ad5-22f817cedc4a"
      },
      "source": [
        "values = [1,2,3,4]\n",
        "numbers = set(values)\n",
        "\n",
        "def checknums(num):\n",
        "    if num in numbers:\n",
        "        return True\n",
        "    else:\n",
        "        return False\n",
        "\n",
        "for i in filter(checknums, values):\n",
        "    print(i)"
      ],
      "execution_count": null,
      "outputs": [
        {
          "output_type": "stream",
          "name": "stdout",
          "text": [
            "1\n",
            "2\n",
            "3\n",
            "4\n"
          ]
        }
      ]
    },
    {
      "cell_type": "markdown",
      "metadata": {
        "id": "IfaRTMXRE5MO"
      },
      "source": [
        "filter(function, sequence)\n",
        "Parameters:\n",
        "function: function that tests if each element of a \n",
        "sequence true or not.\n",
        "sequence: sequence which needs to be filtered, it can \n",
        "be sets, lists, tuples, or containers of any iterators.\n",
        "Returns:\n",
        "returns an iterator that is already filtered."
      ]
    },
    {
      "cell_type": "markdown",
      "metadata": {
        "id": "_G-MAGI7FFJ4"
      },
      "source": [
        "## Q 4."
      ]
    },
    {
      "cell_type": "code",
      "metadata": {
        "id": "CcZPXsKP7jwW"
      },
      "source": [
        "counter = {}\n",
        "\n",
        "def addToCounter(country):\n",
        "    if country in counter:\n",
        "        counter[country] += 1\n",
        "    else:\n",
        "        counter[country] = 1"
      ],
      "execution_count": null,
      "outputs": []
    },
    {
      "cell_type": "code",
      "metadata": {
        "colab": {
          "base_uri": "https://localhost:8080/"
        },
        "id": "E3jcYmgTFyXs",
        "outputId": "767b42d1-757e-4dc3-b531-35c8ce1c884a"
      },
      "source": [
        "addToCounter('China')\n",
        "addToCounter('Japan')\n",
        "addToCounter('china')\n",
        "addToCounter('China')\n",
        "\n",
        "print(len(counter))"
      ],
      "execution_count": null,
      "outputs": [
        {
          "output_type": "stream",
          "name": "stdout",
          "text": [
            "3\n"
          ]
        }
      ]
    },
    {
      "cell_type": "code",
      "metadata": {
        "colab": {
          "base_uri": "https://localhost:8080/"
        },
        "id": "uFjHo8bZJJl_",
        "outputId": "15f5f5c1-6787-450f-bfc5-8aae84b75c96"
      },
      "source": [
        "counter"
      ],
      "execution_count": null,
      "outputs": [
        {
          "output_type": "execute_result",
          "data": {
            "text/plain": [
              "{'China': 2, 'Japan': 1, 'china': 1}"
            ]
          },
          "metadata": {},
          "execution_count": 22
        }
      ]
    },
    {
      "cell_type": "markdown",
      "metadata": {
        "id": "JCr5aGayJZFo"
      },
      "source": [
        "The task of \"len\" function is to return number of keys in a dictionary. Here 3 keys are added to the dictionary \"country\" using the \"add to counter\" function.\n",
        "Please note carefully the keys to a dictionary are case sensitive."
      ]
    },
    {
      "cell_type": "code",
      "metadata": {
        "colab": {
          "base_uri": "https://localhost:8080/"
        },
        "id": "j-cxb3NfJLlK",
        "outputId": "30ac9c79-aab9-4bf8-bb94-5e84270c2b49"
      },
      "source": [
        "def dfFunction():\n",
        "    \"DataTrained is cool website for boosting up technical skills\"\n",
        "    return 1\n",
        "print(dfFunction.__doc__[15:19])"
      ],
      "execution_count": null,
      "outputs": [
        {
          "output_type": "stream",
          "name": "stdout",
          "text": [
            "cool\n"
          ]
        }
      ]
    },
    {
      "cell_type": "markdown",
      "metadata": {
        "id": "VvmTH8xFLSxm"
      },
      "source": [
        "Explanation: There is a docstring defined for this method, by putting a string on the first line after the start of the function definition. The docstring can be referenced using the __doc__attribute of the function. Hence it prints the indexed string"
      ]
    },
    {
      "cell_type": "markdown",
      "metadata": {
        "id": "tXjG9XWcL2bX"
      },
      "source": [
        "## Q 6."
      ]
    },
    {
      "cell_type": "code",
      "metadata": {
        "colab": {
          "base_uri": "https://localhost:8080/"
        },
        "id": "-qUkZNinLLxK",
        "outputId": "a9988b1a-ac3f-4cd3-c893-6f2d3a15bfd6"
      },
      "source": [
        "class A(object):\n",
        "    val = 1\n",
        "class B(A):\n",
        "    pass\n",
        "class C(A):\n",
        "    pass\n",
        "print(A.val, B.val, C.val)\n",
        "B.val = 2\n",
        "print(A.val, B.val, C.val)\n",
        "A.val = 3\n",
        "print(A.val, B.val, C.val)"
      ],
      "execution_count": null,
      "outputs": [
        {
          "output_type": "stream",
          "name": "stdout",
          "text": [
            "1 1 1\n",
            "1 2 1\n",
            "3 2 3\n"
          ]
        }
      ]
    },
    {
      "cell_type": "markdown",
      "metadata": {
        "id": "-RKbwYd_MyPi"
      },
      "source": [
        "## Q 7."
      ]
    },
    {
      "cell_type": "code",
      "metadata": {
        "id": "BhwQkOyeMed-"
      },
      "source": [
        "check1 = ['learn','Quiz','Practice','Cntribute']\n",
        "check2 = check1\n",
        "check3 = check1[:]"
      ],
      "execution_count": null,
      "outputs": []
    },
    {
      "cell_type": "code",
      "metadata": {
        "id": "t2KHiZpKNQx8"
      },
      "source": [
        "check2[0] = \"Code\"\n",
        "check3[1] = \"Mcq\""
      ],
      "execution_count": null,
      "outputs": []
    },
    {
      "cell_type": "code",
      "metadata": {
        "colab": {
          "base_uri": "https://localhost:8080/"
        },
        "id": "krGlmfOVNR6i",
        "outputId": "9b770c17-00ee-4476-da30-76ba367860ab"
      },
      "source": [
        "count = 0\n",
        "for c in (check1, check2, check3):\n",
        "    if c[0] == \"Code\":\n",
        "        count += 1\n",
        "    if c[1] == 'Mcq':\n",
        "        count += 10 \n",
        "print(count)   "
      ],
      "execution_count": null,
      "outputs": [
        {
          "output_type": "stream",
          "name": "stdout",
          "text": [
            "12\n"
          ]
        }
      ]
    },
    {
      "cell_type": "code",
      "metadata": {
        "colab": {
          "base_uri": "https://localhost:8080/"
        },
        "id": "bZAo6jFFN--A",
        "outputId": "1ad49b21-c0b9-401f-cb4c-721574917359"
      },
      "source": [
        "check3"
      ],
      "execution_count": null,
      "outputs": [
        {
          "output_type": "execute_result",
          "data": {
            "text/plain": [
              "['learn', 'Mcq', 'Practice', 'Cntribute']"
            ]
          },
          "metadata": {},
          "execution_count": 31
        }
      ]
    },
    {
      "cell_type": "code",
      "metadata": {
        "colab": {
          "base_uri": "https://localhost:8080/"
        },
        "id": "qKZhYkt2OOFd",
        "outputId": "2b49e24d-fdb6-4885-e335-bfad7f9bfd21"
      },
      "source": [
        "check2"
      ],
      "execution_count": null,
      "outputs": [
        {
          "output_type": "execute_result",
          "data": {
            "text/plain": [
              "['Code', 'Quiz', 'Practice', 'Cntribute']"
            ]
          },
          "metadata": {},
          "execution_count": 32
        }
      ]
    },
    {
      "cell_type": "code",
      "metadata": {
        "colab": {
          "base_uri": "https://localhost:8080/"
        },
        "id": "_MlcHikpOWp_",
        "outputId": "97716c3d-7b27-4c5d-c3cf-a0f594b99059"
      },
      "source": [
        "check1"
      ],
      "execution_count": null,
      "outputs": [
        {
          "output_type": "execute_result",
          "data": {
            "text/plain": [
              "['Code', 'Quiz', 'Practice', 'Cntribute']"
            ]
          },
          "metadata": {},
          "execution_count": 34
        }
      ]
    },
    {
      "cell_type": "markdown",
      "metadata": {
        "id": "4uexpqEOOyf-"
      },
      "source": [
        "When assignment check1 to check2, we create a second reference to the same list. Changes to check2 affects check1. When assigning the slice of all elements in check1 to check3, we are creating a full copy of check1 which can be modified independently(i.e, any changes in check3 will not affect check1).\n",
        "So, while checking check1\"Code gets matched and count increases to 1, but Mcq does not gets matched since its available only in check3.\n",
        "Now checking check2 here alsoe \"Code\" gets matched result in count value to 2. Finally while checking check 3 which is separate from both check1 and check2 here only Mcq gets matched and count becomes 12.\n"
      ]
    },
    {
      "cell_type": "markdown",
      "metadata": {
        "id": "D56fJN9jQR15"
      },
      "source": [
        "## Q 8."
      ]
    },
    {
      "cell_type": "code",
      "metadata": {
        "colab": {
          "base_uri": "https://localhost:8080/"
        },
        "id": "m8HvEm9EOYpE",
        "outputId": "388984f9-2004-4b3c-b76f-5ec8a5e5da19"
      },
      "source": [
        "def dataTr(x,I=[]):\n",
        "    for i in range(x):\n",
        "        I.append(i*i)\n",
        "    print(I)\n",
        "\n",
        "dataTr(2)\n",
        "dataTr(3,[3,2,1])\n",
        "dataTr(3)"
      ],
      "execution_count": null,
      "outputs": [
        {
          "output_type": "stream",
          "name": "stdout",
          "text": [
            "[0, 1]\n",
            "[3, 2, 1, 0, 1, 4]\n",
            "[0, 1, 0, 1, 4]\n"
          ]
        }
      ]
    },
    {
      "cell_type": "code",
      "metadata": {
        "id": "2HsX7aPZV3rc"
      },
      "source": [
        "from random import randrange\n",
        "L = list()\n",
        "for x in range(5):\n",
        "    L.append(randrange(0,100,2)-10)"
      ],
      "execution_count": null,
      "outputs": []
    },
    {
      "cell_type": "code",
      "metadata": {
        "colab": {
          "base_uri": "https://localhost:8080/"
        },
        "id": "3Ka0v4lCWqCL",
        "outputId": "47f38970-8734-479d-911c-686add4cd462"
      },
      "source": [
        "L"
      ],
      "execution_count": null,
      "outputs": [
        {
          "output_type": "execute_result",
          "data": {
            "text/plain": [
              "[76, 64, 4, 88, 56]"
            ]
          },
          "metadata": {},
          "execution_count": 2
        }
      ]
    },
    {
      "cell_type": "code",
      "metadata": {
        "id": "9Bc_PQGnWsK7"
      },
      "source": [
        "from math import*\n",
        "a= 2.13\n",
        "b=3.7777\n",
        "c=-3.12"
      ],
      "execution_count": null,
      "outputs": []
    },
    {
      "cell_type": "code",
      "metadata": {
        "colab": {
          "base_uri": "https://localhost:8080/"
        },
        "id": "QZGvSrx4W4Ph",
        "outputId": "9ff5a220-4e02-46bb-d001-a8e7b9a66f49"
      },
      "source": [
        "print(int(a),floor(b),ceil(c),fabs(c))"
      ],
      "execution_count": null,
      "outputs": [
        {
          "output_type": "stream",
          "name": "stdout",
          "text": [
            "2 3 -3 3.12\n"
          ]
        }
      ]
    },
    {
      "cell_type": "code",
      "metadata": {
        "id": "omF1-AzjXCQl",
        "colab": {
          "base_uri": "https://localhost:8080/"
        },
        "outputId": "648e32d5-a300-4d7e-8be7-4e320a5a68be"
      },
      "source": [
        "x = \"cat\"\n",
        "def f():\n",
        "    x = \"bird\"\n",
        "    def g():\n",
        "        x = \"dog\"\n",
        "        y = \"fish\"\n",
        "        print(x)\n",
        "    g()\n",
        "f()"
      ],
      "execution_count": 1,
      "outputs": [
        {
          "output_type": "stream",
          "name": "stdout",
          "text": [
            "dog\n"
          ]
        }
      ]
    },
    {
      "cell_type": "code",
      "metadata": {
        "colab": {
          "base_uri": "https://localhost:8080/"
        },
        "id": "FUWJ3DtWT96u",
        "outputId": "db3dd09a-29b3-47b7-b6a6-49d69e1ee8e3"
      },
      "source": [
        "def f(x, y,z):\n",
        "    return x + y + z\n",
        "f(1, z=3, y =2)"
      ],
      "execution_count": 2,
      "outputs": [
        {
          "output_type": "execute_result",
          "data": {
            "text/plain": [
              "6"
            ]
          },
          "metadata": {},
          "execution_count": 2
        }
      ]
    },
    {
      "cell_type": "code",
      "metadata": {
        "colab": {
          "base_uri": "https://localhost:8080/"
        },
        "id": "95StiiGqUbL8",
        "outputId": "3bab5a31-1267-43ea-ecac-bd01e640d714"
      },
      "source": [
        "def f(x, y, z=3):\n",
        "    return x+y+z\n",
        "f(1,2)"
      ],
      "execution_count": 3,
      "outputs": [
        {
          "output_type": "execute_result",
          "data": {
            "text/plain": [
              "6"
            ]
          },
          "metadata": {},
          "execution_count": 3
        }
      ]
    },
    {
      "cell_type": "code",
      "metadata": {
        "colab": {
          "base_uri": "https://localhost:8080/"
        },
        "id": "p2kEWihAU0ir",
        "outputId": "a91df77a-101d-4851-c5d3-f6b820ebe551"
      },
      "source": [
        "def f(x, y, z):\n",
        "    return x + y + z\n",
        "f(x=1, y=2, z=3)"
      ],
      "execution_count": 4,
      "outputs": [
        {
          "output_type": "execute_result",
          "data": {
            "text/plain": [
              "6"
            ]
          },
          "metadata": {},
          "execution_count": 4
        }
      ]
    },
    {
      "cell_type": "code",
      "metadata": {
        "colab": {
          "base_uri": "https://localhost:8080/",
          "height": 129
        },
        "id": "3yP0GkNmVHw6",
        "outputId": "66a93cac-85a6-403e-f210-e5081f5eb450"
      },
      "source": [
        "def f(x,y,z):\n",
        "    return x + y + z\n",
        "f(z=3, y=2, 1)"
      ],
      "execution_count": 5,
      "outputs": [
        {
          "output_type": "error",
          "ename": "SyntaxError",
          "evalue": "ignored",
          "traceback": [
            "\u001b[0;36m  File \u001b[0;32m\"<ipython-input-5-28cf68b12714>\"\u001b[0;36m, line \u001b[0;32m3\u001b[0m\n\u001b[0;31m    f(z=3, y=2, 1)\u001b[0m\n\u001b[0m               ^\u001b[0m\n\u001b[0;31mSyntaxError\u001b[0m\u001b[0;31m:\u001b[0m positional argument follows keyword argument\n"
          ]
        }
      ]
    },
    {
      "cell_type": "code",
      "metadata": {
        "id": "Dkj5RI1zVV7a"
      },
      "source": [
        "a = 0\n",
        "for i in range(10):\n",
        "    if i == 2:\n",
        "        pass\n",
        "    else: \n",
        "        a = i"
      ],
      "execution_count": 6,
      "outputs": []
    },
    {
      "cell_type": "code",
      "metadata": {
        "colab": {
          "base_uri": "https://localhost:8080/"
        },
        "id": "pewsVhaMWJio",
        "outputId": "f9651776-9e8d-444a-9bda-3a6bc51ea503"
      },
      "source": [
        "a"
      ],
      "execution_count": 7,
      "outputs": [
        {
          "output_type": "execute_result",
          "data": {
            "text/plain": [
              "9"
            ]
          },
          "metadata": {},
          "execution_count": 7
        }
      ]
    },
    {
      "cell_type": "code",
      "metadata": {
        "id": "jCXiJfpsWN9o"
      },
      "source": [
        "months = dict(January=1, february=2, March=3)"
      ],
      "execution_count": 8,
      "outputs": []
    },
    {
      "cell_type": "code",
      "metadata": {
        "colab": {
          "base_uri": "https://localhost:8080/"
        },
        "id": "RbPgAQ19Wr35",
        "outputId": "65c17cb8-e2b8-4545-9dee-4f1b2c26fadb"
      },
      "source": [
        "for k, v in months.items():\n",
        "    print(k,v)"
      ],
      "execution_count": 9,
      "outputs": [
        {
          "output_type": "stream",
          "name": "stdout",
          "text": [
            "January 1\n",
            "february 2\n",
            "March 3\n"
          ]
        }
      ]
    },
    {
      "cell_type": "code",
      "metadata": {
        "id": "sBJh8DH_XErH"
      },
      "source": [
        ""
      ],
      "execution_count": null,
      "outputs": []
    }
  ]
}