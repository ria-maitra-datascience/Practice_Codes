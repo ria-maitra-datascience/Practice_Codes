{
  "nbformat": 4,
  "nbformat_minor": 0,
  "metadata": {
    "colab": {
      "name": "w3resource(Dictionary).ipynb",
      "provenance": [],
      "authorship_tag": "ABX9TyNPpFsBx7JGXM638LP7PpjE",
      "include_colab_link": true
    },
    "kernelspec": {
      "name": "python3",
      "display_name": "Python 3"
    },
    "language_info": {
      "name": "python"
    }
  },
  "cells": [
    {
      "cell_type": "markdown",
      "metadata": {
        "id": "view-in-github",
        "colab_type": "text"
      },
      "source": [
        "<a href=\"https://colab.research.google.com/github/ria1994maitra/Practice_Codes/blob/main/w3resource(Dictionary).ipynb\" target=\"_parent\"><img src=\"https://colab.research.google.com/assets/colab-badge.svg\" alt=\"Open In Colab\"/></a>"
      ]
    },
    {
      "cell_type": "code",
      "execution_count": null,
      "metadata": {
        "colab": {
          "base_uri": "https://localhost:8080/"
        },
        "id": "QJWRIfPt4TpN",
        "outputId": "ab9d3db2-3599-40e7-cdcd-86de8109ee42"
      },
      "outputs": [
        {
          "output_type": "stream",
          "name": "stdout",
          "text": [
            "{1: 2, 3: 4, 4: 3, 2: 1, 0: 0}\n",
            "Dictionary in ascending order by value : [(0, 0), (2, 1), (1, 2), (4, 3), (3, 4)]\n",
            "Dictionary in descending order by value : {3: 4, 4: 3, 1: 2, 2: 1, 0: 0}\n"
          ]
        }
      ],
      "source": [
        "#1. Write a python program to sort a dictionary by value\n",
        "\n",
        "import operator\n",
        "d = {1:2,3:4,4:3,2:1,0:0}\n",
        "print(d)\n",
        "sorted_d = sorted(d.items(), key = operator.itemgetter(1))\n",
        "print(\"Dictionary in ascending order by value :\", sorted_d)\n",
        "sorted_d = dict(sorted(d.items(), key = operator.itemgetter(1), reverse = True))\n",
        "print(\"Dictionary in descending order by value :\", sorted_d)"
      ]
    },
    {
      "cell_type": "code",
      "source": [
        "#2. Write a python program to add a key to a dictionary\n",
        "\n",
        "d= {0:10,1:20}\n",
        "d.update({2:30})\n",
        "d"
      ],
      "metadata": {
        "colab": {
          "base_uri": "https://localhost:8080/"
        },
        "id": "UYzB2U8H6d_t",
        "outputId": "c75e42e1-4bcc-4cac-e37b-23a366d11fbb"
      },
      "execution_count": null,
      "outputs": [
        {
          "output_type": "execute_result",
          "data": {
            "text/plain": [
              "{0: 10, 1: 20, 2: 30}"
            ]
          },
          "metadata": {},
          "execution_count": 2
        }
      ]
    },
    {
      "cell_type": "code",
      "source": [
        "#3. Write a python program to concatenate following dictionaries to create a new one\n",
        "\n",
        "d1= {1:10,2:20}\n",
        "d2 = {3:30,4:40}\n",
        "d3 = {5:50,6:60}\n",
        "d4 = {7:70,8:80}\n",
        "\n",
        "dic = {}\n",
        "for d in (d1,d2,d3,d4):\n",
        "    dic.update(d)\n",
        "dic"
      ],
      "metadata": {
        "colab": {
          "base_uri": "https://localhost:8080/"
        },
        "id": "hjzKfImt69HG",
        "outputId": "7c150b79-d888-445c-b678-2d40f563e429"
      },
      "execution_count": null,
      "outputs": [
        {
          "output_type": "execute_result",
          "data": {
            "text/plain": [
              "{1: 10, 2: 20, 3: 30, 4: 40, 5: 50, 6: 60, 7: 70, 8: 80}"
            ]
          },
          "metadata": {},
          "execution_count": 4
        }
      ]
    },
    {
      "cell_type": "code",
      "source": [
        "#4. Write a python program to check if a key already exist in a dictionary or not\n",
        "\n",
        "dic ={0:1,2:3,3:4,4:5,5:6}\n",
        "def key_present(x):\n",
        "    if x in dic:\n",
        "        print(\"key is present\")\n",
        "    else:\n",
        "        print(\"key is not present\")\n",
        "key_present(6)\n",
        "key_present(0)"
      ],
      "metadata": {
        "colab": {
          "base_uri": "https://localhost:8080/"
        },
        "id": "Dic8GK9r7zCc",
        "outputId": "2ea32b2a-b665-4917-a100-e569cefaef4e"
      },
      "execution_count": null,
      "outputs": [
        {
          "output_type": "stream",
          "name": "stdout",
          "text": [
            "key is not present\n",
            "key is present\n"
          ]
        }
      ]
    },
    {
      "cell_type": "code",
      "source": [
        "#5. Write a python program to iterate over dictionaries using for loops\n",
        "\n",
        "d = {'x':7,'y':6,'z':7,'f':8}\n",
        "for d_keys,d_values in d.items():\n",
        "    print(d_keys,d_values)"
      ],
      "metadata": {
        "colab": {
          "base_uri": "https://localhost:8080/"
        },
        "id": "hkhioR3v9cAx",
        "outputId": "45569994-39d2-4bed-d496-2be6f01c89cd"
      },
      "execution_count": null,
      "outputs": [
        {
          "output_type": "stream",
          "name": "stdout",
          "text": [
            "x 7\n",
            "y 6\n",
            "z 7\n",
            "f 8\n"
          ]
        }
      ]
    },
    {
      "cell_type": "code",
      "source": [
        "#6. Write a Python script to generate and print a dictionary that contains a number (between 1 and n) in the form (x, x*x).\n",
        "\n",
        "n = int(input(\"Input a number\"))\n",
        "d = dict()\n",
        "\n",
        "for x in range(1, n+1):\n",
        "    d[x] = x*x\n",
        "\n",
        "print(d)"
      ],
      "metadata": {
        "id": "lOw3Yp6I931z",
        "outputId": "33446dfc-82c1-4f83-d00f-5fb1732026a3",
        "colab": {
          "base_uri": "https://localhost:8080/"
        }
      },
      "execution_count": null,
      "outputs": [
        {
          "output_type": "stream",
          "name": "stdout",
          "text": [
            "Input a number3\n",
            "{1: 1, 2: 4, 3: 9}\n"
          ]
        }
      ]
    },
    {
      "cell_type": "code",
      "source": [
        "#7. Write a Python script to print a dictionary where the keys are numbers between 1 and 15 (both included) and the values are square of keys\n",
        "\n",
        "d = dict()\n",
        "for x in range(1,16):\n",
        "    d[x] = x**2\n",
        "print(d)"
      ],
      "metadata": {
        "id": "YZclYBbuGXAI",
        "outputId": "27882cab-c624-4e68-a2c2-0eae79b5b38c",
        "colab": {
          "base_uri": "https://localhost:8080/"
        }
      },
      "execution_count": 1,
      "outputs": [
        {
          "output_type": "stream",
          "name": "stdout",
          "text": [
            "{1: 1, 2: 4, 3: 9, 4: 16, 5: 25, 6: 36, 7: 49, 8: 64, 9: 81, 10: 100, 11: 121, 12: 144, 13: 169, 14: 196, 15: 225}\n"
          ]
        }
      ]
    },
    {
      "cell_type": "code",
      "source": [
        "#8. Write a Python script to merge two Python dictionaries\n",
        "\n",
        "d1 = {'a':100,'b':200}\n",
        "d2 = {'c':300,'d':400}\n",
        "d= d1.copy()\n",
        "d.update(d2)\n",
        "d"
      ],
      "metadata": {
        "id": "C1_8Bu0XTGg8",
        "outputId": "e1a4a5b6-0c9f-4f9e-b3cd-c09449e8cff4",
        "colab": {
          "base_uri": "https://localhost:8080/"
        }
      },
      "execution_count": 5,
      "outputs": [
        {
          "output_type": "execute_result",
          "data": {
            "text/plain": [
              "{'a': 100, 'b': 200, 'c': 300, 'd': 400}"
            ]
          },
          "metadata": {},
          "execution_count": 5
        }
      ]
    },
    {
      "cell_type": "code",
      "source": [
        "#9. Write a Python program to iterate over dictionaries using for loops.\n",
        "d = {\"red\":1,\"green\":2,\"blue\":3}\n",
        "for color_key, value in d.items():\n",
        "    print(color_key,'corresponds',d[color_key])"
      ],
      "metadata": {
        "id": "CLKDxa2hT5CS",
        "outputId": "c531758b-7d28-488f-89b0-bda7355d3e5b",
        "colab": {
          "base_uri": "https://localhost:8080/"
        }
      },
      "execution_count": 6,
      "outputs": [
        {
          "output_type": "stream",
          "name": "stdout",
          "text": [
            "red corresponds 1\n",
            "green corresponds 2\n",
            "blue corresponds 3\n"
          ]
        }
      ]
    },
    {
      "cell_type": "code",
      "source": [
        "#10. Write a Python program to sum all the items in a dictionary.\n",
        "\n",
        "my_dict = {'data1':100,'data2':-54,'data3':247}\n",
        "print(sum(my_dict.values()))"
      ],
      "metadata": {
        "id": "063l9LPjbHbJ",
        "outputId": "3c0dc859-d9bd-4968-c57e-89abdc1e5743",
        "colab": {
          "base_uri": "https://localhost:8080/"
        }
      },
      "execution_count": 8,
      "outputs": [
        {
          "output_type": "stream",
          "name": "stdout",
          "text": [
            "293\n"
          ]
        }
      ]
    },
    {
      "cell_type": "code",
      "source": [
        "#11. Write a Python program to multiply all the items in a dictionary.\n",
        "my_dict = {'data1':100,'data2':-54,'data3':247}\n",
        "result = 1\n",
        "for key in my_dict:\n",
        "    result = result* my_dict[key]\n",
        "print(result)"
      ],
      "metadata": {
        "id": "NgN6y9Sabx6t",
        "outputId": "7ae61ab6-8c20-4a69-e529-3cd576b61c1b",
        "colab": {
          "base_uri": "https://localhost:8080/"
        }
      },
      "execution_count": 9,
      "outputs": [
        {
          "output_type": "stream",
          "name": "stdout",
          "text": [
            "-1333800\n"
          ]
        }
      ]
    },
    {
      "cell_type": "code",
      "source": [
        ""
      ],
      "metadata": {
        "id": "9t-Bnsrlcnew"
      },
      "execution_count": null,
      "outputs": []
    }
  ]
}