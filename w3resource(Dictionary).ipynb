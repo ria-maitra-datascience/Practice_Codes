{
  "nbformat": 4,
  "nbformat_minor": 0,
  "metadata": {
    "colab": {
      "name": "w3resource(Dictionary).ipynb",
      "provenance": [],
      "authorship_tag": "ABX9TyOL1jxHgA0vRt1aL4PfI+KY",
      "include_colab_link": true
    },
    "kernelspec": {
      "name": "python3",
      "display_name": "Python 3"
    },
    "language_info": {
      "name": "python"
    }
  },
  "cells": [
    {
      "cell_type": "markdown",
      "metadata": {
        "id": "view-in-github",
        "colab_type": "text"
      },
      "source": [
        "<a href=\"https://colab.research.google.com/github/ria1994maitra/Practice_Codes/blob/main/w3resource(Dictionary).ipynb\" target=\"_parent\"><img src=\"https://colab.research.google.com/assets/colab-badge.svg\" alt=\"Open In Colab\"/></a>"
      ]
    },
    {
      "cell_type": "code",
      "execution_count": 1,
      "metadata": {
        "colab": {
          "base_uri": "https://localhost:8080/"
        },
        "id": "QJWRIfPt4TpN",
        "outputId": "ab9d3db2-3599-40e7-cdcd-86de8109ee42"
      },
      "outputs": [
        {
          "output_type": "stream",
          "name": "stdout",
          "text": [
            "{1: 2, 3: 4, 4: 3, 2: 1, 0: 0}\n",
            "Dictionary in ascending order by value : [(0, 0), (2, 1), (1, 2), (4, 3), (3, 4)]\n",
            "Dictionary in descending order by value : {3: 4, 4: 3, 1: 2, 2: 1, 0: 0}\n"
          ]
        }
      ],
      "source": [
        "#1. Write a python program to sort a dictionary by value\n",
        "\n",
        "import operator\n",
        "d = {1:2,3:4,4:3,2:1,0:0}\n",
        "print(d)\n",
        "sorted_d = sorted(d.items(), key = operator.itemgetter(1))\n",
        "print(\"Dictionary in ascending order by value :\", sorted_d)\n",
        "sorted_d = dict(sorted(d.items(), key = operator.itemgetter(1), reverse = True))\n",
        "print(\"Dictionary in descending order by value :\", sorted_d)"
      ]
    },
    {
      "cell_type": "code",
      "source": [
        "#2. Write a python program to add a key to a dictionary\n",
        "\n",
        "d= {0:10,1:20}\n",
        "d.update({2:30})\n",
        "d"
      ],
      "metadata": {
        "colab": {
          "base_uri": "https://localhost:8080/"
        },
        "id": "UYzB2U8H6d_t",
        "outputId": "c75e42e1-4bcc-4cac-e37b-23a366d11fbb"
      },
      "execution_count": 2,
      "outputs": [
        {
          "output_type": "execute_result",
          "data": {
            "text/plain": [
              "{0: 10, 1: 20, 2: 30}"
            ]
          },
          "metadata": {},
          "execution_count": 2
        }
      ]
    },
    {
      "cell_type": "code",
      "source": [
        "#3. Write a python program to concatenate following dictionaries to create a new one\n",
        "\n",
        "d1= {1:10,2:20}\n",
        "d2 = {3:30,4:40}\n",
        "d3 = {5:50,6:60}\n",
        "d4 = {7:70,8:80}\n",
        "\n",
        "dic = {}\n",
        "for d in (d1,d2,d3,d4):\n",
        "    dic.update(d)\n",
        "dic"
      ],
      "metadata": {
        "colab": {
          "base_uri": "https://localhost:8080/"
        },
        "id": "hjzKfImt69HG",
        "outputId": "7c150b79-d888-445c-b678-2d40f563e429"
      },
      "execution_count": 4,
      "outputs": [
        {
          "output_type": "execute_result",
          "data": {
            "text/plain": [
              "{1: 10, 2: 20, 3: 30, 4: 40, 5: 50, 6: 60, 7: 70, 8: 80}"
            ]
          },
          "metadata": {},
          "execution_count": 4
        }
      ]
    },
    {
      "cell_type": "code",
      "source": [
        "#4. Write a python program to check if a key already exist in a dictionary or not\n",
        "\n",
        "dic ={0:1,2:3,3:4,4:5,5:6}\n",
        "def key_present(x):\n",
        "    if x in dic:\n",
        "        print(\"key is present\")\n",
        "    else:\n",
        "        print(\"key is not present\")\n",
        "key_present(6)\n",
        "key_present(0)"
      ],
      "metadata": {
        "colab": {
          "base_uri": "https://localhost:8080/"
        },
        "id": "Dic8GK9r7zCc",
        "outputId": "2ea32b2a-b665-4917-a100-e569cefaef4e"
      },
      "execution_count": 7,
      "outputs": [
        {
          "output_type": "stream",
          "name": "stdout",
          "text": [
            "key is not present\n",
            "key is present\n"
          ]
        }
      ]
    },
    {
      "cell_type": "code",
      "source": [
        "#5. Write a python program to iterate over dictionaries using for loops\n",
        "\n",
        "d = {'x':7,'y':6,'z':7,'f':8}\n",
        "for d_keys,d_values in d.items():\n",
        "    print(d_keys,d_values)"
      ],
      "metadata": {
        "colab": {
          "base_uri": "https://localhost:8080/"
        },
        "id": "hkhioR3v9cAx",
        "outputId": "45569994-39d2-4bed-d496-2be6f01c89cd"
      },
      "execution_count": 16,
      "outputs": [
        {
          "output_type": "stream",
          "name": "stdout",
          "text": [
            "x 7\n",
            "y 6\n",
            "z 7\n",
            "f 8\n"
          ]
        }
      ]
    },
    {
      "cell_type": "code",
      "source": [
        ""
      ],
      "metadata": {
        "id": "lOw3Yp6I931z"
      },
      "execution_count": null,
      "outputs": []
    }
  ]
}