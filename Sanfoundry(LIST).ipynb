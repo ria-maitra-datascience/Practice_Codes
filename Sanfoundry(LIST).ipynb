{
  "nbformat": 4,
  "nbformat_minor": 0,
  "metadata": {
    "colab": {
      "name": "Sanfoundry(LIST).ipynb",
      "provenance": [],
      "authorship_tag": "ABX9TyNRo22AePxWpS0qu/vRaE/H",
      "include_colab_link": true
    },
    "kernelspec": {
      "name": "python3",
      "display_name": "Python 3"
    },
    "language_info": {
      "name": "python"
    }
  },
  "cells": [
    {
      "cell_type": "markdown",
      "metadata": {
        "id": "view-in-github",
        "colab_type": "text"
      },
      "source": [
        "<a href=\"https://colab.research.google.com/github/ria1994maitra/Practice_Codes/blob/main/Sanfoundry(LIST).ipynb\" target=\"_parent\"><img src=\"https://colab.research.google.com/assets/colab-badge.svg\" alt=\"Open In Colab\"/></a>"
      ]
    },
    {
      "cell_type": "markdown",
      "source": [
        "## **List**\n",
        "1. Python Program to Find the Largest Number in a List\n",
        "2. Python Program to Find the Second Largest Number in a List\n",
        "3. Python Program to Put Even and Odd elements in a List into Two Different Lists\n",
        "4. Python Program to Merge Two Lists and Sort it\n",
        "5. Python Program to Sort the List According to the Second Element in Sublist\n",
        "6. Python Program to Find the Second Largest Number in a List Using Bubble Sort\n",
        "7. Python Program to Sort a List According to the Length of the Elements\n",
        "8. Python Program to Find the Union of two Lists\n",
        "9. Python Program to Find the Intersection of Two Lists\n",
        "10. Python Program to Create a List of Tuples with the First Element as the Number and Second Element as the Square of the Number\n",
        "11. Python Program to Find all Numbers in a Range which are Perfect Squares and Sum of all Digits in the Number is Less than 10\n",
        "12. Python Program to Find the Cumulative Sum of a List where the ith Element is the Sum of the First i+1 Elements From The Original List\n",
        "13. Python Program to Generate Random Numbers from 1 to 20 and Append Them to the List\n",
        "14. Python program to Sort a List of Tuples in Increasing Order by the Last Element in Each Tuple\n",
        "15. Python Program to Swap the First and Last Value of a List\n",
        "16. Python Program to Remove the Duplicate Items from a List\n",
        "17. Python Program to Read a List of Words and Return the Length of the Longest One\n",
        "18. Python Program to Remove the ith Occurrence of the Given Word in a List where Words can Repeat\n",
        "19. Python Program to Remove All Tuples in a List of Tuples with the USN Outside the Given Range\n",
        "20. Python Program to solve Maximum Subarray Problem using Divide and Conquer\n",
        "21. Python Program to solve Maximum Subarray Problem using Kadane’s Algorithm\n",
        "22. Python Program to Find Element Occurring Odd Number of Times in a List\n"
      ],
      "metadata": {
        "id": "TfqLX4ws5qOC"
      }
    },
    {
      "cell_type": "code",
      "execution_count": null,
      "metadata": {
        "id": "3wRK_OmE5j6H"
      },
      "outputs": [],
      "source": [
        ""
      ]
    }
  ]
}