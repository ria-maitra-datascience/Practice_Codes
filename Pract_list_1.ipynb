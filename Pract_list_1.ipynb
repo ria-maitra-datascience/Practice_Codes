{
  "nbformat": 4,
  "nbformat_minor": 0,
  "metadata": {
    "colab": {
      "name": "Pract_list_1",
      "provenance": []
    },
    "kernelspec": {
      "name": "python3",
      "display_name": "Python 3"
    }
  },
  "cells": [
    {
      "cell_type": "code",
      "metadata": {
        "id": "Yc6OCvlDYLBS"
      },
      "source": [
        "#This is a Python Program to find the largest number in a list"
      ],
      "execution_count": 1,
      "outputs": []
    },
    {
      "cell_type": "code",
      "metadata": {
        "colab": {
          "base_uri": "https://localhost:8080/"
        },
        "id": "Xpjgz_-AYgRc",
        "outputId": "3a122d6a-dc07-4762-f0c5-4e1013d120e4"
      },
      "source": [
        "a=[]\r\n",
        "n=int(input(\"Enter Number of Elements\"))\r\n",
        "for i in range(1,n+1):\r\n",
        "  b=int(input(\"Enter Element\"))\r\n",
        "  a.append(b)\r\n",
        "a.sort()\r\n",
        "print('The largest element is:',a[n-1])"
      ],
      "execution_count": 21,
      "outputs": [
        {
          "output_type": "stream",
          "text": [
            "Enter Number of Elements5\n",
            "Enter Element6\n",
            "Enter Element7\n",
            "Enter Element3\n",
            "Enter Element5\n",
            "Enter Element2\n",
            "The largest element is: 7\n"
          ],
          "name": "stdout"
        }
      ]
    },
    {
      "cell_type": "code",
      "metadata": {
        "id": "w-33xbGxdscu"
      },
      "source": [
        "c=[3,67.0,0.5,69.4]"
      ],
      "execution_count": 7,
      "outputs": []
    },
    {
      "cell_type": "code",
      "metadata": {
        "id": "zPCzUFyBdvQF"
      },
      "source": [
        "c.sort()"
      ],
      "execution_count": 8,
      "outputs": []
    },
    {
      "cell_type": "code",
      "metadata": {
        "colab": {
          "base_uri": "https://localhost:8080/"
        },
        "id": "OEmsO5V8eGDi",
        "outputId": "5731777d-a99c-4210-e48e-3f5bc112b9a9"
      },
      "source": [
        "c[-2]"
      ],
      "execution_count": 22,
      "outputs": [
        {
          "output_type": "execute_result",
          "data": {
            "text/plain": [
              "67.0"
            ]
          },
          "metadata": {
            "tags": []
          },
          "execution_count": 22
        }
      ]
    },
    {
      "cell_type": "code",
      "metadata": {
        "colab": {
          "base_uri": "https://localhost:8080/"
        },
        "id": "7S5qsnzeeKOz",
        "outputId": "650cf1bb-b3d8-47ce-abda-0fc124b89915"
      },
      "source": [
        "# Python program to find the Second larget number in the list:\r\n",
        "\r\n",
        "a=[]\r\n",
        "n=int(input(\"Enter number of element: \"))\r\n",
        "for i in range(1,n+1):\r\n",
        "  b=int(input('Enter Elements: '))\r\n",
        "  a.append(b)\r\n",
        "a.sort()\r\n",
        "print('The second largest number: ',a[n-2])\r\n",
        "\r\n",
        "\r\n"
      ],
      "execution_count": 25,
      "outputs": [
        {
          "output_type": "stream",
          "text": [
            "Enter number of element: 6\n",
            "Enter Elements: 6\n",
            "Enter Elements: 57\n",
            "Enter Elements: 54\n",
            "Enter Elements: 34\n",
            "Enter Elements: 78\n",
            "Enter Elements: 66\n",
            "The second largest number:  66\n"
          ],
          "name": "stdout"
        }
      ]
    },
    {
      "cell_type": "code",
      "metadata": {
        "colab": {
          "base_uri": "https://localhost:8080/"
        },
        "id": "fpKbGWkDhbo-",
        "outputId": "f7a27cf9-089d-4aff-8035-d264c3e868d9"
      },
      "source": [
        "#This is a Python Program to put the even and odd elements in a list into two different lists.\r\n",
        "\r\n",
        "a=[]\r\n",
        "n=int(input('Enter Number of Elements: '))\r\n",
        "for i in range(1,n+1):\r\n",
        "  b=int(input('Enter Elements: '))\r\n",
        "  a.append(b)\r\n",
        "even=[]\r\n",
        "odd=[]\r\n",
        "for j in a:\r\n",
        "  if (j%2==0):\r\n",
        "    even.append(j)\r\n",
        "  else:\r\n",
        "    odd.append(j)\r\n",
        "print(even)\r\n",
        "print(odd)"
      ],
      "execution_count": 26,
      "outputs": [
        {
          "output_type": "stream",
          "text": [
            "Enter Number of Elements: 6\n",
            "Enter Elements: 7\n",
            "Enter Elements: 4\n",
            "Enter Elements: 3\n",
            "Enter Elements: 5\n",
            "Enter Elements: 5\n",
            "Enter Elements: 9\n",
            "[4]\n",
            "[7, 3, 5, 5, 9]\n"
          ],
          "name": "stdout"
        }
      ]
    },
    {
      "cell_type": "code",
      "metadata": {
        "colab": {
          "base_uri": "https://localhost:8080/"
        },
        "id": "Vhv722S3kgKt",
        "outputId": "b209bc9f-c641-4ff2-cf7f-59a6aa5e1b6c"
      },
      "source": [
        "# Python program to merge two list and sort it\r\n",
        "\r\n",
        "a=[]\r\n",
        "b=[]\r\n",
        "n=int(input(\"Enter number of elements: \"))\r\n",
        "for i in range(1,n+1):\r\n",
        "  c=int(input('Enter elements: '))\r\n",
        "  a.append(c)\r\n",
        "m=int(input('Enter number of elements: '))\r\n",
        "for j in range(1,m+1):\r\n",
        "  d=int(input(\"Enter elements: \"))\r\n",
        "  b.append(d)\r\n",
        "new=a+b\r\n",
        "new.sort()\r\n",
        "print(\"New List: \",new)"
      ],
      "execution_count": 29,
      "outputs": [
        {
          "output_type": "stream",
          "text": [
            "Enter number of elements: 6\n",
            "Enter elements: 5\n",
            "Enter elements: 45\n",
            "Enter elements: 4\n",
            "Enter elements: 23\n",
            "Enter elements: 45\n",
            "Enter elements: 32\n",
            "Enter number of elements: 4\n",
            "Enter elements: 23\n",
            "Enter elements: 34\n",
            "Enter elements: 21\n",
            "Enter elements: 34\n",
            "New List:  [4, 5, 21, 23, 23, 32, 34, 34, 45, 45]\n"
          ],
          "name": "stdout"
        }
      ]
    },
    {
      "cell_type": "code",
      "metadata": {
        "id": "XN80NtOay_Uf"
      },
      "source": [
        ""
      ],
      "execution_count": null,
      "outputs": []
    }
  ]
}