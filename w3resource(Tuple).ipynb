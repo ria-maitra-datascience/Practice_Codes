{
  "nbformat": 4,
  "nbformat_minor": 0,
  "metadata": {
    "colab": {
      "name": "w3resource(Tuple).ipynb",
      "provenance": [],
      "authorship_tag": "ABX9TyMDGJE2tSYt18p2W+GdSwIL",
      "include_colab_link": true
    },
    "kernelspec": {
      "name": "python3",
      "display_name": "Python 3"
    },
    "language_info": {
      "name": "python"
    }
  },
  "cells": [
    {
      "cell_type": "markdown",
      "metadata": {
        "id": "view-in-github",
        "colab_type": "text"
      },
      "source": [
        "<a href=\"https://colab.research.google.com/github/ria1994maitra/Practice_Codes/blob/main/w3resource(Tuple).ipynb\" target=\"_parent\"><img src=\"https://colab.research.google.com/assets/colab-badge.svg\" alt=\"Open In Colab\"/></a>"
      ]
    },
    {
      "cell_type": "code",
      "execution_count": null,
      "metadata": {
        "colab": {
          "base_uri": "https://localhost:8080/"
        },
        "id": "CCFgOm0YDdMA",
        "outputId": "89c7e1c0-fb5a-464a-ea76-cf03e6ae88eb"
      },
      "outputs": [
        {
          "output_type": "execute_result",
          "data": {
            "text/plain": [
              "()"
            ]
          },
          "metadata": {},
          "execution_count": 1
        }
      ],
      "source": [
        "#1. Write a python program to create a tuple\n",
        "\n",
        "x= ()\n",
        "tuplex = tuple()\n",
        "tuplex"
      ]
    },
    {
      "cell_type": "code",
      "source": [
        "#2. Write a python program to create a tuple with different data types\n",
        "\n",
        "tuplex = ('tuple', False,3.3,4,5)\n",
        "tuplex"
      ],
      "metadata": {
        "colab": {
          "base_uri": "https://localhost:8080/"
        },
        "id": "8nOlSezSD8oe",
        "outputId": "cb4aa6d7-660f-4c40-e0cd-503747b1bfe6"
      },
      "execution_count": null,
      "outputs": [
        {
          "output_type": "execute_result",
          "data": {
            "text/plain": [
              "('tuple', False, 3.3, 4, 5)"
            ]
          },
          "metadata": {},
          "execution_count": 2
        }
      ]
    },
    {
      "cell_type": "code",
      "source": [
        "#3. Write a pyhton program to create a tuple with numbers and print one item.\n",
        "\n",
        "tuplex = 5,6,7,8,9\n",
        "print(tuplex)\n",
        "tuplex = 5,\n",
        "print(tuplex)"
      ],
      "metadata": {
        "colab": {
          "base_uri": "https://localhost:8080/"
        },
        "id": "oISJ2bHDEbWc",
        "outputId": "f5c1b92c-b9cd-4d72-fc19-c15e041748fb"
      },
      "execution_count": null,
      "outputs": [
        {
          "output_type": "stream",
          "name": "stdout",
          "text": [
            "(5, 6, 7, 8, 9)\n",
            "(5,)\n"
          ]
        }
      ]
    },
    {
      "cell_type": "code",
      "source": [
        "#4. Write a python program to unpack a tuple in several variables\n",
        "\n",
        "tuplex = 4,5,6,7\n",
        "print(tuplex)\n",
        "\n",
        "v1, v2, v3, v4 = tuplex\n",
        "print(v1)\n",
        "print(v2)\n",
        "print(v3)\n",
        "print(v4)"
      ],
      "metadata": {
        "colab": {
          "base_uri": "https://localhost:8080/"
        },
        "id": "NHB_Q8X_FAXC",
        "outputId": "1f4a054c-bb65-4a47-96a6-198d45f23da7"
      },
      "execution_count": null,
      "outputs": [
        {
          "output_type": "stream",
          "name": "stdout",
          "text": [
            "(4, 5, 6, 7)\n",
            "4\n",
            "5\n",
            "6\n",
            "7\n"
          ]
        }
      ]
    },
    {
      "cell_type": "code",
      "source": [
        "#5. Write a python program to add an item in a tuple\n",
        "\n",
        "tuplex =(4,5,6,7,8)\n",
        "print(tuplex)\n",
        "#tuples are immutable, so you can not add new elements\n",
        "\n",
        "tuplex = tuplex +(9,)\n",
        "print(tuplex)"
      ],
      "metadata": {
        "colab": {
          "base_uri": "https://localhost:8080/"
        },
        "id": "U_cszYlMFvEN",
        "outputId": "2153bd52-a1af-4bad-bcfd-ed1411e3670a"
      },
      "execution_count": null,
      "outputs": [
        {
          "output_type": "stream",
          "name": "stdout",
          "text": [
            "(4, 5, 6, 7, 8)\n",
            "(4, 5, 6, 7, 8, 9)\n"
          ]
        }
      ]
    },
    {
      "cell_type": "code",
      "source": [
        "#6. Write a Python program to convert a tuple to a string.\n",
        "\n",
        "tup = ('e','x','e','r','c','i','s','e','s')\n",
        "str = ''.join(tup)\n",
        "print(str)"
      ],
      "metadata": {
        "id": "5DRYuC25GhGR",
        "outputId": "2b07d153-e59a-47f9-dfe3-0e1fca1f6c7a",
        "colab": {
          "base_uri": "https://localhost:8080/"
        }
      },
      "execution_count": 1,
      "outputs": [
        {
          "output_type": "stream",
          "name": "stdout",
          "text": [
            "exercises\n"
          ]
        }
      ]
    },
    {
      "cell_type": "code",
      "source": [
        "#7. Write a Python program to get the 4th element and 4th element from last of a tuple\n",
        "\n",
        "tuplex = (\"w\",3,\"r\",'e','s','o','u','r','c','e')\n",
        "print(tuplex)\n",
        "item = tuplex[3]\n",
        "print(item)\n",
        "item1 = tuplex[-4]\n",
        "print(item1)"
      ],
      "metadata": {
        "id": "iV9NPD29Llow",
        "outputId": "97be25ed-e69b-4670-f766-11e86c21df12",
        "colab": {
          "base_uri": "https://localhost:8080/"
        }
      },
      "execution_count": 2,
      "outputs": [
        {
          "output_type": "stream",
          "name": "stdout",
          "text": [
            "('w', 3, 'r', 'e', 's', 'o', 'u', 'r', 'c', 'e')\n",
            "e\n",
            "u\n"
          ]
        }
      ]
    },
    {
      "cell_type": "code",
      "source": [
        "#8. Write a Python program to create the colon of a tuple.\n",
        "from copy import deepcopy\n",
        "tuplex = (\"hello\",5,[],True)\n",
        "print(tuplex)\n",
        "tuplex_colon = deepcopy(tuplex)\n",
        "tuplex_colon[2].append(50)\n",
        "print(tuplex_colon)\n",
        "print(tuplex)"
      ],
      "metadata": {
        "id": "pghf-8qhMbbr",
        "outputId": "7050c895-f2bc-4bdc-fa0b-c79a79b0d151",
        "colab": {
          "base_uri": "https://localhost:8080/"
        }
      },
      "execution_count": 3,
      "outputs": [
        {
          "output_type": "stream",
          "name": "stdout",
          "text": [
            "('hello', 5, [], True)\n",
            "('hello', 5, [50], True)\n",
            "('hello', 5, [], True)\n"
          ]
        }
      ]
    },
    {
      "cell_type": "code",
      "source": [
        "#9. Write a Python program to find the repeated items of a tuple.\n",
        "tuplex = 2,3,4,56,6,78,7,4\n",
        "print(tuplex)\n",
        "count = tuplex.count(4)\n",
        "print(count)\n"
      ],
      "metadata": {
        "id": "UD16lZPdOyNv",
        "outputId": "1a398d64-11d7-4315-bda4-9960358b44df",
        "colab": {
          "base_uri": "https://localhost:8080/"
        }
      },
      "execution_count": 5,
      "outputs": [
        {
          "output_type": "stream",
          "name": "stdout",
          "text": [
            "(2, 3, 4, 56, 6, 78, 7, 4)\n",
            "2\n"
          ]
        }
      ]
    },
    {
      "cell_type": "code",
      "source": [
        "#10. Write a Python program to check whether an element exists within a tuple\n",
        "tuplex = (\"w\",3,\"r\",\"e\",\"s\",\"o\",\"u\",\"r\",\"c\",\"e\")\n",
        "print(\"r\" in tuplex)\n",
        "print(5 in tuplex)"
      ],
      "metadata": {
        "id": "WlqXbTgJPOPK",
        "outputId": "dc6a152d-5d28-4527-f7e0-f63c75a320a5",
        "colab": {
          "base_uri": "https://localhost:8080/"
        }
      },
      "execution_count": 6,
      "outputs": [
        {
          "output_type": "stream",
          "name": "stdout",
          "text": [
            "True\n",
            "False\n"
          ]
        }
      ]
    },
    {
      "cell_type": "code",
      "source": [
        ""
      ],
      "metadata": {
        "id": "rL_yRI_nP3Lb"
      },
      "execution_count": null,
      "outputs": []
    }
  ]
}