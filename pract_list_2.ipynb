{
  "nbformat": 4,
  "nbformat_minor": 0,
  "metadata": {
    "colab": {
      "name": "pract_list_2",
      "provenance": [],
      "authorship_tag": "ABX9TyOkOBpKRvUPyWuNixvw5WyR",
      "include_colab_link": true
    },
    "kernelspec": {
      "name": "python3",
      "display_name": "Python 3"
    }
  },
  "cells": [
    {
      "cell_type": "markdown",
      "metadata": {
        "id": "view-in-github",
        "colab_type": "text"
      },
      "source": [
        "<a href=\"https://colab.research.google.com/github/ria1994maitra/Practice_Codes/blob/main/pract_list_2.ipynb\" target=\"_parent\"><img src=\"https://colab.research.google.com/assets/colab-badge.svg\" alt=\"Open In Colab\"/></a>"
      ]
    },
    {
      "cell_type": "code",
      "metadata": {
        "colab": {
          "base_uri": "https://localhost:8080/"
        },
        "id": "OfxmhRpQa7KM",
        "outputId": "fd01a6f6-bd38-4824-e940-6e0a67e04d59"
      },
      "source": [
        "#Then the list is sorted using the length of the elements as the key.\r\n",
        "a=[]\r\n",
        "n=int(input(\"Enter number of elements: \"))\r\n",
        "for i in range(1,n+1):\r\n",
        "  b=input('Enter element:')\r\n",
        "  a.append(b)\r\n",
        "a.sort(key=len)\r\n",
        "print(a)\r\n",
        "\r\n",
        "\r\n",
        "\r\n"
      ],
      "execution_count": 8,
      "outputs": [
        {
          "output_type": "stream",
          "text": [
            "Enter number of elements: 4\n",
            "Enter element:my\n",
            "Enter element:name\n",
            "Enter element: is\n",
            "Enter element:ria\n",
            "['my', ' is', 'ria', 'name']\n"
          ],
          "name": "stdout"
        }
      ]
    },
    {
      "cell_type": "code",
      "metadata": {
        "colab": {
          "base_uri": "https://localhost:8080/"
        },
        "id": "dCsJBpHcf2jB",
        "outputId": "1db10632-a01b-4173-b55f-72a42eca970f"
      },
      "source": [
        "isa=[]\r\n",
        "n=int(input(\"Enter number of elements:\"))\r\n",
        "for i in range(1,n+1):\r\n",
        "    b=input(\"Enter element:\")\r\n",
        "    a.append(b)\r\n",
        "a.sort(key=len)\r\n",
        "print(a)"
      ],
      "execution_count": 7,
      "outputs": [
        {
          "output_type": "stream",
          "text": [
            "Enter number of elements:3\n",
            "Enter element:4\n",
            "Enter element:6\n",
            "Enter element:1\n",
            "['4', '6', '1']\n"
          ],
          "name": "stdout"
        }
      ]
    },
    {
      "cell_type": "markdown",
      "metadata": {
        "id": "xEMSuVVpyotP"
      },
      "source": [
        "### To find the union of two list\r\n",
        "1. User must enter the number of elements in the list and store it in a variable.\r\n",
        "2. User must enter the values to the same number of elements into the list.\r\n",
        "3. The append function obtains each element from the user and adds the same to the end of the list as many times as the number of elements taken.\r\n",
        "4. The same of 2 and 3 is done for the second list also.\r\n",
        "5. The union function accepts two lists and returns the list which is the union of the two lists, i.e, all the values from list 1 and 2 without redundancy.\r\n",
        "6. The set function in the union function accepts a list and returns the list after elimination of redundant values.\r\n",
        "7. The lists are passed to the union function and the returned list is printed.\r\n",
        "\r\n",
        "advertisement"
      ]
    },
    {
      "cell_type": "code",
      "metadata": {
        "colab": {
          "base_uri": "https://localhost:8080/"
        },
        "id": "gyAMqazVy0ju",
        "outputId": "c54e28de-0836-4a2c-c260-33720ad89ed5"
      },
      "source": [
        "l1=[]\r\n",
        "n=int(input(\"No. of Elements: \"))\r\n",
        "for i in range(1,n+1):\r\n",
        "  a=input(\"Enter elements: \")\r\n",
        "  l1.append(a)\r\n",
        "l2=[]\r\n",
        "m=int(input(\"Enter no. of elements: \"))\r\n",
        "for j in range(1,n+1):\r\n",
        "  b=input(\"Enter elements: \")\r\n",
        "  l2.append(b)\r\n",
        "ne_list=list(set().union(l1,l2))\r\n",
        "print(\"New List: \",ne_list)"
      ],
      "execution_count": 12,
      "outputs": [
        {
          "output_type": "stream",
          "text": [
            "No. of Elements: 3\n",
            "Enter elements: apple\n",
            "Enter elements: apple\n",
            "Enter elements: banana\n",
            "Enter no. of elements: 4\n",
            "Enter elements: apple\n",
            "Enter elements: banana\n",
            "Enter elements: peach\n",
            "New List:  ['apple', 'banana', 'peach']\n"
          ],
          "name": "stdout"
        }
      ]
    },
    {
      "cell_type": "code",
      "metadata": {
        "colab": {
          "base_uri": "https://localhost:8080/"
        },
        "id": "4l8YmXt9zvYJ",
        "outputId": "af6ff187-e9dd-4c4d-9e82-0ec0b0ee266a"
      },
      "source": [
        "l1=[]\r\n",
        "n=int(input(\"No. of Elements: \"))\r\n",
        "for i in range(1,n+1):\r\n",
        "  a=input(\"Enter elements: \")\r\n",
        "  l1.append(a)\r\n",
        "l2=[]\r\n",
        "m=int(input(\"Enter no. of elements: \"))\r\n",
        "for j in range(1,n+1):\r\n",
        "  b=input(\"Enter elements: \")\r\n",
        "  l2.append(b)\r\n",
        "ne_list=list(set().union(l1,l2))\r\n",
        "print(\"New List: \",ne_list)\r\n"
      ],
      "execution_count": 14,
      "outputs": [
        {
          "output_type": "stream",
          "text": [
            "No. of Elements: 4\n",
            "Enter elements: a\n",
            "Enter elements: b\n",
            "Enter elements: \n",
            "Enter elements: b\n",
            "Enter no. of elements: 4\n",
            "Enter elements: a\n",
            "Enter elements: b\n",
            "Enter elements: c\n",
            "Enter elements: b\n",
            "New List:  ['', 'b', 'c', 'a']\n"
          ],
          "name": "stdout"
        }
      ]
    },
    {
      "cell_type": "code",
      "metadata": {
        "id": "wjLwqXF60vDJ"
      },
      "source": [
        ""
      ],
      "execution_count": null,
      "outputs": []
    }
  ]
}