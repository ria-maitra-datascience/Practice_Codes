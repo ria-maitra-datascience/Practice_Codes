{
  "nbformat": 4,
  "nbformat_minor": 0,
  "metadata": {
    "colab": {
      "name": "pract_list_2",
      "provenance": [],
      "authorship_tag": "ABX9TyMOAHgjce/cPMr2DwTWs1hs",
      "include_colab_link": true
    },
    "kernelspec": {
      "name": "python3",
      "display_name": "Python 3"
    }
  },
  "cells": [
    {
      "cell_type": "markdown",
      "metadata": {
        "id": "view-in-github",
        "colab_type": "text"
      },
      "source": [
        "<a href=\"https://colab.research.google.com/github/ria1994maitra/Practice_Codes/blob/main/pract_list_2.ipynb\" target=\"_parent\"><img src=\"https://colab.research.google.com/assets/colab-badge.svg\" alt=\"Open In Colab\"/></a>"
      ]
    },
    {
      "cell_type": "code",
      "metadata": {
        "colab": {
          "base_uri": "https://localhost:8080/"
        },
        "id": "OfxmhRpQa7KM",
        "outputId": "fd01a6f6-bd38-4824-e940-6e0a67e04d59"
      },
      "source": [
        "#Then the list is sorted using the length of the elements as the key.\n",
        "a=[]\n",
        "n=int(input(\"Enter number of elements: \"))\n",
        "for i in range(1,n+1):\n",
        "  b=input('Enter element:')\n",
        "  a.append(b)\n",
        "a.sort(key=len)\n",
        "print(a)\n",
        "\n",
        "\n",
        "\n"
      ],
      "execution_count": null,
      "outputs": [
        {
          "output_type": "stream",
          "text": [
            "Enter number of elements: 4\n",
            "Enter element:my\n",
            "Enter element:name\n",
            "Enter element: is\n",
            "Enter element:ria\n",
            "['my', ' is', 'ria', 'name']\n"
          ],
          "name": "stdout"
        }
      ]
    },
    {
      "cell_type": "code",
      "metadata": {
        "colab": {
          "base_uri": "https://localhost:8080/"
        },
        "id": "dCsJBpHcf2jB",
        "outputId": "1db10632-a01b-4173-b55f-72a42eca970f"
      },
      "source": [
        "isa=[]\n",
        "n=int(input(\"Enter number of elements:\"))\n",
        "for i in range(1,n+1):\n",
        "    b=input(\"Enter element:\")\n",
        "    a.append(b)\n",
        "a.sort(key=len)\n",
        "print(a)"
      ],
      "execution_count": null,
      "outputs": [
        {
          "output_type": "stream",
          "text": [
            "Enter number of elements:3\n",
            "Enter element:4\n",
            "Enter element:6\n",
            "Enter element:1\n",
            "['4', '6', '1']\n"
          ],
          "name": "stdout"
        }
      ]
    },
    {
      "cell_type": "markdown",
      "metadata": {
        "id": "xEMSuVVpyotP"
      },
      "source": [
        "### To find the union of two list\n",
        "1. User must enter the number of elements in the list and store it in a variable.\n",
        "2. User must enter the values to the same number of elements into the list.\n",
        "3. The append function obtains each element from the user and adds the same to the end of the list as many times as the number of elements taken.\n",
        "4. The same of 2 and 3 is done for the second list also.\n",
        "5. The union function accepts two lists and returns the list which is the union of the two lists, i.e, all the values from list 1 and 2 without redundancy.\n",
        "6. The set function in the union function accepts a list and returns the list after elimination of redundant values.\n",
        "7. The lists are passed to the union function and the returned list is printed.\n",
        "\n",
        "advertisement"
      ]
    },
    {
      "cell_type": "code",
      "metadata": {
        "colab": {
          "base_uri": "https://localhost:8080/"
        },
        "id": "gyAMqazVy0ju",
        "outputId": "c54e28de-0836-4a2c-c260-33720ad89ed5"
      },
      "source": [
        "l1=[]\n",
        "n=int(input(\"No. of Elements: \"))\n",
        "for i in range(1,n+1):\n",
        "  a=input(\"Enter elements: \")\n",
        "  l1.append(a)\n",
        "l2=[]\n",
        "m=int(input(\"Enter no. of elements: \"))\n",
        "for j in range(1,n+1):\n",
        "  b=input(\"Enter elements: \")\n",
        "  l2.append(b)\n",
        "ne_list=list(set().union(l1,l2))\n",
        "print(\"New List: \",ne_list)"
      ],
      "execution_count": null,
      "outputs": [
        {
          "output_type": "stream",
          "text": [
            "No. of Elements: 3\n",
            "Enter elements: apple\n",
            "Enter elements: apple\n",
            "Enter elements: banana\n",
            "Enter no. of elements: 4\n",
            "Enter elements: apple\n",
            "Enter elements: banana\n",
            "Enter elements: peach\n",
            "New List:  ['apple', 'banana', 'peach']\n"
          ],
          "name": "stdout"
        }
      ]
    },
    {
      "cell_type": "code",
      "metadata": {
        "colab": {
          "base_uri": "https://localhost:8080/"
        },
        "id": "4l8YmXt9zvYJ",
        "outputId": "af6ff187-e9dd-4c4d-9e82-0ec0b0ee266a"
      },
      "source": [
        "l1=[]\n",
        "n=int(input(\"No. of Elements: \"))\n",
        "for i in range(1,n+1):\n",
        "  a=input(\"Enter elements: \")\n",
        "  l1.append(a)\n",
        "l2=[]\n",
        "m=int(input(\"Enter no. of elements: \"))\n",
        "for j in range(1,n+1):\n",
        "  b=input(\"Enter elements: \")\n",
        "  l2.append(b)\n",
        "ne_list=list(set().union(l1,l2))\n",
        "print(\"New List: \",ne_list)\n"
      ],
      "execution_count": null,
      "outputs": [
        {
          "output_type": "stream",
          "text": [
            "No. of Elements: 4\n",
            "Enter elements: a\n",
            "Enter elements: b\n",
            "Enter elements: \n",
            "Enter elements: b\n",
            "Enter no. of elements: 4\n",
            "Enter elements: a\n",
            "Enter elements: b\n",
            "Enter elements: c\n",
            "Enter elements: b\n",
            "New List:  ['', 'b', 'c', 'a']\n"
          ],
          "name": "stdout"
        }
      ]
    },
    {
      "cell_type": "markdown",
      "source": [
        "# program on dictionary"
      ],
      "metadata": {
        "id": "OkoWybtWDfyc"
      }
    },
    {
      "cell_type": "code",
      "metadata": {
        "id": "wjLwqXF60vDJ"
      },
      "source": [
        "# the program takes a key-value pair and adds it to the dictionary\n",
        "\n",
        "# 1. take a value pair from the user and store it in separate variable\n",
        "# 2. Declare a dictionary and initialize it to an empty dictionary.\n",
        "# 3. Use the update() function to the key-value pair to the dictionary\n",
        "# 4. print the final dictionary\n",
        "# 5. exit"
      ],
      "execution_count": null,
      "outputs": []
    },
    {
      "cell_type": "code",
      "source": [
        "# Solution\n",
        "key = int(input(\"enter the key (int) to be added:\"))\n",
        "value = int(input(\"enter the value for the key to be added:\"))\n",
        "d = {}\n",
        "d.update({key:value})\n",
        "print(\"update dictionary is:\")\n",
        "print(d)"
      ],
      "metadata": {
        "id": "lblPkoO2Edm2",
        "outputId": "6311bd22-eeb4-48db-8618-3f92440b89f4",
        "colab": {
          "base_uri": "https://localhost:8080/"
        }
      },
      "execution_count": null,
      "outputs": [
        {
          "output_type": "stream",
          "name": "stdout",
          "text": [
            "enter the key (int) to be added:56\n",
            "enter the value for the key to be added: 76\n",
            "update dictionary is:\n",
            "{56: 76}\n"
          ]
        }
      ]
    },
    {
      "cell_type": "code",
      "source": [
        "# Program to concatenate Two Dictionaries Into One\n",
        "\n",
        "# 1. Declare and initialize two dictionaries with some key-value pairs.\n",
        "# 2. use the update() function to add the key-value pair from the second dictionary to the first dictionary.\n",
        "# 3. Print the final dictionary.\n",
        "# 4. Exit\n",
        "\n",
        "\n",
        "# Solution\n",
        "\n",
        "d1 = {'A': 1, 'B': 2}\n",
        "d2 = {'C':3}\n",
        "d1.update(d2)\n",
        "\n",
        "print(\"Concatenated dictionary is:\")\n",
        "print(d1)"
      ],
      "metadata": {
        "id": "KIkwpRRoFWqa",
        "outputId": "67e38539-14ea-4112-e154-1032e0a9569a",
        "colab": {
          "base_uri": "https://localhost:8080/"
        }
      },
      "execution_count": null,
      "outputs": [
        {
          "output_type": "stream",
          "name": "stdout",
          "text": [
            "Concatenated dictionary is:\n",
            "{'A': 1, 'B': 2, 'C': 3}\n"
          ]
        }
      ]
    },
    {
      "cell_type": "code",
      "source": [
        "# Python program to check of a given key exists in a dictionary or not\n",
        "\n",
        "# 1. Declare and initialize a dictionary to have some key-value pairs.\n",
        "# 2. Take a key from the user and store it in a variable\n",
        "# 3. Using an if statement and the in operator, check if the key is present in the dictionary using the dictionary.keys() method.\n",
        "# 4. If it is present, print the value of the key\n",
        "# 5. If it is not present, display that the key is not present in the dictionary.\n",
        "# 6. exit\n",
        "\n",
        "# Solution\n",
        "\n",
        "d1 = {'A': 1, 'B': 3, 'C': 5, 'D': 6}\n",
        "key = input(\"Enter key to check: \")\n",
        "if key in d1.keys():\n",
        "    print('Key is present and the value of the key is ')\n",
        "    print(d1[key])\n",
        "else:\n",
        "    print(\" key is not present\")\n",
        "\n"
      ],
      "metadata": {
        "id": "B0pLaWy-GuPt",
        "outputId": "1261527e-1c73-4866-90ce-660e2d9db7b7",
        "colab": {
          "base_uri": "https://localhost:8080/"
        }
      },
      "execution_count": 4,
      "outputs": [
        {
          "output_type": "stream",
          "name": "stdout",
          "text": [
            "Enter key to check: A\n",
            "Key is present and the value of the key is \n",
            "1\n"
          ]
        }
      ]
    },
    {
      "cell_type": "code",
      "source": [
        "# Python program to Generate a Dictionary that Contains Numbers(1 and n) in the form(x, x*x)\n",
        "\n",
        "# 1. Take a number ffrom the user and store it in a separate variable\n",
        "# 2. Declare a dictionary and using dictionary comprehension initialize it to values keeoing the number between 1 to n as the key and the square of the number as their values\n",
        "# 3. print the final dictionary\n",
        "# 4. exit\n",
        "\n",
        "# Solution\n",
        "\n",
        "n = int(input(\"Enter a number:\"))\n",
        "d = {x:x*x for x in range(1, n+1)}\n",
        "print(d)"
      ],
      "metadata": {
        "id": "bmpstjRU4s3q",
        "outputId": "7abc1164-cde3-4dc7-a2ac-bbc96a81fc24",
        "colab": {
          "base_uri": "https://localhost:8080/"
        }
      },
      "execution_count": 5,
      "outputs": [
        {
          "output_type": "stream",
          "name": "stdout",
          "text": [
            "Enter a number:5\n",
            "{1: 1, 2: 4, 3: 9, 4: 16, 5: 25}\n"
          ]
        }
      ]
    },
    {
      "cell_type": "code",
      "source": [
        "# Python program to find the sum of all the items in a dictionary\n",
        "\n",
        "# 1. Declare and initialize a dictionary to have some key-value pair\n",
        "# 2. Find the sum of all the values in the dictionary\n",
        "# 3. Print the total sum\n",
        "# 4. Exit\n",
        "\n",
        "# Solution\n",
        "\n",
        "d = {'A':1,'B':2,'C':3,'D':4}\n",
        "print(\"The total sum of values in the dictionary\")\n",
        "print(sum(d.values()))"
      ],
      "metadata": {
        "id": "cJp0OO5b78xw",
        "outputId": "59039bdf-a7bf-4edc-9c55-b3efc9e0544a",
        "colab": {
          "base_uri": "https://localhost:8080/"
        }
      },
      "execution_count": 6,
      "outputs": [
        {
          "output_type": "stream",
          "name": "stdout",
          "text": [
            "The total sum of values in the dictionary\n",
            "10\n"
          ]
        }
      ]
    },
    {
      "cell_type": "code",
      "source": [
        ""
      ],
      "metadata": {
        "id": "IO6tHmTS98G6"
      },
      "execution_count": null,
      "outputs": []
    }
  ]
}