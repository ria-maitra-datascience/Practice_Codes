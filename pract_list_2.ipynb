{
  "nbformat": 4,
  "nbformat_minor": 0,
  "metadata": {
    "colab": {
      "name": "pract_list_2",
      "provenance": [],
      "authorship_tag": "ABX9TyNnAJgTcsGUlcMxeuIjhKEg",
      "include_colab_link": true
    },
    "kernelspec": {
      "name": "python3",
      "display_name": "Python 3"
    }
  },
  "cells": [
    {
      "cell_type": "markdown",
      "metadata": {
        "id": "view-in-github",
        "colab_type": "text"
      },
      "source": [
        "<a href=\"https://colab.research.google.com/github/ria1994maitra/Practice_Codes/blob/main/pract_list_2.ipynb\" target=\"_parent\"><img src=\"https://colab.research.google.com/assets/colab-badge.svg\" alt=\"Open In Colab\"/></a>"
      ]
    },
    {
      "cell_type": "code",
      "metadata": {
        "colab": {
          "base_uri": "https://localhost:8080/"
        },
        "id": "OfxmhRpQa7KM",
        "outputId": "fd01a6f6-bd38-4824-e940-6e0a67e04d59"
      },
      "source": [
        "#Then the list is sorted using the length of the elements as the key.\n",
        "a=[]\n",
        "n=int(input(\"Enter number of elements: \"))\n",
        "for i in range(1,n+1):\n",
        "  b=input('Enter element:')\n",
        "  a.append(b)\n",
        "a.sort(key=len)\n",
        "print(a)\n",
        "\n",
        "\n",
        "\n"
      ],
      "execution_count": null,
      "outputs": [
        {
          "output_type": "stream",
          "text": [
            "Enter number of elements: 4\n",
            "Enter element:my\n",
            "Enter element:name\n",
            "Enter element: is\n",
            "Enter element:ria\n",
            "['my', ' is', 'ria', 'name']\n"
          ],
          "name": "stdout"
        }
      ]
    },
    {
      "cell_type": "code",
      "metadata": {
        "colab": {
          "base_uri": "https://localhost:8080/"
        },
        "id": "dCsJBpHcf2jB",
        "outputId": "1db10632-a01b-4173-b55f-72a42eca970f"
      },
      "source": [
        "isa=[]\n",
        "n=int(input(\"Enter number of elements:\"))\n",
        "for i in range(1,n+1):\n",
        "    b=input(\"Enter element:\")\n",
        "    a.append(b)\n",
        "a.sort(key=len)\n",
        "print(a)"
      ],
      "execution_count": null,
      "outputs": [
        {
          "output_type": "stream",
          "text": [
            "Enter number of elements:3\n",
            "Enter element:4\n",
            "Enter element:6\n",
            "Enter element:1\n",
            "['4', '6', '1']\n"
          ],
          "name": "stdout"
        }
      ]
    },
    {
      "cell_type": "markdown",
      "metadata": {
        "id": "xEMSuVVpyotP"
      },
      "source": [
        "### To find the union of two list\n",
        "1. User must enter the number of elements in the list and store it in a variable.\n",
        "2. User must enter the values to the same number of elements into the list.\n",
        "3. The append function obtains each element from the user and adds the same to the end of the list as many times as the number of elements taken.\n",
        "4. The same of 2 and 3 is done for the second list also.\n",
        "5. The union function accepts two lists and returns the list which is the union of the two lists, i.e, all the values from list 1 and 2 without redundancy.\n",
        "6. The set function in the union function accepts a list and returns the list after elimination of redundant values.\n",
        "7. The lists are passed to the union function and the returned list is printed.\n",
        "\n",
        "advertisement"
      ]
    },
    {
      "cell_type": "code",
      "metadata": {
        "colab": {
          "base_uri": "https://localhost:8080/"
        },
        "id": "gyAMqazVy0ju",
        "outputId": "c54e28de-0836-4a2c-c260-33720ad89ed5"
      },
      "source": [
        "l1=[]\n",
        "n=int(input(\"No. of Elements: \"))\n",
        "for i in range(1,n+1):\n",
        "  a=input(\"Enter elements: \")\n",
        "  l1.append(a)\n",
        "l2=[]\n",
        "m=int(input(\"Enter no. of elements: \"))\n",
        "for j in range(1,n+1):\n",
        "  b=input(\"Enter elements: \")\n",
        "  l2.append(b)\n",
        "ne_list=list(set().union(l1,l2))\n",
        "print(\"New List: \",ne_list)"
      ],
      "execution_count": null,
      "outputs": [
        {
          "output_type": "stream",
          "text": [
            "No. of Elements: 3\n",
            "Enter elements: apple\n",
            "Enter elements: apple\n",
            "Enter elements: banana\n",
            "Enter no. of elements: 4\n",
            "Enter elements: apple\n",
            "Enter elements: banana\n",
            "Enter elements: peach\n",
            "New List:  ['apple', 'banana', 'peach']\n"
          ],
          "name": "stdout"
        }
      ]
    },
    {
      "cell_type": "code",
      "metadata": {
        "colab": {
          "base_uri": "https://localhost:8080/"
        },
        "id": "4l8YmXt9zvYJ",
        "outputId": "af6ff187-e9dd-4c4d-9e82-0ec0b0ee266a"
      },
      "source": [
        "l1=[]\n",
        "n=int(input(\"No. of Elements: \"))\n",
        "for i in range(1,n+1):\n",
        "  a=input(\"Enter elements: \")\n",
        "  l1.append(a)\n",
        "l2=[]\n",
        "m=int(input(\"Enter no. of elements: \"))\n",
        "for j in range(1,n+1):\n",
        "  b=input(\"Enter elements: \")\n",
        "  l2.append(b)\n",
        "ne_list=list(set().union(l1,l2))\n",
        "print(\"New List: \",ne_list)\n"
      ],
      "execution_count": null,
      "outputs": [
        {
          "output_type": "stream",
          "text": [
            "No. of Elements: 4\n",
            "Enter elements: a\n",
            "Enter elements: b\n",
            "Enter elements: \n",
            "Enter elements: b\n",
            "Enter no. of elements: 4\n",
            "Enter elements: a\n",
            "Enter elements: b\n",
            "Enter elements: c\n",
            "Enter elements: b\n",
            "New List:  ['', 'b', 'c', 'a']\n"
          ],
          "name": "stdout"
        }
      ]
    },
    {
      "cell_type": "markdown",
      "source": [
        "# program on dictionary"
      ],
      "metadata": {
        "id": "OkoWybtWDfyc"
      }
    },
    {
      "cell_type": "code",
      "metadata": {
        "id": "wjLwqXF60vDJ"
      },
      "source": [
        "# the program takes a key-value pair and adds it to the dictionary\n",
        "\n",
        "# 1. take a value pair from the user and store it in separate variable\n",
        "# 2. Declare a dictionary and initialize it to an empty dictionary.\n",
        "# 3. Use the update() function to the key-value pair to the dictionary\n",
        "# 4. print the final dictionary\n",
        "# 5. exit"
      ],
      "execution_count": null,
      "outputs": []
    },
    {
      "cell_type": "code",
      "source": [
        "# Solution\n",
        "key = int(input(\"enter the key (int) to be added:\"))\n",
        "value = int(input(\"enter the value for the key to be added:\"))\n",
        "d = {}\n",
        "d.update({key:value})\n",
        "print(\"update dictionary is:\")\n",
        "print(d)"
      ],
      "metadata": {
        "id": "lblPkoO2Edm2",
        "outputId": "6311bd22-eeb4-48db-8618-3f92440b89f4",
        "colab": {
          "base_uri": "https://localhost:8080/"
        }
      },
      "execution_count": null,
      "outputs": [
        {
          "output_type": "stream",
          "name": "stdout",
          "text": [
            "enter the key (int) to be added:56\n",
            "enter the value for the key to be added: 76\n",
            "update dictionary is:\n",
            "{56: 76}\n"
          ]
        }
      ]
    },
    {
      "cell_type": "code",
      "source": [
        "# Program to concatenate Two Dictionaries Into One\n",
        "\n",
        "# 1. Declare and initialize two dictionaries with some key-value pairs.\n",
        "# 2. use the update() function to add the key-value pair from the second dictionary to the first dictionary.\n",
        "# 3. Print the final dictionary.\n",
        "# 4. Exit\n",
        "\n",
        "\n",
        "# Solution\n",
        "\n",
        "d1 = {'A': 1, 'B': 2}\n",
        "d2 = {'C':3}\n",
        "d1.update(d2)\n",
        "\n",
        "print(\"Concatenated dictionary is:\")\n",
        "print(d1)"
      ],
      "metadata": {
        "id": "KIkwpRRoFWqa",
        "outputId": "67e38539-14ea-4112-e154-1032e0a9569a",
        "colab": {
          "base_uri": "https://localhost:8080/"
        }
      },
      "execution_count": null,
      "outputs": [
        {
          "output_type": "stream",
          "name": "stdout",
          "text": [
            "Concatenated dictionary is:\n",
            "{'A': 1, 'B': 2, 'C': 3}\n"
          ]
        }
      ]
    },
    {
      "cell_type": "code",
      "source": [
        "# Python program to check of a given key exists in a dictionary or not\n",
        "\n",
        "# 1. Declare and initialize a dictionary to have some key-value pairs.\n",
        "# 2. Take a key from the user and store it in a variable\n",
        "# 3. Using an if statement and the in operator, check if the key is present in the dictionary using the dictionary.keys() method.\n",
        "# 4. If it is present, print the value of the key\n",
        "# 5. If it is not present, display that the key is not present in the dictionary.\n",
        "# 6. exit\n",
        "\n",
        "# Solution\n",
        "\n",
        "d1 = {'A': 1, 'B': 3, 'C': 5, 'D': 6}\n",
        "key = input(\"Enter key to check: \")\n",
        "if key in d1.keys():\n",
        "    print('Key is present and the value of the key is ')\n",
        "    print(d1[key])\n",
        "else:\n",
        "    print(\" key is not present\")\n",
        "\n"
      ],
      "metadata": {
        "id": "B0pLaWy-GuPt",
        "outputId": "1261527e-1c73-4866-90ce-660e2d9db7b7",
        "colab": {
          "base_uri": "https://localhost:8080/"
        }
      },
      "execution_count": null,
      "outputs": [
        {
          "output_type": "stream",
          "name": "stdout",
          "text": [
            "Enter key to check: A\n",
            "Key is present and the value of the key is \n",
            "1\n"
          ]
        }
      ]
    },
    {
      "cell_type": "code",
      "source": [
        "# Python program to Generate a Dictionary that Contains Numbers(1 and n) in the form(x, x*x)\n",
        "\n",
        "# 1. Take a number ffrom the user and store it in a separate variable\n",
        "# 2. Declare a dictionary and using dictionary comprehension initialize it to values keeoing the number between 1 to n as the key and the square of the number as their values\n",
        "# 3. print the final dictionary\n",
        "# 4. exit\n",
        "\n",
        "# Solution\n",
        "\n",
        "n = int(input(\"Enter a number:\"))\n",
        "d = {x:x*x for x in range(1, n+1)}\n",
        "print(d)"
      ],
      "metadata": {
        "id": "bmpstjRU4s3q",
        "outputId": "7abc1164-cde3-4dc7-a2ac-bbc96a81fc24",
        "colab": {
          "base_uri": "https://localhost:8080/"
        }
      },
      "execution_count": null,
      "outputs": [
        {
          "output_type": "stream",
          "name": "stdout",
          "text": [
            "Enter a number:5\n",
            "{1: 1, 2: 4, 3: 9, 4: 16, 5: 25}\n"
          ]
        }
      ]
    },
    {
      "cell_type": "code",
      "source": [
        ""
      ],
      "metadata": {
        "id": "70Pjk2ZWAAcf"
      },
      "execution_count": null,
      "outputs": []
    },
    {
      "cell_type": "code",
      "source": [
        "# Python program to find the sum of all the items in a dictionary\n",
        "\n",
        "# 1. Declare and initialize a dictionary to have some key-value pair\n",
        "# 2. Find the sum of all the values in the dictionary\n",
        "# 3. Print the total sum\n",
        "# 4. Exit\n",
        "\n",
        "# Solution\n",
        "\n",
        "d = {'A':1,'B':2,'C':3,'D':4}\n",
        "print(\"The total sum of values in the dictionary\")\n",
        "print(sum(d.values()))"
      ],
      "metadata": {
        "id": "cJp0OO5b78xw",
        "outputId": "59039bdf-a7bf-4edc-9c55-b3efc9e0544a",
        "colab": {
          "base_uri": "https://localhost:8080/"
        }
      },
      "execution_count": null,
      "outputs": [
        {
          "output_type": "stream",
          "name": "stdout",
          "text": [
            "The total sum of values in the dictionary\n",
            "10\n"
          ]
        }
      ]
    },
    {
      "cell_type": "code",
      "source": [
        "# Python program to Multiply all the items in a dictionary\n",
        "\n",
        "# 1. Declare and initialize a dictionary to have some key-value pair.\n",
        "# 2. Initiaize a variable that should contain the total multiplied value to 1\n",
        "# 3. Use the for loop to traverse through the values of the dictionary.\n",
        "# 4. Then multiply all the values in the dictionary against each other.\n",
        "# 5. Print the total multiplied value.\n",
        "# 6. Exit\n",
        "\n",
        "d = {'A':10, 'B':10, 'C':239}\n",
        "tot = 1\n",
        "\n",
        "for i in d:\n",
        "    tot = tot*d[i]\n",
        "print(tot)"
      ],
      "metadata": {
        "id": "IO6tHmTS98G6",
        "outputId": "9dfc00fc-99db-4c90-9a75-0ca9ce11e3a4",
        "colab": {
          "base_uri": "https://localhost:8080/"
        }
      },
      "execution_count": 2,
      "outputs": [
        {
          "output_type": "stream",
          "name": "stdout",
          "text": [
            "23900\n"
          ]
        }
      ]
    },
    {
      "cell_type": "code",
      "source": [
        "# Program to remove the given key from the dictionary\n",
        "\n",
        "# 1. Declare and intialize a dictionary to have some key-value pairs.\n",
        "# 2. Take a key from the user and store it in a variable.\n",
        "# 3. Using an if statement and the in operate, check if key is present in the dictionary\n",
        "# 4. If it is present, delete the key-value pair.\n",
        "# 5. If it isn't present, print that key isnt found and exit the program\n",
        "# 6. Exit\n",
        "\n",
        "\n",
        "d = {'A':1, 'B':2, 'C':3, 'D':4}\n",
        "key = input(\"Enter the key to be deleteted\")\n",
        "\n",
        "if key in d:\n",
        "    del d[key]\n",
        "else:\n",
        "    print('key not found')\n",
        "    exit(0)\n",
        "print('updated dictionary')\n",
        "print(d)"
      ],
      "metadata": {
        "id": "tibu0KBXBdug",
        "outputId": "24c76dbd-c52a-418b-f0bf-df9779e2afec",
        "colab": {
          "base_uri": "https://localhost:8080/"
        }
      },
      "execution_count": 2,
      "outputs": [
        {
          "output_type": "stream",
          "name": "stdout",
          "text": [
            "Enter the key to be deletetedB\n",
            "updated dictionary\n",
            "{'A': 1, 'C': 3, 'D': 4}\n"
          ]
        }
      ]
    },
    {
      "cell_type": "code",
      "source": [
        "# Program to map two lists into a dictionary\n",
        "\n",
        "# 1. Declare two empty lists and initialize them to an empty list.\n",
        "# 2. Consider a for loop to accept values for the two lists.\n",
        "# 3. Take the number of elements in the list and store it in a variable\n",
        "# 4. Accept the values into the list using another for loop and insert into the list.\n",
        "# 5. Repeat 4 and 5 for the values list also.\n",
        "# 6. Zip the two list and use dict() to convert it into a dictionary\n",
        "# print the dictionary\n",
        "\n",
        "keys = []\n",
        "values = []\n",
        "n = int(input(\"Enter the number of elements for dictionary\"))\n",
        "print('for keys')\n",
        "for x in range(0,n):\n",
        "    element = int(input(\"enter element\" + str(x+1) + \":\"))\n",
        "    keys.append(element)\n",
        "print(\"for values:\")\n",
        "for x in range(0,n):\n",
        "    element = int(input(\"Enter element\"+ str(x+1) + \":\"))\n",
        "    values.append(element)\n",
        "d = dict(zip(keys, values))\n",
        "print(d)\n"
      ],
      "metadata": {
        "id": "7wkLfQxnKp9_",
        "outputId": "4ff4b46b-ca8a-4dc0-f1fc-9f40ce79e0ea",
        "colab": {
          "base_uri": "https://localhost:8080/"
        }
      },
      "execution_count": 1,
      "outputs": [
        {
          "output_type": "stream",
          "name": "stdout",
          "text": [
            "Enter the number of elements for dictionary3\n",
            "for keys\n",
            "enter element1:1\n",
            "enter element2:2\n",
            "enter element3:3\n",
            "for values:\n",
            "Enter element1:4\n",
            "Enter element2:5\n",
            "Enter element3:6\n",
            "{1: 4, 2: 5, 3: 6}\n"
          ]
        }
      ]
    },
    {
      "cell_type": "code",
      "source": [
        "# Python program to Count the frequency of words appearing in a string using a dictionary\n",
        "\n",
        "# 1. enter a string and store it in a variable.\n",
        "# 2. Declare a list variable and initialize it to an empty list.\n",
        "# 3. Split the string into words and store it in the list.\n",
        "# 4. Count the frequency of each word and store it in another list.\n",
        "# 5. Using the zip() function, merge the list containing the words and the counts into a dictionary\n",
        "# 6. Print the final dictionary\n",
        "# 7. exit\n",
        "\n",
        "\n",
        "test_string = input(\"Enter string:\")\n",
        "l = []\n",
        "l = test_string.split()\n",
        "wordfreq = [l.count(p) for p in l]\n",
        "print(dict(zip(l, wordfreq)))"
      ],
      "metadata": {
        "id": "929p535F0Z19",
        "outputId": "2d661cda-7604-45f9-ff04-ed9969b35964",
        "colab": {
          "base_uri": "https://localhost:8080/"
        }
      },
      "execution_count": 2,
      "outputs": [
        {
          "output_type": "stream",
          "name": "stdout",
          "text": [
            "Enter string:my name is ria ria ria\n",
            "{'my': 1, 'name': 1, 'is': 1, 'ria': 3}\n"
          ]
        }
      ]
    },
    {
      "cell_type": "code",
      "source": [
        "# Python program to create a dictionary with key as first character and value as words starting with that character\n",
        "\n",
        "# 1. enter a string and store it in a variable.\n",
        "# 2. Declare an empty dictionary.\n",
        "# 3. Split the string into words and store it in a list.\n",
        "# 4. Using a for loop and if statement check if the word already present as a key in the dictionary\n",
        "# 5. If it is not present, initialize the letter of the word as the key and the word as the value and append it to a sublist created in the list \n",
        "# 6. If it is present, add the word as the value to the corresponding sublist.\n",
        "# 7. Print the final dictionary.\n",
        "# 8. Exit\n",
        "\n",
        "test_string = input(\"Enter the string\")\n",
        "l = test_string.split()\n",
        "d = {}\n",
        "for word in l:\n",
        "    if(word[0] not in d.keys()):\n",
        "        d[word[0]] = []\n",
        "        d[word[0]].append(word)\n",
        "    else:\n",
        "        if(word not in d[word[0]]):\n",
        "            d[word[0]].append(word)\n",
        "for k,v in d.items():\n",
        "    print(k, \":\", v)"
      ],
      "metadata": {
        "id": "3pNw817ht5b5",
        "outputId": "cb0f2e5a-0f40-42f3-cf7f-f6ea36266f11",
        "colab": {
          "base_uri": "https://localhost:8080/"
        }
      },
      "execution_count": 5,
      "outputs": [
        {
          "output_type": "stream",
          "name": "stdout",
          "text": [
            "Enter the stringheloo my name is ria\n",
            "h : ['heloo']\n",
            "m : ['my']\n",
            "n : ['name']\n",
            "i : ['is']\n",
            "r : ['ria']\n"
          ]
        }
      ]
    },
    {
      "cell_type": "markdown",
      "source": [
        "# Python program on Sets"
      ],
      "metadata": {
        "id": "t78QM1sm4Umt"
      }
    },
    {
      "cell_type": "code",
      "source": [
        "# Program to count the number of vowels present in a string using sets\n",
        "\n",
        "# 1. Enter a string and store it in a variable\n",
        "# 2. Initialize a count variable to 0\n",
        "# 3. Create a set coontainig vowels\n",
        "# 4. use a for loop to traverse through the letters in the string\n",
        "# 5. Using a if statement, check if the letter in the string is equal to a vowel\n",
        "# 6. If it is equal, increment the vowel count\n",
        "# 7. print the final count of the vowels\n",
        "# 8. Exit\n",
        "\n",
        "s = input(\"Enter String\")\n",
        "count = 0\n",
        "vowels = set(\"aeiou\")\n",
        "for letter in s:\n",
        "    if letter in vowels:\n",
        "        count +=1\n",
        "print(\"count of the vowels is:\")\n",
        "print(count)"
      ],
      "metadata": {
        "id": "uX_37hBt1pRE",
        "outputId": "c4e3056a-2cb2-492d-e66a-05833c2df06f",
        "colab": {
          "base_uri": "https://localhost:8080/"
        }
      },
      "execution_count": 6,
      "outputs": [
        {
          "output_type": "stream",
          "name": "stdout",
          "text": [
            "Enter Stringhello my name is ria\n",
            "count of the vowels is:\n",
            "7\n"
          ]
        }
      ]
    },
    {
      "cell_type": "code",
      "source": [
        "# program to check common letters in two input strings\n",
        "\n",
        "#1. enter two input strings and store it in separate variables\n",
        "#2. covert both of the strings into sets and find the common letters between both the sets.\n",
        "#3. Store the common letters in a list.\n",
        "#4. Use a for loop to print the letters of the list.\n",
        "#5. Exit\n",
        "\n",
        "s1 = input(\"Enter first string:\")\n",
        "s2 = input(\"enter second  string:\")\n",
        "a = list(set(s1)& set(s2))\n",
        "print(\"The common letters are:\")\n",
        "for i in a:\n",
        "    print(i)\n"
      ],
      "metadata": {
        "id": "0o5Ly6QX6gid",
        "outputId": "eb1b4bd5-6fa7-40ec-f0d8-b117e611ba00",
        "colab": {
          "base_uri": "https://localhost:8080/"
        }
      },
      "execution_count": 8,
      "outputs": [
        {
          "output_type": "stream",
          "name": "stdout",
          "text": [
            "Enter first string:hi\n",
            "enter second  string:hello\n",
            "The common letters are:\n",
            "h\n"
          ]
        }
      ]
    },
    {
      "cell_type": "code",
      "source": [
        "# Python program to display which letters are in the first string but not in the second string.\n",
        "\n",
        "#1. Enter two input strings and store it in separate variables.\n",
        "#2. Convert both of the strings into sets and find which letters are present in the first string but not in the second string.\n",
        "#3. Store the letters in a list.\n",
        "#4. Use a for loop to print the letters of the list.\n",
        "#5. Exit\n",
        "\n",
        "\n",
        "s1 = input(\"Enter first string\")\n",
        "s2 = input('Enter second string')\n",
        "a = list(set(s1) - set(s2))\n",
        "print(\"The letters are:\")\n",
        "for i in a:\n",
        "    print(i)"
      ],
      "metadata": {
        "id": "q_e0_5xM_gJA",
        "outputId": "fb57cd45-abeb-4b3d-b2a4-14e32261a350",
        "colab": {
          "base_uri": "https://localhost:8080/"
        }
      },
      "execution_count": 10,
      "outputs": [
        {
          "output_type": "stream",
          "name": "stdout",
          "text": [
            "Enter first stringhi\n",
            "Enter second stringello\n",
            "The letters are:\n",
            "i\n",
            "h\n"
          ]
        }
      ]
    },
    {
      "cell_type": "code",
      "source": [
        "# Python program to display which letters are present in both the strings\n",
        "\n",
        "#1. Enter  two input strings and store it in separate variables.\n",
        "#2. Convert both of the strings into sets and find the union between both the sets.\n",
        "#3. Store the letters in a list.\n",
        "#4. Use a for loop to print the letters of the list.\n",
        "#5. Exit\n",
        "\n",
        "s1 = input(\"Enter first string\")\n",
        "s2 = input(\"Enter second string\")\n",
        "a = list(set(s1)|set(s2))\n",
        "a\n",
        "print(\"The letters are:\")\n",
        "for i in a:\n",
        "    print(i)"
      ],
      "metadata": {
        "id": "j4dueyCkH2g0",
        "outputId": "7c204c03-3c25-4aa3-87d1-3c0e5970e728",
        "colab": {
          "base_uri": "https://localhost:8080/"
        }
      },
      "execution_count": 12,
      "outputs": [
        {
          "output_type": "stream",
          "name": "stdout",
          "text": [
            "Enter first stringhelo\n",
            "Enter second stringhi\n",
            "The letters are:\n",
            "e\n",
            "i\n",
            "l\n",
            "o\n",
            "h\n"
          ]
        }
      ]
    },
    {
      "cell_type": "code",
      "source": [
        "a"
      ],
      "metadata": {
        "id": "5ERyrp4uPb4N",
        "outputId": "44c18522-4eb7-46a1-eb1c-52bb64fa0794",
        "colab": {
          "base_uri": "https://localhost:8080/"
        }
      },
      "execution_count": 13,
      "outputs": [
        {
          "output_type": "execute_result",
          "data": {
            "text/plain": [
              "['e', 'i', 'l', 'o', 'h']"
            ]
          },
          "metadata": {},
          "execution_count": 13
        }
      ]
    },
    {
      "cell_type": "code",
      "source": [
        ""
      ],
      "metadata": {
        "id": "8-vkapM7QFqt"
      },
      "execution_count": null,
      "outputs": []
    }
  ]
}