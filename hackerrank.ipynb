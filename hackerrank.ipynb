{
  "nbformat": 4,
  "nbformat_minor": 0,
  "metadata": {
    "colab": {
      "name": "hackerrank.ipynb",
      "provenance": [],
      "authorship_tag": "ABX9TyOgTKoR1a+XJOsc3ihZu42c",
      "include_colab_link": true
    },
    "kernelspec": {
      "name": "python3",
      "display_name": "Python 3"
    },
    "language_info": {
      "name": "python"
    }
  },
  "cells": [
    {
      "cell_type": "markdown",
      "metadata": {
        "id": "view-in-github",
        "colab_type": "text"
      },
      "source": [
        "<a href=\"https://colab.research.google.com/github/ria1994maitra/Practice_Codes/blob/main/hackerrank.ipynb\" target=\"_parent\"><img src=\"https://colab.research.google.com/assets/colab-badge.svg\" alt=\"Open In Colab\"/></a>"
      ]
    },
    {
      "cell_type": "code",
      "metadata": {
        "colab": {
          "base_uri": "https://localhost:8080/"
        },
        "id": "7E6eb4wMhels",
        "outputId": "42bdb978-026a-4f7e-8cd1-256fcdc6372a"
      },
      "source": [
        "def call(n):\n",
        "    if (n%2 != 0):\n",
        "        print('Weird')\n",
        "    elif (n%2 == 0) and n in range(2,6):\n",
        "        print('Not Weird')\n",
        "    elif (n%2 == 0) and n in range(6,21):\n",
        "        print('Weird')\n",
        "    elif (n%2 == 0 and n>20):\n",
        "        print('Not Weird')\n",
        "    else:\n",
        "        print('Not Weird')\n",
        "    \n",
        "\n",
        "n = int(input().strip())\n",
        "call(n)\n"
      ],
      "execution_count": null,
      "outputs": [
        {
          "output_type": "stream",
          "name": "stdout",
          "text": [
            "20\n",
            "Weird\n"
          ]
        }
      ]
    },
    {
      "cell_type": "markdown",
      "metadata": {
        "id": "GTH0_a0oH3sy"
      },
      "source": [
        "Task\n",
        "The provided code stub reads two integers,  and , from STDIN.\n",
        "\n",
        "Add logic to print two lines. The first line should contain the result of integer division,  a//b . The second line should contain the result of float division,  a/ b.\n",
        "\n",
        "No rounding or formatting is necessary.\n"
      ]
    },
    {
      "cell_type": "code",
      "metadata": {
        "id": "33dp7dQQh06T",
        "colab": {
          "base_uri": "https://localhost:8080/"
        },
        "outputId": "7df0959d-6fb1-4dc1-f9ad-797c8a5cfd0a"
      },
      "source": [
        "def div(a,b):\n",
        "  dv= a//b\n",
        "  dvv=a/b\n",
        "  print(dv)\n",
        "  print(dvv)\n",
        "a= int(input())\n",
        "b = int(input())\n",
        "div(a,b)"
      ],
      "execution_count": 1,
      "outputs": [
        {
          "output_type": "stream",
          "name": "stdout",
          "text": [
            "4\n",
            "2\n",
            "2\n",
            "2.0\n"
          ]
        }
      ]
    },
    {
      "cell_type": "code",
      "metadata": {
        "id": "5t403sQTIoWy"
      },
      "source": [
        ""
      ],
      "execution_count": null,
      "outputs": []
    }
  ]
}