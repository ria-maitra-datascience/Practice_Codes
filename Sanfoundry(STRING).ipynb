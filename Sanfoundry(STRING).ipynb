{
  "nbformat": 4,
  "nbformat_minor": 0,
  "metadata": {
    "colab": {
      "name": "Sanfoundry(STRING).ipynb",
      "provenance": [],
      "collapsed_sections": [],
      "authorship_tag": "ABX9TyNIH3v5m+F26LqonQVTVsqx",
      "include_colab_link": true
    },
    "kernelspec": {
      "name": "python3",
      "display_name": "Python 3"
    },
    "language_info": {
      "name": "python"
    }
  },
  "cells": [
    {
      "cell_type": "markdown",
      "metadata": {
        "id": "view-in-github",
        "colab_type": "text"
      },
      "source": [
        "<a href=\"https://colab.research.google.com/github/ria1994maitra/Practice_Codes/blob/main/Sanfoundry(STRING).ipynb\" target=\"_parent\"><img src=\"https://colab.research.google.com/assets/colab-badge.svg\" alt=\"Open In Colab\"/></a>"
      ]
    },
    {
      "cell_type": "code",
      "execution_count": null,
      "metadata": {
        "id": "0RAPwthRIwan"
      },
      "outputs": [],
      "source": [
        ""
      ]
    },
    {
      "cell_type": "markdown",
      "source": [
        "####**Python Program to Replace all Occurrences of a with dollar in a String**\n",
        "1. Take a string and store it in a variable.\n",
        "2. Using the replace function, replace all occurrences of ‘a’ and ‘A’ with ‘$’ and store it back in the variable.\n",
        "3. Print the modified string.\n",
        "4. Exit."
      ],
      "metadata": {
        "id": "vSnvR7APKsem"
      }
    },
    {
      "cell_type": "code",
      "source": [
        "string = input(\"enter string\")\n",
        "string = string.replace('a', '$')\n",
        "string = string.replace('A', '$')\n",
        "print(\"Modified string:\")\n",
        "print(string)"
      ],
      "metadata": {
        "colab": {
          "base_uri": "https://localhost:8080/"
        },
        "id": "_v0nNbXIK0R5",
        "outputId": "12f6df86-31d0-4d67-93a6-b92e41188f49"
      },
      "execution_count": 2,
      "outputs": [
        {
          "output_type": "stream",
          "name": "stdout",
          "text": [
            "enter string a A is riaaA\n",
            "Modified string:\n",
            " $ $ is ri$$$\n"
          ]
        }
      ]
    },
    {
      "cell_type": "markdown",
      "source": [
        "## **2. Python Program to Remove the nth Index Character from a Non-Empty String**\n",
        "1. Take a string from the user and store it in a variable.\n",
        "2. Take the index of the character to remove.\n",
        "3. Pass the string and the index as arguments to a function named remove.\n",
        "4. In the function, the string should then be split into two halves before the index character and after the index character.\n",
        "5. These two halves should then be merged together.\n",
        "6. Print the modified string.\n",
        "7. Exit."
      ],
      "metadata": {
        "id": "LQnfTq-MSbmy"
      }
    },
    {
      "cell_type": "code",
      "source": [
        "def remove(string, n):\n",
        "    first = string[:n]\n",
        "    last = string[n+1:]\n",
        "    return first + last\n",
        "\n",
        "string = input(\"Enter the string:\")\n",
        "n = int(input(\"Enter the index of the character to remove:\"))\n",
        "print(\"Modified string:\")\n",
        "print(remove(string, n))"
      ],
      "metadata": {
        "colab": {
          "base_uri": "https://localhost:8080/"
        },
        "id": "BAQzqbQESGV7",
        "outputId": "d1b3b0c2-56de-42b1-a810-c984aafe4144"
      },
      "execution_count": 4,
      "outputs": [
        {
          "output_type": "stream",
          "name": "stdout",
          "text": [
            "Enter the string:my name is ria\n",
            "Enter the index of the character to remove:5\n",
            "Modified string:\n",
            "my nae is ria\n"
          ]
        }
      ]
    },
    {
      "cell_type": "markdown",
      "source": [
        "### **3.Python Program to Detect if Two Strings are Anagrams**\n",
        "1. Take two strings from the user and store them in separate variables.\n",
        "2. Then use sorted() to sort both the strings into lists.\n",
        "3. Compare the sorted lists and check if they are equal.\n",
        "4. Print the final result.\n",
        "5. Exit.\n"
      ],
      "metadata": {
        "id": "Mv7dkcq1afbc"
      }
    },
    {
      "cell_type": "code",
      "source": [
        "s1 = input(\"Enter the first string\")\n",
        "s2 = input(\"Enter the second string\")\n",
        "if(sorted(s1)==sorted(s2)):\n",
        "    print(\"The strings are anagrams:\")\n",
        "else:\n",
        "    print(\"The strings are not anagrams:\")"
      ],
      "metadata": {
        "colab": {
          "base_uri": "https://localhost:8080/"
        },
        "id": "J_JLo5qXZ6PY",
        "outputId": "2f6945d6-e03a-4251-f7a0-eed066d23950"
      },
      "execution_count": 15,
      "outputs": [
        {
          "output_type": "stream",
          "name": "stdout",
          "text": [
            "Enter the first stringhello\n",
            "Enter the second stringhi\n",
            "The strings are not anagrams:\n"
          ]
        }
      ]
    },
    {
      "cell_type": "markdown",
      "source": [
        "### **4.Python Program to Form a New String where the First Character and the Last Character have been Exchanged**\n",
        "1. Take a string from the user and store it in a variable.\n",
        "2. Pass the string as an argument to a function.\n",
        "3. In the function, split the string.\n",
        "4. Then add the last character to the middle part of the string which is in turn added to the first character.\n",
        "5. Print the modified string.\n",
        "6. Exit."
      ],
      "metadata": {
        "id": "yZOP6Tu_bh8Y"
      }
    },
    {
      "cell_type": "code",
      "source": [
        "def change(string):\n",
        "    return string[-1] + string[1:-1] + string[0]\n",
        "\n",
        "string = input(\"Enter string\")\n",
        "print(\"Modified string:\")\n",
        "print(change(string))"
      ],
      "metadata": {
        "colab": {
          "base_uri": "https://localhost:8080/"
        },
        "id": "CEINnlqbbVsH",
        "outputId": "7d0153f7-2979-444b-f964-05b995b5e234"
      },
      "execution_count": 29,
      "outputs": [
        {
          "output_type": "stream",
          "name": "stdout",
          "text": [
            "Enter stringriamaitra\n",
            "Modified string:\n",
            "aiamaitrr\n"
          ]
        }
      ]
    },
    {
      "cell_type": "markdown",
      "source": [
        "## **5.Python Program to Count the Number of Vowels in a String**\n",
        "1. Take a string from the user and store it in a variable.\n",
        "2. Initialize a count variable to 0.\n",
        "3. Use a for loop to traverse through the characters in the string.\n",
        "4. Use an if statement to check if the character is a vowel or not and increment the count variable if it is a vowel.\n",
        "5. Print the total number of vowels in the string.\n",
        "6. Exit."
      ],
      "metadata": {
        "id": "ximXmxcQdGON"
      }
    },
    {
      "cell_type": "code",
      "source": [
        "string = input(\"Enter the string: \")\n",
        "vowels = 0\n",
        "for i in string:\n",
        "    if(i=='a' or i=='i' or i=='e' or i=='o' or i=='u'):\n",
        "        vowels = vowels+1\n",
        "print('Number of vowels are: ')\n",
        "print(vowels)\n",
        "\n"
      ],
      "metadata": {
        "colab": {
          "base_uri": "https://localhost:8080/"
        },
        "id": "mETweGw_cird",
        "outputId": "a02c8ed6-124b-4241-90fd-5e4f67f1aa09"
      },
      "execution_count": 30,
      "outputs": [
        {
          "output_type": "stream",
          "name": "stdout",
          "text": [
            "Enter the string: hello\n",
            "Number of vowels are: \n",
            "2\n"
          ]
        }
      ]
    },
    {
      "cell_type": "markdown",
      "source": [
        "### **6. Python Program to Take in a String and Replace Every Blank Space with Hyphen**\n",
        "1. Take a string and store it in a variable.\n",
        "2. Using the replace function, replace all occurrences of ‘ ‘ with ‘-‘ and store it back in the variable.\n",
        "3. Print the modified string.\n",
        "4. Exit."
      ],
      "metadata": {
        "id": "aYYLeIm2hkbf"
      }
    },
    {
      "cell_type": "code",
      "source": [
        "string = input(\"Enter string\")\n",
        "string = string.replace(' ','-')\n",
        "print(\"Modified string\")\n",
        "print(string)"
      ],
      "metadata": {
        "colab": {
          "base_uri": "https://localhost:8080/"
        },
        "id": "amZu7Dsnhgsw",
        "outputId": "5e17eca1-fa61-4485-ed99-9d17e4478911"
      },
      "execution_count": 31,
      "outputs": [
        {
          "output_type": "stream",
          "name": "stdout",
          "text": [
            "Enter stringhello word wassup\n",
            "Modified string\n",
            "hello-word-wassup\n"
          ]
        }
      ]
    },
    {
      "cell_type": "markdown",
      "source": [
        "### **7. Python Program to Calculate the Length of a String Without Using a Library Function**\n",
        "1. Take a string from the user and store it in a variable.\n",
        "2. Initialize a count variable to 0.\n",
        "3. Use a for loop to traverse through the characters in the string and increment the count variable each time.\n",
        "4. Print the total count of the variable.\n",
        "5. Exit."
      ],
      "metadata": {
        "id": "JJ3-xbbYik9d"
      }
    },
    {
      "cell_type": "code",
      "source": [
        "string = input(\"enter the string\")\n",
        "count = 0\n",
        "for i in string:\n",
        "    count = count+1\n",
        "print(\"Length of the string: \")\n",
        "print(count)"
      ],
      "metadata": {
        "colab": {
          "base_uri": "https://localhost:8080/"
        },
        "id": "XrhUNpq1ibmK",
        "outputId": "88812941-ab78-4599-8dc1-88b08e7c52b1"
      },
      "execution_count": 32,
      "outputs": [
        {
          "output_type": "stream",
          "name": "stdout",
          "text": [
            "enter the stringhi hello\n",
            "Length of the string: \n",
            "8\n"
          ]
        }
      ]
    },
    {
      "cell_type": "markdown",
      "source": [
        "### **8. Python Program to Take in Two Strings and Display the Larger String without Using Built-in Functions**\n",
        "1. Take in two strings from the user and store it in separate variables.\n",
        "2. Initialize the two count variables to zero.\n",
        "3. Use a for loop to traverse through the characters in the string and increment the count variables each time a character is encountered.\n",
        "4. Compare the count variables of both the strings.\n",
        "5. Print the larger string.\n",
        "6. Exit."
      ],
      "metadata": {
        "id": "jVCNbVW9jmJE"
      }
    },
    {
      "cell_type": "code",
      "source": [
        "string1 = input(\"Enter first string: \")\n",
        "string2 = input(\"Enter second string: \")\n",
        "count1 = 0\n",
        "count2 = 0\n",
        "for i in string1:\n",
        "    count1 = count1+1\n",
        "for j in string2:\n",
        "    count2 = count2+1\n",
        "\n",
        "if(count1<count2):\n",
        "    print(\"larger string is: \")\n",
        "    print(string2)\n",
        "\n",
        "elif(count1 == count2):\n",
        "    print(\"Both strings are equal\")\n",
        "else:\n",
        "    print(\"Larger string is: \")\n",
        "    print(string1)\n"
      ],
      "metadata": {
        "colab": {
          "base_uri": "https://localhost:8080/"
        },
        "id": "2WQhPL0HjIjS",
        "outputId": "6085019e-aca6-4fd6-bba9-8f3e1dc30ed2"
      },
      "execution_count": 33,
      "outputs": [
        {
          "output_type": "stream",
          "name": "stdout",
          "text": [
            "Enter first string: hi\n",
            "Enter second string: my name is\n",
            "larger string is: \n",
            "my name is\n"
          ]
        }
      ]
    },
    {
      "cell_type": "markdown",
      "source": [
        "### **9. Python Program to Count Number of Lowercase Characters in a String**\n",
        "1. Take a string from the user and store it in a variable.\n",
        "2. Initialize a count variable to 0.\n",
        "3. Use a for loop to traverse through the characters in the string and increment the count variable each time a lowercase character is encountered.\n",
        "4. Print the total count of the variable.\n",
        "5. Exit."
      ],
      "metadata": {
        "id": "V6mF_QOesve6"
      }
    },
    {
      "cell_type": "code",
      "source": [
        "string = input(\"enter string\")\n",
        "count = 0\n",
        "for i in string:\n",
        "    if(i.islower()):\n",
        "        count = count+1\n",
        "print(\"The number of lowercase characters is: \")\n",
        "print(count)"
      ],
      "metadata": {
        "colab": {
          "base_uri": "https://localhost:8080/"
        },
        "id": "rqaouN3Ooth8",
        "outputId": "8b4251bd-7e61-4c9b-d03b-7d7d4a54b42a"
      },
      "execution_count": 34,
      "outputs": [
        {
          "output_type": "stream",
          "name": "stdout",
          "text": [
            "enter stringria\n",
            "The number of lowercase characters is: \n",
            "3\n"
          ]
        }
      ]
    },
    {
      "cell_type": "markdown",
      "source": [
        "### **10. Python Program to Check if a String is a Palindrome or Not**\n",
        "1. Take a string from the user and store it in a variable.\n",
        "2. Reverse the string using string slicing and compare it back to the original string.\n",
        "3. Print the final result\n",
        "4. Exit."
      ],
      "metadata": {
        "id": "djqy-_kwtles"
      }
    },
    {
      "cell_type": "code",
      "source": [
        "string = input(\"enter string\")\n",
        "if(string == string[::-1]):\n",
        "    print(\"The string is a palindrome\")\n",
        "else:\n",
        "    print(\"the string is not a palindrome\")"
      ],
      "metadata": {
        "colab": {
          "base_uri": "https://localhost:8080/"
        },
        "id": "p9M3RO_Mtd4F",
        "outputId": "23b6bd7e-2ace-4d53-fe7d-e4c70a8d931e"
      },
      "execution_count": 36,
      "outputs": [
        {
          "output_type": "stream",
          "name": "stdout",
          "text": [
            "enter stringria\n",
            "the string is not a palindrome\n"
          ]
        }
      ]
    },
    {
      "cell_type": "code",
      "source": [
        ""
      ],
      "metadata": {
        "id": "abBF6vJtuJOU"
      },
      "execution_count": null,
      "outputs": []
    }
  ]
}