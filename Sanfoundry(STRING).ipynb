{
  "nbformat": 4,
  "nbformat_minor": 0,
  "metadata": {
    "colab": {
      "name": "Sanfoundry(STRING).ipynb",
      "provenance": [],
      "collapsed_sections": [],
      "authorship_tag": "ABX9TyPn3g5TOvvsEoHrU5pziE/J",
      "include_colab_link": true
    },
    "kernelspec": {
      "name": "python3",
      "display_name": "Python 3"
    },
    "language_info": {
      "name": "python"
    }
  },
  "cells": [
    {
      "cell_type": "markdown",
      "metadata": {
        "id": "view-in-github",
        "colab_type": "text"
      },
      "source": [
        "<a href=\"https://colab.research.google.com/github/ria1994maitra/Practice_Codes/blob/main/Sanfoundry(STRING).ipynb\" target=\"_parent\"><img src=\"https://colab.research.google.com/assets/colab-badge.svg\" alt=\"Open In Colab\"/></a>"
      ]
    },
    {
      "cell_type": "code",
      "execution_count": null,
      "metadata": {
        "id": "0RAPwthRIwan"
      },
      "outputs": [],
      "source": [
        "."
      ]
    },
    {
      "cell_type": "markdown",
      "source": [
        "####**Python Program to Replace all Occurrences of a with dollar in a String**\n",
        "1. Take a string and store it in a variable.\n",
        "2. Using the replace function, replace all occurrences of ‘a’ and ‘A’ with ‘$’ and store it back in the variable.\n",
        "3. Print the modified string.\n",
        "4. Exit."
      ],
      "metadata": {
        "id": "vSnvR7APKsem"
      }
    },
    {
      "cell_type": "code",
      "source": [
        "string = input(\"enter string\")\n",
        "string = string.replace('a', '$')\n",
        "string = string.replace('A', '$')\n",
        "print(\"Modified string:\")\n",
        "print(string)"
      ],
      "metadata": {
        "colab": {
          "base_uri": "https://localhost:8080/"
        },
        "id": "_v0nNbXIK0R5",
        "outputId": "12f6df86-31d0-4d67-93a6-b92e41188f49"
      },
      "execution_count": null,
      "outputs": [
        {
          "output_type": "stream",
          "name": "stdout",
          "text": [
            "enter string a A is riaaA\n",
            "Modified string:\n",
            " $ $ is ri$$$\n"
          ]
        }
      ]
    },
    {
      "cell_type": "markdown",
      "source": [
        "## **2. Python Program to Remove the nth Index Character from a Non-Empty String**\n",
        "1. Take a string from the user and store it in a variable.\n",
        "2. Take the index of the character to remove.\n",
        "3. Pass the string and the index as arguments to a function named remove.\n",
        "4. In the function, the string should then be split into two halves before the index character and after the index character.\n",
        "5. These two halves should then be merged together.\n",
        "6. Print the modified string.\n",
        "7. Exit."
      ],
      "metadata": {
        "id": "LQnfTq-MSbmy"
      }
    },
    {
      "cell_type": "code",
      "source": [
        "def remove(string, n):\n",
        "    first = string[:n]\n",
        "    last = string[n+1:]\n",
        "    return first + last\n",
        "\n",
        "string = input(\"Enter the string:\")\n",
        "n = int(input(\"Enter the index of the character to remove:\"))\n",
        "print(\"Modified string:\")\n",
        "print(remove(string, n))"
      ],
      "metadata": {
        "colab": {
          "base_uri": "https://localhost:8080/"
        },
        "id": "BAQzqbQESGV7",
        "outputId": "d1b3b0c2-56de-42b1-a810-c984aafe4144"
      },
      "execution_count": null,
      "outputs": [
        {
          "output_type": "stream",
          "name": "stdout",
          "text": [
            "Enter the string:my name is ria\n",
            "Enter the index of the character to remove:5\n",
            "Modified string:\n",
            "my nae is ria\n"
          ]
        }
      ]
    },
    {
      "cell_type": "markdown",
      "source": [
        "### **3.Python Program to Detect if Two Strings are Anagrams**\n",
        "1. Take two strings from the user and store them in separate variables.\n",
        "2. Then use sorted() to sort both the strings into lists.\n",
        "3. Compare the sorted lists and check if they are equal.\n",
        "4. Print the final result.\n",
        "5. Exit.\n"
      ],
      "metadata": {
        "id": "Mv7dkcq1afbc"
      }
    },
    {
      "cell_type": "code",
      "source": [
        "s1 = input(\"Enter the first string\")\n",
        "s2 = input(\"Enter the second string\")\n",
        "if(sorted(s1)==sorted(s2)):\n",
        "    print(\"The strings are anagrams:\")\n",
        "else:\n",
        "    print(\"The strings are not anagrams:\")"
      ],
      "metadata": {
        "colab": {
          "base_uri": "https://localhost:8080/"
        },
        "id": "J_JLo5qXZ6PY",
        "outputId": "2f6945d6-e03a-4251-f7a0-eed066d23950"
      },
      "execution_count": null,
      "outputs": [
        {
          "output_type": "stream",
          "name": "stdout",
          "text": [
            "Enter the first stringhello\n",
            "Enter the second stringhi\n",
            "The strings are not anagrams:\n"
          ]
        }
      ]
    },
    {
      "cell_type": "markdown",
      "source": [
        "### **4.Python Program to Form a New String where the First Character and the Last Character have been Exchanged**\n",
        "1. Take a string from the user and store it in a variable.\n",
        "2. Pass the string as an argument to a function.\n",
        "3. In the function, split the string.\n",
        "4. Then add the last character to the middle part of the string which is in turn added to the first character.\n",
        "5. Print the modified string.\n",
        "6. Exit."
      ],
      "metadata": {
        "id": "yZOP6Tu_bh8Y"
      }
    },
    {
      "cell_type": "code",
      "source": [
        "def change(string):\n",
        "    return string[-1] + string[1:-1] + string[0]\n",
        "\n",
        "string = input(\"Enter string\")\n",
        "print(\"Modified string:\")\n",
        "print(change(string))"
      ],
      "metadata": {
        "colab": {
          "base_uri": "https://localhost:8080/"
        },
        "id": "CEINnlqbbVsH",
        "outputId": "7d0153f7-2979-444b-f964-05b995b5e234"
      },
      "execution_count": null,
      "outputs": [
        {
          "output_type": "stream",
          "name": "stdout",
          "text": [
            "Enter stringriamaitra\n",
            "Modified string:\n",
            "aiamaitrr\n"
          ]
        }
      ]
    },
    {
      "cell_type": "markdown",
      "source": [
        "## **5.Python Program to Count the Number of Vowels in a String**\n",
        "1. Take a string from the user and store it in a variable.\n",
        "2. Initialize a count variable to 0.\n",
        "3. Use a for loop to traverse through the characters in the string.\n",
        "4. Use an if statement to check if the character is a vowel or not and increment the count variable if it is a vowel.\n",
        "5. Print the total number of vowels in the string.\n",
        "6. Exit."
      ],
      "metadata": {
        "id": "ximXmxcQdGON"
      }
    },
    {
      "cell_type": "code",
      "source": [
        "string = input(\"Enter the string: \")\n",
        "vowels = 0\n",
        "for i in string:\n",
        "    if(i=='a' or i=='i' or i=='e' or i=='o' or i=='u'):\n",
        "        vowels = vowels+1\n",
        "print('Number of vowels are: ')\n",
        "print(vowels)\n",
        "\n"
      ],
      "metadata": {
        "colab": {
          "base_uri": "https://localhost:8080/"
        },
        "id": "mETweGw_cird",
        "outputId": "a02c8ed6-124b-4241-90fd-5e4f67f1aa09"
      },
      "execution_count": null,
      "outputs": [
        {
          "output_type": "stream",
          "name": "stdout",
          "text": [
            "Enter the string: hello\n",
            "Number of vowels are: \n",
            "2\n"
          ]
        }
      ]
    },
    {
      "cell_type": "markdown",
      "source": [
        "### **6. Python Program to Take in a String and Replace Every Blank Space with Hyphen**\n",
        "1. Take a string and store it in a variable.\n",
        "2. Using the replace function, replace all occurrences of ‘ ‘ with ‘-‘ and store it back in the variable.\n",
        "3. Print the modified string.\n",
        "4. Exit."
      ],
      "metadata": {
        "id": "aYYLeIm2hkbf"
      }
    },
    {
      "cell_type": "code",
      "source": [
        "string = input(\"Enter string\")\n",
        "string = string.replace(' ','-')\n",
        "print(\"Modified string\")\n",
        "print(string)"
      ],
      "metadata": {
        "colab": {
          "base_uri": "https://localhost:8080/"
        },
        "id": "amZu7Dsnhgsw",
        "outputId": "5e17eca1-fa61-4485-ed99-9d17e4478911"
      },
      "execution_count": null,
      "outputs": [
        {
          "output_type": "stream",
          "name": "stdout",
          "text": [
            "Enter stringhello word wassup\n",
            "Modified string\n",
            "hello-word-wassup\n"
          ]
        }
      ]
    },
    {
      "cell_type": "markdown",
      "source": [
        "### **7. Python Program to Calculate the Length of a String Without Using a Library Function**\n",
        "1. Take a string from the user and store it in a variable.\n",
        "2. Initialize a count variable to 0.\n",
        "3. Use a for loop to traverse through the characters in the string and increment the count variable each time.\n",
        "4. Print the total count of the variable.\n",
        "5. Exit."
      ],
      "metadata": {
        "id": "JJ3-xbbYik9d"
      }
    },
    {
      "cell_type": "code",
      "source": [
        "string = input(\"enter the string\")\n",
        "count = 0\n",
        "for i in string:\n",
        "    count = count+1\n",
        "print(\"Length of the string: \")\n",
        "print(count)"
      ],
      "metadata": {
        "colab": {
          "base_uri": "https://localhost:8080/"
        },
        "id": "XrhUNpq1ibmK",
        "outputId": "88812941-ab78-4599-8dc1-88b08e7c52b1"
      },
      "execution_count": null,
      "outputs": [
        {
          "output_type": "stream",
          "name": "stdout",
          "text": [
            "enter the stringhi hello\n",
            "Length of the string: \n",
            "8\n"
          ]
        }
      ]
    },
    {
      "cell_type": "markdown",
      "source": [
        "### **8. Python Program to Take in Two Strings and Display the Larger String without Using Built-in Functions**\n",
        "1. Take in two strings from the user and store it in separate variables.\n",
        "2. Initialize the two count variables to zero.\n",
        "3. Use a for loop to traverse through the characters in the string and increment the count variables each time a character is encountered.\n",
        "4. Compare the count variables of both the strings.\n",
        "5. Print the larger string.\n",
        "6. Exit."
      ],
      "metadata": {
        "id": "jVCNbVW9jmJE"
      }
    },
    {
      "cell_type": "code",
      "source": [
        "string1 = input(\"Enter first string: \")\n",
        "string2 = input(\"Enter second string: \")\n",
        "count1 = 0\n",
        "count2 = 0\n",
        "for i in string1:\n",
        "    count1 = count1+1\n",
        "for j in string2:\n",
        "    count2 = count2+1\n",
        "\n",
        "if(count1<count2):\n",
        "    print(\"larger string is: \")\n",
        "    print(string2)\n",
        "\n",
        "elif(count1 == count2):\n",
        "    print(\"Both strings are equal\")\n",
        "else:\n",
        "    print(\"Larger string is: \")\n",
        "    print(string1)\n"
      ],
      "metadata": {
        "colab": {
          "base_uri": "https://localhost:8080/"
        },
        "id": "2WQhPL0HjIjS",
        "outputId": "6085019e-aca6-4fd6-bba9-8f3e1dc30ed2"
      },
      "execution_count": null,
      "outputs": [
        {
          "output_type": "stream",
          "name": "stdout",
          "text": [
            "Enter first string: hi\n",
            "Enter second string: my name is\n",
            "larger string is: \n",
            "my name is\n"
          ]
        }
      ]
    },
    {
      "cell_type": "markdown",
      "source": [
        "### **9. Python Program to Count Number of Lowercase Characters in a String**\n",
        "1. Take a string from the user and store it in a variable.\n",
        "2. Initialize a count variable to 0.\n",
        "3. Use a for loop to traverse through the characters in the string and increment the count variable each time a lowercase character is encountered.\n",
        "4. Print the total count of the variable.\n",
        "5. Exit."
      ],
      "metadata": {
        "id": "V6mF_QOesve6"
      }
    },
    {
      "cell_type": "code",
      "source": [
        "string = input(\"enter string\")\n",
        "count = 0\n",
        "for i in string:\n",
        "    if(i.islower()):\n",
        "        count = count+1\n",
        "print(\"The number of lowercase characters is: \")\n",
        "print(count)"
      ],
      "metadata": {
        "colab": {
          "base_uri": "https://localhost:8080/"
        },
        "id": "rqaouN3Ooth8",
        "outputId": "8b4251bd-7e61-4c9b-d03b-7d7d4a54b42a"
      },
      "execution_count": null,
      "outputs": [
        {
          "output_type": "stream",
          "name": "stdout",
          "text": [
            "enter stringria\n",
            "The number of lowercase characters is: \n",
            "3\n"
          ]
        }
      ]
    },
    {
      "cell_type": "markdown",
      "source": [
        "### **10. Python Program to Check if a String is a Palindrome or Not**\n",
        "1. Take a string from the user and store it in a variable.\n",
        "2. Reverse the string using string slicing and compare it back to the original string.\n",
        "3. Print the final result\n",
        "4. Exit."
      ],
      "metadata": {
        "id": "djqy-_kwtles"
      }
    },
    {
      "cell_type": "code",
      "source": [
        "string = input(\"enter string\")\n",
        "if(string == string[::-1]):\n",
        "    print(\"The string is a palindrome\")\n",
        "else:\n",
        "    print(\"the string is not a palindrome\")"
      ],
      "metadata": {
        "colab": {
          "base_uri": "https://localhost:8080/"
        },
        "id": "p9M3RO_Mtd4F",
        "outputId": "23b6bd7e-2ace-4d53-fe7d-e4c70a8d931e"
      },
      "execution_count": null,
      "outputs": [
        {
          "output_type": "stream",
          "name": "stdout",
          "text": [
            "enter stringria\n",
            "the string is not a palindrome\n"
          ]
        }
      ]
    },
    {
      "cell_type": "markdown",
      "source": [
        "## **Python Program to Calculate the Number of Upper Case Letters and Lower Case Letters in a String**|\n",
        "1. Take a string from the user and store it in a variable.\n",
        "2. Initialize the two count variables to 0.\n",
        "3. Use a for loop to traverse through the characters in the string and increment the first count variable each time a lowercase character is encountered and increment the second count variable each time a uppercase character is encountered.\n",
        "4. Print the total count of both the variables.\n",
        "5. Exit."
      ],
      "metadata": {
        "id": "dUe12T_H7KnN"
      }
    },
    {
      "cell_type": "code",
      "source": [
        "string = input(\"enter string\")\n",
        "count1 = 0\n",
        "count2 = 0\n",
        "for i in string:\n",
        "    if(i.islower()):\n",
        "        count1 = count1+1\n",
        "    elif(i.isupper()):\n",
        "        count2 = count2 +1\n",
        "print(\"The number of lowercase characters is:\")\n",
        "print(count1)\n",
        "print(\"The number of uppercase characters is:\")\n",
        "print(count2)"
      ],
      "metadata": {
        "id": "abBF6vJtuJOU",
        "outputId": "aed96cdc-335c-4618-8550-4c2ef6ec7528",
        "colab": {
          "base_uri": "https://localhost:8080/"
        }
      },
      "execution_count": 1,
      "outputs": [
        {
          "output_type": "stream",
          "name": "stdout",
          "text": [
            "enter stringHi my name ria\n",
            "The number of lowercase characters is:\n",
            "10\n",
            "The number of uppercase characters is:\n",
            "1\n"
          ]
        }
      ]
    },
    {
      "cell_type": "markdown",
      "source": [
        "## **Python Program to Check if a String is a Pangram or Not**\n",
        "1. Take a string from the user and store it in a variable.\n",
        "2. Pass the string as an argument to a function.\n",
        "3. In the function, form two sets- one of all lower case letters and one of the letters in the string.\n",
        "4. Subtract these both sets and check if it is equal to an empty set.\n",
        "5. Print the final result.\n",
        "6. Exit."
      ],
      "metadata": {
        "id": "zUSNeDkg8uk6"
      }
    },
    {
      "cell_type": "code",
      "source": [
        "from string import ascii_lowercase as asc_lowercase\n",
        "def checks(s):\n",
        "    return set(asc_lowercase) - set(s.lower()) == set([])\n",
        "strng = input(\"Enter string\")\n",
        "if(checks(strng) == True):\n",
        "    print(\"The string is a pangram\")\n",
        "else:\n",
        "    print(\"The string is not a pangram\")"
      ],
      "metadata": {
        "id": "7oEyH5ii8oJs",
        "outputId": "415f672b-a851-48fb-8295-75042c05c6bc",
        "colab": {
          "base_uri": "https://localhost:8080/"
        }
      },
      "execution_count": 4,
      "outputs": [
        {
          "output_type": "stream",
          "name": "stdout",
          "text": [
            "Enter stringehhello\n",
            "The string is not a pangram\n"
          ]
        }
      ]
    },
    {
      "cell_type": "markdown",
      "source": [
        "## **Python Program to Accept a Hyphen Separated Sequence of Words as Input and Print the Words in a Hyphen-Separated Sequence after Sorting them Alphabetically**\n",
        "1. Take a hyphen separated sequence of words from the user.\n",
        "2. Split the words in the input with hyphen as reference and store the words in a list.\n",
        "3. Sort the words in the list.\n",
        "4. Join the words in the list with hyphen between them and print the sorted sequence.\n",
        "5. Exit."
      ],
      "metadata": {
        "id": "6Gz9fWVJ-eVF"
      }
    },
    {
      "cell_type": "code",
      "source": [
        "print(\"enter a hypen separated sequence of words:\")\n",
        "lst = [n for n in input().split('-')]\n",
        "lst.sort()\n",
        "print(\"sorted:\")\n",
        "print('-'.join(lst))"
      ],
      "metadata": {
        "id": "DJDPiIoz-D44",
        "outputId": "292e1e27-6591-4a02-e42b-7d43407e7553",
        "colab": {
          "base_uri": "https://localhost:8080/"
        }
      },
      "execution_count": 5,
      "outputs": [
        {
          "output_type": "stream",
          "name": "stdout",
          "text": [
            "enter a hypen separated sequence of words:\n",
            "hi-wassup-my-name-isria\n",
            "sorted:\n",
            "hi-isria-my-name-wassup\n"
          ]
        }
      ]
    },
    {
      "cell_type": "markdown",
      "source": [
        "## **Python Program to Calculate the Number of Digits and Letters in a String**\n",
        "1. Take a string from the user and store it in a variable.\n",
        "2. Initialize the two count variables to 0.\n",
        "3. Use a for loop to traverse through the characters in the string and increment the first count variable each time a digit is encountered and increment the second count variable each time a character is encountered.\n",
        "4. Print the total count of both the variables.\n",
        "5. Exit."
      ],
      "metadata": {
        "id": "EhecBwIZBZ_c"
      }
    },
    {
      "cell_type": "code",
      "source": [
        "string = input(\"enter string:\")\n",
        "count1 = 0\n",
        "count2 = 0\n",
        "for i in string:\n",
        "    if(i.isdigit()):\n",
        "        count1 = count1 +1\n",
        "    count2 = count2 + 1\n",
        "\n",
        "print(\"The number of digits is:\")\n",
        "print(count1)\n",
        "print(\"The number of characters is:\")\n",
        "print(count2)"
      ],
      "metadata": {
        "id": "pWfwYXxl_Qnl",
        "outputId": "8071c660-8135-4911-ffc9-6a8e9e1e619a",
        "colab": {
          "base_uri": "https://localhost:8080/"
        }
      },
      "execution_count": 6,
      "outputs": [
        {
          "output_type": "stream",
          "name": "stdout",
          "text": [
            "enter string:hello12354\n",
            "The number of digits is:\n",
            "5\n",
            "The number of characters is:\n",
            "10\n"
          ]
        }
      ]
    },
    {
      "cell_type": "markdown",
      "source": [
        "## **Python Program to Form a New String Made of the First 2 and Last 2 characters From a Given String**\n",
        "1. Take a string from the user and store it in a variable.\n",
        "2. Initialize a count variable to 0.\n",
        "3. Use a for loop to traverse through the characters in the string and increment the count variable each time.\n",
        "4. Form the new string using string slicing.\n",
        "5. Print the newly formed string.\n",
        "6. Exit."
      ],
      "metadata": {
        "id": "mp6xfbzWCiy4"
      }
    },
    {
      "cell_type": "code",
      "source": [
        "string= input('Enter string')\n",
        "count = 0\n",
        "for i in string:\n",
        "    count = count+1\n",
        "\n",
        "new = string[0:2] + string[count-2: count]\n",
        "print(\"Newly formed string is:\")\n",
        "print(new)"
      ],
      "metadata": {
        "id": "60QSPohuCQdy",
        "outputId": "34d5edbc-1007-4f2d-87fd-ac1a9723860f",
        "colab": {
          "base_uri": "https://localhost:8080/"
        }
      },
      "execution_count": 8,
      "outputs": [
        {
          "output_type": "stream",
          "name": "stdout",
          "text": [
            "Enter stringhiwassup\n",
            "Newly formed string is:\n",
            "hiup\n"
          ]
        }
      ]
    },
    {
      "cell_type": "markdown",
      "source": [
        "## **Python Program to Count the Occurrences of Each Word in a Given String Sentence**\n",
        "1. Take a string and a word from the user and store it in separate variables.\n",
        "2. Initialize a count variable to 0.\n",
        "3. Split the string using space as the reference and store the words in a list.\n",
        "4. Use a for loop to traverse through the words in the list and use an if statement to check if the word in the list matches the word given by the user and increment the count.\n",
        "5. Print the total count of the variable.\n",
        "6. Exit."
      ],
      "metadata": {
        "id": "pOQfKm_KFtVt"
      }
    },
    {
      "cell_type": "code",
      "source": [
        "string = input(\"Enter string\")\n",
        "word = input(\"Enter word\")\n",
        "a = []\n",
        "count = 0\n",
        "a = string.split(\" \")\n",
        "for i in range(0, len(a)):\n",
        "    if(word == a[i]):\n",
        "        count = count+1\n",
        "print(\"count of the word is:\")\n",
        "print(count)"
      ],
      "metadata": {
        "id": "35TfNcK7FUUB",
        "outputId": "154fce36-405d-43c0-d499-65aebe7b72d0",
        "colab": {
          "base_uri": "https://localhost:8080/"
        }
      },
      "execution_count": 12,
      "outputs": [
        {
          "output_type": "stream",
          "name": "stdout",
          "text": [
            "Enter stringmy name is ria\n",
            "Enter wordria\n",
            "count of the word is:\n",
            "1\n"
          ]
        }
      ]
    },
    {
      "cell_type": "code",
      "source": [
        ""
      ],
      "metadata": {
        "id": "S6j0imbzGSno"
      },
      "execution_count": 12,
      "outputs": []
    }
  ]
}