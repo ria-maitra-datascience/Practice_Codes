{
  "nbformat": 4,
  "nbformat_minor": 0,
  "metadata": {
    "colab": {
      "name": "Sanfoundry(DICTIONARY).ipynb",
      "provenance": [],
      "authorship_tag": "ABX9TyMmNawou2JTNEG26ad3CE2J",
      "include_colab_link": true
    },
    "kernelspec": {
      "name": "python3",
      "display_name": "Python 3"
    },
    "language_info": {
      "name": "python"
    }
  },
  "cells": [
    {
      "cell_type": "markdown",
      "metadata": {
        "id": "view-in-github",
        "colab_type": "text"
      },
      "source": [
        "<a href=\"https://colab.research.google.com/github/ria1994maitra/Practice_Codes/blob/main/Sanfoundry(DICTIONARY).ipynb\" target=\"_parent\"><img src=\"https://colab.research.google.com/assets/colab-badge.svg\" alt=\"Open In Colab\"/></a>"
      ]
    },
    {
      "cell_type": "code",
      "execution_count": null,
      "metadata": {
        "id": "4i0XP2hH-iTF"
      },
      "outputs": [],
      "source": [
        ""
      ]
    },
    {
      "cell_type": "markdown",
      "source": [
        "\n",
        "1. Python Program to Add a Key-Value Pair to the Dictionary\n",
        "2. Python Program to Concatenate Two Dictionaries Into One\n",
        "3. Python Program to Check if a Given Key Exists in a Dictionary or Not\n",
        "4. Python Program to Generate a Dictionary that Contains Numbers (between 1 and n) in the Form (x,x*x).\n",
        "5. Python Program to Sum All the Items in a Dictionary\n",
        "6. Python Program to Multiply All the Items in a Dictionary\n",
        "7. Python Program to Remove the Given Key from a Dictionary\n",
        "8. Python Program to Form a Dictionary from an Object of a Class\n",
        "9. Python Program to Map Two Lists into a Dictionary\n",
        "10. Python Program to Count the Frequency of Words Appearing in a String Using a Dictionary\n",
        "11. Python Program to Create a Dictionary with Key as First Character and Value as Words Starting with that Character"
      ],
      "metadata": {
        "id": "zk9e1Ssj-wGP"
      }
    },
    {
      "cell_type": "code",
      "source": [
        "# Python Program to Add a Key-Value Pair to the Dictionary\n",
        "key = int(input(\"Enter the key to be added\"))\n",
        "value = int(input(\"enter the value for the key to be added\"))\n",
        "d= {}\n",
        "d.update({key:value})\n",
        "print(\"updated dictionary is\")\n",
        "print(d)"
      ],
      "metadata": {
        "colab": {
          "base_uri": "https://localhost:8080/"
        },
        "id": "dh5OCpnM_Cyb",
        "outputId": "9d2a759b-0078-4e3a-8a78-05fb5ab14579"
      },
      "execution_count": 1,
      "outputs": [
        {
          "output_type": "stream",
          "name": "stdout",
          "text": [
            "Enter the key to be added6\n",
            "enter the value for the key to be added7\n",
            "updated dictionary is\n",
            "{6: 7}\n"
          ]
        }
      ]
    },
    {
      "cell_type": "code",
      "source": [
        "#Python Program to Concatenate Two Dictionaries Into One\n",
        "\n",
        "d1 = {\"A\":1, \"B\":2}\n",
        "d2 = {\"C\": 3}\n",
        "d1.update(d2)\n",
        "print(d1)"
      ],
      "metadata": {
        "colab": {
          "base_uri": "https://localhost:8080/"
        },
        "id": "3wvraRyZIIrz",
        "outputId": "c02c9b99-1973-4306-ed3e-2060016aad08"
      },
      "execution_count": 3,
      "outputs": [
        {
          "output_type": "stream",
          "name": "stdout",
          "text": [
            "{'A': 1, 'B': 2, 'C': 3}\n"
          ]
        }
      ]
    },
    {
      "cell_type": "code",
      "source": [
        "#Python Program to Check if a Given Key Exists in a Dictionary or Not\n",
        "\n",
        "d = {\"A\":1,\"B\":2, \"C\":3}\n",
        "key = input(\"Enter key to check\")\n",
        "if key in d.keys():\n",
        "    print(\"Key is present and value of the key is:\")\n",
        "    print(d[key])\n",
        "else:\n",
        "    print(\"key is not present:\")"
      ],
      "metadata": {
        "colab": {
          "base_uri": "https://localhost:8080/"
        },
        "id": "KAdsmxetIpb3",
        "outputId": "e591c533-8166-44d9-9aa0-e14f7ab4b03d"
      },
      "execution_count": 4,
      "outputs": [
        {
          "output_type": "stream",
          "name": "stdout",
          "text": [
            "Enter key to checkA\n",
            "Key is present and value of the key is:\n",
            "1\n"
          ]
        }
      ]
    },
    {
      "cell_type": "code",
      "source": [
        "d.items()"
      ],
      "metadata": {
        "colab": {
          "base_uri": "https://localhost:8080/"
        },
        "id": "XwIpjEO1KU4x",
        "outputId": "6d53e6cd-45b3-444e-8116-49014d807e15"
      },
      "execution_count": 11,
      "outputs": [
        {
          "output_type": "execute_result",
          "data": {
            "text/plain": [
              "dict_items([('A', 1), ('B', 2), ('C', 3)])"
            ]
          },
          "metadata": {},
          "execution_count": 11
        }
      ]
    },
    {
      "cell_type": "code",
      "source": [
        "d.keys()"
      ],
      "metadata": {
        "colab": {
          "base_uri": "https://localhost:8080/"
        },
        "id": "VDRdWxJYMxUi",
        "outputId": "a950435a-ae74-435e-9011-3808ad48af0c"
      },
      "execution_count": 12,
      "outputs": [
        {
          "output_type": "execute_result",
          "data": {
            "text/plain": [
              "dict_keys(['A', 'B', 'C'])"
            ]
          },
          "metadata": {},
          "execution_count": 12
        }
      ]
    },
    {
      "cell_type": "code",
      "source": [
        "d.values()"
      ],
      "metadata": {
        "colab": {
          "base_uri": "https://localhost:8080/"
        },
        "id": "oGe9YoXKNCtI",
        "outputId": "cb99fa19-53ca-4018-bd88-3fc5cf98de88"
      },
      "execution_count": 13,
      "outputs": [
        {
          "output_type": "execute_result",
          "data": {
            "text/plain": [
              "dict_values([1, 2, 3])"
            ]
          },
          "metadata": {},
          "execution_count": 13
        }
      ]
    },
    {
      "cell_type": "code",
      "source": [
        "l=list(d.values())\n",
        "l"
      ],
      "metadata": {
        "colab": {
          "base_uri": "https://localhost:8080/"
        },
        "id": "4EuOwbG7ND0d",
        "outputId": "259772b8-c2bc-42eb-8d7e-cbce4ddf913a"
      },
      "execution_count": 18,
      "outputs": [
        {
          "output_type": "execute_result",
          "data": {
            "text/plain": [
              "[1, 2, 3]"
            ]
          },
          "metadata": {},
          "execution_count": 18
        }
      ]
    },
    {
      "cell_type": "code",
      "source": [
        "type(l)"
      ],
      "metadata": {
        "colab": {
          "base_uri": "https://localhost:8080/"
        },
        "id": "c_fwdh3RNaKR",
        "outputId": "db3126cc-5533-406f-959b-c4f7b2111128"
      },
      "execution_count": 19,
      "outputs": [
        {
          "output_type": "execute_result",
          "data": {
            "text/plain": [
              "list"
            ]
          },
          "metadata": {},
          "execution_count": 19
        }
      ]
    },
    {
      "cell_type": "code",
      "source": [
        "#Python Program to Generate a Dictionary that Contains Numbers (between 1 and n) in the Form (x,x*x).\n",
        "\n",
        "n = int(input(\"Enter number\"))\n",
        "d = {x:x*x for x in range(1, n+1)}\n",
        "print(d)"
      ],
      "metadata": {
        "colab": {
          "base_uri": "https://localhost:8080/"
        },
        "id": "Eq5EkwzDNcbo",
        "outputId": "b42c1b8c-e3e5-4064-9f29-b1b68cf7b9d0"
      },
      "execution_count": 20,
      "outputs": [
        {
          "output_type": "stream",
          "name": "stdout",
          "text": [
            "Enter number5\n",
            "{1: 1, 2: 4, 3: 9, 4: 16, 5: 25}\n"
          ]
        }
      ]
    },
    {
      "cell_type": "code",
      "source": [
        "#Python Program to Sum All the Items in a Dictionary\n",
        "\n",
        "d ={\"A\":100,\"B\":200, \"C\":300}\n",
        "print(sum(d.values()))"
      ],
      "metadata": {
        "colab": {
          "base_uri": "https://localhost:8080/"
        },
        "id": "AvnPRC0QQpKE",
        "outputId": "c4d33252-8bbc-4bb0-aecc-67ff85bbd169"
      },
      "execution_count": 21,
      "outputs": [
        {
          "output_type": "stream",
          "name": "stdout",
          "text": [
            "600\n"
          ]
        }
      ]
    },
    {
      "cell_type": "code",
      "source": [
        "# Python Program to Multiply All the Items in a Dictionary\n",
        "\n",
        "d = {\"A\":100, \"B\":200, \"C\":300}\n",
        "tot =1\n",
        "for i in d:\n",
        "    tot = tot*d[i]\n",
        "print(tot)"
      ],
      "metadata": {
        "colab": {
          "base_uri": "https://localhost:8080/"
        },
        "id": "aH7ugpHBdGN5",
        "outputId": "fc6bbeaf-56b6-487e-b8d6-66485b14d0a0"
      },
      "execution_count": 22,
      "outputs": [
        {
          "output_type": "stream",
          "name": "stdout",
          "text": [
            "6000000\n"
          ]
        }
      ]
    },
    {
      "cell_type": "code",
      "source": [
        "#Python Program to Remove the Given Key from a Dictionary\n",
        "\n",
        "d = {'a':1,'b':2,'c':3,'d':4,'f':5}\n",
        "print(\"Initial Dictionary\")\n",
        "print(d)\n",
        "\n",
        "key = input(\"Enter the key to delete:\")\n",
        "if key in d:\n",
        "    del d[key]\n",
        "else:\n",
        "    print(\"Key not found\")\n",
        "    exit(0)\n",
        "print(\"Unpdated Dictionary\")\n",
        "print(d)"
      ],
      "metadata": {
        "colab": {
          "base_uri": "https://localhost:8080/"
        },
        "id": "AbwimoEcdtga",
        "outputId": "7c2b1189-958a-4691-e938-14166fdaff0f"
      },
      "execution_count": 23,
      "outputs": [
        {
          "output_type": "stream",
          "name": "stdout",
          "text": [
            "Initial Dictionary\n",
            "{'a': 1, 'b': 2, 'c': 3, 'd': 4, 'f': 5}\n",
            "Enter the key to delete:b\n",
            "Unpdated Dictionary\n",
            "{'a': 1, 'c': 3, 'd': 4, 'f': 5}\n"
          ]
        }
      ]
    },
    {
      "cell_type": "code",
      "source": [
        "#Python Program to Map Two Lists into a Dictionary\n",
        "\n",
        "keys = []\n",
        "values = []\n",
        "n = int(input(\"Enter number of elements for dictionary:\"))\n",
        "print(\"For Keys:\")\n",
        "for x in range(0,n):\n",
        "    element = int(input(\"Enter element\" + str(x+1) + \": \"))\n",
        "    keys.append(element)\n",
        "print(\"For Values:\")\n",
        "for x in range(0,n):\n",
        "    element = int(input(\"enter element\" + str(x+1) + \": \"))\n",
        "    values.append(element)\n",
        "d = dict(zip(keys,values))\n",
        "d"
      ],
      "metadata": {
        "colab": {
          "base_uri": "https://localhost:8080/"
        },
        "id": "gQUucxfEen0o",
        "outputId": "f9fe2f2b-71ad-4df7-eb85-6c44ce2852f0"
      },
      "execution_count": 25,
      "outputs": [
        {
          "name": "stdout",
          "output_type": "stream",
          "text": [
            "Enter number of elements for dictionary:3\n",
            "For Keys:\n",
            "Enter element1: 1\n",
            "Enter element2: 2\n",
            "Enter element3: 3\n",
            "For Values:\n",
            "enter element1: 23\n",
            "enter element2: 34\n",
            "enter element3: 45\n"
          ]
        },
        {
          "output_type": "execute_result",
          "data": {
            "text/plain": [
              "{1: 23, 2: 34, 3: 45}"
            ]
          },
          "metadata": {},
          "execution_count": 25
        }
      ]
    },
    {
      "cell_type": "code",
      "source": [
        "# Python Program to Count the Frequency of Words Appearing in a String Using a Dictionary\n",
        "string = input(\"Enter String\")\n",
        "l = []\n",
        "l = string.split()\n",
        "wordfreq = [l.count(p) for p in l]\n",
        "print(dict(zip(l,wordfreq)))"
      ],
      "metadata": {
        "colab": {
          "base_uri": "https://localhost:8080/"
        },
        "id": "C03Vsk7Zgrog",
        "outputId": "4f9f3610-06fb-47d5-c85a-8ba5364118b2"
      },
      "execution_count": 26,
      "outputs": [
        {
          "output_type": "stream",
          "name": "stdout",
          "text": [
            "Enter Stringhello my name is ria ria ria\n",
            "{'hello': 1, 'my': 1, 'name': 1, 'is': 1, 'ria': 3}\n"
          ]
        }
      ]
    },
    {
      "cell_type": "code",
      "source": [
        ""
      ],
      "metadata": {
        "id": "wwzw72WxjcSD"
      },
      "execution_count": null,
      "outputs": []
    }
  ]
}