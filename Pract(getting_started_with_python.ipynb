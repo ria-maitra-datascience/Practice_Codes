{
  "nbformat": 4,
  "nbformat_minor": 0,
  "metadata": {
    "colab": {
      "name": "Pract(getting_started_with_python.ipynb",
      "provenance": [],
      "authorship_tag": "ABX9TyM8CdKySoQ9Mi0QrN9UBh5V",
      "include_colab_link": true
    },
    "kernelspec": {
      "name": "python3",
      "display_name": "Python 3"
    },
    "language_info": {
      "name": "python"
    }
  },
  "cells": [
    {
      "cell_type": "markdown",
      "metadata": {
        "id": "view-in-github",
        "colab_type": "text"
      },
      "source": [
        "<a href=\"https://colab.research.google.com/github/ria1994maitra/Practice_Codes/blob/main/Pract(getting_started_with_python.ipynb\" target=\"_parent\"><img src=\"https://colab.research.google.com/assets/colab-badge.svg\" alt=\"Open In Colab\"/></a>"
      ]
    },
    {
      "cell_type": "code",
      "execution_count": 2,
      "metadata": {
        "colab": {
          "base_uri": "https://localhost:8080/"
        },
        "id": "nRijKNySFE4K",
        "outputId": "e281fc11-6ad0-4979-cbe9-38b32823de36"
      },
      "outputs": [
        {
          "output_type": "stream",
          "name": "stdout",
          "text": [
            "Hello World!\n"
          ]
        }
      ],
      "source": [
        "print(\"Hello World!\")"
      ]
    },
    {
      "cell_type": "code",
      "source": [
        "print(\"Hello World!\")\n",
        "print(\"Namaskar from PadhAI\")"
      ],
      "metadata": {
        "colab": {
          "base_uri": "https://localhost:8080/"
        },
        "id": "wf7X_pxxFQrX",
        "outputId": "2850a021-a27d-412d-88b7-daf0a60b462d"
      },
      "execution_count": 3,
      "outputs": [
        {
          "output_type": "stream",
          "name": "stdout",
          "text": [
            "Hello World!\n",
            "Namaskar from PadhAI\n"
          ]
        }
      ]
    },
    {
      "cell_type": "code",
      "source": [
        "print(\"PadhAI\")\n",
        "print(\"Padh\" + \"AI\" )"
      ],
      "metadata": {
        "colab": {
          "base_uri": "https://localhost:8080/"
        },
        "id": "g7e8m87HFqQI",
        "outputId": "9e0ba7a6-5b38-4c83-aee3-4cbc0b0c30ba"
      },
      "execution_count": 4,
      "outputs": [
        {
          "output_type": "stream",
          "name": "stdout",
          "text": [
            "PadhAI\n",
            "PadhAI\n"
          ]
        }
      ]
    },
    {
      "cell_type": "code",
      "source": [
        "print(1729)"
      ],
      "metadata": {
        "colab": {
          "base_uri": "https://localhost:8080/"
        },
        "id": "LDir_lUiF3Mv",
        "outputId": "09cc1ae5-8c17-4c3b-8a67-54db8419da90"
      },
      "execution_count": 5,
      "outputs": [
        {
          "output_type": "stream",
          "name": "stdout",
          "text": [
            "1729\n"
          ]
        }
      ]
    },
    {
      "cell_type": "code",
      "source": [
        "print(1000+729)"
      ],
      "metadata": {
        "colab": {
          "base_uri": "https://localhost:8080/"
        },
        "id": "0AemZ5qDF7Pd",
        "outputId": "ceadcd2e-18f3-4dee-b574-0e05a2701815"
      },
      "execution_count": 6,
      "outputs": [
        {
          "output_type": "stream",
          "name": "stdout",
          "text": [
            "1729\n"
          ]
        }
      ]
    },
    {
      "cell_type": "code",
      "source": [
        "print(55/34)"
      ],
      "metadata": {
        "colab": {
          "base_uri": "https://localhost:8080/"
        },
        "id": "R5p4G-ilF_UE",
        "outputId": "242e24e5-458b-4d1f-8199-ee6aa649b43b"
      },
      "execution_count": 7,
      "outputs": [
        {
          "output_type": "stream",
          "name": "stdout",
          "text": [
            "1.6176470588235294\n"
          ]
        }
      ]
    },
    {
      "cell_type": "code",
      "source": [
        "print(1.618)"
      ],
      "metadata": {
        "colab": {
          "base_uri": "https://localhost:8080/"
        },
        "id": "GxXrtrpNGDFK",
        "outputId": "73d036cb-89de-4df0-8eef-1e157fe47768"
      },
      "execution_count": 9,
      "outputs": [
        {
          "output_type": "stream",
          "name": "stdout",
          "text": [
            "1.618\n"
          ]
        }
      ]
    },
    {
      "cell_type": "code",
      "source": [
        "print(True)"
      ],
      "metadata": {
        "colab": {
          "base_uri": "https://localhost:8080/"
        },
        "id": "X5Uq6C_kGGRa",
        "outputId": "3558c9c3-a747-4fab-9549-0465ecee8cfc"
      },
      "execution_count": 10,
      "outputs": [
        {
          "output_type": "stream",
          "name": "stdout",
          "text": [
            "True\n"
          ]
        }
      ]
    },
    {
      "cell_type": "code",
      "source": [
        "print(False)"
      ],
      "metadata": {
        "colab": {
          "base_uri": "https://localhost:8080/"
        },
        "id": "zV92gOTeGuKq",
        "outputId": "d6a3d690-22f6-4c08-f6d0-6ddcf973d965"
      },
      "execution_count": 11,
      "outputs": [
        {
          "output_type": "stream",
          "name": "stdout",
          "text": [
            "False\n"
          ]
        }
      ]
    },
    {
      "cell_type": "code",
      "source": [
        "print(True or False)"
      ],
      "metadata": {
        "colab": {
          "base_uri": "https://localhost:8080/"
        },
        "id": "9Qvzu4X2GxHI",
        "outputId": "92e54816-b759-4e9d-cbd0-bc3d9c9629ca"
      },
      "execution_count": 12,
      "outputs": [
        {
          "output_type": "stream",
          "name": "stdout",
          "text": [
            "True\n"
          ]
        }
      ]
    },
    {
      "cell_type": "code",
      "source": [
        "print(True and False)"
      ],
      "metadata": {
        "colab": {
          "base_uri": "https://localhost:8080/"
        },
        "id": "aiqSYLaqG1x-",
        "outputId": "a30b2b19-fb36-4b91-f350-65ff51e0602b"
      },
      "execution_count": 13,
      "outputs": [
        {
          "output_type": "stream",
          "name": "stdout",
          "text": [
            "False\n"
          ]
        }
      ]
    },
    {
      "cell_type": "markdown",
      "source": [
        "# Variables and Inputs"
      ],
      "metadata": {
        "id": "Ttg6rwcWG94c"
      }
    },
    {
      "cell_type": "code",
      "source": [
        "school = \"PadhAI\""
      ],
      "metadata": {
        "id": "Sju-0mXPG6JD"
      },
      "execution_count": 14,
      "outputs": []
    },
    {
      "cell_type": "code",
      "source": [
        "print(school)"
      ],
      "metadata": {
        "colab": {
          "base_uri": "https://localhost:8080/"
        },
        "id": "sx-gf9YaHFoG",
        "outputId": "8ca378f3-7228-44b7-da57-010d67185ee5"
      },
      "execution_count": 15,
      "outputs": [
        {
          "output_type": "stream",
          "name": "stdout",
          "text": [
            "PadhAI\n"
          ]
        }
      ]
    },
    {
      "cell_type": "code",
      "source": [
        "print(type(school))"
      ],
      "metadata": {
        "colab": {
          "base_uri": "https://localhost:8080/"
        },
        "id": "2aAfjlPpHT7X",
        "outputId": "2d2ef2fd-23be-45c0-c225-d0f82e7cb4bf"
      },
      "execution_count": 16,
      "outputs": [
        {
          "output_type": "stream",
          "name": "stdout",
          "text": [
            "<class 'str'>\n"
          ]
        }
      ]
    },
    {
      "cell_type": "code",
      "source": [
        "print(id(school))"
      ],
      "metadata": {
        "colab": {
          "base_uri": "https://localhost:8080/"
        },
        "id": "c25RX5rOHX-0",
        "outputId": "30b0ce3f-0b67-46e2-bfc9-96342bbe806e"
      },
      "execution_count": 21,
      "outputs": [
        {
          "output_type": "stream",
          "name": "stdout",
          "text": [
            "140409864700656\n"
          ]
        }
      ]
    },
    {
      "cell_type": "code",
      "source": [
        "another_school = \"PadhAI\""
      ],
      "metadata": {
        "id": "paKlgXmPHcfv"
      },
      "execution_count": 18,
      "outputs": []
    },
    {
      "cell_type": "code",
      "source": [
        "print(another_school)"
      ],
      "metadata": {
        "colab": {
          "base_uri": "https://localhost:8080/"
        },
        "id": "pmkkbbzRHiXG",
        "outputId": "2e8d1c2a-d784-481c-a0ab-08f823bd42b5"
      },
      "execution_count": 19,
      "outputs": [
        {
          "output_type": "stream",
          "name": "stdout",
          "text": [
            "PadhAI\n"
          ]
        }
      ]
    },
    {
      "cell_type": "code",
      "source": [
        "print(id(another_school))"
      ],
      "metadata": {
        "colab": {
          "base_uri": "https://localhost:8080/"
        },
        "id": "1mvOpvbMHmac",
        "outputId": "d5631b29-b149-42dd-c7ca-33af8ff48169"
      },
      "execution_count": 20,
      "outputs": [
        {
          "output_type": "stream",
          "name": "stdout",
          "text": [
            "140409864700656\n"
          ]
        }
      ]
    },
    {
      "cell_type": "code",
      "source": [
        "another_school = \"IIT Madras\""
      ],
      "metadata": {
        "id": "gu0VR0GUHpaB"
      },
      "execution_count": 25,
      "outputs": []
    },
    {
      "cell_type": "code",
      "source": [
        "print(id(another_school))"
      ],
      "metadata": {
        "colab": {
          "base_uri": "https://localhost:8080/"
        },
        "id": "Ay7HI4sBICQr",
        "outputId": "e6ae2ec6-44d4-4e4a-a241-3cd46f69e32c"
      },
      "execution_count": 26,
      "outputs": [
        {
          "output_type": "stream",
          "name": "stdout",
          "text": [
            "140409864692144\n"
          ]
        }
      ]
    },
    {
      "cell_type": "code",
      "source": [
        "print(\"I am studying at \" + school)"
      ],
      "metadata": {
        "colab": {
          "base_uri": "https://localhost:8080/"
        },
        "id": "pcoxs1NzIH-u",
        "outputId": "ea2735db-4567-4b95-abd4-9e5b26b910c0"
      },
      "execution_count": 24,
      "outputs": [
        {
          "output_type": "stream",
          "name": "stdout",
          "text": [
            "I am studying at PadhAI\n"
          ]
        }
      ]
    },
    {
      "cell_type": "code",
      "source": [
        "r_no = 1729"
      ],
      "metadata": {
        "id": "9MfEJchDISZW"
      },
      "execution_count": 27,
      "outputs": []
    },
    {
      "cell_type": "code",
      "source": [
        "print(type(r_no))"
      ],
      "metadata": {
        "colab": {
          "base_uri": "https://localhost:8080/"
        },
        "id": "gm545zf0IpsQ",
        "outputId": "e718da4c-7b1f-445a-8b41-af0c66ca8c2b"
      },
      "execution_count": 28,
      "outputs": [
        {
          "output_type": "stream",
          "name": "stdout",
          "text": [
            "<class 'int'>\n"
          ]
        }
      ]
    },
    {
      "cell_type": "code",
      "source": [
        "golden_ratio = 55/34"
      ],
      "metadata": {
        "id": "VuWWUvVnIuOJ"
      },
      "execution_count": 29,
      "outputs": []
    },
    {
      "cell_type": "code",
      "source": [
        "print(type(golden_ratio))"
      ],
      "metadata": {
        "colab": {
          "base_uri": "https://localhost:8080/"
        },
        "id": "mrpKjLfbIyeO",
        "outputId": "b62c2445-5511-43b3-b638-c1b9e2665730"
      },
      "execution_count": 30,
      "outputs": [
        {
          "output_type": "stream",
          "name": "stdout",
          "text": [
            "<class 'float'>\n"
          ]
        }
      ]
    },
    {
      "cell_type": "code",
      "source": [
        "is_good = True"
      ],
      "metadata": {
        "id": "36xc8C4OI457"
      },
      "execution_count": 31,
      "outputs": []
    },
    {
      "cell_type": "code",
      "source": [
        "print(type(is_good))"
      ],
      "metadata": {
        "colab": {
          "base_uri": "https://localhost:8080/"
        },
        "id": "LVMBgKpdJFFk",
        "outputId": "19693476-a386-4fda-dfe5-ca398598766a"
      },
      "execution_count": 32,
      "outputs": [
        {
          "output_type": "stream",
          "name": "stdout",
          "text": [
            "<class 'bool'>\n"
          ]
        }
      ]
    },
    {
      "cell_type": "code",
      "source": [
        "my_name = input(\"What is your name \")"
      ],
      "metadata": {
        "colab": {
          "base_uri": "https://localhost:8080/"
        },
        "id": "ddXdPoiaJIfP",
        "outputId": "a6ce5f06-fe62-43ae-843a-69d43d8b66af"
      },
      "execution_count": 35,
      "outputs": [
        {
          "name": "stdout",
          "output_type": "stream",
          "text": [
            "What is your name Ria Maitra\n"
          ]
        }
      ]
    },
    {
      "cell_type": "code",
      "source": [
        "print(my_name, type(my_name))"
      ],
      "metadata": {
        "colab": {
          "base_uri": "https://localhost:8080/"
        },
        "id": "BnzXhp3SOmAo",
        "outputId": "31cced3f-28d0-44b6-8fe9-81e47da2fc7b"
      },
      "execution_count": 36,
      "outputs": [
        {
          "output_type": "stream",
          "name": "stdout",
          "text": [
            "Ria Maitra <class 'str'>\n"
          ]
        }
      ]
    },
    {
      "cell_type": "code",
      "source": [
        "print(my_name + \" is studying at \" + school)"
      ],
      "metadata": {
        "colab": {
          "base_uri": "https://localhost:8080/"
        },
        "id": "sNPZlTMlO_4I",
        "outputId": "a14f0b8c-dd3f-404b-e5c0-cd346c89cfa3"
      },
      "execution_count": 38,
      "outputs": [
        {
          "output_type": "stream",
          "name": "stdout",
          "text": [
            "Ria Maitra is studying at PadhAI\n"
          ]
        }
      ]
    },
    {
      "cell_type": "code",
      "source": [
        "hours_per_day = input(\"How many hours per day you study? \")"
      ],
      "metadata": {
        "colab": {
          "base_uri": "https://localhost:8080/"
        },
        "id": "r3419thrPMWL",
        "outputId": "76bc7ca9-b96e-40eb-e402-99c099575b9c"
      },
      "execution_count": 40,
      "outputs": [
        {
          "name": "stdout",
          "output_type": "stream",
          "text": [
            "How many hours per day you study? 3\n"
          ]
        }
      ]
    },
    {
      "cell_type": "code",
      "source": [
        "print(my_name + \" studies for \" + hours_per_day + \" hours.\" )"
      ],
      "metadata": {
        "colab": {
          "base_uri": "https://localhost:8080/"
        },
        "id": "Lkp7EnTZPaxF",
        "outputId": "cd9798ad-43eb-41af-cfd8-d4b3b7d4115f"
      },
      "execution_count": 41,
      "outputs": [
        {
          "output_type": "stream",
          "name": "stdout",
          "text": [
            "Ria Maitra studies for 3 hours.\n"
          ]
        }
      ]
    },
    {
      "cell_type": "code",
      "source": [
        "hours_per_week = int(hours_per_day)*7\n",
        "hours_per_week"
      ],
      "metadata": {
        "colab": {
          "base_uri": "https://localhost:8080/"
        },
        "id": "Mn_vM-qBQEa3",
        "outputId": "f0a48267-bc53-40e8-a667-2d0c5f51866a"
      },
      "execution_count": 44,
      "outputs": [
        {
          "output_type": "execute_result",
          "data": {
            "text/plain": [
              "21"
            ]
          },
          "metadata": {},
          "execution_count": 44
        }
      ]
    },
    {
      "cell_type": "code",
      "source": [
        "print(my_name + \" studies for \" + str(hours_per_week) + \" hours.\")"
      ],
      "metadata": {
        "colab": {
          "base_uri": "https://localhost:8080/"
        },
        "id": "zQllESGwQZ9-",
        "outputId": "20eb0db9-c48f-4364-e3e0-ff4b97bf98ca"
      },
      "execution_count": 47,
      "outputs": [
        {
          "output_type": "stream",
          "name": "stdout",
          "text": [
            "Ria Maitra studies for 21 hours.\n"
          ]
        }
      ]
    },
    {
      "cell_type": "code",
      "source": [
        "print(type(hours_per_day))"
      ],
      "metadata": {
        "colab": {
          "base_uri": "https://localhost:8080/"
        },
        "id": "zITH4LAuQwj_",
        "outputId": "80fd5dc3-137e-42c0-8ed0-02e1a4e33915"
      },
      "execution_count": 48,
      "outputs": [
        {
          "output_type": "stream",
          "name": "stdout",
          "text": [
            "<class 'str'>\n"
          ]
        }
      ]
    },
    {
      "cell_type": "code",
      "source": [
        "hours_per_day_int = float(hours_per_day)"
      ],
      "metadata": {
        "id": "gXHHP9s1Q8SL"
      },
      "execution_count": 49,
      "outputs": []
    },
    {
      "cell_type": "code",
      "source": [
        "print(hours_per_day_int,type(hours_per_day_int))"
      ],
      "metadata": {
        "colab": {
          "base_uri": "https://localhost:8080/"
        },
        "id": "khQIW-K4RMpI",
        "outputId": "dd74517b-ea23-4cba-dd0a-219f18a7232e"
      },
      "execution_count": 51,
      "outputs": [
        {
          "output_type": "stream",
          "name": "stdout",
          "text": [
            "3.0 <class 'float'>\n"
          ]
        }
      ]
    },
    {
      "cell_type": "code",
      "source": [
        "hours_per_week = hours_per_day_int*7\n",
        "hours_per_week\n"
      ],
      "metadata": {
        "colab": {
          "base_uri": "https://localhost:8080/"
        },
        "id": "XndJC-9RRQgo",
        "outputId": "c53c6577-d0c5-48af-bdcd-c06cc1032563"
      },
      "execution_count": 53,
      "outputs": [
        {
          "output_type": "execute_result",
          "data": {
            "text/plain": [
              "21.0"
            ]
          },
          "metadata": {},
          "execution_count": 53
        }
      ]
    },
    {
      "cell_type": "code",
      "source": [
        "print(my_name + \" studies for \" + hours_per_week + \" hours.\")"
      ],
      "metadata": {
        "colab": {
          "base_uri": "https://localhost:8080/",
          "height": 170
        },
        "id": "G2_tRLGyRxGy",
        "outputId": "cbcbe3bb-57ec-4122-81b8-4f35c7167986"
      },
      "execution_count": 54,
      "outputs": [
        {
          "output_type": "error",
          "ename": "TypeError",
          "evalue": "ignored",
          "traceback": [
            "\u001b[0;31m---------------------------------------------------------------------------\u001b[0m",
            "\u001b[0;31mTypeError\u001b[0m                                 Traceback (most recent call last)",
            "\u001b[0;32m<ipython-input-54-ab53f97b6b34>\u001b[0m in \u001b[0;36m<module>\u001b[0;34m()\u001b[0m\n\u001b[0;32m----> 1\u001b[0;31m \u001b[0mprint\u001b[0m\u001b[0;34m(\u001b[0m\u001b[0mmy_name\u001b[0m \u001b[0;34m+\u001b[0m \u001b[0;34m\" studies for \"\u001b[0m \u001b[0;34m+\u001b[0m \u001b[0mhours_per_week\u001b[0m \u001b[0;34m+\u001b[0m \u001b[0;34m\" hours.\"\u001b[0m\u001b[0;34m)\u001b[0m\u001b[0;34m\u001b[0m\u001b[0;34m\u001b[0m\u001b[0m\n\u001b[0m",
            "\u001b[0;31mTypeError\u001b[0m: can only concatenate str (not \"float\") to str"
          ]
        }
      ]
    },
    {
      "cell_type": "code",
      "source": [
        "print(my_name + \" studies for \" + str(hours_per_week) + \" hours\")"
      ],
      "metadata": {
        "colab": {
          "base_uri": "https://localhost:8080/"
        },
        "id": "TMTQSoQJSBCY",
        "outputId": "93e13d04-2880-460f-ed16-08663faaea4b"
      },
      "execution_count": 56,
      "outputs": [
        {
          "output_type": "stream",
          "name": "stdout",
          "text": [
            "Ria Maitra studies for 21.0 hours\n"
          ]
        }
      ]
    },
    {
      "cell_type": "markdown",
      "source": [
        "# String Processing"
      ],
      "metadata": {
        "id": "h2MESuJ4SYFm"
      }
    },
    {
      "cell_type": "code",
      "source": [
        "topic = \"Foundations of Data Science\""
      ],
      "metadata": {
        "id": "7UIHW3d9SQny"
      },
      "execution_count": 58,
      "outputs": []
    },
    {
      "cell_type": "code",
      "source": [
        "print(topic)"
      ],
      "metadata": {
        "colab": {
          "base_uri": "https://localhost:8080/"
        },
        "id": "qRJrtQgDSiUx",
        "outputId": "30c4fbc2-6d8b-4f3d-903e-a016805f61b7"
      },
      "execution_count": 59,
      "outputs": [
        {
          "output_type": "stream",
          "name": "stdout",
          "text": [
            "Foundations of Data Science\n"
          ]
        }
      ]
    },
    {
      "cell_type": "code",
      "source": [
        "topic[0]"
      ],
      "metadata": {
        "colab": {
          "base_uri": "https://localhost:8080/",
          "height": 35
        },
        "id": "3v1-QNiaSqpc",
        "outputId": "1aca178a-d02e-4d67-a8b0-d3090700a79d"
      },
      "execution_count": 60,
      "outputs": [
        {
          "output_type": "execute_result",
          "data": {
            "application/vnd.google.colaboratory.intrinsic+json": {
              "type": "string"
            },
            "text/plain": [
              "'F'"
            ]
          },
          "metadata": {},
          "execution_count": 60
        }
      ]
    },
    {
      "cell_type": "code",
      "source": [
        "topic[1]"
      ],
      "metadata": {
        "colab": {
          "base_uri": "https://localhost:8080/",
          "height": 35
        },
        "id": "G27idlmdSxnJ",
        "outputId": "c62cc19a-6dbc-45d8-ca93-891b6e0fcdd3"
      },
      "execution_count": 61,
      "outputs": [
        {
          "output_type": "execute_result",
          "data": {
            "application/vnd.google.colaboratory.intrinsic+json": {
              "type": "string"
            },
            "text/plain": [
              "'o'"
            ]
          },
          "metadata": {},
          "execution_count": 61
        }
      ]
    },
    {
      "cell_type": "code",
      "source": [
        "topic[10]"
      ],
      "metadata": {
        "colab": {
          "base_uri": "https://localhost:8080/",
          "height": 35
        },
        "id": "oNZcbRrmSz63",
        "outputId": "68b81c2b-8462-4b04-d6f7-3342989ed019"
      },
      "execution_count": 62,
      "outputs": [
        {
          "output_type": "execute_result",
          "data": {
            "application/vnd.google.colaboratory.intrinsic+json": {
              "type": "string"
            },
            "text/plain": [
              "'s'"
            ]
          },
          "metadata": {},
          "execution_count": 62
        }
      ]
    },
    {
      "cell_type": "code",
      "source": [
        "print(topic[-1])"
      ],
      "metadata": {
        "colab": {
          "base_uri": "https://localhost:8080/"
        },
        "id": "nN3rBPPYS1Vu",
        "outputId": "ced322ae-bc75-4d16-ba23-a983121de672"
      },
      "execution_count": 63,
      "outputs": [
        {
          "output_type": "stream",
          "name": "stdout",
          "text": [
            "e\n"
          ]
        }
      ]
    },
    {
      "cell_type": "code",
      "source": [
        "topic[-2]"
      ],
      "metadata": {
        "colab": {
          "base_uri": "https://localhost:8080/",
          "height": 35
        },
        "id": "WIbeZqIkVLmK",
        "outputId": "1f4f31ed-16c9-456f-eb26-73671799ac9e"
      },
      "execution_count": 64,
      "outputs": [
        {
          "output_type": "execute_result",
          "data": {
            "application/vnd.google.colaboratory.intrinsic+json": {
              "type": "string"
            },
            "text/plain": [
              "'c'"
            ]
          },
          "metadata": {},
          "execution_count": 64
        }
      ]
    },
    {
      "cell_type": "code",
      "source": [
        "topic[0:10]"
      ],
      "metadata": {
        "colab": {
          "base_uri": "https://localhost:8080/",
          "height": 35
        },
        "id": "kzyNiyfLVRzV",
        "outputId": "06d19d06-80e9-4ebd-f479-88f0c50c549c"
      },
      "execution_count": 65,
      "outputs": [
        {
          "output_type": "execute_result",
          "data": {
            "application/vnd.google.colaboratory.intrinsic+json": {
              "type": "string"
            },
            "text/plain": [
              "'Foundation'"
            ]
          },
          "metadata": {},
          "execution_count": 65
        }
      ]
    },
    {
      "cell_type": "code",
      "source": [
        "topic[12:16]"
      ],
      "metadata": {
        "colab": {
          "base_uri": "https://localhost:8080/",
          "height": 35
        },
        "id": "z7sIHZ6oVVqa",
        "outputId": "347c2871-93a2-4a09-a3b4-50db37716849"
      },
      "execution_count": 66,
      "outputs": [
        {
          "output_type": "execute_result",
          "data": {
            "application/vnd.google.colaboratory.intrinsic+json": {
              "type": "string"
            },
            "text/plain": [
              "'of D'"
            ]
          },
          "metadata": {},
          "execution_count": 66
        }
      ]
    },
    {
      "cell_type": "code",
      "source": [
        "topic.lower()"
      ],
      "metadata": {
        "colab": {
          "base_uri": "https://localhost:8080/",
          "height": 35
        },
        "id": "sWXZAuDHVZ-f",
        "outputId": "07231ce7-cbf3-4b7b-91ca-940c4261530f"
      },
      "execution_count": 67,
      "outputs": [
        {
          "output_type": "execute_result",
          "data": {
            "application/vnd.google.colaboratory.intrinsic+json": {
              "type": "string"
            },
            "text/plain": [
              "'foundations of data science'"
            ]
          },
          "metadata": {},
          "execution_count": 67
        }
      ]
    },
    {
      "cell_type": "code",
      "source": [
        "topic"
      ],
      "metadata": {
        "colab": {
          "base_uri": "https://localhost:8080/",
          "height": 35
        },
        "id": "PufKozVWVd7C",
        "outputId": "9e417b8f-30a6-4c3d-f522-a6847562732a"
      },
      "execution_count": 68,
      "outputs": [
        {
          "output_type": "execute_result",
          "data": {
            "application/vnd.google.colaboratory.intrinsic+json": {
              "type": "string"
            },
            "text/plain": [
              "'Foundations of Data Science'"
            ]
          },
          "metadata": {},
          "execution_count": 68
        }
      ]
    },
    {
      "cell_type": "code",
      "source": [
        "topic = topic.lower()"
      ],
      "metadata": {
        "id": "i7ipLzJIVgUH"
      },
      "execution_count": 69,
      "outputs": []
    },
    {
      "cell_type": "code",
      "source": [
        "print(topic.upper())"
      ],
      "metadata": {
        "colab": {
          "base_uri": "https://localhost:8080/"
        },
        "id": "fyvjCdcoVlX2",
        "outputId": "c3a11727-d34e-4de7-c99e-4932d091840a"
      },
      "execution_count": 70,
      "outputs": [
        {
          "output_type": "stream",
          "name": "stdout",
          "text": [
            "FOUNDATIONS OF DATA SCIENCE\n"
          ]
        }
      ]
    },
    {
      "cell_type": "code",
      "source": [
        "print(topic.islower())"
      ],
      "metadata": {
        "colab": {
          "base_uri": "https://localhost:8080/"
        },
        "id": "1HBcSwbmVsAA",
        "outputId": "943d0b46-b99a-40f3-b31d-0d85fded3588"
      },
      "execution_count": 71,
      "outputs": [
        {
          "output_type": "stream",
          "name": "stdout",
          "text": [
            "True\n"
          ]
        }
      ]
    },
    {
      "cell_type": "code",
      "source": [
        "topic = topic.upper()\n",
        "topic"
      ],
      "metadata": {
        "colab": {
          "base_uri": "https://localhost:8080/",
          "height": 35
        },
        "id": "AA20mHCJVxIL",
        "outputId": "838b05da-cd67-49e6-d247-7e250023f71c"
      },
      "execution_count": 72,
      "outputs": [
        {
          "output_type": "execute_result",
          "data": {
            "application/vnd.google.colaboratory.intrinsic+json": {
              "type": "string"
            },
            "text/plain": [
              "'FOUNDATIONS OF DATA SCIENCE'"
            ]
          },
          "metadata": {},
          "execution_count": 72
        }
      ]
    },
    {
      "cell_type": "code",
      "source": [
        "print(topic.islower())"
      ],
      "metadata": {
        "colab": {
          "base_uri": "https://localhost:8080/"
        },
        "id": "2B6rVIkwV522",
        "outputId": "aa3d1e87-f278-40a1-cb5b-b8e93a2f8956"
      },
      "execution_count": 73,
      "outputs": [
        {
          "output_type": "stream",
          "name": "stdout",
          "text": [
            "False\n"
          ]
        }
      ]
    },
    {
      "cell_type": "code",
      "source": [
        "print(topic.isupper())"
      ],
      "metadata": {
        "colab": {
          "base_uri": "https://localhost:8080/"
        },
        "id": "oOCjJfOdWQbS",
        "outputId": "1e0335e0-081f-4ef2-ecaf-b1f929edbe4a"
      },
      "execution_count": 74,
      "outputs": [
        {
          "output_type": "stream",
          "name": "stdout",
          "text": [
            "True\n"
          ]
        }
      ]
    },
    {
      "cell_type": "code",
      "source": [
        "print(topic.find(\"DATA\"))"
      ],
      "metadata": {
        "colab": {
          "base_uri": "https://localhost:8080/"
        },
        "id": "LwctHDDLWTdw",
        "outputId": "b268e678-305b-4035-fd95-051325260dbb"
      },
      "execution_count": 75,
      "outputs": [
        {
          "output_type": "stream",
          "name": "stdout",
          "text": [
            "15\n"
          ]
        }
      ]
    },
    {
      "cell_type": "code",
      "source": [
        "print(topic[15])"
      ],
      "metadata": {
        "colab": {
          "base_uri": "https://localhost:8080/"
        },
        "id": "Yv5WQMVtWc8o",
        "outputId": "ebfc0cce-8ac2-41c4-f779-fdd33233d666"
      },
      "execution_count": 76,
      "outputs": [
        {
          "output_type": "stream",
          "name": "stdout",
          "text": [
            "D\n"
          ]
        }
      ]
    },
    {
      "cell_type": "code",
      "source": [
        "print(topic.find(\"AI\"))"
      ],
      "metadata": {
        "colab": {
          "base_uri": "https://localhost:8080/"
        },
        "id": "WjRsUAGQWkCa",
        "outputId": "18380b90-4164-4937-c19f-64a7a8745ffa"
      },
      "execution_count": 82,
      "outputs": [
        {
          "output_type": "stream",
          "name": "stdout",
          "text": [
            "-1\n"
          ]
        }
      ]
    },
    {
      "cell_type": "code",
      "source": [
        "topic"
      ],
      "metadata": {
        "colab": {
          "base_uri": "https://localhost:8080/",
          "height": 35
        },
        "id": "kY_ycwYzW7Xs",
        "outputId": "b727b9fd-6f5c-4da3-dfa4-f2147b9ffe62"
      },
      "execution_count": 79,
      "outputs": [
        {
          "output_type": "execute_result",
          "data": {
            "application/vnd.google.colaboratory.intrinsic+json": {
              "type": "string"
            },
            "text/plain": [
              "'FOUNDATIONS OF DATA SCIENCE'"
            ]
          },
          "metadata": {},
          "execution_count": 79
        }
      ]
    },
    {
      "cell_type": "code",
      "source": [
        "topic[-1]"
      ],
      "metadata": {
        "colab": {
          "base_uri": "https://localhost:8080/",
          "height": 35
        },
        "id": "YTpvxedyWp1x",
        "outputId": "1afa1ec8-3708-4a78-d564-f049ffbe6cc8"
      },
      "execution_count": 81,
      "outputs": [
        {
          "output_type": "execute_result",
          "data": {
            "application/vnd.google.colaboratory.intrinsic+json": {
              "type": "string"
            },
            "text/plain": [
              "'E'"
            ]
          },
          "metadata": {},
          "execution_count": 81
        }
      ]
    },
    {
      "cell_type": "code",
      "source": [
        "topic.replace(\"SCIENCE\", \"ENGINEERING\")"
      ],
      "metadata": {
        "colab": {
          "base_uri": "https://localhost:8080/",
          "height": 35
        },
        "id": "e3oavD8xWvuX",
        "outputId": "c48b0b99-7657-475a-82c0-aa6f228d549d"
      },
      "execution_count": 84,
      "outputs": [
        {
          "output_type": "execute_result",
          "data": {
            "application/vnd.google.colaboratory.intrinsic+json": {
              "type": "string"
            },
            "text/plain": [
              "'FOUNDATIONS OF DATA ENGINEERING'"
            ]
          },
          "metadata": {},
          "execution_count": 84
        }
      ]
    },
    {
      "cell_type": "code",
      "source": [
        "print(55/34)"
      ],
      "metadata": {
        "colab": {
          "base_uri": "https://localhost:8080/"
        },
        "id": "IwTgzCfeXVHB",
        "outputId": "c96c692b-295a-4791-a968-a819b0e02d4f"
      },
      "execution_count": 85,
      "outputs": [
        {
          "output_type": "stream",
          "name": "stdout",
          "text": [
            "1.6176470588235294\n"
          ]
        }
      ]
    },
    {
      "cell_type": "code",
      "source": [
        "golden_ratio = 55/34"
      ],
      "metadata": {
        "id": "us153aO3XgiT"
      },
      "execution_count": 86,
      "outputs": []
    },
    {
      "cell_type": "code",
      "source": [
        "print(type(golden_ratio))"
      ],
      "metadata": {
        "colab": {
          "base_uri": "https://localhost:8080/"
        },
        "id": "0D029mtcXtvb",
        "outputId": "553f300e-e9e6-4dfa-c625-3d54d92f9183"
      },
      "execution_count": 88,
      "outputs": [
        {
          "output_type": "stream",
          "name": "stdout",
          "text": [
            "<class 'float'>\n"
          ]
        }
      ]
    },
    {
      "cell_type": "code",
      "source": [
        "print(golden_ratio.is_integer())"
      ],
      "metadata": {
        "colab": {
          "base_uri": "https://localhost:8080/"
        },
        "id": "-iKBI5AUXyQX",
        "outputId": "ceb4a666-3691-4120-ea9e-2ca62285efe0"
      },
      "execution_count": 90,
      "outputs": [
        {
          "output_type": "stream",
          "name": "stdout",
          "text": [
            "False\n"
          ]
        }
      ]
    },
    {
      "cell_type": "code",
      "source": [
        "print(golden_ratio.as_integer_ratio())"
      ],
      "metadata": {
        "colab": {
          "base_uri": "https://localhost:8080/"
        },
        "id": "qaA2YrfLX9BH",
        "outputId": "31254aa2-2b24-4168-aa3a-f8fa6ac14cb5"
      },
      "execution_count": 92,
      "outputs": [
        {
          "output_type": "stream",
          "name": "stdout",
          "text": [
            "(3642617345667313, 2251799813685248)\n"
          ]
        }
      ]
    },
    {
      "cell_type": "code",
      "source": [
        "print(3642617345667313/2251799813685248)"
      ],
      "metadata": {
        "colab": {
          "base_uri": "https://localhost:8080/"
        },
        "id": "FWL3L4o6YJEE",
        "outputId": "94e88e4d-63bd-487b-9217-3b5d436643aa"
      },
      "execution_count": 93,
      "outputs": [
        {
          "output_type": "stream",
          "name": "stdout",
          "text": [
            "1.6176470588235294\n"
          ]
        }
      ]
    },
    {
      "cell_type": "code",
      "source": [
        "print(55//34,55/34)  #('//' is used to find the quotient)"
      ],
      "metadata": {
        "colab": {
          "base_uri": "https://localhost:8080/"
        },
        "id": "saqsNAY1YYrm",
        "outputId": "2d7872cd-7177-445e-d2b1-cc21c64f01c5"
      },
      "execution_count": 94,
      "outputs": [
        {
          "output_type": "stream",
          "name": "stdout",
          "text": [
            "1 1.6176470588235294\n"
          ]
        }
      ]
    },
    {
      "cell_type": "code",
      "source": [
        "12%2"
      ],
      "metadata": {
        "colab": {
          "base_uri": "https://localhost:8080/"
        },
        "id": "Pk7HkrsPYh6q",
        "outputId": "2848cf32-304d-4225-87c2-dc75b5aebc1a"
      },
      "execution_count": 99,
      "outputs": [
        {
          "output_type": "execute_result",
          "data": {
            "text/plain": [
              "0"
            ]
          },
          "metadata": {},
          "execution_count": 99
        }
      ]
    },
    {
      "cell_type": "code",
      "source": [
        "print(55%34)    #('%' is used to find the remainder)"
      ],
      "metadata": {
        "colab": {
          "base_uri": "https://localhost:8080/"
        },
        "id": "Fw0qUKRKYmVl",
        "outputId": "d665ca7a-5ecd-4235-99dd-22b6ed6b34dc"
      },
      "execution_count": 100,
      "outputs": [
        {
          "output_type": "stream",
          "name": "stdout",
          "text": [
            "21\n"
          ]
        }
      ]
    },
    {
      "cell_type": "code",
      "source": [
        "print(2 ** 3)   #('*' used to mention the to the power statement)"
      ],
      "metadata": {
        "colab": {
          "base_uri": "https://localhost:8080/"
        },
        "id": "HEI2C9JWY7sv",
        "outputId": "4ab8c196-b66c-42cd-a78b-b05be6fab715"
      },
      "execution_count": 103,
      "outputs": [
        {
          "output_type": "stream",
          "name": "stdout",
          "text": [
            "8\n"
          ]
        }
      ]
    },
    {
      "cell_type": "code",
      "source": [
        "3**3"
      ],
      "metadata": {
        "colab": {
          "base_uri": "https://localhost:8080/"
        },
        "id": "g1ONufwTZJT7",
        "outputId": "051daddb-d5ea-4f90-92f6-c40fa534efcf"
      },
      "execution_count": 104,
      "outputs": [
        {
          "output_type": "execute_result",
          "data": {
            "text/plain": [
              "27"
            ]
          },
          "metadata": {},
          "execution_count": 104
        }
      ]
    },
    {
      "cell_type": "markdown",
      "source": [
        "# If, For, While Blocks"
      ],
      "metadata": {
        "id": "HLTEp4A1ZbUJ"
      }
    },
    {
      "cell_type": "code",
      "source": [
        "hours_per_week = 5"
      ],
      "metadata": {
        "id": "8_gpQtU-ZM8v"
      },
      "execution_count": 105,
      "outputs": []
    },
    {
      "cell_type": "code",
      "source": [
        "if hours_per_week > 10:\n",
        "    print(my_name + \" you are doing good\")"
      ],
      "metadata": {
        "id": "kKXFSmU7Zq4N"
      },
      "execution_count": 106,
      "outputs": []
    },
    {
      "cell_type": "code",
      "source": [
        "if hours_per_week >10:\n",
        "    print(my_name + \"you are doing well\")\n",
        "print(\"Outside if\")"
      ],
      "metadata": {
        "colab": {
          "base_uri": "https://localhost:8080/"
        },
        "id": "tclFcc1LZ2jc",
        "outputId": "1bc5d3fc-9eee-4476-c1f5-67af63661a44"
      },
      "execution_count": 108,
      "outputs": [
        {
          "output_type": "stream",
          "name": "stdout",
          "text": [
            "Outside if\n"
          ]
        }
      ]
    },
    {
      "cell_type": "code",
      "source": [
        "if hours_per_week >10:\n",
        "    print(my_name + \" you are doing well\")\n",
        "else:\n",
        "    print(my_name + \" you need to study more\")"
      ],
      "metadata": {
        "colab": {
          "base_uri": "https://localhost:8080/"
        },
        "id": "fkSngtGvaEbh",
        "outputId": "14e124e8-9cee-485a-f4b6-26ec0162bbfc"
      },
      "execution_count": 109,
      "outputs": [
        {
          "output_type": "stream",
          "name": "stdout",
          "text": [
            "Ria Maitra you need to study more\n"
          ]
        }
      ]
    },
    {
      "cell_type": "code",
      "source": [
        "for i in range(5):\n",
        "    print(i)"
      ],
      "metadata": {
        "colab": {
          "base_uri": "https://localhost:8080/"
        },
        "id": "HkMxVWpuaWZk",
        "outputId": "84929d54-0206-4457-bba3-468967f534a5"
      },
      "execution_count": 110,
      "outputs": [
        {
          "output_type": "stream",
          "name": "stdout",
          "text": [
            "0\n",
            "1\n",
            "2\n",
            "3\n",
            "4\n"
          ]
        }
      ]
    },
    {
      "cell_type": "code",
      "source": [
        "range?"
      ],
      "metadata": {
        "id": "fkfCCSlqacBl"
      },
      "execution_count": 111,
      "outputs": []
    },
    {
      "cell_type": "code",
      "source": [
        "for i in range(2,5):\n",
        "    print(i,i**2)"
      ],
      "metadata": {
        "colab": {
          "base_uri": "https://localhost:8080/"
        },
        "id": "irDDBM2Maf1U",
        "outputId": "5b559676-b5ad-4541-f985-089f03e17851"
      },
      "execution_count": 112,
      "outputs": [
        {
          "output_type": "stream",
          "name": "stdout",
          "text": [
            "2 4\n",
            "3 9\n",
            "4 16\n"
          ]
        }
      ]
    },
    {
      "cell_type": "code",
      "source": [
        "a= 1\n",
        "b = 1\n",
        "for i in range(10):\n",
        "    temp = a + b\n",
        "    a = b\n",
        "    b = temp\n",
        "    print(temp)"
      ],
      "metadata": {
        "colab": {
          "base_uri": "https://localhost:8080/"
        },
        "id": "8pPS-i6bdVwF",
        "outputId": "293a4c0e-6165-45c5-9dbd-2a53d799a58b"
      },
      "execution_count": 113,
      "outputs": [
        {
          "output_type": "stream",
          "name": "stdout",
          "text": [
            "2\n",
            "3\n",
            "5\n",
            "8\n",
            "13\n",
            "21\n",
            "34\n",
            "55\n",
            "89\n",
            "144\n"
          ]
        }
      ]
    },
    {
      "cell_type": "code",
      "source": [
        "a = 1\n",
        "b = 1\n",
        "print(a)\n",
        "print(b)\n",
        "i = 2\n",
        "while b < 1728:\n",
        "    temp = a+b\n",
        "    i += 1\n",
        "    a = b\n",
        "    b = temp\n",
        "    print(temp)\n",
        "print(\"Printed\", i , \"Numbers\")"
      ],
      "metadata": {
        "colab": {
          "base_uri": "https://localhost:8080/"
        },
        "id": "CRylNSZudsjp",
        "outputId": "0041184d-96a5-4c4d-8a27-c2397ff7c2e5"
      },
      "execution_count": 115,
      "outputs": [
        {
          "output_type": "stream",
          "name": "stdout",
          "text": [
            "1\n",
            "1\n",
            "2\n",
            "3\n",
            "5\n",
            "8\n",
            "13\n",
            "21\n",
            "34\n",
            "55\n",
            "89\n",
            "144\n",
            "233\n",
            "377\n",
            "610\n",
            "987\n",
            "1597\n",
            "2584\n",
            "Printed 18 Numbers\n"
          ]
        }
      ]
    },
    {
      "cell_type": "markdown",
      "source": [
        "# Functions"
      ],
      "metadata": {
        "id": "DOcXXL-df7zT"
      }
    },
    {
      "cell_type": "code",
      "source": [
        "def fibonacci(pos):\n",
        "    a = 1\n",
        "    b = 1\n",
        "    for i in range(pos):\n",
        "        temp = a+b\n",
        "        a = b\n",
        "        b = temp\n",
        "    return(temp)"
      ],
      "metadata": {
        "id": "jTTI_6cie8oi"
      },
      "execution_count": 116,
      "outputs": []
    },
    {
      "cell_type": "code",
      "source": [
        "fibonacci(6)"
      ],
      "metadata": {
        "colab": {
          "base_uri": "https://localhost:8080/"
        },
        "id": "LcS_jVsigZU2",
        "outputId": "c847d435-1c36-479b-9b36-3cdfa3eea4c5"
      },
      "execution_count": 119,
      "outputs": [
        {
          "output_type": "execute_result",
          "data": {
            "text/plain": [
              "21"
            ]
          },
          "metadata": {},
          "execution_count": 119
        }
      ]
    },
    {
      "cell_type": "code",
      "source": [
        "print(fibonacci(8), fibonacci(7))"
      ],
      "metadata": {
        "colab": {
          "base_uri": "https://localhost:8080/"
        },
        "id": "Zd9d-Hxwgbmt",
        "outputId": "8df50f92-48b7-487f-e682-93f467488354"
      },
      "execution_count": 120,
      "outputs": [
        {
          "output_type": "stream",
          "name": "stdout",
          "text": [
            "55 34\n"
          ]
        }
      ]
    },
    {
      "cell_type": "code",
      "source": [
        "for i in range(2, 20):\n",
        "    ratio = fibonacci(i) / fibonacci(i-1)\n",
        "    print(i, ratio)"
      ],
      "metadata": {
        "colab": {
          "base_uri": "https://localhost:8080/"
        },
        "id": "wPVtlUUigtt9",
        "outputId": "dd03655b-9a2a-42c6-ce13-2af241e0fda2"
      },
      "execution_count": 121,
      "outputs": [
        {
          "output_type": "stream",
          "name": "stdout",
          "text": [
            "2 1.5\n",
            "3 1.6666666666666667\n",
            "4 1.6\n",
            "5 1.625\n",
            "6 1.6153846153846154\n",
            "7 1.619047619047619\n",
            "8 1.6176470588235294\n",
            "9 1.6181818181818182\n",
            "10 1.6179775280898876\n",
            "11 1.6180555555555556\n",
            "12 1.6180257510729614\n",
            "13 1.6180371352785146\n",
            "14 1.618032786885246\n",
            "15 1.618034447821682\n",
            "16 1.6180338134001253\n",
            "17 1.618034055727554\n",
            "18 1.6180339631667064\n",
            "19 1.6180339985218033\n"
          ]
        }
      ]
    },
    {
      "cell_type": "code",
      "source": [
        "\n",
        "def fibonacci_relative(pos, a, b):\n",
        "    for i in range(pos):\n",
        "        temp = a+b\n",
        "        a = b\n",
        "        b = temp\n",
        "    return temp"
      ],
      "metadata": {
        "id": "_b87rbB2hDqJ"
      },
      "execution_count": 122,
      "outputs": []
    },
    {
      "cell_type": "code",
      "source": [
        "fibonacci_relative(3, 34, 55)"
      ],
      "metadata": {
        "colab": {
          "base_uri": "https://localhost:8080/"
        },
        "id": "rz5r9iPBhiMW",
        "outputId": "ca97a3de-e8ec-439c-ee69-79f9cf918b8d"
      },
      "execution_count": 123,
      "outputs": [
        {
          "output_type": "execute_result",
          "data": {
            "text/plain": [
              "233"
            ]
          },
          "metadata": {},
          "execution_count": 123
        }
      ]
    },
    {
      "cell_type": "code",
      "source": [
        "def fibonacci_ol(pos, a=1, b=1):\n",
        "    for i in range(pos):\n",
        "        temp = a+b\n",
        "        print(temp)\n",
        "        a = b\n",
        "        b = temp\n",
        "    return temp"
      ],
      "metadata": {
        "id": "c9DVTp3bhrpE"
      },
      "execution_count": 130,
      "outputs": []
    },
    {
      "cell_type": "code",
      "source": [
        "fibonacci_ol(3, 34,55)"
      ],
      "metadata": {
        "colab": {
          "base_uri": "https://localhost:8080/"
        },
        "id": "mpsE4nXmh-gC",
        "outputId": "abae9cc2-0863-4b22-a98c-0e4a51f76b35"
      },
      "execution_count": 132,
      "outputs": [
        {
          "output_type": "stream",
          "name": "stdout",
          "text": [
            "89\n",
            "144\n",
            "233\n"
          ]
        },
        {
          "output_type": "execute_result",
          "data": {
            "text/plain": [
              "233"
            ]
          },
          "metadata": {},
          "execution_count": 132
        }
      ]
    },
    {
      "cell_type": "code",
      "source": [
        "fibonacci_relative(3)"
      ],
      "metadata": {
        "colab": {
          "base_uri": "https://localhost:8080/",
          "height": 170
        },
        "id": "duf8p5YyiG_L",
        "outputId": "7c3f66f9-c11e-4b90-bd0b-28a9b6f3c94c"
      },
      "execution_count": 133,
      "outputs": [
        {
          "output_type": "error",
          "ename": "TypeError",
          "evalue": "ignored",
          "traceback": [
            "\u001b[0;31m---------------------------------------------------------------------------\u001b[0m",
            "\u001b[0;31mTypeError\u001b[0m                                 Traceback (most recent call last)",
            "\u001b[0;32m<ipython-input-133-320c661134ce>\u001b[0m in \u001b[0;36m<module>\u001b[0;34m()\u001b[0m\n\u001b[0;32m----> 1\u001b[0;31m \u001b[0mfibonacci_relative\u001b[0m\u001b[0;34m(\u001b[0m\u001b[0;36m3\u001b[0m\u001b[0;34m)\u001b[0m\u001b[0;34m\u001b[0m\u001b[0;34m\u001b[0m\u001b[0m\n\u001b[0m",
            "\u001b[0;31mTypeError\u001b[0m: fibonacci_relative() missing 2 required positional arguments: 'a' and 'b'"
          ]
        }
      ]
    },
    {
      "cell_type": "code",
      "source": [
        "def fibonacci_recursive(n , a= 1, b= 1):\n",
        "    if n > 1:\n",
        "        return fibonacci_recursive(n-1,b, a+b)\n",
        "    else:\n",
        "        return a + b"
      ],
      "metadata": {
        "id": "rAeSGmu1im5W"
      },
      "execution_count": 134,
      "outputs": []
    },
    {
      "cell_type": "code",
      "source": [
        "fibonacci_recursive(3, 34, 55)"
      ],
      "metadata": {
        "colab": {
          "base_uri": "https://localhost:8080/"
        },
        "id": "xwKhwsgNjKMr",
        "outputId": "552528cb-2155-4a55-dfcb-f5d0189dcd43"
      },
      "execution_count": 135,
      "outputs": [
        {
          "output_type": "execute_result",
          "data": {
            "text/plain": [
              "233"
            ]
          },
          "metadata": {},
          "execution_count": 135
        }
      ]
    },
    {
      "cell_type": "code",
      "source": [
        "def fibonacci(pos):\n",
        "    a = 1\n",
        "    b = 1 \n",
        "    for i in range(pos):\n",
        "        temp = a+b\n",
        "        a = b\n",
        "        b = temp\n",
        "    return temp"
      ],
      "metadata": {
        "id": "xUYP5O3MjQYO"
      },
      "execution_count": 136,
      "outputs": []
    },
    {
      "cell_type": "code",
      "source": [
        "fibonacci(3)"
      ],
      "metadata": {
        "colab": {
          "base_uri": "https://localhost:8080/"
        },
        "id": "GdAGwp-sjrFU",
        "outputId": "fa28752e-59a4-4028-a9cc-51b2d415efca"
      },
      "execution_count": 137,
      "outputs": [
        {
          "output_type": "execute_result",
          "data": {
            "text/plain": [
              "5"
            ]
          },
          "metadata": {},
          "execution_count": 137
        }
      ]
    },
    {
      "cell_type": "code",
      "source": [
        ""
      ],
      "metadata": {
        "id": "cJcGjn_6jtPt"
      },
      "execution_count": null,
      "outputs": []
    }
  ]
}