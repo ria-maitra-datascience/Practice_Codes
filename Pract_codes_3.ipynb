{
  "nbformat": 4,
  "nbformat_minor": 0,
  "metadata": {
    "colab": {
      "name": "Pract_codes_3.ipynb",
      "provenance": [],
      "authorship_tag": "ABX9TyNA27G33phpesr/D9cHMPdZ",
      "include_colab_link": true
    },
    "kernelspec": {
      "name": "python3",
      "display_name": "Python 3"
    },
    "language_info": {
      "name": "python"
    }
  },
  "cells": [
    {
      "cell_type": "markdown",
      "metadata": {
        "id": "view-in-github",
        "colab_type": "text"
      },
      "source": [
        "<a href=\"https://colab.research.google.com/github/ria1994maitra/Practice_Codes/blob/main/Pract_codes_3.ipynb\" target=\"_parent\"><img src=\"https://colab.research.google.com/assets/colab-badge.svg\" alt=\"Open In Colab\"/></a>"
      ]
    },
    {
      "cell_type": "code",
      "execution_count": null,
      "metadata": {
        "id": "26Q85BMaQXu-"
      },
      "outputs": [],
      "source": [
        ""
      ]
    },
    {
      "cell_type": "markdown",
      "source": [
        "# **Python Program on Lists**"
      ],
      "metadata": {
        "id": "q2OjRSrjQslU"
      }
    },
    {
      "cell_type": "markdown",
      "source": [
        "#### **Python program to find the largest number in list**"
      ],
      "metadata": {
        "id": "tYrbQJGPRDAx"
      }
    },
    {
      "cell_type": "code",
      "source": [
        "#1. Take in the number of elements and store it in a variable.\n",
        "#2. Take in the elements of the list one by one.\n",
        "#3. Sort the list in ascending order.\n",
        "#4. Print the last element of the list.\n",
        "#5. Exit\n",
        "\n",
        "\n",
        "a=[]\n",
        "n = int(input(\"Enter Number of elements:\"))\n",
        "for i in range(1, n+1):\n",
        "    b = int(input(\"Enter element:\"))\n",
        "    a.append(b)\n",
        "a.sort()\n",
        "print(\"Largest element is:\", a[n-1])"
      ],
      "metadata": {
        "colab": {
          "base_uri": "https://localhost:8080/"
        },
        "id": "LbicGpo4Q2A_",
        "outputId": "b2c877a6-9b17-42bd-e1be-6521d57b7871"
      },
      "execution_count": null,
      "outputs": [
        {
          "output_type": "stream",
          "name": "stdout",
          "text": [
            "Enter Number of elements:3\n",
            "Enter element:1\n",
            "Enter element:2\n",
            "Enter element:4\n",
            "Largest element is: 4\n"
          ]
        }
      ]
    },
    {
      "cell_type": "markdown",
      "source": [
        "#### **Python program to find the second largest number in a list**"
      ],
      "metadata": {
        "id": "1-y6HooXSoQp"
      }
    },
    {
      "cell_type": "code",
      "source": [
        "#1. Take in the number of elements and store it in a variable.\n",
        "#2. Take in the lists of the list one by one.\n",
        "#3. Sort the list in ascending order.\n",
        "#4. Print the second last element of the list.\n",
        "#5. Exit\n",
        "\n",
        "a = []\n",
        "n = int(input(\"Enter Number of elements:\"))\n",
        "for i in range(1, n+1):\n",
        "    b = int(input(\"Enter element:\"))\n",
        "    a.append(b)\n",
        "a.sort()\n",
        "print(\"Second largest element is:\",a[n-2])\n"
      ],
      "metadata": {
        "colab": {
          "base_uri": "https://localhost:8080/"
        },
        "id": "epfjhf26SawL",
        "outputId": "34f3a391-eb2f-4cf0-aebe-afb4197a3bc5"
      },
      "execution_count": null,
      "outputs": [
        {
          "output_type": "stream",
          "name": "stdout",
          "text": [
            "Enter Number of elements:4\n",
            "Enter element:3\n",
            "Enter element:5\n",
            "Enter element:2\n",
            "Enter element:6\n",
            "Second largest element is: 5\n"
          ]
        }
      ]
    },
    {
      "cell_type": "markdown",
      "source": [
        "#### **Python program to Put Even and Odd elements in a List into Two Different Lists**"
      ],
      "metadata": {
        "id": "E1QP2jk1UM5o"
      }
    },
    {
      "cell_type": "code",
      "source": [
        "#1. Take in the number of elements and store it in a variable.\n",
        "#2. Take in the elements of the list one by one.\n",
        "#3. Use a for loop to traverse through the elements of the list and an if statement to check if the element is even or odd.\n",
        "#4. If the element is even, append it to a separate list and if it is odd, append it to a different one.\n",
        "#5. Display the elements in both the lists\n",
        "#6. Exit\n",
        "\n",
        "\n",
        "a = []\n",
        "n = int(input(\"Enter number of elements:\"))\n",
        "for i in range(1, n+1):\n",
        "    b = int(input(\"enter elements\"))\n",
        "    a.append(b)\n",
        "even = []\n",
        "odd = []\n",
        "for j in a:\n",
        "    if(j%2 == 0):\n",
        "        even.append(j)\n",
        "    else:\n",
        "        odd.append(j)\n",
        "print(\"The even list\", even)\n",
        "print(\"The odd list\", odd)"
      ],
      "metadata": {
        "id": "zj4z6-apT5eS",
        "colab": {
          "base_uri": "https://localhost:8080/"
        },
        "outputId": "f1dd335b-1209-40e4-d93b-a98fb588e538"
      },
      "execution_count": 6,
      "outputs": [
        {
          "output_type": "stream",
          "name": "stdout",
          "text": [
            "Enter number of elements:4\n",
            "enter elements3\n",
            "enter elements2\n",
            "enter elements0\n",
            "enter elements3\n",
            "The even list [2, 0]\n",
            "The odd list [3, 3]\n"
          ]
        }
      ]
    },
    {
      "cell_type": "markdown",
      "source": [
        "#### **Python program to Merge Two Lists and Sort it**"
      ],
      "metadata": {
        "id": "tyujd4-IAB2b"
      }
    },
    {
      "cell_type": "code",
      "source": [
        "#1. Take in the number of elements for the first list and store it in variable.\n",
        "#2. Take the elements of the list one by one.\n",
        "#3. Similarly, take in the elements for the second list also.\n",
        "#4. Merge both the lists using the '+' operator and then sort the list.\n",
        "#5. Display the elements in the sorted list.\n",
        "#6. Exit\n",
        "\n",
        "a= []\n",
        "c= []\n",
        "n1 = int(input(\"Enter number of number\"))\n",
        "for i in range(1, n1+1):\n",
        "    b = int(input(\"enter element:\"))\n",
        "    a.append(b)\n",
        "n2 = int(input(\"enter number of elements:\"))\n",
        "for i in range(1, n2+1):\n",
        "    d = int(input(\"enter elements\"))\n",
        "    c.append(d)\n",
        "new = a+c\n",
        "new.sort()\n",
        "print(\"Sorted list is:\", new)"
      ],
      "metadata": {
        "colab": {
          "base_uri": "https://localhost:8080/"
        },
        "id": "69Bbts5CXLgb",
        "outputId": "971f7008-f7fc-4bcf-b0d0-4652b6a924c4"
      },
      "execution_count": 2,
      "outputs": [
        {
          "output_type": "stream",
          "name": "stdout",
          "text": [
            "Enter number of number3\n",
            "enter element:2\n",
            "enter element:3\n",
            "enter element:2\n",
            "enter number of elements:3\n",
            "enter elements6\n",
            "enter elements9\n",
            "enter elements5\n",
            "Sorted list is: [2, 2, 3, 5, 6, 9]\n"
          ]
        }
      ]
    },
    {
      "cell_type": "markdown",
      "source": [
        "#### **Python program to sort the list according to the second element in sublist**"
      ],
      "metadata": {
        "id": "UArIrp5QF1s-"
      }
    },
    {
      "cell_type": "code",
      "source": [
        "#1. Take in a list containing sublists.\n",
        "#2. Using two for loops, use bubble sort to sort the sublists based on the based on the second value of the sublist.\n",
        "#3. If the second element of the first sublist is greater than the second element of the second sublist, exchange the entire sublist.\n",
        "#4. Print the sorted listed.\n",
        "#5. Exit\n",
        "\n",
        "a = [['A', 34], ['B', 21], ['C', 26]]\n",
        "for i in range(0, len(a)):\n",
        "    for j in range(0, len(a)-i-1):\n",
        "        if(a[j][1]>a[j+1][1]):\n",
        "            temp = a[j]\n",
        "            a[j] = a[j+1]\n",
        "            a[j+1] = temp\n",
        "print(a)"
      ],
      "metadata": {
        "colab": {
          "base_uri": "https://localhost:8080/"
        },
        "id": "xPZjhQXoFcez",
        "outputId": "c0cc38b7-bb4f-44b6-98c3-e049e613503c"
      },
      "execution_count": 3,
      "outputs": [
        {
          "output_type": "stream",
          "name": "stdout",
          "text": [
            "[['B', 21], ['C', 26], ['A', 34]]\n"
          ]
        }
      ]
    },
    {
      "cell_type": "markdown",
      "source": [
        "#### **Python program to find the second largest number in a list using bubble Sort**"
      ],
      "metadata": {
        "id": "LcbFaX3gO4Ez"
      }
    },
    {
      "cell_type": "code",
      "source": [
        "#1. take in the number of elements for the list and store it in a variable.\n",
        "#2. take in the elements of the list one by one.\n",
        "#3. then sort the list using bubble sort.\n",
        "#4. print the second last element of the sorted list which is the second-largest number.\n",
        "#5. Exit\n",
        "\n",
        "\n",
        "a = []\n",
        "n = int(input(\"enter number of elements:\"))\n",
        "for i in range(1, n+1):\n",
        "    b = int(input(\"Enter element:\"))\n",
        "    a.append(b)\n",
        "for i in range(0, len(a)):\n",
        "    for j in range(0, len(a)-i-1):\n",
        "        if(a[j]> a[j+1]):\n",
        "            temp = a[j]\n",
        "            a[j] = a[j+1]\n",
        "            a[j + 1] = temp\n",
        "print(\"second largest number is:\", a[n-2])"
      ],
      "metadata": {
        "colab": {
          "base_uri": "https://localhost:8080/"
        },
        "id": "p94OGaVEOAI4",
        "outputId": "66976051-cf05-4ce2-9fc4-c6056b442518"
      },
      "execution_count": 4,
      "outputs": [
        {
          "output_type": "stream",
          "name": "stdout",
          "text": [
            "enter number of elements:2\n",
            "Enter element:3\n",
            "Enter element:3\n",
            "second largest number is: 3\n"
          ]
        }
      ]
    },
    {
      "cell_type": "markdown",
      "source": [
        "#### **Python Program to Sort a List According to Length of the Elements**"
      ],
      "metadata": {
        "id": "yIUW7ws_U_T3"
      }
    },
    {
      "cell_type": "code",
      "source": [
        "#1. Take in the number of elements for the first list and store it in avariable.\n",
        "#2. Take in the elements of the list one by one.\n",
        "#3. then sort the list giving the length of the elements as the key.\n",
        "#4. Display the sorted list.\n",
        "#5. Exit\n",
        "\n",
        "a = []\n",
        "n = int(input(\"enter number of elements:\"))\n",
        "for i in range(1, n+1):\n",
        "    b = input(\"Enter element:\")\n",
        "    a.append(b)\n",
        "a.sort(key = len)\n",
        "print(a)"
      ],
      "metadata": {
        "colab": {
          "base_uri": "https://localhost:8080/"
        },
        "id": "IgjASkwOT_rp",
        "outputId": "37f33acd-e69a-4216-b56b-597ec8dbcdb4"
      },
      "execution_count": 5,
      "outputs": [
        {
          "output_type": "stream",
          "name": "stdout",
          "text": [
            "enter number of elements:3\n",
            "Enter element:4\n",
            "Enter element:3\n",
            "Enter element:3\n",
            "['4', '3', '3']\n"
          ]
        }
      ]
    },
    {
      "cell_type": "markdown",
      "source": [
        "#### **Python program to find the union of two Lists**"
      ],
      "metadata": {
        "id": "0MbNblxfY2AX"
      }
    },
    {
      "cell_type": "code",
      "source": [
        "#1. Define a function which accepts two lists and returns the union of them.\n",
        "#2. Declare two empty lists and initialise to an empty list.\n",
        "#3. Consider a for loop to accept values for two lists.\n",
        "#4. Take the number of elements in the list and store it in a variable.\n",
        "#5. Accept the values into the list using another for loop and insert into the list.\n",
        "#6. Repeat 4 and 5 for the second list also.\n",
        "#7. Find the union of the two lists.\n",
        "#8. Print the union.\n",
        "#9. Exit\n",
        "\n",
        "l1 = []\n",
        "num1 = int(input(\"enter size of list 1\"))\n",
        "for n in range(num1):\n",
        "    numbers1 = int(input('Enter any number:'))\n",
        "    l1.append(numbers1)\n",
        "\n",
        "l2 = []\n",
        "num2 = int(input('enter size of list 2:'))\n",
        "for n in range(num2):\n",
        "    numbers2 = int(input('Enter any number:'))\n",
        "    l2.append(numbers2)\n",
        "\n",
        "union = list(set().union(l1,l2))\n",
        "\n",
        "print('The union of two lists is:', union)"
      ],
      "metadata": {
        "colab": {
          "base_uri": "https://localhost:8080/"
        },
        "id": "XDR6_EOaYrFA",
        "outputId": "23b1074f-2961-4ac7-fead-c4e596d9e812"
      },
      "execution_count": 10,
      "outputs": [
        {
          "output_type": "stream",
          "name": "stdout",
          "text": [
            "enter size of list 13\n",
            "Enter any number:1\n",
            "Enter any number:2\n",
            "Enter any number:3\n",
            "enter size of list 2:3\n",
            "Enter any number:3\n",
            "Enter any number:4\n",
            "Enter any number:5\n",
            "The union of two lists is: [1, 2, 3, 4, 5]\n"
          ]
        }
      ]
    },
    {
      "cell_type": "markdown",
      "source": [
        "#### **Python program to find intersection of two lists**"
      ],
      "metadata": {
        "id": "JjrtTXcwlRVq"
      }
    },
    {
      "cell_type": "code",
      "source": [
        "#1. Define a function that accepts two lists and returns the intersection of them.\n",
        "#2. Declare two empty lists and initialize them to an empty list.\n",
        "#3. Consider a for loop to accept values for the two lists.\n",
        "#4. Take the number of elements in the list and store it in a variable.\n",
        "#5. Accept the values into the list using another for loop and insert into the list.\n",
        "#6. Repeat 4 and 5 for the second list also.\n",
        "#7. Find the intersection of the two lists.\n",
        "#8. Print the intersection.\n",
        "#9. Exit.\n",
        "\n",
        "\n"
      ],
      "metadata": {
        "id": "dsgAyZsmkYPQ"
      },
      "execution_count": 12,
      "outputs": []
    },
    {
      "cell_type": "code",
      "source": [
        ""
      ],
      "metadata": {
        "id": "bVB_uowxm4Nk"
      },
      "execution_count": null,
      "outputs": []
    }
  ]
}