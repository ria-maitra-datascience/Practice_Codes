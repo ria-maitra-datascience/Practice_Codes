{
  "nbformat": 4,
  "nbformat_minor": 0,
  "metadata": {
    "colab": {
      "name": "Pract_codes_3.ipynb",
      "provenance": [],
      "authorship_tag": "ABX9TyO+rykj1rUpAV0GsnRD/Tp2",
      "include_colab_link": true
    },
    "kernelspec": {
      "name": "python3",
      "display_name": "Python 3"
    },
    "language_info": {
      "name": "python"
    }
  },
  "cells": [
    {
      "cell_type": "markdown",
      "metadata": {
        "id": "view-in-github",
        "colab_type": "text"
      },
      "source": [
        "<a href=\"https://colab.research.google.com/github/ria1994maitra/Practice_Codes/blob/main/Pract_codes_3.ipynb\" target=\"_parent\"><img src=\"https://colab.research.google.com/assets/colab-badge.svg\" alt=\"Open In Colab\"/></a>"
      ]
    },
    {
      "cell_type": "code",
      "execution_count": null,
      "metadata": {
        "id": "26Q85BMaQXu-"
      },
      "outputs": [],
      "source": [
        ""
      ]
    },
    {
      "cell_type": "markdown",
      "source": [
        "# **Python Program on Lists**"
      ],
      "metadata": {
        "id": "q2OjRSrjQslU"
      }
    },
    {
      "cell_type": "markdown",
      "source": [
        "#### **Python program to find the largest number in list**"
      ],
      "metadata": {
        "id": "tYrbQJGPRDAx"
      }
    },
    {
      "cell_type": "code",
      "source": [
        "#1. Take in the number of elements and store it in a variable.\n",
        "#2. Take in the elements of the list one by one.\n",
        "#3. Sort the list in ascending order.\n",
        "#4. Print the last element of the list.\n",
        "#5. Exit\n",
        "\n",
        "\n",
        "a=[]\n",
        "n = int(input(\"Enter Number of elements:\"))\n",
        "for i in range(1, n+1):\n",
        "    b = int(input(\"Enter element:\"))\n",
        "    a.append(b)\n",
        "a.sort()\n",
        "print(\"Largest element is:\", a[n-1])"
      ],
      "metadata": {
        "colab": {
          "base_uri": "https://localhost:8080/"
        },
        "id": "LbicGpo4Q2A_",
        "outputId": "b2c877a6-9b17-42bd-e1be-6521d57b7871"
      },
      "execution_count": null,
      "outputs": [
        {
          "output_type": "stream",
          "name": "stdout",
          "text": [
            "Enter Number of elements:3\n",
            "Enter element:1\n",
            "Enter element:2\n",
            "Enter element:4\n",
            "Largest element is: 4\n"
          ]
        }
      ]
    },
    {
      "cell_type": "markdown",
      "source": [
        "#### **Python program to find the second largest number in a list**"
      ],
      "metadata": {
        "id": "1-y6HooXSoQp"
      }
    },
    {
      "cell_type": "code",
      "source": [
        "#1. Take in the number of elements and store it in a variable.\n",
        "#2. Take in the lists of the list one by one.\n",
        "#3. Sort the list in ascending order.\n",
        "#4. Print the second last element of the list.\n",
        "#5. Exit\n",
        "\n",
        "a = []\n",
        "n = int(input(\"Enter Number of elements:\"))\n",
        "for i in range(1, n+1):\n",
        "    b = int(input(\"Enter element:\"))\n",
        "    a.append(b)\n",
        "a.sort()\n",
        "print(\"Second largest element is:\",a[n-2])\n"
      ],
      "metadata": {
        "colab": {
          "base_uri": "https://localhost:8080/"
        },
        "id": "epfjhf26SawL",
        "outputId": "34f3a391-eb2f-4cf0-aebe-afb4197a3bc5"
      },
      "execution_count": null,
      "outputs": [
        {
          "output_type": "stream",
          "name": "stdout",
          "text": [
            "Enter Number of elements:4\n",
            "Enter element:3\n",
            "Enter element:5\n",
            "Enter element:2\n",
            "Enter element:6\n",
            "Second largest element is: 5\n"
          ]
        }
      ]
    },
    {
      "cell_type": "markdown",
      "source": [
        "#### **Python program to Put Even and Odd elements in a List into Two Different Lists**"
      ],
      "metadata": {
        "id": "E1QP2jk1UM5o"
      }
    },
    {
      "cell_type": "code",
      "source": [
        "#1. Take in the number of elements and store it in a variable.\n",
        "#2. Take in the elements of the list one by one.\n",
        "#3. Use a for loop to traverse through the elements of the list and an if statement to check if the element is even or odd.\n",
        "#4. If the element is even, append it to a separate list and if it is odd, append it to a different one.\n",
        "#5. Display the elements in both the lists\n",
        "#6. Exit\n",
        "\n",
        "\n",
        "a = []\n",
        "n = int(input(\"Enter number of elements:\"))\n",
        "for i in range(1, n+1):\n",
        "    b = int(input(\"enter elements\"))\n",
        "    a.append(b)\n",
        "even = []\n",
        "odd = []\n",
        "for j in a:\n",
        "    if(j%2 == 0):\n",
        "        even.append(j)\n",
        "    else:\n",
        "        odd.append(j)\n",
        "print(\"The even list\", even)\n",
        "print(\"The odd list\", odd)"
      ],
      "metadata": {
        "id": "zj4z6-apT5eS",
        "colab": {
          "base_uri": "https://localhost:8080/"
        },
        "outputId": "f1dd335b-1209-40e4-d93b-a98fb588e538"
      },
      "execution_count": null,
      "outputs": [
        {
          "output_type": "stream",
          "name": "stdout",
          "text": [
            "Enter number of elements:4\n",
            "enter elements3\n",
            "enter elements2\n",
            "enter elements0\n",
            "enter elements3\n",
            "The even list [2, 0]\n",
            "The odd list [3, 3]\n"
          ]
        }
      ]
    },
    {
      "cell_type": "markdown",
      "source": [
        "#### **Python program to Merge Two Lists and Sort it**"
      ],
      "metadata": {
        "id": "tyujd4-IAB2b"
      }
    },
    {
      "cell_type": "code",
      "source": [
        "#1. Take in the number of elements for the first list and store it in variable.\n",
        "#2. Take the elements of the list one by one.\n",
        "#3. Similarly, take in the elements for the second list also.\n",
        "#4. Merge both the lists using the '+' operator and then sort the list.\n",
        "#5. Display the elements in the sorted list.\n",
        "#6. Exit\n",
        "\n",
        "a= []\n",
        "c= []\n",
        "n1 = int(input(\"Enter number of number\"))\n",
        "for i in range(1, n1+1):\n",
        "    b = int(input(\"enter element:\"))\n",
        "    a.append(b)\n",
        "n2 = int(input(\"enter number of elements:\"))\n",
        "for i in range(1, n2+1):\n",
        "    d = int(input(\"enter elements\"))\n",
        "    c.append(d)\n",
        "new = a+c\n",
        "new.sort()\n",
        "print(\"Sorted list is:\", new)"
      ],
      "metadata": {
        "colab": {
          "base_uri": "https://localhost:8080/"
        },
        "id": "69Bbts5CXLgb",
        "outputId": "971f7008-f7fc-4bcf-b0d0-4652b6a924c4"
      },
      "execution_count": null,
      "outputs": [
        {
          "output_type": "stream",
          "name": "stdout",
          "text": [
            "Enter number of number3\n",
            "enter element:2\n",
            "enter element:3\n",
            "enter element:2\n",
            "enter number of elements:3\n",
            "enter elements6\n",
            "enter elements9\n",
            "enter elements5\n",
            "Sorted list is: [2, 2, 3, 5, 6, 9]\n"
          ]
        }
      ]
    },
    {
      "cell_type": "markdown",
      "source": [
        "#### **Python program to sort the list according to the second element in sublist**"
      ],
      "metadata": {
        "id": "UArIrp5QF1s-"
      }
    },
    {
      "cell_type": "code",
      "source": [
        "#1. Take in a list containing sublists.\n",
        "#2. Using two for loops, use bubble sort to sort the sublists based on the based on the second value of the sublist.\n",
        "#3. If the second element of the first sublist is greater than the second element of the second sublist, exchange the entire sublist.\n",
        "#4. Print the sorted listed.\n",
        "#5. Exit\n",
        "\n",
        "a = [['A', 34], ['B', 21], ['C', 26]]\n",
        "for i in range(0, len(a)):\n",
        "    for j in range(0, len(a)-i-1):\n",
        "        if(a[j][1]>a[j+1][1]):\n",
        "            temp = a[j]\n",
        "            a[j] = a[j+1]\n",
        "            a[j+1] = temp\n",
        "print(a)"
      ],
      "metadata": {
        "colab": {
          "base_uri": "https://localhost:8080/"
        },
        "id": "xPZjhQXoFcez",
        "outputId": "c0cc38b7-bb4f-44b6-98c3-e049e613503c"
      },
      "execution_count": null,
      "outputs": [
        {
          "output_type": "stream",
          "name": "stdout",
          "text": [
            "[['B', 21], ['C', 26], ['A', 34]]\n"
          ]
        }
      ]
    },
    {
      "cell_type": "markdown",
      "source": [
        "#### **Python program to find the second largest number in a list using bubble Sort**"
      ],
      "metadata": {
        "id": "LcbFaX3gO4Ez"
      }
    },
    {
      "cell_type": "code",
      "source": [
        "#1. take in the number of elements for the list and store it in a variable.\n",
        "#2. take in the elements of the list one by one.\n",
        "#3. then sort the list using bubble sort.\n",
        "#4. print the second last element of the sorted list which is the second-largest number.\n",
        "#5. Exit\n",
        "\n",
        "\n",
        "a = []\n",
        "n = int(input(\"enter number of elements:\"))\n",
        "for i in range(1, n+1):\n",
        "    b = int(input(\"Enter element:\"))\n",
        "    a.append(b)\n",
        "for i in range(0, len(a)):\n",
        "    for j in range(0, len(a)-i-1):\n",
        "        if(a[j]> a[j+1]):\n",
        "            temp = a[j]\n",
        "            a[j] = a[j+1]\n",
        "            a[j + 1] = temp\n",
        "print(\"second largest number is:\", a[n-2])"
      ],
      "metadata": {
        "colab": {
          "base_uri": "https://localhost:8080/"
        },
        "id": "p94OGaVEOAI4",
        "outputId": "66976051-cf05-4ce2-9fc4-c6056b442518"
      },
      "execution_count": null,
      "outputs": [
        {
          "output_type": "stream",
          "name": "stdout",
          "text": [
            "enter number of elements:2\n",
            "Enter element:3\n",
            "Enter element:3\n",
            "second largest number is: 3\n"
          ]
        }
      ]
    },
    {
      "cell_type": "markdown",
      "source": [
        "#### **Python Program to Sort a List According to Length of the Elements**"
      ],
      "metadata": {
        "id": "yIUW7ws_U_T3"
      }
    },
    {
      "cell_type": "code",
      "source": [
        "#1. Take in the number of elements for the first list and store it in avariable.\n",
        "#2. Take in the elements of the list one by one.\n",
        "#3. then sort the list giving the length of the elements as the key.\n",
        "#4. Display the sorted list.\n",
        "#5. Exit\n",
        "\n",
        "a = []\n",
        "n = int(input(\"enter number of elements:\"))\n",
        "for i in range(1, n+1):\n",
        "    b = input(\"Enter element:\")\n",
        "    a.append(b)\n",
        "a.sort(key = len)\n",
        "print(a)"
      ],
      "metadata": {
        "colab": {
          "base_uri": "https://localhost:8080/"
        },
        "id": "IgjASkwOT_rp",
        "outputId": "37f33acd-e69a-4216-b56b-597ec8dbcdb4"
      },
      "execution_count": null,
      "outputs": [
        {
          "output_type": "stream",
          "name": "stdout",
          "text": [
            "enter number of elements:3\n",
            "Enter element:4\n",
            "Enter element:3\n",
            "Enter element:3\n",
            "['4', '3', '3']\n"
          ]
        }
      ]
    },
    {
      "cell_type": "markdown",
      "source": [
        "#### **Python program to find the union of two Lists**"
      ],
      "metadata": {
        "id": "0MbNblxfY2AX"
      }
    },
    {
      "cell_type": "code",
      "source": [
        "#1. Define a function which accepts two lists and returns the union of them.\n",
        "#2. Declare two empty lists and initialise to an empty list.\n",
        "#3. Consider a for loop to accept values for two lists.\n",
        "#4. Take the number of elements in the list and store it in a variable.\n",
        "#5. Accept the values into the list using another for loop and insert into the list.\n",
        "#6. Repeat 4 and 5 for the second list also.\n",
        "#7. Find the union of the two lists.\n",
        "#8. Print the union.\n",
        "#9. Exit\n",
        "\n",
        "l1 = []\n",
        "num1 = int(input(\"enter size of list 1\"))\n",
        "for n in range(num1):\n",
        "    numbers1 = int(input('Enter any number:'))\n",
        "    l1.append(numbers1)\n",
        "\n",
        "l2 = []\n",
        "num2 = int(input('enter size of list 2:'))\n",
        "for n in range(num2):\n",
        "    numbers2 = int(input('Enter any number:'))\n",
        "    l2.append(numbers2)\n",
        "\n",
        "union = list(set().union(l1,l2))\n",
        "\n",
        "print('The union of two lists is:', union)"
      ],
      "metadata": {
        "colab": {
          "base_uri": "https://localhost:8080/"
        },
        "id": "XDR6_EOaYrFA",
        "outputId": "23b1074f-2961-4ac7-fead-c4e596d9e812"
      },
      "execution_count": null,
      "outputs": [
        {
          "output_type": "stream",
          "name": "stdout",
          "text": [
            "enter size of list 13\n",
            "Enter any number:1\n",
            "Enter any number:2\n",
            "Enter any number:3\n",
            "enter size of list 2:3\n",
            "Enter any number:3\n",
            "Enter any number:4\n",
            "Enter any number:5\n",
            "The union of two lists is: [1, 2, 3, 4, 5]\n"
          ]
        }
      ]
    },
    {
      "cell_type": "markdown",
      "source": [
        "#### **Python program to find intersection of two lists**"
      ],
      "metadata": {
        "id": "JjrtTXcwlRVq"
      }
    },
    {
      "cell_type": "code",
      "source": [
        "#1. Define a function that accepts two lists and returns the intersection of them.\n",
        "#2. Declare two empty lists and initialize them to an empty list.\n",
        "#3. Consider a for loop to accept values for the two lists.\n",
        "#4. Take the number of elements in the list and store it in a variable.\n",
        "#5. Accept the values into the list using another for loop and insert into the list.\n",
        "#6. Repeat 4 and 5 for the second list also.\n",
        "#7. Find the intersection of the two lists.\n",
        "#8. Print the intersection.\n",
        "#9. Exit.\n",
        "\n",
        "\n"
      ],
      "metadata": {
        "id": "dsgAyZsmkYPQ"
      },
      "execution_count": null,
      "outputs": []
    },
    {
      "cell_type": "code",
      "source": [
        "def intersection(a, b):\n",
        "    return list(set(a) & set(b))\n",
        "\n",
        "def main():\n",
        "    alist = []\n",
        "    blist = []\n",
        "    n1 = int(input(\"enter number of elements for list1\"))\n",
        "    n2 = int(input('enter number of elements fro list2'))\n",
        "    print(\"for list1\")\n",
        "    for x in range(0, n1):\n",
        "        element = int(input(\"Enter element\" + str(x+1) + \":\"))\n",
        "        alist.append(element)\n",
        "    print(\"For list2:\")\n",
        "    for x in range(0, n2):\n",
        "        element = int(input(\"Enter element\" + str(x+1) + \":\"))\n",
        "        blist.append(element)\n",
        "    print(\"The intersection is:\")\n",
        "    print(intersection(alist,blist))\n",
        "main()"
      ],
      "metadata": {
        "id": "bVB_uowxm4Nk",
        "colab": {
          "base_uri": "https://localhost:8080/"
        },
        "outputId": "bde7d453-8bd3-4eae-99bc-a5d0d7b8ff85"
      },
      "execution_count": null,
      "outputs": [
        {
          "output_type": "stream",
          "name": "stdout",
          "text": [
            "enter number of elements for list11\n",
            "enter number of elements fro list22\n",
            "for list1\n",
            "Enter element1:1\n",
            "For list2:\n",
            "Enter element1:2\n",
            "Enter element2:1\n",
            "The intersection is:\n",
            "[1]\n"
          ]
        }
      ]
    },
    {
      "cell_type": "markdown",
      "source": [
        "#### **Python program to create a list of tuples with the first element as the number and second element as the square of the number**"
      ],
      "metadata": {
        "id": "MgK67VrD5rer"
      }
    },
    {
      "cell_type": "code",
      "source": [
        "#1. Take the upper and lower range for the numbers from the user.\n",
        "#2. A list of tuples must be created using list comprehension where the first element is number within the range and the second element is the square of the number\n",
        "#3. This list of tuple is then printed.\n",
        "\n",
        "\n",
        "l_range = int(input(\"enter the lower range:\"))\n",
        "u_range = int(input(\"enter the upper range:\"))\n",
        "a = [(x, x**2) for x in range(l_range, u_range+1)]\n",
        "print(a)"
      ],
      "metadata": {
        "colab": {
          "base_uri": "https://localhost:8080/"
        },
        "id": "Ck088Pbd4_Us",
        "outputId": "247a2d88-2fbc-4eb3-c1ca-2dc90cbdd0f9"
      },
      "execution_count": null,
      "outputs": [
        {
          "output_type": "stream",
          "name": "stdout",
          "text": [
            "enter the lower range:1\n",
            "enter the upper range:6\n",
            "[(1, 1), (2, 4), (3, 9), (4, 16), (5, 25), (6, 36)]\n"
          ]
        }
      ]
    },
    {
      "cell_type": "markdown",
      "source": [
        "#### **Python Program to find all numbers in a range which are perfect squares and sum of all digits in the number is less than 10**"
      ],
      "metadata": {
        "id": "EGE_-fvb7-I9"
      }
    },
    {
      "cell_type": "code",
      "source": [
        "#1. User must enter the upper and lower range for the numbers.\n",
        "#2. A list must be created using list comprehension where the element is a perfect square within the range and the sum of the digits of the number is less than 10.\n",
        "#3. This list must then be printed.\n",
        "#4. exit\n",
        "\n",
        "\n",
        "l = int(input(\"enter lower range: \"))\n",
        "u = int(input(\"enter upper range: \"))\n",
        "a=[]\n",
        "a = [x for x in range(l, u+1) if (int(x**0.5))**2==x and sum(list(map(int,str(x))))<10]\n",
        "print(a)"
      ],
      "metadata": {
        "colab": {
          "base_uri": "https://localhost:8080/"
        },
        "id": "pQ7WGcAw7xEA",
        "outputId": "9f58e58b-4ceb-4209-a348-8bd6ba8c6ad4"
      },
      "execution_count": null,
      "outputs": [
        {
          "output_type": "stream",
          "name": "stdout",
          "text": [
            "enter lower range: 1\n",
            "enter upper range: 20\n",
            "[1, 4, 9, 16]\n"
          ]
        }
      ]
    },
    {
      "cell_type": "markdown",
      "source": [
        "#### **Python program to find the cumulative sum of a list where the ith element is the sum of the first i+1 elements from the original list.**"
      ],
      "metadata": {
        "id": "hJTT_xEv-azh"
      }
    },
    {
      "cell_type": "code",
      "source": [
        "#1. Declare an empty list and initialise toan empty list.\n",
        "#2. Consider a for loop to accept values for the list.\n",
        "#3. Take the number of elements in the list and store it in a variable.\n",
        "#4. Accept the values into the list using another for loop and insert into the list.\n",
        "#5. Using list comprehension and list slicing, find the cumulative sum of elements in the list.\n",
        "#6. Print the original list and the new list.\n",
        "\n",
        "\n",
        "a =[]\n",
        "n = int(input(\"enter the number of elements in list:\"))\n",
        "for x in range(0,n):\n",
        "    element = int(input(\"Enter element\" + str(x+1) + \":\"))\n",
        "    a.append(element)\n",
        "b = [sum(a[0:x+1]) for x in range(0, len(a))]\n",
        "print(\"The original list is:\", a)\n",
        "print(\"The new list is:\", b)"
      ],
      "metadata": {
        "colab": {
          "base_uri": "https://localhost:8080/"
        },
        "id": "XYJeYOSI-Gy9",
        "outputId": "d2f32392-e569-4bd6-9f2b-b9d38b934f41"
      },
      "execution_count": null,
      "outputs": [
        {
          "output_type": "stream",
          "name": "stdout",
          "text": [
            "enter the number of elements in list:8\n",
            "Enter element1:12\n",
            "Enter element2:2\n",
            "Enter element3:3\n",
            "Enter element4:4\n",
            "Enter element5:5\n",
            "Enter element6:6\n",
            "Enter element7:7\n",
            "Enter element8:8\n",
            "The original list is: [12, 2, 3, 4, 5, 6, 7, 8]\n",
            "The new list is: [12, 14, 17, 21, 26, 32, 39, 47]\n"
          ]
        }
      ]
    },
    {
      "cell_type": "markdown",
      "source": [
        "#### **Python program to generate random number from 1 to 20 and append them to the list**"
      ],
      "metadata": {
        "id": "p6Ao7HAyK6aG"
      }
    },
    {
      "cell_type": "code",
      "source": [
        "#1. Import the random module into the program\n",
        "#2. Take the number of elements from user.\n",
        "#3. Use a for loop, random.randint() is used to generate random numbers which are them appending to a lisat.\n",
        "#4. Then print the randomised list.\n",
        "\n",
        "import random\n",
        "a=[]\n",
        "n = int(input('enter no. of elements:'))\n",
        "for j in range(n):\n",
        "    a.append(random.randint(1,20))\n",
        "print('Randomised list is:',a)"
      ],
      "metadata": {
        "colab": {
          "base_uri": "https://localhost:8080/"
        },
        "id": "jzBQH0XMBPrF",
        "outputId": "8bb5ca92-9fbf-4955-b623-09b66ece9198"
      },
      "execution_count": null,
      "outputs": [
        {
          "output_type": "stream",
          "name": "stdout",
          "text": [
            "enter no. of elements:4\n",
            "Randomised list is: [2, 10, 14, 19]\n"
          ]
        }
      ]
    },
    {
      "cell_type": "markdown",
      "source": [
        "## **Python Program to Swap the First and Last Value of a List**\n",
        "1. Take the number of elements in the list and store it in a variable.\n",
        "2. Accept the values into the list using a for loop and insert them into the list.\n",
        "3. Using a temporary variable, switch the first and last element in the list.\n",
        "4. Print the newly formed list.\n",
        "5. Exit"
      ],
      "metadata": {
        "id": "uTDhPkwk21gp"
      }
    },
    {
      "cell_type": "code",
      "source": [
        "a = []\n",
        "n = int(input(\"Enter the number of elements in list:\"))\n",
        "for x in range(0,n):\n",
        "    element = int(input(\"Element element\" + str(x+1) + \":\"))\n",
        "    a.append(element)\n",
        "temp = a[0]\n",
        "a[0] = a[n-1]\n",
        "a[n-1] = temp\n",
        "print(\"New list is:\")\n",
        "print(a)\n"
      ],
      "metadata": {
        "id": "0ATf2Q35OahH",
        "outputId": "4d870f5b-77d3-41dc-e509-9bb964264429",
        "colab": {
          "base_uri": "https://localhost:8080/"
        }
      },
      "execution_count": 1,
      "outputs": [
        {
          "output_type": "stream",
          "name": "stdout",
          "text": [
            "Enter the number of elements in list:3\n",
            "Element element1:1\n",
            "Element element2:2\n",
            "Element element3:3\n",
            "New list is:\n",
            "[3, 2, 1]\n"
          ]
        }
      ]
    },
    {
      "cell_type": "markdown",
      "source": [
        "## **Python Program to Remove the Duplicate Items from a List**\n",
        "1. Take the number of elements in the list and store it in a variable.\n",
        "2. Accept the values into the list using a for loop and insert them into the list.\n",
        "3. Use a for loop to traverse through the elements of the list.\n",
        "4. Use an if statement to check if the element is already there in the list and if it is not there, append it to another list.\n",
        "5. Print the non-duplicate items of the list.\n",
        "6. Exit."
      ],
      "metadata": {
        "id": "AmOhGc_64GXd"
      }
    },
    {
      "cell_type": "code",
      "source": [
        "a= []\n",
        "n = int(input(\"Enter the number of elements present in the list\"))\n",
        "for x in range(0,n):\n",
        "    element = int(input(\"Enter element\" + str(x+1) + \":\"))\n",
        "    a.append(element)\n",
        "\n",
        "b = set()\n",
        "unique = []\n",
        "for x in a:\n",
        "    if x not in b:\n",
        "        unique.append(x)\n",
        "        b.add(x)\n",
        "print(\"Non-duplicate item:\")\n",
        "print(unique)\n"
      ],
      "metadata": {
        "id": "ZRjXF32V30w1",
        "outputId": "50df01e0-12c0-450a-a63a-2ad906b663c4",
        "colab": {
          "base_uri": "https://localhost:8080/"
        }
      },
      "execution_count": 2,
      "outputs": [
        {
          "output_type": "stream",
          "name": "stdout",
          "text": [
            "Enter the number of elements present in the list4\n",
            "Enter element1:22\n",
            "Enter element2:22\n",
            "Enter element3:3\n",
            "Enter element4:4\n",
            "Non-duplicate item:\n",
            "[22, 3, 4]\n"
          ]
        }
      ]
    },
    {
      "cell_type": "markdown",
      "source": [
        "## **Python Program to Read a List of Words and Return the Length of the Longest One**\n",
        "1. Take the number of elements in the list and store it in a variable.\n",
        "2. Accept the values into the list using a for loop and insert them into the list.\n",
        "3. First assume that the first element is the word with the longest length.\n",
        "4. Then using a for loop and if statement, compare the lengths of the words in the list with the first element.\n",
        "5. Store the name of the word with the longest length in a temporary variable.\n",
        "6. Display the word with the longest length\n",
        "7. Exit."
      ],
      "metadata": {
        "id": "eYoi13uP5sRb"
      }
    },
    {
      "cell_type": "code",
      "source": [
        "a = []\n",
        "n = int(input(\"enter the  number of elements in list:\"))\n",
        "for x in range(0,n):\n",
        "    element = input(\"Enter element\" + str(x+1) + \":\")\n",
        "    a.append(element)\n",
        "max1 = len(a[0])\n",
        "temp = a[0]\n",
        "for i in a:\n",
        "    if(len(i)> max1):\n",
        "        max1 = len(i)\n",
        "        temp = i\n",
        "print(\"The word with the longest lenght is \")\n",
        "print(temp)"
      ],
      "metadata": {
        "id": "lsr2WJsL5f3g",
        "outputId": "348e749e-c07b-455d-8cbf-06dff7c3da06",
        "colab": {
          "base_uri": "https://localhost:8080/"
        }
      },
      "execution_count": 3,
      "outputs": [
        {
          "output_type": "stream",
          "name": "stdout",
          "text": [
            "enter the  number of elements in list:3\n",
            "Enter element1:ria\n",
            "Enter element2:maitra\n",
            "Enter element3:patel\n",
            "The word with the longest lenght is \n",
            "maitra\n"
          ]
        }
      ]
    },
    {
      "cell_type": "markdown",
      "source": [
        "## **Python Program to Remove the ith Occurrence of the Given Word in a List where Words can Repeat**\n",
        "1. Take the number of elements in the list and store it in a variable.\n",
        "2. Accept the values into the list using a for loop and insert them into the list.\n",
        "3. Use a for loop to traverse through the elements in the list.\n",
        "4. Then use an if statement to check if the word to be removed matches the element and the occurrence number and otherwise it appends the element to another list.\n",
        "5. The number of repetitions along with the updated list and distinct elements is printed.\n",
        "6. Exit."
      ],
      "metadata": {
        "id": "3hMwF2sf7dzd"
      }
    },
    {
      "cell_type": "code",
      "source": [
        "a = []\n",
        "n = int(input(\"Enter the number of elements i  list:\"))\n",
        "for x in range(0,n):\n",
        "    element = input(\"enter element\" + str(x+1) + \":\")\n",
        "    a.append(element)\n",
        "print(a)\n",
        "c =[]\n",
        "count = 0\n",
        "b = input(\"Enter word to remove:\")\n",
        "n = int(input(\"Enter the occurence to remove:\"))\n",
        "for i in a:\n",
        "    if(i == b):\n",
        "        count = count+1\n",
        "        if(count!= n):\n",
        "            c.append(i)\n",
        "    else:\n",
        "        c.append(i)\n",
        "if(count == 0):\n",
        "    print(\"Item  not found\")\n",
        "else:\n",
        "    print(\"The number of repetition is: \", count)\n",
        "    print(\"Updated list is:\", c)\n",
        "    print(\"The distinct elements are:\", set(a))\n"
      ],
      "metadata": {
        "id": "zw_Dr6T47P2f",
        "outputId": "a6c5a51c-d2e1-4ed8-c9fd-a988938099b2",
        "colab": {
          "base_uri": "https://localhost:8080/"
        }
      },
      "execution_count": 6,
      "outputs": [
        {
          "output_type": "stream",
          "name": "stdout",
          "text": [
            "Enter the number of elements i  list:5\n",
            "enter element1:a\n",
            "enter element2:a\n",
            "enter element3:v\n",
            "enter element4:t\n",
            "enter element5:f\n",
            "['a', 'a', 'v', 't', 'f']\n",
            "Enter word to remove:a\n",
            "Enter the occurence to remove:2\n",
            "The number of repetition is:  2\n",
            "Updated list is: ['a', 'v', 't', 'f']\n",
            "The distinct elements are: {'f', 'a', 't', 'v'}\n"
          ]
        }
      ]
    },
    {
      "cell_type": "markdown",
      "source": [
        "## **Python Program to Remove All Tuples in a List of Tuples with the USN Outside the Given Range**\n",
        "1. Take in the lower and upper roll number from the user.\n",
        "2. Then append the prefixes of the USN’s to the roll numbers.\n",
        "3. Using list comprehension, find out which USN’s lie in the given range.\n",
        "4. Print the list containing the tuples.\n",
        "5. Exit."
      ],
      "metadata": {
        "id": "V6i5MUveBfdp"
      }
    },
    {
      "cell_type": "code",
      "source": [
        "y=[('a','12CS039'),('b','12CS320'),('c','12CS055'),('d','12CS100')]\n",
        "low = int(input(\"Enter lower roll number (starting with 12CS):\"))\n",
        "up  = int(input(\"enter upper roll number (starting with 12CS):\"))\n",
        "l='12CS0'+str(low)\n",
        "u='12CS'+str(up)\n",
        "p=[x for x in y if x[1]>l and x[1]<u]\n",
        "print(p)"
      ],
      "metadata": {
        "id": "3IQ4kNN9A-CQ",
        "outputId": "74f73887-be97-4fc6-ca67-5f51c4340e75",
        "colab": {
          "base_uri": "https://localhost:8080/"
        }
      },
      "execution_count": 7,
      "outputs": [
        {
          "output_type": "stream",
          "name": "stdout",
          "text": [
            "Enter lower roll number (starting with 12CS):3\n",
            "enter upper roll number (starting with 12CS):6\n",
            "[('a', '12CS039'), ('b', '12CS320'), ('c', '12CS055'), ('d', '12CS100')]\n"
          ]
        }
      ]
    },
    {
      "cell_type": "markdown",
      "source": [
        "## **Python Program to solve Maximum Subarray Problem using Divide and Conquer**\n",
        "1. Define the function find_max_subarray that takes a list as argument and two indexes, start and end. It finds the maximum subarray in the range [start, end – 1].\n",
        "2. The function find_max_subarray returns the tuple (l, r, m) where l, r are the left and right indexes of the maximum subarray and m is its sum.\n",
        "3. The base case is when the input list is just one element (i.e. start == end – 1).\n",
        "4. Otherwise, the list is divided into two and find_max_subarray is called on both the halves.\n",
        "5. The maximum subarray is either the maximum subarray of one of the halves or the maximum subarray crossing the midpoint of the two halves.\n",
        "6. The function find_max_crossing_subarray takes a list as argument and three indexes, start, mid and end and finds the maximum subarray containing mid."
      ],
      "metadata": {
        "id": "g0H3U0jaCeMY"
      }
    },
    {
      "cell_type": "markdown",
      "source": [
        "## **Python Program to Find Element Occurring Odd Number of Times in a List**\n",
        "1. The function find_odd_occurring is defined.\n",
        "2. It takes a list as argument which has only one element that occurs an odd number of times.\n",
        "3. The function returns that element.\n",
        "4. It finds the element by XORing all elements in the list.\n",
        "5. Since the XOR operation is commutative and associative and it satisfies p XOR p = 0 and p XOR 0 = p, the element that occurs an odd number of times is the result."
      ],
      "metadata": {
        "id": "A2iBoigrC3Gv"
      }
    },
    {
      "cell_type": "code",
      "source": [
        "def find_odd_occuring(alist):\n",
        "     \"\"\"Return the element that occurs odd number of times in alist.\n",
        " \n",
        "    alist is a list in which all elements except one element occurs an even\n",
        "    number of times.\n",
        "    \"\"\"\n",
        "    ans = 0\n",
        "\n",
        "    for element in alist:\n",
        "        ans^= element\n",
        "\n",
        "    return ans\n",
        "\n",
        "alist = input(\"Enter the list:\").split()\n",
        "alist = [int(i) for i in alist]\n",
        "ans = find_odd_occurring(alist)\n",
        "print(\"The element that occurs odd number of times:\", ans)"
      ],
      "metadata": {
        "id": "vUePFrRUCUZ5",
        "outputId": "55c90a82-86bb-4908-be3e-e0f8ef926277",
        "colab": {
          "base_uri": "https://localhost:8080/",
          "height": 133
        }
      },
      "execution_count": 9,
      "outputs": [
        {
          "output_type": "error",
          "ename": "IndentationError",
          "evalue": "ignored",
          "traceback": [
            "\u001b[0;36m  File \u001b[0;32m\"<ipython-input-9-2c7f609b76a1>\"\u001b[0;36m, line \u001b[0;32m7\u001b[0m\n\u001b[0;31m    ans = 0\u001b[0m\n\u001b[0m           ^\u001b[0m\n\u001b[0;31mIndentationError\u001b[0m\u001b[0;31m:\u001b[0m unindent does not match any outer indentation level\n"
          ]
        }
      ]
    },
    {
      "cell_type": "code",
      "source": [
        ""
      ],
      "metadata": {
        "id": "xf7k8FuZDx94"
      },
      "execution_count": null,
      "outputs": []
    }
  ]
}